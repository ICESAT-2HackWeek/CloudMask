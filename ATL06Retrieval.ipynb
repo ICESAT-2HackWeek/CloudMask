{
 "cells": [
  {
   "cell_type": "code",
   "execution_count": 1,
   "metadata": {},
   "outputs": [],
   "source": [
    "from icepyx import icesat2data as ipd\n",
    "import os\n",
    "import shutil\n",
    "from pprint import pprint\n",
    "%matplotlib inline"
   ]
  },
  {
   "cell_type": "code",
   "execution_count": 2,
   "metadata": {},
   "outputs": [],
   "source": [
    "short_name = 'ATL06'\n",
    "spatial_extent = [ -50.71, -45.32, 68.08, 65.73]\n",
    "date_range = ['2019-06-01','2019-06-05']"
   ]
  },
  {
   "cell_type": "code",
   "execution_count": 3,
   "metadata": {},
   "outputs": [
    {
     "name": "stdout",
     "output_type": "stream",
     "text": [
      "ATL06\n",
      "['2019-06-01', '2019-06-05']\n",
      "00:00:00\n",
      "23:59:59\n",
      "003\n",
      "['bounding box', [-50.71, -45.32, 68.08, 65.73]]\n"
     ]
    }
   ],
   "source": [
    "region_a = ipd.Icesat2Data(short_name, spatial_extent, date_range)\n",
    "\n",
    "print(region_a.dataset)\n",
    "print(region_a.dates)\n",
    "print(region_a.start_time)\n",
    "print(region_a.end_time)\n",
    "print(region_a.dataset_version)\n",
    "print(region_a.spatial_extent)"
   ]
  },
  {
   "cell_type": "code",
   "execution_count": 4,
   "metadata": {},
   "outputs": [
    {
     "data": {
      "text/plain": [
       "['ATL06_20190601005859_09740303_003_01.h5',\n",
       " 'ATL06_20190601023316_09750303_003_01.h5',\n",
       " 'ATL06_20190601035904_09760302_003_01.h5',\n",
       " 'ATL06_20190601054151_09770303_003_01.h5',\n",
       " 'ATL06_20190601071608_09780303_003_01.h5',\n",
       " 'ATL06_20190601120935_09810305_003_01.h5',\n",
       " 'ATL06_20190601121500_09810306_003_01.h5',\n",
       " 'ATL06_20190601134352_09820305_003_01.h5',\n",
       " 'ATL06_20190601134917_09820306_003_01.h5',\n",
       " 'ATL06_20190601140450_09820308_003_01.h5',\n",
       " 'ATL06_20190601151810_09830305_003_01.h5',\n",
       " 'ATL06_20190601182644_09850305_003_01.h5',\n",
       " 'ATL06_20190601200102_09860305_003_01.h5',\n",
       " 'ATL06_20190602000443_09880313_003_01.h5',\n",
       " 'ATL06_20190602002449_09890302_003_01.h5',\n",
       " 'ATL06_20190602003320_09890303_003_01.h5',\n",
       " 'ATL06_20190602020737_09900303_003_01.h5',\n",
       " 'ATL06_20190602033324_09910302_003_01.h5',\n",
       " 'ATL06_20190602034154_09910303_003_01.h5',\n",
       " 'ATL06_20190602065029_09930303_003_01.h5',\n",
       " 'ATL06_20190602114355_09960305_003_01.h5',\n",
       " 'ATL06_20190602114920_09960306_003_01.h5',\n",
       " 'ATL06_20190602131813_09970305_003_01.h5',\n",
       " 'ATL06_20190602132338_09970306_003_01.h5',\n",
       " 'ATL06_20190602145230_09980305_003_01.h5',\n",
       " 'ATL06_20190602162647_09990305_003_01.h5',\n",
       " 'ATL06_20190602163212_09990306_003_01.h5',\n",
       " 'ATL06_20190602180105_10000305_003_01.h5',\n",
       " 'ATL06_20190602193522_10010305_003_01.h5',\n",
       " 'ATL06_20190603000740_10040303_003_01.h5',\n",
       " 'ATL06_20190603014157_10050303_003_01.h5',\n",
       " 'ATL06_20190603031615_10060303_003_01.h5',\n",
       " 'ATL06_20190603045032_10070303_003_01.h5',\n",
       " 'ATL06_20190603062449_10080303_003_01.h5',\n",
       " 'ATL06_20190603075907_10090303_003_01.h5',\n",
       " 'ATL06_20190603125233_10120305_003_01.h5',\n",
       " 'ATL06_20190603160108_10140305_003_01.h5',\n",
       " 'ATL06_20190603160633_10140306_003_01.h5',\n",
       " 'ATL06_20190603190942_10160305_003_01.h5',\n",
       " 'ATL06_20190604025035_10210303_003_01.h5',\n",
       " 'ATL06_20190604041622_10220302_003_01.h5',\n",
       " 'ATL06_20190604055910_10230303_003_01.h5',\n",
       " 'ATL06_20190604073327_10240303_003_01.h5',\n",
       " 'ATL06_20190604122654_10270305_003_01.h5',\n",
       " 'ATL06_20190604140111_10280305_003_01.h5',\n",
       " 'ATL06_20190604153529_10290305_003_01.h5',\n",
       " 'ATL06_20190604154054_10290306_003_01.h5',\n",
       " 'ATL06_20190604184403_10310305_003_01.h5',\n",
       " 'ATL06_20190605005039_10350303_003_01.h5',\n",
       " 'ATL06_20190605022456_10360303_003_01.h5',\n",
       " 'ATL06_20190605053331_10380303_003_01.h5',\n",
       " 'ATL06_20190605070748_10390303_003_01.h5',\n",
       " 'ATL06_20190605120115_10420305_003_01.h5',\n",
       " 'ATL06_20190605133532_10430305_003_01.h5',\n",
       " 'ATL06_20190605134057_10430306_003_01.h5',\n",
       " 'ATL06_20190605150949_10440305_003_01.h5',\n",
       " 'ATL06_20190605181824_10460305_003_01.h5',\n",
       " 'ATL06_20190605195242_10470305_003_01.h5']"
      ]
     },
     "execution_count": 4,
     "metadata": {},
     "output_type": "execute_result"
    }
   ],
   "source": [
    "region_a.avail_granules(ids=True)"
   ]
  },
  {
   "cell_type": "code",
   "execution_count": 6,
   "metadata": {},
   "outputs": [
    {
     "name": "stdin",
     "output_type": "stream",
     "text": [
      "Earthdata Login password:  ··········\n"
     ]
    }
   ],
   "source": [
    "earthdata_emails = {'tsnow03':'tasha.snow@colorado.edu',\n",
    "                 'fperez': 'fernando.perez@berkeley.edu',\n",
    "                 # add your name here\n",
    "                }\n",
    "\n",
    "user = 'fperez'\n",
    "region_a.earthdata_login(user, earthdata_emails[user])"
   ]
  },
  {
   "cell_type": "code",
   "execution_count": 7,
   "metadata": {},
   "outputs": [
    {
     "name": "stdout",
     "output_type": "stream",
     "text": [
      "var_list inputs: atlas_sdp_gps_epoch, control, data_end_utc, data_start_utc, end_cycle, end_delta_time, end_geoseg, end_gpssow, end_gpsweek, end_orbit, end_region, end_rgt, granule_end_utc, granule_start_utc, qa_at_interval, release, start_cycle, start_delta_time, start_geoseg, start_gpssow, start_gpsweek, start_orbit, start_region, start_rgt, version, dt_hist, fit_maxiter, fpb_maxiter, maxiter, max_res_ids, min_dist, min_gain_th, min_n_pe, min_n_sel, min_signal_conf, n_hist, nhist_bins, n_sigmas, proc_interval, qs_lim_bsc, qs_lim_hrs, qs_lim_hsigma, qs_lim_msw, qs_lim_snr, qs_lim_sss, rbin_width, sigma_beam, sigma_tx, t_dead, atl06_quality_summary, delta_time, h_li, h_li_sigma, latitude, longitude, segment_id, sigma_geo_h, fpb_mean_corr, fpb_mean_corr_sigma, fpb_med_corr, fpb_med_corr_sigma, fpb_n_corr, med_r_fit, tx_mean_corr, tx_med_corr, dem_flag, dem_h, geoid_h, dh_fit_dx, dh_fit_dx_sigma, dh_fit_dy, h_expected_rms, h_mean, h_rms_misfit, h_robust_sprd, n_fit_photons, n_seg_pulses, sigma_h_mean, signal_selection_source, signal_selection_source_status, snr, snr_significance, w_surface_window_final, bckgrd, bsnow_conf, bsnow_h, bsnow_od, cloud_flg_asr, cloud_flg_atm, dac, e_bckgrd, layer_flag, msw_flag, neutat_delay_total, r_eff, solar_azimuth, solar_elevation, tide_earth, tide_equilibrium, tide_load, tide_ocean, tide_pole, ref_azimuth, ref_coelv, seg_azimuth, sigma_geo_at, sigma_geo_r, sigma_geo_xt, x_atc, y_atc, bckgrd_per_m, bin_top_h, count, ds_segment_id, lat_mean, lon_mean, pulse_count, segment_id_list, x_atc_mean, record_number, reference_pt_lat, reference_pt_lon, signal_selection_status_all, signal_selection_status_backup, signal_selection_status_confident, crossing_time, cycle_number, lan, orbit_number, rgt, sc_orient, sc_orient_time, qa_granule_fail_reason, qa_granule_pass_fail, signal_selection_source_fraction_0, signal_selection_source_fraction_1, signal_selection_source_fraction_2, signal_selection_source_fraction_3\n",
      "keyword_list and beam_list inputs: ancillary_data, bias_correction, dem, fit_statistics, geophysical, ground_track, gt1l, gt1r, gt2l, gt2r, gt3l, gt3r, land_ice, land_ice_segments, none, orbit_info, quality_assessment, residual_histogram, segment_quality, signal_selection_status\n"
     ]
    }
   ],
   "source": [
    "region_a.order_vars.avail(options=True)"
   ]
  },
  {
   "cell_type": "code",
   "execution_count": 9,
   "metadata": {},
   "outputs": [
    {
     "data": {
      "application/json": {
       "atl06_quality_summary": [
        "gt1l/land_ice_segments/atl06_quality_summary",
        "gt1r/land_ice_segments/atl06_quality_summary",
        "gt2l/land_ice_segments/atl06_quality_summary",
        "gt2r/land_ice_segments/atl06_quality_summary",
        "gt3l/land_ice_segments/atl06_quality_summary",
        "gt3r/land_ice_segments/atl06_quality_summary"
       ],
       "atlas_sdp_gps_epoch": [
        "ancillary_data/atlas_sdp_gps_epoch"
       ],
       "bsnow_conf": [
        "gt1l/land_ice_segments/geophysical/bsnow_conf",
        "gt1r/land_ice_segments/geophysical/bsnow_conf",
        "gt2l/land_ice_segments/geophysical/bsnow_conf",
        "gt2r/land_ice_segments/geophysical/bsnow_conf",
        "gt3l/land_ice_segments/geophysical/bsnow_conf",
        "gt3r/land_ice_segments/geophysical/bsnow_conf"
       ],
       "bsnow_h": [
        "gt1l/land_ice_segments/geophysical/bsnow_h",
        "gt1r/land_ice_segments/geophysical/bsnow_h",
        "gt2l/land_ice_segments/geophysical/bsnow_h",
        "gt2r/land_ice_segments/geophysical/bsnow_h",
        "gt3l/land_ice_segments/geophysical/bsnow_h",
        "gt3r/land_ice_segments/geophysical/bsnow_h"
       ],
       "cloud_flg_asr": [
        "gt1l/land_ice_segments/geophysical/cloud_flg_asr",
        "gt1r/land_ice_segments/geophysical/cloud_flg_asr",
        "gt2l/land_ice_segments/geophysical/cloud_flg_asr",
        "gt2r/land_ice_segments/geophysical/cloud_flg_asr",
        "gt3l/land_ice_segments/geophysical/cloud_flg_asr",
        "gt3r/land_ice_segments/geophysical/cloud_flg_asr"
       ],
       "cloud_flg_atm": [
        "gt1l/land_ice_segments/geophysical/cloud_flg_atm",
        "gt1r/land_ice_segments/geophysical/cloud_flg_atm",
        "gt2l/land_ice_segments/geophysical/cloud_flg_atm",
        "gt2r/land_ice_segments/geophysical/cloud_flg_atm",
        "gt3l/land_ice_segments/geophysical/cloud_flg_atm",
        "gt3r/land_ice_segments/geophysical/cloud_flg_atm"
       ],
       "data_end_utc": [
        "ancillary_data/data_end_utc"
       ],
       "data_start_utc": [
        "ancillary_data/data_start_utc"
       ],
       "delta_time": [
        "gt1l/land_ice_segments/delta_time",
        "gt1l/residual_histogram/delta_time",
        "gt1l/segment_quality/delta_time",
        "gt1r/land_ice_segments/delta_time",
        "gt1r/residual_histogram/delta_time",
        "gt1r/segment_quality/delta_time",
        "gt2l/land_ice_segments/delta_time",
        "gt2l/residual_histogram/delta_time",
        "gt2l/segment_quality/delta_time",
        "gt2r/land_ice_segments/delta_time",
        "gt2r/residual_histogram/delta_time",
        "gt2r/segment_quality/delta_time",
        "gt3l/land_ice_segments/delta_time",
        "gt3l/residual_histogram/delta_time",
        "gt3l/segment_quality/delta_time",
        "gt3r/land_ice_segments/delta_time",
        "gt3r/residual_histogram/delta_time",
        "gt3r/segment_quality/delta_time",
        "quality_assessment/gt1l/delta_time",
        "quality_assessment/gt1r/delta_time",
        "quality_assessment/gt2l/delta_time",
        "quality_assessment/gt2r/delta_time",
        "quality_assessment/gt3l/delta_time",
        "quality_assessment/gt3r/delta_time"
       ],
       "dh_fit_dx": [
        "gt1l/land_ice_segments/fit_statistics/dh_fit_dx",
        "gt1r/land_ice_segments/fit_statistics/dh_fit_dx",
        "gt2l/land_ice_segments/fit_statistics/dh_fit_dx",
        "gt2r/land_ice_segments/fit_statistics/dh_fit_dx",
        "gt3l/land_ice_segments/fit_statistics/dh_fit_dx",
        "gt3r/land_ice_segments/fit_statistics/dh_fit_dx"
       ],
       "dh_fit_dx_sigma": [
        "gt1l/land_ice_segments/fit_statistics/dh_fit_dx_sigma",
        "gt1r/land_ice_segments/fit_statistics/dh_fit_dx_sigma",
        "gt2l/land_ice_segments/fit_statistics/dh_fit_dx_sigma",
        "gt2r/land_ice_segments/fit_statistics/dh_fit_dx_sigma",
        "gt3l/land_ice_segments/fit_statistics/dh_fit_dx_sigma",
        "gt3r/land_ice_segments/fit_statistics/dh_fit_dx_sigma"
       ],
       "dh_fit_dy": [
        "gt1l/land_ice_segments/fit_statistics/dh_fit_dy",
        "gt1r/land_ice_segments/fit_statistics/dh_fit_dy",
        "gt2l/land_ice_segments/fit_statistics/dh_fit_dy",
        "gt2r/land_ice_segments/fit_statistics/dh_fit_dy",
        "gt3l/land_ice_segments/fit_statistics/dh_fit_dy",
        "gt3r/land_ice_segments/fit_statistics/dh_fit_dy"
       ],
       "end_delta_time": [
        "ancillary_data/end_delta_time"
       ],
       "granule_end_utc": [
        "ancillary_data/granule_end_utc"
       ],
       "granule_start_utc": [
        "ancillary_data/granule_start_utc"
       ],
       "h_li": [
        "gt1l/land_ice_segments/h_li",
        "gt1r/land_ice_segments/h_li",
        "gt2l/land_ice_segments/h_li",
        "gt2r/land_ice_segments/h_li",
        "gt3l/land_ice_segments/h_li",
        "gt3r/land_ice_segments/h_li"
       ],
       "h_li_sigma": [
        "gt1l/land_ice_segments/h_li_sigma",
        "gt1r/land_ice_segments/h_li_sigma",
        "gt2l/land_ice_segments/h_li_sigma",
        "gt2r/land_ice_segments/h_li_sigma",
        "gt3l/land_ice_segments/h_li_sigma",
        "gt3r/land_ice_segments/h_li_sigma"
       ],
       "h_mean": [
        "gt1l/land_ice_segments/fit_statistics/h_mean",
        "gt1r/land_ice_segments/fit_statistics/h_mean",
        "gt2l/land_ice_segments/fit_statistics/h_mean",
        "gt2r/land_ice_segments/fit_statistics/h_mean",
        "gt3l/land_ice_segments/fit_statistics/h_mean",
        "gt3r/land_ice_segments/fit_statistics/h_mean"
       ],
       "h_rms_misfit": [
        "gt1l/land_ice_segments/fit_statistics/h_rms_misfit",
        "gt1r/land_ice_segments/fit_statistics/h_rms_misfit",
        "gt2l/land_ice_segments/fit_statistics/h_rms_misfit",
        "gt2r/land_ice_segments/fit_statistics/h_rms_misfit",
        "gt3l/land_ice_segments/fit_statistics/h_rms_misfit",
        "gt3r/land_ice_segments/fit_statistics/h_rms_misfit"
       ],
       "h_robust_sprd": [
        "gt1l/land_ice_segments/fit_statistics/h_robust_sprd",
        "gt1r/land_ice_segments/fit_statistics/h_robust_sprd",
        "gt2l/land_ice_segments/fit_statistics/h_robust_sprd",
        "gt2r/land_ice_segments/fit_statistics/h_robust_sprd",
        "gt3l/land_ice_segments/fit_statistics/h_robust_sprd",
        "gt3r/land_ice_segments/fit_statistics/h_robust_sprd"
       ],
       "latitude": [
        "gt1l/land_ice_segments/latitude",
        "gt1r/land_ice_segments/latitude",
        "gt2l/land_ice_segments/latitude",
        "gt2r/land_ice_segments/latitude",
        "gt3l/land_ice_segments/latitude",
        "gt3r/land_ice_segments/latitude"
       ],
       "longitude": [
        "gt1l/land_ice_segments/longitude",
        "gt1r/land_ice_segments/longitude",
        "gt2l/land_ice_segments/longitude",
        "gt2r/land_ice_segments/longitude",
        "gt3l/land_ice_segments/longitude",
        "gt3r/land_ice_segments/longitude"
       ],
       "n_fit_photons": [
        "gt1l/land_ice_segments/fit_statistics/n_fit_photons",
        "gt1r/land_ice_segments/fit_statistics/n_fit_photons",
        "gt2l/land_ice_segments/fit_statistics/n_fit_photons",
        "gt2r/land_ice_segments/fit_statistics/n_fit_photons",
        "gt3l/land_ice_segments/fit_statistics/n_fit_photons",
        "gt3r/land_ice_segments/fit_statistics/n_fit_photons"
       ],
       "r_eff": [
        "gt1l/land_ice_segments/geophysical/r_eff",
        "gt1r/land_ice_segments/geophysical/r_eff",
        "gt2l/land_ice_segments/geophysical/r_eff",
        "gt2r/land_ice_segments/geophysical/r_eff",
        "gt3l/land_ice_segments/geophysical/r_eff",
        "gt3r/land_ice_segments/geophysical/r_eff"
       ],
       "sc_orient": [
        "orbit_info/sc_orient"
       ],
       "sc_orient_time": [
        "orbit_info/sc_orient_time"
       ],
       "seg_azimuth": [
        "gt1l/land_ice_segments/ground_track/seg_azimuth",
        "gt1r/land_ice_segments/ground_track/seg_azimuth",
        "gt2l/land_ice_segments/ground_track/seg_azimuth",
        "gt2r/land_ice_segments/ground_track/seg_azimuth",
        "gt3l/land_ice_segments/ground_track/seg_azimuth",
        "gt3r/land_ice_segments/ground_track/seg_azimuth"
       ],
       "segment_id": [
        "gt1l/land_ice_segments/segment_id",
        "gt1l/segment_quality/segment_id",
        "gt1r/land_ice_segments/segment_id",
        "gt1r/segment_quality/segment_id",
        "gt2l/land_ice_segments/segment_id",
        "gt2l/segment_quality/segment_id",
        "gt2r/land_ice_segments/segment_id",
        "gt2r/segment_quality/segment_id",
        "gt3l/land_ice_segments/segment_id",
        "gt3l/segment_quality/segment_id",
        "gt3r/land_ice_segments/segment_id",
        "gt3r/segment_quality/segment_id"
       ],
       "sigma_geo_at": [
        "gt1l/land_ice_segments/ground_track/sigma_geo_at",
        "gt1r/land_ice_segments/ground_track/sigma_geo_at",
        "gt2l/land_ice_segments/ground_track/sigma_geo_at",
        "gt2r/land_ice_segments/ground_track/sigma_geo_at",
        "gt3l/land_ice_segments/ground_track/sigma_geo_at",
        "gt3r/land_ice_segments/ground_track/sigma_geo_at"
       ],
       "sigma_geo_h": [
        "gt1l/land_ice_segments/sigma_geo_h",
        "gt1r/land_ice_segments/sigma_geo_h",
        "gt2l/land_ice_segments/sigma_geo_h",
        "gt2r/land_ice_segments/sigma_geo_h",
        "gt3l/land_ice_segments/sigma_geo_h",
        "gt3r/land_ice_segments/sigma_geo_h"
       ],
       "sigma_geo_xt": [
        "gt1l/land_ice_segments/ground_track/sigma_geo_xt",
        "gt1r/land_ice_segments/ground_track/sigma_geo_xt",
        "gt2l/land_ice_segments/ground_track/sigma_geo_xt",
        "gt2r/land_ice_segments/ground_track/sigma_geo_xt",
        "gt3l/land_ice_segments/ground_track/sigma_geo_xt",
        "gt3r/land_ice_segments/ground_track/sigma_geo_xt"
       ],
       "signal_selection_source": [
        "gt1l/land_ice_segments/fit_statistics/signal_selection_source",
        "gt1l/segment_quality/signal_selection_source",
        "gt1r/land_ice_segments/fit_statistics/signal_selection_source",
        "gt1r/segment_quality/signal_selection_source",
        "gt2l/land_ice_segments/fit_statistics/signal_selection_source",
        "gt2l/segment_quality/signal_selection_source",
        "gt2r/land_ice_segments/fit_statistics/signal_selection_source",
        "gt2r/segment_quality/signal_selection_source",
        "gt3l/land_ice_segments/fit_statistics/signal_selection_source",
        "gt3l/segment_quality/signal_selection_source",
        "gt3r/land_ice_segments/fit_statistics/signal_selection_source",
        "gt3r/segment_quality/signal_selection_source"
       ],
       "snr_significance": [
        "gt1l/land_ice_segments/fit_statistics/snr_significance",
        "gt1r/land_ice_segments/fit_statistics/snr_significance",
        "gt2l/land_ice_segments/fit_statistics/snr_significance",
        "gt2r/land_ice_segments/fit_statistics/snr_significance",
        "gt3l/land_ice_segments/fit_statistics/snr_significance",
        "gt3r/land_ice_segments/fit_statistics/snr_significance"
       ],
       "start_delta_time": [
        "ancillary_data/start_delta_time"
       ],
       "tide_ocean": [
        "gt1l/land_ice_segments/geophysical/tide_ocean",
        "gt1r/land_ice_segments/geophysical/tide_ocean",
        "gt2l/land_ice_segments/geophysical/tide_ocean",
        "gt2r/land_ice_segments/geophysical/tide_ocean",
        "gt3l/land_ice_segments/geophysical/tide_ocean",
        "gt3r/land_ice_segments/geophysical/tide_ocean"
       ],
       "w_surface_window_final": [
        "gt1l/land_ice_segments/fit_statistics/w_surface_window_final",
        "gt1r/land_ice_segments/fit_statistics/w_surface_window_final",
        "gt2l/land_ice_segments/fit_statistics/w_surface_window_final",
        "gt2r/land_ice_segments/fit_statistics/w_surface_window_final",
        "gt3l/land_ice_segments/fit_statistics/w_surface_window_final",
        "gt3r/land_ice_segments/fit_statistics/w_surface_window_final"
       ],
       "x_atc": [
        "gt1l/land_ice_segments/ground_track/x_atc",
        "gt1r/land_ice_segments/ground_track/x_atc",
        "gt2l/land_ice_segments/ground_track/x_atc",
        "gt2r/land_ice_segments/ground_track/x_atc",
        "gt3l/land_ice_segments/ground_track/x_atc",
        "gt3r/land_ice_segments/ground_track/x_atc"
       ],
       "y_atc": [
        "gt1l/land_ice_segments/ground_track/y_atc",
        "gt1r/land_ice_segments/ground_track/y_atc",
        "gt2l/land_ice_segments/ground_track/y_atc",
        "gt2r/land_ice_segments/ground_track/y_atc",
        "gt3l/land_ice_segments/ground_track/y_atc",
        "gt3r/land_ice_segments/ground_track/y_atc"
       ]
      },
      "text/plain": [
       "<IPython.core.display.JSON object>"
      ]
     },
     "execution_count": 9,
     "metadata": {
      "application/json": {
       "expanded": false,
       "root": "root"
      }
     },
     "output_type": "execute_result"
    }
   ],
   "source": [
    "region_a.order_vars.remove(all=True)\n",
    "region_a.order_vars.append(defaults=True)\n",
    "from IPython.display import JSON\n",
    "JSON(region_a.order_vars.wanted)"
   ]
  },
  {
   "cell_type": "code",
   "execution_count": 10,
   "metadata": {},
   "outputs": [],
   "source": [
    "# region_a.order_vars.append(beam_list=['gt1l', 'gt2l', 'gt3l'],\n",
    "#                            var_list=['longitude','latitude','atl06_quality_summary',\n",
    "#                                      'cloud_flg_asr','cloud_flg_atm','msw_flag',\n",
    "#                                      'bsnow_conf','bsnow_h','bsnow_od'])\n",
    "# pprint(region_a.order_vars.wanted)"
   ]
  },
  {
   "cell_type": "markdown",
   "metadata": {},
   "source": [
    "Now, specify our coverage request with the wanted variables:"
   ]
  },
  {
   "cell_type": "code",
   "execution_count": 15,
   "metadata": {},
   "outputs": [],
   "source": [
    "region_a.subsetparams(Coverage=region_a.order_vars.wanted);"
   ]
  },
  {
   "cell_type": "code",
   "execution_count": 16,
   "metadata": {},
   "outputs": [
    {
     "name": "stdout",
     "output_type": "stream",
     "text": [
      "Total number of data order requests is  6  for  58  granules.\n",
      "Data request  1  of  6  is submitting to NSIDC\n",
      "order ID:  5000000699973\n",
      "Initial status of your order request at NSIDC is:  processing\n",
      "Your order status is still  processing  at NSIDC. Please continue waiting... this may take a few moments.\n",
      "Your order is:  complete_with_errors\n",
      "NSIDC provided these error messages:\n",
      "['178076054:NoMatchingData - No data found that matched subset constraints. '\n",
      " 'Exit code 3.',\n",
      " '178076053:NoMatchingData - No data found that matched subset constraints. '\n",
      " 'Exit code 3.',\n",
      " '178076743:NoMatchingData - No data found that matched subset constraints. '\n",
      " 'Exit code 3.',\n",
      " '178135806:NoMatchingData - No data found that matched subset constraints. '\n",
      " 'Exit code 3.',\n",
      " '178076741:NoMatchingData - No data found that matched subset constraints. '\n",
      " 'Exit code 3.',\n",
      " 'PT5.174S',\n",
      " 'ICESAT2']\n",
      "Your order is: complete_with_errors\n",
      "Data request  2  of  6  is submitting to NSIDC\n",
      "order ID:  5000000699974\n",
      "Initial status of your order request at NSIDC is:  processing\n",
      "Your order status is still  processing  at NSIDC. Please continue waiting... this may take a few moments.\n",
      "Your order is:  complete_with_errors\n",
      "NSIDC provided these error messages:\n",
      "['178076740:NoMatchingData - No data found that matched subset constraints. '\n",
      " 'Exit code 3.',\n",
      " '178076979:NoMatchingData - No data found that matched subset constraints. '\n",
      " 'Exit code 3.',\n",
      " '178133236:NoMatchingData - No data found that matched subset constraints. '\n",
      " 'Exit code 3.',\n",
      " '178076136:NoMatchingData - No data found that matched subset constraints. '\n",
      " 'Exit code 3.',\n",
      " '178076376:NoMatchingData - No data found that matched subset constraints. '\n",
      " 'Exit code 3.',\n",
      " 'PT5.293S',\n",
      " 'ICESAT2']\n",
      "Your order is: complete_with_errors\n",
      "Data request  3  of  6  is submitting to NSIDC\n",
      "order ID:  5000000699975\n",
      "Initial status of your order request at NSIDC is:  processing\n",
      "Your order status is still  processing  at NSIDC. Please continue waiting... this may take a few moments.\n",
      "Your order is:  complete_with_errors\n",
      "NSIDC provided these error messages:\n",
      "['178076955:NoMatchingData - No data found that matched subset constraints. '\n",
      " 'Exit code 3.',\n",
      " '178136161:NoMatchingData - No data found that matched subset constraints. '\n",
      " 'Exit code 3.',\n",
      " '178076897:NoMatchingData - No data found that matched subset constraints. '\n",
      " 'Exit code 3.',\n",
      " '178076929:NoMatchingData - No data found that matched subset constraints. '\n",
      " 'Exit code 3.',\n",
      " '178076926:NoMatchingData - No data found that matched subset constraints. '\n",
      " 'Exit code 3.',\n",
      " 'PT6.349S',\n",
      " 'ICESAT2']\n",
      "Your order is: complete_with_errors\n",
      "Data request  4  of  6  is submitting to NSIDC\n",
      "order ID:  5000000699976\n",
      "Initial status of your order request at NSIDC is:  processing\n",
      "Your order status is still  processing  at NSIDC. Please continue waiting... this may take a few moments.\n",
      "Your order is:  complete_with_errors\n",
      "NSIDC provided these error messages:\n",
      "['178076172:NoMatchingData - No data found that matched subset constraints. '\n",
      " 'Exit code 3.',\n",
      " '178076168:NoMatchingData - No data found that matched subset constraints. '\n",
      " 'Exit code 3.',\n",
      " '178076176:NoMatchingData - No data found that matched subset constraints. '\n",
      " 'Exit code 3.',\n",
      " '178076167:NoMatchingData - No data found that matched subset constraints. '\n",
      " 'Exit code 3.',\n",
      " '178076188:NoMatchingData - No data found that matched subset constraints. '\n",
      " 'Exit code 3.',\n",
      " 'PT4.883S',\n",
      " 'ICESAT2']\n",
      "Your order is: complete_with_errors\n",
      "Data request  5  of  6  is submitting to NSIDC\n",
      "order ID:  5000000699977\n",
      "Initial status of your order request at NSIDC is:  processing\n",
      "Your order status is still  processing  at NSIDC. Please continue waiting... this may take a few moments.\n",
      "Your order is:  complete_with_errors\n",
      "NSIDC provided these error messages:\n",
      "['178076196:NoMatchingData - No data found that matched subset constraints. '\n",
      " 'Exit code 3.',\n",
      " '178076680:NoMatchingData - No data found that matched subset constraints. '\n",
      " 'Exit code 3.',\n",
      " '178076675:NoMatchingData - No data found that matched subset constraints. '\n",
      " 'Exit code 3.',\n",
      " '178075381:NoMatchingData - No data found that matched subset constraints. '\n",
      " 'Exit code 3.',\n",
      " '178075384:NoMatchingData - No data found that matched subset constraints. '\n",
      " 'Exit code 3.',\n",
      " 'PT3.622S',\n",
      " 'ICESAT2']\n",
      "Your order is: complete_with_errors\n",
      "Data request  6  of  6  is submitting to NSIDC\n",
      "order ID:  5000000699978\n",
      "Initial status of your order request at NSIDC is:  processing\n",
      "Your order status is still  processing  at NSIDC. Please continue waiting... this may take a few moments.\n",
      "Your order is:  complete_with_errors\n",
      "NSIDC provided these error messages:\n",
      "['178075407:NoMatchingData - No data found that matched subset constraints. '\n",
      " 'Exit code 3.',\n",
      " '178135225:NoMatchingData - No data found that matched subset constraints. '\n",
      " 'Exit code 3.',\n",
      " '178135226:NoMatchingData - No data found that matched subset constraints. '\n",
      " 'Exit code 3.',\n",
      " '178135228:NoMatchingData - No data found that matched subset constraints. '\n",
      " 'Exit code 3.',\n",
      " 'PT5.770S',\n",
      " 'ICESAT2']\n",
      "Your order is: complete_with_errors\n"
     ]
    }
   ],
   "source": [
    "region_a.order_granules()"
   ]
  },
  {
   "cell_type": "code",
   "execution_count": 17,
   "metadata": {},
   "outputs": [
    {
     "data": {
      "text/plain": [
       "['5000000699973',\n",
       " '5000000699974',\n",
       " '5000000699975',\n",
       " '5000000699976',\n",
       " '5000000699977',\n",
       " '5000000699978']"
      ]
     },
     "execution_count": 17,
     "metadata": {},
     "output_type": "execute_result"
    }
   ],
   "source": [
    "# View a short list of order IDs:\n",
    "region_a.granules.orderIDs"
   ]
  },
  {
   "cell_type": "code",
   "execution_count": 18,
   "metadata": {},
   "outputs": [
    {
     "name": "stdout",
     "output_type": "stream",
     "text": [
      "Beginning download of zipped output...\n",
      "Data request 5000000699973 of  6  order(s) is downloaded.\n",
      "Beginning download of zipped output...\n",
      "Data request 5000000699974 of  6  order(s) is downloaded.\n",
      "Beginning download of zipped output...\n",
      "Data request 5000000699975 of  6  order(s) is downloaded.\n",
      "Beginning download of zipped output...\n",
      "Data request 5000000699976 of  6  order(s) is downloaded.\n",
      "Beginning download of zipped output...\n",
      "Data request 5000000699977 of  6  order(s) is downloaded.\n",
      "Beginning download of zipped output...\n",
      "Data request 5000000699978 of  6  order(s) is downloaded.\n",
      "Download complete\n"
     ]
    }
   ],
   "source": [
    "path = './download'\n",
    "# without variable subsetting, or with variable subsetting if you have run region_a.order_granules(Coverage=region_a.order_vars.wanted)\n",
    "region_a.download_granules(path)"
   ]
  },
  {
   "cell_type": "code",
   "execution_count": null,
   "metadata": {},
   "outputs": [],
   "source": []
  }
 ],
 "metadata": {
  "kernelspec": {
   "display_name": "Python 3",
   "language": "python",
   "name": "python3"
  },
  "language_info": {
   "codemirror_mode": {
    "name": "ipython",
    "version": 3
   },
   "file_extension": ".py",
   "mimetype": "text/x-python",
   "name": "python",
   "nbconvert_exporter": "python",
   "pygments_lexer": "ipython3",
   "version": "3.7.6"
  }
 },
 "nbformat": 4,
 "nbformat_minor": 4
}
