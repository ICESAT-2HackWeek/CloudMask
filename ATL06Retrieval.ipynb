{
 "cells": [
  {
   "cell_type": "code",
   "execution_count": 1,
   "metadata": {},
   "outputs": [],
   "source": [
    "from icepyx import icesat2data as ipd\n",
    "import os\n",
    "import shutil\n",
    "from pprint import pprint\n",
    "%matplotlib inline"
   ]
  },
  {
   "cell_type": "code",
   "execution_count": 29,
   "metadata": {},
   "outputs": [],
   "source": [
    "short_name = 'ATL06'\n",
    "spatial_extent = [ -50.71, -45.32, 68.08, 65.73]\n",
    "date_range = ['2019-06-01','2019-06-05']"
   ]
  },
  {
   "cell_type": "code",
   "execution_count": 30,
   "metadata": {},
   "outputs": [
    {
     "name": "stdout",
     "output_type": "stream",
     "text": [
      "ATL06\n",
      "['2019-06-01', '2019-06-05']\n",
      "00:00:00\n",
      "23:59:59\n",
      "003\n",
      "['bounding box', [-50.71, -45.32, 68.08, 65.73]]\n"
     ]
    }
   ],
   "source": [
    "region_a = ipd.Icesat2Data(short_name, spatial_extent, date_range)\n",
    "\n",
    "print(region_a.dataset)\n",
    "print(region_a.dates)\n",
    "print(region_a.start_time)\n",
    "print(region_a.end_time)\n",
    "print(region_a.dataset_version)\n",
    "print(region_a.spatial_extent)"
   ]
  },
  {
   "cell_type": "code",
   "execution_count": 31,
   "metadata": {},
   "outputs": [
    {
     "data": {
      "text/plain": [
       "['ATL06_20190601005859_09740303_003_01.h5',\n",
       " 'ATL06_20190601023316_09750303_003_01.h5',\n",
       " 'ATL06_20190601035904_09760302_003_01.h5',\n",
       " 'ATL06_20190601054151_09770303_003_01.h5',\n",
       " 'ATL06_20190601071608_09780303_003_01.h5',\n",
       " 'ATL06_20190601120935_09810305_003_01.h5',\n",
       " 'ATL06_20190601121500_09810306_003_01.h5',\n",
       " 'ATL06_20190601134352_09820305_003_01.h5',\n",
       " 'ATL06_20190601134917_09820306_003_01.h5',\n",
       " 'ATL06_20190601140450_09820308_003_01.h5',\n",
       " 'ATL06_20190601151810_09830305_003_01.h5',\n",
       " 'ATL06_20190601182644_09850305_003_01.h5',\n",
       " 'ATL06_20190601200102_09860305_003_01.h5',\n",
       " 'ATL06_20190602000443_09880313_003_01.h5',\n",
       " 'ATL06_20190602002449_09890302_003_01.h5',\n",
       " 'ATL06_20190602003320_09890303_003_01.h5',\n",
       " 'ATL06_20190602020737_09900303_003_01.h5',\n",
       " 'ATL06_20190602033324_09910302_003_01.h5',\n",
       " 'ATL06_20190602034154_09910303_003_01.h5',\n",
       " 'ATL06_20190602065029_09930303_003_01.h5',\n",
       " 'ATL06_20190602114355_09960305_003_01.h5',\n",
       " 'ATL06_20190602114920_09960306_003_01.h5',\n",
       " 'ATL06_20190602131813_09970305_003_01.h5',\n",
       " 'ATL06_20190602132338_09970306_003_01.h5',\n",
       " 'ATL06_20190602145230_09980305_003_01.h5',\n",
       " 'ATL06_20190602162647_09990305_003_01.h5',\n",
       " 'ATL06_20190602163212_09990306_003_01.h5',\n",
       " 'ATL06_20190602180105_10000305_003_01.h5',\n",
       " 'ATL06_20190602193522_10010305_003_01.h5',\n",
       " 'ATL06_20190603000740_10040303_003_01.h5',\n",
       " 'ATL06_20190603014157_10050303_003_01.h5',\n",
       " 'ATL06_20190603031615_10060303_003_01.h5',\n",
       " 'ATL06_20190603045032_10070303_003_01.h5',\n",
       " 'ATL06_20190603062449_10080303_003_01.h5',\n",
       " 'ATL06_20190603075907_10090303_003_01.h5',\n",
       " 'ATL06_20190603125233_10120305_003_01.h5',\n",
       " 'ATL06_20190603160108_10140305_003_01.h5',\n",
       " 'ATL06_20190603160633_10140306_003_01.h5',\n",
       " 'ATL06_20190603190942_10160305_003_01.h5',\n",
       " 'ATL06_20190604025035_10210303_003_01.h5',\n",
       " 'ATL06_20190604041622_10220302_003_01.h5',\n",
       " 'ATL06_20190604055910_10230303_003_01.h5',\n",
       " 'ATL06_20190604073327_10240303_003_01.h5',\n",
       " 'ATL06_20190604122654_10270305_003_01.h5',\n",
       " 'ATL06_20190604140111_10280305_003_01.h5',\n",
       " 'ATL06_20190604153529_10290305_003_01.h5',\n",
       " 'ATL06_20190604154054_10290306_003_01.h5',\n",
       " 'ATL06_20190604184403_10310305_003_01.h5',\n",
       " 'ATL06_20190605005039_10350303_003_01.h5',\n",
       " 'ATL06_20190605022456_10360303_003_01.h5',\n",
       " 'ATL06_20190605053331_10380303_003_01.h5',\n",
       " 'ATL06_20190605070748_10390303_003_01.h5',\n",
       " 'ATL06_20190605120115_10420305_003_01.h5',\n",
       " 'ATL06_20190605133532_10430305_003_01.h5',\n",
       " 'ATL06_20190605134057_10430306_003_01.h5',\n",
       " 'ATL06_20190605150949_10440305_003_01.h5',\n",
       " 'ATL06_20190605181824_10460305_003_01.h5',\n",
       " 'ATL06_20190605195242_10470305_003_01.h5']"
      ]
     },
     "execution_count": 31,
     "metadata": {},
     "output_type": "execute_result"
    }
   ],
   "source": [
    "region_a.avail_granules(ids=True)"
   ]
  },
  {
   "cell_type": "code",
   "execution_count": 35,
   "metadata": {},
   "outputs": [
    {
     "name": "stdin",
     "output_type": "stream",
     "text": [
      "Earthdata Login password:  ············\n"
     ]
    }
   ],
   "source": [
    "earthdata_uid = 'tsnow03'\n",
    "email = 'tasha.snow@colorado.edu'\n",
    "region_a.earthdata_login(earthdata_uid, email)"
   ]
  },
  {
   "cell_type": "code",
   "execution_count": 36,
   "metadata": {},
   "outputs": [
    {
     "name": "stdout",
     "output_type": "stream",
     "text": [
      "var_list inputs: atlas_sdp_gps_epoch, control, data_end_utc, data_start_utc, end_cycle, end_delta_time, end_geoseg, end_gpssow, end_gpsweek, end_orbit, end_region, end_rgt, granule_end_utc, granule_start_utc, qa_at_interval, release, start_cycle, start_delta_time, start_geoseg, start_gpssow, start_gpsweek, start_orbit, start_region, start_rgt, version, dt_hist, fit_maxiter, fpb_maxiter, maxiter, max_res_ids, min_dist, min_gain_th, min_n_pe, min_n_sel, min_signal_conf, n_hist, nhist_bins, n_sigmas, proc_interval, qs_lim_bsc, qs_lim_hrs, qs_lim_hsigma, qs_lim_msw, qs_lim_snr, qs_lim_sss, rbin_width, sigma_beam, sigma_tx, t_dead, atl06_quality_summary, delta_time, h_li, h_li_sigma, latitude, longitude, segment_id, sigma_geo_h, fpb_mean_corr, fpb_mean_corr_sigma, fpb_med_corr, fpb_med_corr_sigma, fpb_n_corr, med_r_fit, tx_mean_corr, tx_med_corr, dem_flag, dem_h, geoid_h, dh_fit_dx, dh_fit_dx_sigma, dh_fit_dy, h_expected_rms, h_mean, h_rms_misfit, h_robust_sprd, n_fit_photons, n_seg_pulses, sigma_h_mean, signal_selection_source, signal_selection_source_status, snr, snr_significance, w_surface_window_final, bckgrd, bsnow_conf, bsnow_h, bsnow_od, cloud_flg_asr, cloud_flg_atm, dac, e_bckgrd, layer_flag, msw_flag, neutat_delay_total, r_eff, solar_azimuth, solar_elevation, tide_earth, tide_equilibrium, tide_load, tide_ocean, tide_pole, ref_azimuth, ref_coelv, seg_azimuth, sigma_geo_at, sigma_geo_r, sigma_geo_xt, x_atc, y_atc, bckgrd_per_m, bin_top_h, count, ds_segment_id, lat_mean, lon_mean, pulse_count, segment_id_list, x_atc_mean, record_number, reference_pt_lat, reference_pt_lon, signal_selection_status_all, signal_selection_status_backup, signal_selection_status_confident, crossing_time, cycle_number, lan, orbit_number, rgt, sc_orient, sc_orient_time, qa_granule_fail_reason, qa_granule_pass_fail, signal_selection_source_fraction_0, signal_selection_source_fraction_1, signal_selection_source_fraction_2, signal_selection_source_fraction_3\n",
      "keyword_list and beam_list inputs: ancillary_data, bias_correction, dem, fit_statistics, geophysical, ground_track, gt1l, gt1r, gt2l, gt2r, gt3l, gt3r, land_ice, land_ice_segments, none, orbit_info, quality_assessment, residual_histogram, segment_quality, signal_selection_status\n"
     ]
    }
   ],
   "source": [
    "region_a.order_vars.avail(options=True)"
   ]
  },
  {
   "cell_type": "code",
   "execution_count": 37,
   "metadata": {},
   "outputs": [
    {
     "ename": "ValueError",
     "evalue": "You must construct a wanted variable list in order to remove values from it.",
     "output_type": "error",
     "traceback": [
      "\u001b[0;31m---------------------------------------------------------------------------\u001b[0m",
      "\u001b[0;31mValueError\u001b[0m                                Traceback (most recent call last)",
      "\u001b[0;32m<ipython-input-37-558b6d1e9634>\u001b[0m in \u001b[0;36m<module>\u001b[0;34m\u001b[0m\n\u001b[0;32m----> 1\u001b[0;31m \u001b[0mregion_a\u001b[0m\u001b[0;34m.\u001b[0m\u001b[0morder_vars\u001b[0m\u001b[0;34m.\u001b[0m\u001b[0mremove\u001b[0m\u001b[0;34m(\u001b[0m\u001b[0mall\u001b[0m\u001b[0;34m=\u001b[0m\u001b[0;32mTrue\u001b[0m\u001b[0;34m)\u001b[0m\u001b[0;34m\u001b[0m\u001b[0;34m\u001b[0m\u001b[0m\n\u001b[0m",
      "\u001b[0;32m/srv/conda/envs/notebook/lib/python3.7/site-packages/icepyx/core/variables.py\u001b[0m in \u001b[0;36mremove\u001b[0;34m(self, all, var_list, beam_list, keyword_list)\u001b[0m\n\u001b[1;32m    477\u001b[0m \u001b[0;34m\u001b[0m\u001b[0m\n\u001b[1;32m    478\u001b[0m         \u001b[0;32mif\u001b[0m \u001b[0;32mnot\u001b[0m \u001b[0mhasattr\u001b[0m\u001b[0;34m(\u001b[0m\u001b[0mself\u001b[0m\u001b[0;34m,\u001b[0m \u001b[0;34m'wanted'\u001b[0m\u001b[0;34m)\u001b[0m \u001b[0;32mor\u001b[0m \u001b[0mself\u001b[0m\u001b[0;34m.\u001b[0m\u001b[0mwanted\u001b[0m\u001b[0;34m==\u001b[0m\u001b[0;32mNone\u001b[0m\u001b[0;34m:\u001b[0m\u001b[0;34m\u001b[0m\u001b[0;34m\u001b[0m\u001b[0m\n\u001b[0;32m--> 479\u001b[0;31m             \u001b[0;32mraise\u001b[0m \u001b[0mValueError\u001b[0m\u001b[0;34m(\u001b[0m\u001b[0;34m\"You must construct a wanted variable list in order to remove values from it.\"\u001b[0m\u001b[0;34m)\u001b[0m\u001b[0;34m\u001b[0m\u001b[0;34m\u001b[0m\u001b[0m\n\u001b[0m\u001b[1;32m    480\u001b[0m \u001b[0;34m\u001b[0m\u001b[0m\n\u001b[1;32m    481\u001b[0m         \u001b[0;32massert\u001b[0m \u001b[0;32mnot\u001b[0m \u001b[0;34m(\u001b[0m\u001b[0mall\u001b[0m\u001b[0;34m==\u001b[0m\u001b[0;32mFalse\u001b[0m \u001b[0;32mand\u001b[0m \u001b[0mvar_list\u001b[0m\u001b[0;34m==\u001b[0m\u001b[0;32mNone\u001b[0m \u001b[0;32mand\u001b[0m \u001b[0mbeam_list\u001b[0m\u001b[0;34m==\u001b[0m\u001b[0;32mNone\u001b[0m \u001b[0;32mand\u001b[0m \u001b[0mkeyword_list\u001b[0m\u001b[0;34m==\u001b[0m\u001b[0;32mNone\u001b[0m\u001b[0;34m)\u001b[0m\u001b[0;34m,\u001b[0m\u001b[0;31m \u001b[0m\u001b[0;31m\\\u001b[0m\u001b[0;34m\u001b[0m\u001b[0;34m\u001b[0m\u001b[0m\n",
      "\u001b[0;31mValueError\u001b[0m: You must construct a wanted variable list in order to remove values from it."
     ]
    }
   ],
   "source": [
    "region_a.order_vars.append(beam_list=['gt1l', 'gt2l', 'gt3l'],var_list=['longitude','latitude','atl06_quality_summary'])\n",
    "pprint(region_a.order_vars.wanted)"
   ]
  },
  {
   "cell_type": "code",
   "execution_count": null,
   "metadata": {},
   "outputs": [],
   "source": []
  },
  {
   "cell_type": "code",
   "execution_count": null,
   "metadata": {},
   "outputs": [],
   "source": []
  },
  {
   "cell_type": "code",
   "execution_count": null,
   "metadata": {},
   "outputs": [],
   "source": [
    "region_a.subsetparams(Coverage=region_a.order_vars.wanted)"
   ]
  },
  {
   "cell_type": "code",
   "execution_count": null,
   "metadata": {},
   "outputs": [],
   "source": [
    "# View a short list of order IDs:\n",
    "region_a.granules.orderIDs"
   ]
  },
  {
   "cell_type": "code",
   "execution_count": null,
   "metadata": {},
   "outputs": [],
   "source": []
  },
  {
   "cell_type": "code",
   "execution_count": null,
   "metadata": {},
   "outputs": [],
   "source": []
  }
 ],
 "metadata": {
  "kernelspec": {
   "display_name": "Python 3",
   "language": "python",
   "name": "python3"
  },
  "language_info": {
   "codemirror_mode": {
    "name": "ipython",
    "version": 3
   },
   "file_extension": ".py",
   "mimetype": "text/x-python",
   "name": "python",
   "nbconvert_exporter": "python",
   "pygments_lexer": "ipython3",
   "version": "3.7.6"
  }
 },
 "nbformat": 4,
 "nbformat_minor": 4
}
