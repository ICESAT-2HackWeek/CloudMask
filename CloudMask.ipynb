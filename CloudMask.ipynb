{
 "cells": [
  {
   "cell_type": "markdown",
   "metadata": {},
   "source": [
    "### Cloud Mask Project\n",
    "\n",
    "Abstract of the project available in https://docs.google.com/document/d/1T-uMGFXgOIb0-DgFu4H25VU6gPrn4d5ybH_vMQYK2aI/edit\n",
    "\n",
    "Questions:\n",
    "- Maybe we should think of masking more than one single granule?\n",
    "- Bagging between images, intead of rows of the final dataframes\n",
    "- Re-think training-test-val based on dt\n",
    "- Problems installing regreg\n",
    "- Other weather data\n",
    "- Do we want to treat Integer_Cloud_Mask as a binary variable, categorical, or quantitatively?\n",
    "- Different analysis for strong and weak beam\n",
    "- Normalization of data? When we make scalling, we do it once with training and we keep the parameters? Weird implementation\n",
    "- Outliers\n",
    "- Questions about Jonathan's model: what about the marginals?\n",
    "\n",
    "\n",
    "To do:\n",
    "- How to split between training and test?\n",
    "- (Done) Find the way to login to Earthdata just once for all the VIIRS + ATL06 retrievals\n",
    "- Add all the features from ALT06 we find interesting and re-order columns\n",
    "- Add time efficiently to ATL06 data frames (problem with timestamps)\n",
    "- (Done) check if the time window is correct (how to access date and time in ATL?)\n",
    "- Raise a better error messege for the case of missing data\n",
    "- (Done) Index in the ATL06 dataframes. There are a lot of repetitions\n",
    "- (Done) Grid correction: do the vertices on VIIDS correspond to the center of the cell or to the real vertices of a cell? In that case, we need to shift the net.\n",
    "(Answer: this is for MODIS)\n",
    "- Change Ball Tree for something faster\n",
    "- Which is a good spatial window for VIIRS? 1km? How to go from (delta_lat, delta_lon) to delta_meters?\n",
    "- Should I be careful with the VIIRS images we use? Focus maybe on some moment of the year + some region (Antarctice y/o Greenland)\n",
    "- Is there any way to access VIIRS metadata?\n",
    "- Parallelize each VIIRS call\n",
    "- Where to call each library and python script?"
   ]
  },
  {
   "cell_type": "code",
   "execution_count": 1,
   "metadata": {},
   "outputs": [],
   "source": [
    "#from icepyx import query as ipd\n",
    "#from icepyx import icesat2data as ipd\n",
    "\n",
    "from pathlib import Path\n",
    "import h5py\n",
    "import os\n",
    "import numpy as np\n",
    "import pandas as pd\n",
    "import pyproj\n",
    "import pickle\n",
    "import random\n",
    "from astropy.time import Time\n",
    "import matplotlib.pyplot as plt\n",
    "from sklearn.neighbors import BallTree\n",
    "\n",
    "plt.rcParams['figure.figsize'] = [15, 10]"
   ]
  },
  {
   "cell_type": "code",
   "execution_count": 2,
   "metadata": {},
   "outputs": [],
   "source": [
    "%load_ext autoreload\n",
    "%autoreload 2"
   ]
  },
  {
   "cell_type": "code",
   "execution_count": 3,
   "metadata": {},
   "outputs": [],
   "source": [
    "from utils import *\n",
    "from utils_atl06 import read_atl06_fromfile, atl06_2_df, read_atl06\n",
    "from utils_cloud import associate, CLDMSK_date"
   ]
  },
  {
   "cell_type": "markdown",
   "metadata": {},
   "source": [
    "### VIIRS Asimilation"
   ]
  },
  {
   "cell_type": "code",
   "execution_count": 4,
   "metadata": {},
   "outputs": [],
   "source": [
    "# Directory where the VIIRS data is located\n",
    "path_data_VIIRS = 'data/VIIRS-fulltemporalextent'\n",
    "# Directory where the ATL06 is located or should be downloaded \n",
    "path_data_ATL06 = 'data/new_ATL06/'\n",
    "# Name of the pickle file where we download the dictonary data\n",
    "dict_save = \"dict_VIIRS_2_ATL06_dt20_full.pkl\"\n",
    "\n",
    "# Spatial Extent\n",
    "spatial_extent = [-50, 68, -45, 73]\n",
    "#spatial_extent = [float(x) for x in spatial_extent]   # remove this line once Issue 82 is solved \n",
    "# Window in hours to retrieve ICESat-2 data around VIIRS image\n",
    "hr = 0.5\n",
    "# Name of the column with the difference in minutes between ICESat-2 and VIIRS\n",
    "cld_t_var = 'VIIRS_offset'\n",
    "# Name of the variable with the cloud mask indicatos in VIIRS\n",
    "V_variable = 'Integer_Cloud_Mask'\n",
    "# Number of nearest neighbours to consider for the assimilation\n",
    "k = 10\n",
    "# Distance in kilometers above which ICESat-2 measuraments will be discarted in case that there is no spatial match with VIIRS\n",
    "tolerance_spatial_dismatch = 1 \n",
    "# Approximate radii of the Earth\n",
    "radii = 6371"
   ]
  },
  {
   "cell_type": "code",
   "execution_count": 23,
   "metadata": {},
   "outputs": [
    {
     "name": "stdout",
     "output_type": "stream",
     "text": [
      "Name of VIIRS file: data/VIIRS-fulltemporalextent/CLDMSK_L2_VIIRS_SNPP.A2019032.1318.001.2019062071033.nc\n"
     ]
    },
    {
     "name": "stderr",
     "output_type": "stream",
     "text": [
      "<ipython-input-23-5da0cdae7c83>:24: H5pyDeprecationWarning: The default file mode will change to 'r' (read-only) in h5py 3.0. To suppress this warning, pass the mode you need to h5py.File(), or set the global default h5.get_config().default_file_mode, or set the environment variable H5PY_DEFAULT_READONLY=1. Available modes are: 'r', 'r+', 'w', 'w-'/'x', 'a'. See the docs for details.\n",
      "  f_ = h5py.File(Vfile)\n",
      "<ipython-input-23-5da0cdae7c83>:33: H5pyDeprecationWarning: dataset.value has been deprecated. Use dataset[()] instead.\n",
      "  extract = f_['geophysical_data'][V_variable].value\n"
     ]
    },
    {
     "name": "stdout",
     "output_type": "stream",
     "text": [
      "Available Granules: ['ATL06_20190201130034_05360203_003_01.h5']\n",
      "You already donwload all the requiered files\n",
      "Error\n",
      "Process completed\n"
     ]
    }
   ],
   "source": [
    "Vfiles = get_file_in_directory(path_data_VIIRS)\n",
    "\n",
    "VIIRS_2_ATL06 = {}\n",
    "\n",
    "for Vfile in Vfiles: \n",
    "\n",
    "    \"\"\"\n",
    "    Atmospheric product retrieval.\n",
    "    \n",
    "    This part should be return the same for all the external producs:\n",
    "    \n",
    "        - f_t: timestamp where the product was recorded\n",
    "        - latS : 2-dimensional np.array with the latitudes\n",
    "        - lonS : 2-dimensional np.array with the longitudes\n",
    "        - extract : np.array with the label of the product\n",
    "    \n",
    "    \"\"\"\n",
    "    \n",
    "    Vfile_name = Vfile.split(\"/\")[-1]\n",
    "    print(\"Name of VIIRS file:\", Vfile_name)\n",
    "    \n",
    "    try:\n",
    "    \n",
    "        # Temportal properties\n",
    "        f_ = h5py.File(Vfile)     \n",
    "        f_t = viirs_date(Vfile)\n",
    "\n",
    "        # Spatial properties\n",
    "        latS = f_[\"geolocation_data\"][\"latitude\"][:]\n",
    "        lonS = f_[\"geolocation_data\"][\"longitude\"][:]\n",
    "        assert latS.shape == lonS.shape, \"latS and lonS must have the same shape\"\n",
    "\n",
    "        # Label\n",
    "        extract = f_['geophysical_data'][V_variable].value\n",
    "        assert extract.shape == latS.shape, \"Labels and latS must have the same shape\"\n",
    "\n",
    "\n",
    "        \"\"\"\n",
    "        Preprocesing of the atmospheric product \n",
    "        \"\"\"\n",
    "\n",
    "        # I change the coordinates to radians and I stack pairs of (latitude, longitede) \n",
    "\n",
    "        #S_rad = np.vstack([lonS[:].ravel(),latS[:].ravel()]).T\n",
    "        S_rad = np.vstack([latS[:].ravel(), lonS[:].ravel()]).T\n",
    "        S_rad *= np.pi / 180.\n",
    "\n",
    "\n",
    "        \"\"\"\n",
    "        ATL06 Retrieval\n",
    "        \"\"\"\n",
    "\n",
    "        # Temporal search window for \n",
    "        start = f_t - pd.DateOffset(hours=hr)\n",
    "        end   = f_t + pd.DateOffset(hours=hr)\n",
    "\n",
    "        start_date_str = start.strftime('%Y-%m-%d')\n",
    "        end_date_str   = end.strftime('%Y-%m-%d')\n",
    "        start_time_str = start.strftime('%H:%M:%S')\n",
    "        end_time_str   = end.strftime('%H:%M:%S')\n",
    "\n",
    "        \n",
    "        \n",
    "        date_range = [start_date_str, end_date_str]\n",
    "\n",
    "        df = read_atl06(spatial_extent = spatial_extent,\n",
    "                        date_range = date_range,\n",
    "                        time_start = start_time_str,\n",
    "                        time_end = end_time_str,\n",
    "                        path = path_data_ATL06)\n",
    "\n",
    "        \n",
    "        if df.shape[0] == 0:\n",
    "            print(\"The retrieved dataframes has no entries.\")\n",
    "            continue\n",
    "\n",
    "        latF = df.lat.values \n",
    "        lonF = df.lon.values\n",
    "\n",
    "        #F_rad = np.vstack([lonF[:].ravel(),latF[:].ravel()]).T\n",
    "        F_rad = np.vstack([latF[:].ravel(), lonF[:].ravel()]).T\n",
    "        F_rad *= np.pi / 180.\n",
    "\n",
    "        \"\"\"\n",
    "        Assimilation\n",
    "        \"\"\"\n",
    "\n",
    "        # Label Assimilation\n",
    "\n",
    "        distances, indices = associate(S_rad, F_rad, k_nn=k)\n",
    "\n",
    "        for i in range(indices.shape[1]):\n",
    "\n",
    "            new_column = extract.ravel()[indices[:, i]]\n",
    "            \n",
    "            if i == 0:\n",
    "                col_name = V_variable\n",
    "            else:\n",
    "                col_name = V_variable + \"_k\" + str(i + 1)\n",
    "                \n",
    "            df[ col_name ] = new_column\n",
    "            df[ col_name + \"_dist\" ] = distances[:, i]\n",
    "\n",
    "\n",
    "        # I filter ATL points outside the VIIRS Image\n",
    "        df = df[ df[V_variable + \"_dist\"] < tolerance_spatial_dismatch / radii ]\n",
    "\n",
    "        # Difference on time assimilation \n",
    "        df[\"delta_assim\"] = abs( df.time - f_t ) / np.timedelta64(1,'m')         \n",
    "        #df[\"delta_assim\"] = abs( df.t_year - f_t ) / np.timedelta64(1,'m') \n",
    "        # I filter points outside the temporal window \n",
    "        df = df[ df[\"delta_assim\"] < 60 * hr ]\n",
    "\n",
    "        # Add name of VIIRS file to the column of the dataframes\n",
    "        df['viirs_source'] = Vfile_name \n",
    "\n",
    "        \n",
    "        VIIRS_2_ATL06[Vfile] = df\n",
    "\n",
    "        a_file = open(dict_save, \"wb\")\n",
    "        pickle.dump(VIIRS_2_ATL06, a_file)\n",
    "        a_file.close()\n",
    "\n",
    "    \n",
    "    except:\n",
    "        print(\"Error\")\n",
    "\n",
    "    \n",
    "print(\"Process completed\")"
   ]
  },
  {
   "cell_type": "markdown",
   "metadata": {},
   "source": [
    "## Data Preparation "
   ]
  },
  {
   "cell_type": "code",
   "execution_count": 4,
   "metadata": {},
   "outputs": [],
   "source": [
    "#infile = open('dict_VIIRS_2_ATL06_dt20_full_incomplete.pkl','rb')\n",
    "infile = open('dict_VIIRS_2_ATL06_dt20_full.pkl','rb')\n",
    "\n",
    "dict_VIIRS2ATL = pickle.load(infile)\n",
    "infile.close()"
   ]
  },
  {
   "cell_type": "code",
   "execution_count": 5,
   "metadata": {},
   "outputs": [
    {
     "name": "stdout",
     "output_type": "stream",
     "text": [
      "(161978, 53)\n",
      "(48007, 53)\n",
      "(0, 53)\n",
      "(125017, 53)\n",
      "(153, 53)\n",
      "(12275, 53)\n",
      "(31807, 53)\n",
      "(10654, 53)\n",
      "(76774, 53)\n",
      "(117651, 53)\n",
      "(22397, 53)\n",
      "(168597, 53)\n",
      "(89692, 53)\n",
      "(42803, 53)\n",
      "(152898, 53)\n",
      "(1507, 53)\n",
      "(64321, 53)\n",
      "(94294, 53)\n",
      "(102557, 53)\n",
      "(136029, 53)\n",
      "(72046, 53)\n",
      "(47860, 53)\n",
      "(76978, 53)\n",
      "(112573, 53)\n",
      "(93975, 53)\n",
      "(76305, 53)\n",
      "(135984, 53)\n",
      "(107185, 53)\n",
      "(76564, 53)\n",
      "(1163, 53)\n",
      "(0, 53)\n",
      "(66110, 53)\n",
      "(67887, 53)\n",
      "(138405, 53)\n",
      "(94134, 53)\n",
      "(105411, 53)\n",
      "(2490, 53)\n",
      "(21906, 53)\n",
      "(137468, 53)\n",
      "(0, 53)\n",
      "(61178, 53)\n",
      "(44406, 53)\n",
      "(36648, 53)\n",
      "(87955, 53)\n",
      "(36297, 53)\n",
      "(51219, 53)\n",
      "(46974, 53)\n",
      "(141606, 53)\n",
      "(4017, 53)\n",
      "(62386, 53)\n",
      "(0, 53)\n",
      "(111130, 53)\n",
      "(42195, 53)\n",
      "(3745, 53)\n",
      "(21187, 53)\n",
      "(155093, 53)\n",
      "(74517, 53)\n",
      "(60253, 53)\n",
      "(138995, 53)\n",
      "(166798, 53)\n",
      "(15014, 53)\n",
      "(38562, 53)\n",
      "(68571, 53)\n",
      "(83782, 53)\n",
      "(45094, 53)\n",
      "(149469, 53)\n",
      "(161882, 53)\n",
      "(418, 53)\n",
      "(60856, 53)\n",
      "(937, 53)\n",
      "(41001, 53)\n",
      "(122130, 53)\n",
      "(61734, 53)\n",
      "(24386, 53)\n",
      "(0, 53)\n",
      "(0, 53)\n",
      "(17250, 53)\n",
      "(13414, 53)\n",
      "(26861, 53)\n",
      "(29770, 53)\n",
      "(150376, 53)\n",
      "(97390, 53)\n",
      "(151537, 53)\n",
      "(168595, 53)\n",
      "(79798, 53)\n",
      "(71610, 53)\n",
      "(73817, 53)\n",
      "(168287, 53)\n",
      "(36739, 53)\n",
      "(166425, 53)\n",
      "(65114, 53)\n",
      "(98583, 53)\n",
      "(139700, 53)\n",
      "(91703, 53)\n",
      "(22, 53)\n",
      "(25578, 53)\n",
      "(167642, 53)\n",
      "(66517, 53)\n",
      "(80917, 53)\n",
      "(0, 53)\n",
      "(870, 53)\n",
      "(95709, 53)\n",
      "(25813, 53)\n",
      "(44437, 53)\n",
      "(5181, 53)\n",
      "(0, 53)\n",
      "(33243, 53)\n",
      "(0, 53)\n",
      "(14645, 53)\n",
      "(145205, 53)\n",
      "(143907, 53)\n",
      "(155273, 53)\n"
     ]
    }
   ],
   "source": [
    "list_keys = list(dict_VIIRS2ATL.keys())\n",
    "res = 0\n",
    "for x in list_keys:\n",
    "    \n",
    "    #print(x)\n",
    "    print(dict_VIIRS2ATL[x].shape)\n",
    "    res += dict_VIIRS2ATL[x].shape[0]"
   ]
  },
  {
   "cell_type": "code",
   "execution_count": 6,
   "metadata": {},
   "outputs": [
    {
     "data": {
      "text/plain": [
       "112"
      ]
     },
     "execution_count": 6,
     "metadata": {},
     "output_type": "execute_result"
    }
   ],
   "source": [
    "len(list_keys)"
   ]
  },
  {
   "cell_type": "markdown",
   "metadata": {},
   "source": [
    "I filter the VIIRS files that have at least a minimum of different ATL06 measuraments. The filters we consider for this first part include:\n",
    "\n",
    "1. Since the Strong and Weak retrievals have different statistics, like different number of signal photons, we restric the analysis to pne single set of beams (namely, strong or weak). \n",
    "2. I will only consider retrievals with high confidence in the VIIRS flag, that is, Integer_Cloud_Mask = 0 or 3.\n",
    "3. I restrict the analysis to rows for which the temporal dismatch is small \n",
    "4. Then, I filter VIIRS images for which I have enough ATLAS retrievals.\n",
    "5. Removal of outliers (check)\n",
    "\n",
    "For the VIIRS-ICESat2 retrievals that pass these filters, I restrict the analysis to a subsample of the rows. This is done because the unbalanced proportion of retrievals per VIIRS image."
   ]
  },
  {
   "cell_type": "code",
   "execution_count": 9,
   "metadata": {},
   "outputs": [],
   "source": [
    "dt = 15 # minutes\n",
    "N_filt = 1000\n",
    "\n",
    "viirs_filtered = []\n",
    "dict_VIIRS2ATL_filtered = {}\n",
    "\n",
    "for x in list_keys:\n",
    "    \n",
    "    df = dict_VIIRS2ATL[x]\n",
    "    df = df[df.beam_strength == 'strong']\n",
    "    df = df[df.Integer_Cloud_Mask.isin([0,3])]   \n",
    "    df = df[df.delta_assim < dt]\n",
    "    #print(df.shape)\n",
    "    df = df[df.height < 10e30]\n",
    "    df = df[df.slope_dx < 10e30]\n",
    "    df = df[df.slope_dy < 10e30]\n",
    "    df = df[df.snr < 10e30]\n",
    "    #print(df.shape)\n",
    "    \n",
    "    if df.shape[0] >= N_filt:\n",
    "        \n",
    "        viirs_filtered.append(x)\n",
    "        dict_VIIRS2ATL_filtered[x] = df.sample(n = N_filt)"
   ]
  },
  {
   "cell_type": "code",
   "execution_count": 10,
   "metadata": {},
   "outputs": [
    {
     "data": {
      "text/plain": [
       "62"
      ]
     },
     "execution_count": 10,
     "metadata": {},
     "output_type": "execute_result"
    }
   ],
   "source": [
    "len(viirs_filtered)"
   ]
  },
  {
   "cell_type": "code",
   "execution_count": 11,
   "metadata": {},
   "outputs": [
    {
     "data": {
      "text/plain": [
       "55.35714285714286"
      ]
     },
     "execution_count": 11,
     "metadata": {},
     "output_type": "execute_result"
    }
   ],
   "source": [
    "len(viirs_filtered) / len(list_keys) * 100"
   ]
  },
  {
   "cell_type": "code",
   "execution_count": 12,
   "metadata": {},
   "outputs": [
    {
     "name": "stdout",
     "output_type": "stream",
     "text": [
      "(1000, 53)\n",
      "(1000, 53)\n",
      "(1000, 53)\n",
      "(1000, 53)\n",
      "(1000, 53)\n",
      "(1000, 53)\n",
      "(1000, 53)\n",
      "(1000, 53)\n",
      "(1000, 53)\n",
      "(1000, 53)\n",
      "(1000, 53)\n",
      "(1000, 53)\n",
      "(1000, 53)\n",
      "(1000, 53)\n",
      "(1000, 53)\n",
      "(1000, 53)\n",
      "(1000, 53)\n",
      "(1000, 53)\n",
      "(1000, 53)\n",
      "(1000, 53)\n",
      "(1000, 53)\n",
      "(1000, 53)\n",
      "(1000, 53)\n",
      "(1000, 53)\n",
      "(1000, 53)\n",
      "(1000, 53)\n",
      "(1000, 53)\n",
      "(1000, 53)\n",
      "(1000, 53)\n",
      "(1000, 53)\n",
      "(1000, 53)\n",
      "(1000, 53)\n",
      "(1000, 53)\n",
      "(1000, 53)\n",
      "(1000, 53)\n",
      "(1000, 53)\n",
      "(1000, 53)\n",
      "(1000, 53)\n",
      "(1000, 53)\n",
      "(1000, 53)\n",
      "(1000, 53)\n",
      "(1000, 53)\n",
      "(1000, 53)\n",
      "(1000, 53)\n",
      "(1000, 53)\n",
      "(1000, 53)\n",
      "(1000, 53)\n",
      "(1000, 53)\n",
      "(1000, 53)\n",
      "(1000, 53)\n",
      "(1000, 53)\n",
      "(1000, 53)\n",
      "(1000, 53)\n",
      "(1000, 53)\n",
      "(1000, 53)\n",
      "(1000, 53)\n",
      "(1000, 53)\n",
      "(1000, 53)\n",
      "(1000, 53)\n",
      "(1000, 53)\n",
      "(1000, 53)\n",
      "(1000, 53)\n"
     ]
    }
   ],
   "source": [
    "for x in dict_VIIRS2ATL_filtered.keys():\n",
    "    print(dict_VIIRS2ATL_filtered[x].shape)"
   ]
  },
  {
   "cell_type": "code",
   "execution_count": 13,
   "metadata": {},
   "outputs": [],
   "source": [
    "random.seed(6)\n",
    "random.shuffle(viirs_filtered)\n",
    "\n",
    "prop_train = 60\n",
    "prop_val   = 20\n",
    "prop_test  = 20\n",
    "\n",
    "N0 = int( prop_train * len(viirs_filtered) / 100 )\n",
    "N1 = int( (prop_train + prop_val) * len(viirs_filtered) / 100 )\n",
    "\n",
    "viirs_train = viirs_filtered[:N0]\n",
    "viirs_val   = viirs_filtered[N0:N1]\n",
    "viirs_test  = viirs_filtered[N1:]"
   ]
  },
  {
   "cell_type": "code",
   "execution_count": 14,
   "metadata": {},
   "outputs": [],
   "source": [
    "assert len(viirs_train) + len(viirs_val) + len(viirs_test) == len(viirs_filtered)\n",
    "assert list(set(viirs_train) & set(viirs_val)) == []\n",
    "assert list(set(viirs_train) & set(viirs_test)) == []\n",
    "assert list(set(viirs_val) & set(viirs_test)) == []"
   ]
  },
  {
   "cell_type": "code",
   "execution_count": 15,
   "metadata": {},
   "outputs": [],
   "source": [
    "df_train = merge_df_from_dict(dict_VIIRS2ATL_filtered, entries_to_merge=viirs_train, shuff=True)\n",
    "df_val   = merge_df_from_dict(dict_VIIRS2ATL_filtered, entries_to_merge=viirs_val, shuff=True)\n",
    "df_test  = merge_df_from_dict(dict_VIIRS2ATL_filtered, entries_to_merge=viirs_test, shuff=True)"
   ]
  },
  {
   "cell_type": "code",
   "execution_count": 16,
   "metadata": {},
   "outputs": [
    {
     "data": {
      "text/plain": [
       "Index(['ground_track', 'time', 'segment_id', 'beam_strength', 'lat', 'lon',\n",
       "       'height', 'slope_dx', 'slope_dy', 'snr', 'q_flag', 'h_rb',\n",
       "       'height_sigma', 'snr_significance', 's_fg', 'n_fit_photons',\n",
       "       'w_surface_window_final', 'n_fit_photons_ratio_w', 'blowing_snow_conf',\n",
       "       'blowing_snow_h', 'blowing_snow_od', 'c_flg_asr', 'c_flg_atm', 'msw',\n",
       "       'layer_flag', 'background', 'background_expected', 'q_flag_1',\n",
       "       'q_flag_2', 'q_flag_3', 'q_flag_4', 'q_flag_5', 'Integer_Cloud_Mask',\n",
       "       'Integer_Cloud_Mask_dist', 'Integer_Cloud_Mask_k2',\n",
       "       'Integer_Cloud_Mask_k2_dist', 'Integer_Cloud_Mask_k3',\n",
       "       'Integer_Cloud_Mask_k3_dist', 'Integer_Cloud_Mask_k4',\n",
       "       'Integer_Cloud_Mask_k4_dist', 'Integer_Cloud_Mask_k5',\n",
       "       'Integer_Cloud_Mask_k5_dist', 'Integer_Cloud_Mask_k6',\n",
       "       'Integer_Cloud_Mask_k6_dist', 'Integer_Cloud_Mask_k7',\n",
       "       'Integer_Cloud_Mask_k7_dist', 'Integer_Cloud_Mask_k8',\n",
       "       'Integer_Cloud_Mask_k8_dist', 'Integer_Cloud_Mask_k9',\n",
       "       'Integer_Cloud_Mask_k9_dist', 'Integer_Cloud_Mask_k10',\n",
       "       'Integer_Cloud_Mask_k10_dist', 'delta_assim'],\n",
       "      dtype='object')"
      ]
     },
     "execution_count": 16,
     "metadata": {},
     "output_type": "execute_result"
    }
   ],
   "source": [
    "df_train.columns"
   ]
  },
  {
   "cell_type": "code",
   "execution_count": 17,
   "metadata": {},
   "outputs": [],
   "source": [
    "df_train['q_viirs'] = df_train.apply(lambda row: 1 if (row.Integer_Cloud_Mask < 2) else 0, axis = 1)\n",
    "df_train['q_viirs_10'] = df_train.apply(lambda row: 1 if (row.Integer_Cloud_Mask_k10 < 2) else 0, axis = 1)\n",
    "\n",
    "df_val['q_viirs'] = df_val.apply(lambda row: 1 if (row.Integer_Cloud_Mask < 2) else 0, axis = 1)\n",
    "df_val['q_viirs_10'] = df_val.apply(lambda row: 1 if (row.Integer_Cloud_Mask_k10 < 2) else 0, axis = 1)"
   ]
  },
  {
   "cell_type": "code",
   "execution_count": 20,
   "metadata": {},
   "outputs": [],
   "source": [
    "# Points to use in training\n",
    "#N = 100000\n",
    "N = 10000\n",
    "# Variables I want to use\n",
    "#col_names = ['h_rb', 'height_sigma', 'snr_significance','s_fg', 'n_fit_photons_ratio_w']\n",
    "col_names = ['height','slope_dx', 'slope_dy', 'snr', 'h_rb', 'height_sigma', 'snr_significance','s_fg', 'n_fit_photons_ratio_w', 'c_flg_asr']\n",
    "col_names = ['height','slope_dx', 'slope_dy', 'snr', 'h_rb', 'height_sigma', 'snr_significance','s_fg', 'n_fit_photons_ratio_w', 'c_flg_asr', 'lat', 'lon']\n",
    "\n",
    "# restriction to strong beam\n",
    "df_train_sample = df_train[df_train.beam_strength == 'strong'].sample(n=N)\n",
    "df_val_sample = df_val[df_val.beam_strength == 'strong'].sample(n=N)\n",
    "\n",
    "X_train = df_train_sample[col_names].to_numpy()\n",
    "X_val   = df_val_sample[col_names].to_numpy()\n",
    "\n",
    "\n",
    "Y_train = df_train_sample[['q_viirs']].to_numpy().reshape(-1)\n",
    "Y_val   = df_val_sample[['q_viirs']].to_numpy().reshape(-1)\n",
    "\n",
    "Y_train_fake = df_train_sample[['q_flag']].to_numpy().reshape(-1)"
   ]
  },
  {
   "cell_type": "code",
   "execution_count": 21,
   "metadata": {},
   "outputs": [
    {
     "data": {
      "text/plain": [
       "array([0, 1, 2, 3, 4, 5], dtype=int8)"
      ]
     },
     "execution_count": 21,
     "metadata": {},
     "output_type": "execute_result"
    }
   ],
   "source": [
    "np.unique(df_train.c_flg_asr.values)"
   ]
  },
  {
   "cell_type": "code",
   "execution_count": 22,
   "metadata": {},
   "outputs": [
    {
     "data": {
      "text/plain": [
       "50292.918"
      ]
     },
     "execution_count": 22,
     "metadata": {},
     "output_type": "execute_result"
    }
   ],
   "source": [
    "np.max(df_train.snr.values)"
   ]
  },
  {
   "cell_type": "code",
   "execution_count": 23,
   "metadata": {},
   "outputs": [],
   "source": [
    "from sklearn import preprocessing\n",
    "\n",
    "X_train_scaled = preprocessing.scale(X_train, axis=0)\n",
    "X_val_scaled = preprocessing.scale(X_val, axis=0)    # This is wrong!!!\n",
    "\n",
    "#Y_train_scaled = preprocessing.scale(Y_train, axis=0)\n",
    "#Y_val_scaled = preprocessing.scale(Y_val, axis=0)"
   ]
  },
  {
   "cell_type": "code",
   "execution_count": 24,
   "metadata": {},
   "outputs": [
    {
     "data": {
      "image/png": "[encoded data removed]",
      "text/plain": [
       "<Figure size 1080x720 with 2 Axes>"
      ]
     },
     "metadata": {
      "needs_background": "light"
     },
     "output_type": "display_data"
    }
   ],
   "source": [
    "import seaborn as sns\n",
    "conditional_heatplot(df_train, ['q_viirs', 'q_viirs_10', 'q_flag', 'q_flag_1', 'q_flag_2', 'q_flag_3', 'q_flag_4', 'q_flag_5']);"
   ]
  },
  {
   "cell_type": "markdown",
   "metadata": {},
   "source": [
    "#### Naive classifier"
   ]
  },
  {
   "cell_type": "code",
   "execution_count": 25,
   "metadata": {},
   "outputs": [
    {
     "data": {
      "text/plain": [
       "{'accuracy': 0.6595675675675675,\n",
       " 'f1': 0.036561113660700625,\n",
       " 'recall': 0.018854528242347745}"
      ]
     },
     "execution_count": 25,
     "metadata": {},
     "output_type": "execute_result"
    }
   ],
   "source": [
    "fit_scores(y_true=df_train.q_viirs.values, y_fit=df_train.q_flag.values)"
   ]
  },
  {
   "cell_type": "code",
   "execution_count": 26,
   "metadata": {},
   "outputs": [
    {
     "data": {
      "text/plain": [
       "{'accuracy': 0.71025,\n",
       " 'f1': 0.05746814854974248,\n",
       " 'recall': 0.029725182277061134}"
      ]
     },
     "execution_count": 26,
     "metadata": {},
     "output_type": "execute_result"
    }
   ],
   "source": [
    "fit_scores(y_true=df_val.q_viirs.values, y_fit=df_val.q_flag.values)"
   ]
  },
  {
   "cell_type": "code",
   "execution_count": 27,
   "metadata": {},
   "outputs": [
    {
     "data": {
      "text/plain": [
       "{'accuracy': 0.6300666666666667,\n",
       " 'f1': 0.01316023475013338,\n",
       " 'recall': 0.006641536528450906}"
      ]
     },
     "execution_count": 27,
     "metadata": {},
     "output_type": "execute_result"
    }
   ],
   "source": [
    "fit_scores(y_true=df_train[df_train.delta_assim < 5].q_viirs.values, y_fit=df_train[df_train.delta_assim < 5].q_flag.values)"
   ]
  },
  {
   "cell_type": "code",
   "execution_count": 51,
   "metadata": {},
   "outputs": [
    {
     "data": {
      "text/plain": [
       "(2552, 55)"
      ]
     },
     "execution_count": 51,
     "metadata": {},
     "output_type": "execute_result"
    }
   ],
   "source": [
    "df_train[df_train.delta_assim < .5].shape"
   ]
  },
  {
   "cell_type": "code",
   "execution_count": 40,
   "metadata": {},
   "outputs": [
    {
     "data": {
      "text/plain": [
       "array([1. , 1.5])"
      ]
     },
     "execution_count": 40,
     "metadata": {},
     "output_type": "execute_result"
    }
   ],
   "source": [
    "np.arange(1,2, 0.5)"
   ]
  },
  {
   "cell_type": "code",
   "execution_count": 59,
   "metadata": {},
   "outputs": [
    {
     "name": "stderr",
     "output_type": "stream",
     "text": [
      "/glade/u/home/fsapienza/.conda/envs/cloudmaskenv/lib/python3.8/site-packages/sklearn/metrics/_classification.py:1464: UndefinedMetricWarning: F-score is ill-defined and being set to 0.0 due to no true nor predicted samples. Use `zero_division` parameter to control this behavior.\n",
      "  _warn_prf(\n",
      "/glade/u/home/fsapienza/.conda/envs/cloudmaskenv/lib/python3.8/site-packages/sklearn/metrics/_classification.py:1221: UndefinedMetricWarning: Recall is ill-defined and being set to 0.0 due to no true samples. Use `zero_division` parameter to control this behavior.\n",
      "  _warn_prf(average, modifier, msg_start, len(result))\n"
     ]
    }
   ],
   "source": [
    "T = np.arange(1, dt + 1, 0.1)\n",
    "acc = []\n",
    "f1  = []\n",
    "\n",
    "for t in T:\n",
    "    \n",
    "    #fit = fit_scores(y_true=df_train[df_train.delta_assim < t].q_viirs.values, y_fit=df_train[df_train.delta_assim < t].q_flag.values)\n",
    "    fit = fit_scores(y_true=df_val[df_val.delta_assim < t].q_viirs.values, y_fit=df_val[df_val.delta_assim < t].q_flag.values)\n",
    "\n",
    "    acc.append(fit['accuracy'])\n",
    "    f1.append(fit['f1'])\n",
    "    "
   ]
  },
  {
   "cell_type": "code",
   "execution_count": 60,
   "metadata": {},
   "outputs": [
    {
     "data": {
      "text/plain": [
       "<matplotlib.legend.Legend at 0x2b1a08ebdd90>"
      ]
     },
     "execution_count": 60,
     "metadata": {},
     "output_type": "execute_result"
    },
    {
     "data": {
      "image/png": "[encoded data removed]",
      "text/plain": [
       "<Figure size 1080x720 with 1 Axes>"
      ]
     },
     "metadata": {
      "needs_background": "light"
     },
     "output_type": "display_data"
    }
   ],
   "source": [
    "plt.plot(T, acc, '-', label = \"accuracy\")\n",
    "#plt.plot(T, f1, 'o-', label = \"f1\")\n",
    "plt.legend()"
   ]
  },
  {
   "cell_type": "code",
   "execution_count": null,
   "metadata": {},
   "outputs": [],
   "source": []
  },
  {
   "cell_type": "code",
   "execution_count": 24,
   "metadata": {},
   "outputs": [
    {
     "data": {
      "image/png": "[encoded data removed]",
      "text/plain": [
       "<Figure size 1080x720 with 2 Axes>"
      ]
     },
     "metadata": {
      "needs_background": "light"
     },
     "output_type": "display_data"
    }
   ],
   "source": [
    "conditional_heatplot(df_train[df_train.delta_assim < 5], ['q_viirs', 'q_viirs_10', 'q_flag', 'q_flag_1', 'q_flag_2', 'q_flag_3', 'q_flag_4', 'q_flag_5']);"
   ]
  },
  {
   "cell_type": "code",
   "execution_count": 84,
   "metadata": {},
   "outputs": [
    {
     "data": {
      "image/png": "[encoded data removed]",
      "text/plain": [
       "<Figure size 1080x720 with 2 Axes>"
      ]
     },
     "metadata": {
      "needs_background": "light"
     },
     "output_type": "display_data"
    }
   ],
   "source": [
    "import seaborn as sns\n",
    "\n",
    "ax = sns.heatmap(pd.crosstab(df_train_sample.c_flg_asr, df_train_sample.Integer_Cloud_Mask, normalize = \"index\"), annot=True, cmap = sns.color_palette(\"Blues\"))"
   ]
  },
  {
   "cell_type": "code",
   "execution_count": 26,
   "metadata": {},
   "outputs": [
    {
     "data": {
      "image/png": "[encoded data removed]",
      "text/plain": [
       "<Figure size 1080x720 with 1 Axes>"
      ]
     },
     "metadata": {
      "needs_background": "light"
     },
     "output_type": "display_data"
    }
   ],
   "source": [
    "plt.hist(df_train.time.values,50);"
   ]
  },
  {
   "cell_type": "code",
   "execution_count": 27,
   "metadata": {},
   "outputs": [
    {
     "data": {
      "image/png": "[encoded data removed]",
      "text/plain": [
       "<Figure size 1080x720 with 1 Axes>"
      ]
     },
     "metadata": {
      "needs_background": "light"
     },
     "output_type": "display_data"
    }
   ],
   "source": [
    "plt.hist(df_train.delta_assim.values, 20);"
   ]
  },
  {
   "cell_type": "code",
   "execution_count": 57,
   "metadata": {},
   "outputs": [
    {
     "data": {
      "text/plain": [
       "(array([0, 1]), array([385896, 294104]))"
      ]
     },
     "execution_count": 57,
     "metadata": {},
     "output_type": "execute_result"
    }
   ],
   "source": [
    "np.unique(df_train.q_viirs.values,  return_counts=True)"
   ]
  },
  {
   "cell_type": "code",
   "execution_count": 63,
   "metadata": {},
   "outputs": [
    {
     "data": {
      "text/html": [
       "<div>\n",
       "<style scoped>\n",
       "    .dataframe tbody tr th:only-of-type {\n",
       "        vertical-align: middle;\n",
       "    }\n",
       "\n",
       "    .dataframe tbody tr th {\n",
       "        vertical-align: top;\n",
       "    }\n",
       "\n",
       "    .dataframe thead th {\n",
       "        text-align: right;\n",
       "    }\n",
       "</style>\n",
       "<table border=\"1\" class=\"dataframe\">\n",
       "  <thead>\n",
       "    <tr style=\"text-align: right;\">\n",
       "      <th></th>\n",
       "      <th>ground_track</th>\n",
       "      <th>time</th>\n",
       "      <th>segment_id</th>\n",
       "      <th>beam_strength</th>\n",
       "      <th>lat</th>\n",
       "      <th>lon</th>\n",
       "      <th>height</th>\n",
       "      <th>slope_dx</th>\n",
       "      <th>slope_dy</th>\n",
       "      <th>snr</th>\n",
       "      <th>...</th>\n",
       "      <th>Integer_Cloud_Mask_k10</th>\n",
       "      <th>Integer_Cloud_Mask_k10_dist</th>\n",
       "      <th>delta_assim</th>\n",
       "      <th>q_flag_1</th>\n",
       "      <th>q_flag_2</th>\n",
       "      <th>q_flag_3</th>\n",
       "      <th>q_flag_4</th>\n",
       "      <th>q_flag_5</th>\n",
       "      <th>q_viirs</th>\n",
       "      <th>q_viirs_10</th>\n",
       "    </tr>\n",
       "  </thead>\n",
       "  <tbody>\n",
       "    <tr>\n",
       "      <th>1</th>\n",
       "      <td>gt2r</td>\n",
       "      <td>2020-04-22 15:39:38.133368</td>\n",
       "      <td>394640</td>\n",
       "      <td>strong</td>\n",
       "      <td>70.903216</td>\n",
       "      <td>-45.316445</td>\n",
       "      <td>2509.491943</td>\n",
       "      <td>-0.001363</td>\n",
       "      <td>-4.660395e-03</td>\n",
       "      <td>51.062405</td>\n",
       "      <td>...</td>\n",
       "      <td>3</td>\n",
       "      <td>0.000370</td>\n",
       "      <td>3.635556</td>\n",
       "      <td>0</td>\n",
       "      <td>0</td>\n",
       "      <td>0</td>\n",
       "      <td>0</td>\n",
       "      <td>0</td>\n",
       "      <td>0</td>\n",
       "      <td>0</td>\n",
       "    </tr>\n",
       "    <tr>\n",
       "      <th>3</th>\n",
       "      <td>gt1l</td>\n",
       "      <td>2019-09-12 15:18:30.771039</td>\n",
       "      <td>599137</td>\n",
       "      <td>weak</td>\n",
       "      <td>72.329287</td>\n",
       "      <td>-48.184544</td>\n",
       "      <td>2444.672607</td>\n",
       "      <td>-0.002662</td>\n",
       "      <td>3.863595e-03</td>\n",
       "      <td>14.310707</td>\n",
       "      <td>...</td>\n",
       "      <td>3</td>\n",
       "      <td>0.000316</td>\n",
       "      <td>0.512851</td>\n",
       "      <td>0</td>\n",
       "      <td>0</td>\n",
       "      <td>0</td>\n",
       "      <td>0</td>\n",
       "      <td>0</td>\n",
       "      <td>0</td>\n",
       "      <td>0</td>\n",
       "    </tr>\n",
       "    <tr>\n",
       "      <th>4</th>\n",
       "      <td>gt1l</td>\n",
       "      <td>2019-09-12 15:18:32.188946</td>\n",
       "      <td>599640</td>\n",
       "      <td>weak</td>\n",
       "      <td>72.239909</td>\n",
       "      <td>-48.224734</td>\n",
       "      <td>2403.450439</td>\n",
       "      <td>-0.004390</td>\n",
       "      <td>4.412520e-03</td>\n",
       "      <td>10.688303</td>\n",
       "      <td>...</td>\n",
       "      <td>3</td>\n",
       "      <td>0.000320</td>\n",
       "      <td>0.536482</td>\n",
       "      <td>0</td>\n",
       "      <td>0</td>\n",
       "      <td>0</td>\n",
       "      <td>0</td>\n",
       "      <td>0</td>\n",
       "      <td>0</td>\n",
       "      <td>0</td>\n",
       "    </tr>\n",
       "    <tr>\n",
       "      <th>8</th>\n",
       "      <td>gt3r</td>\n",
       "      <td>2019-08-31 15:44:27.703120</td>\n",
       "      <td>619316</td>\n",
       "      <td>weak</td>\n",
       "      <td>68.746205</td>\n",
       "      <td>-47.400714</td>\n",
       "      <td>1651.120483</td>\n",
       "      <td>-0.004741</td>\n",
       "      <td>6.179084e-05</td>\n",
       "      <td>12.225956</td>\n",
       "      <td>...</td>\n",
       "      <td>3</td>\n",
       "      <td>0.000324</td>\n",
       "      <td>2.461719</td>\n",
       "      <td>0</td>\n",
       "      <td>0</td>\n",
       "      <td>0</td>\n",
       "      <td>0</td>\n",
       "      <td>0</td>\n",
       "      <td>0</td>\n",
       "      <td>0</td>\n",
       "    </tr>\n",
       "    <tr>\n",
       "      <th>14</th>\n",
       "      <td>gt2r</td>\n",
       "      <td>2019-09-12 15:18:26.168503</td>\n",
       "      <td>597388</td>\n",
       "      <td>strong</td>\n",
       "      <td>72.644087</td>\n",
       "      <td>-48.141152</td>\n",
       "      <td>2526.799316</td>\n",
       "      <td>0.004416</td>\n",
       "      <td>3.402823e+38</td>\n",
       "      <td>2.700489</td>\n",
       "      <td>...</td>\n",
       "      <td>0</td>\n",
       "      <td>0.000291</td>\n",
       "      <td>0.436142</td>\n",
       "      <td>0</td>\n",
       "      <td>0</td>\n",
       "      <td>0</td>\n",
       "      <td>0</td>\n",
       "      <td>0</td>\n",
       "      <td>1</td>\n",
       "      <td>1</td>\n",
       "    </tr>\n",
       "    <tr>\n",
       "      <th>...</th>\n",
       "      <td>...</td>\n",
       "      <td>...</td>\n",
       "      <td>...</td>\n",
       "      <td>...</td>\n",
       "      <td>...</td>\n",
       "      <td>...</td>\n",
       "      <td>...</td>\n",
       "      <td>...</td>\n",
       "      <td>...</td>\n",
       "      <td>...</td>\n",
       "      <td>...</td>\n",
       "      <td>...</td>\n",
       "      <td>...</td>\n",
       "      <td>...</td>\n",
       "      <td>...</td>\n",
       "      <td>...</td>\n",
       "      <td>...</td>\n",
       "      <td>...</td>\n",
       "      <td>...</td>\n",
       "      <td>...</td>\n",
       "      <td>...</td>\n",
       "    </tr>\n",
       "    <tr>\n",
       "      <th>679957</th>\n",
       "      <td>gt3l</td>\n",
       "      <td>2019-09-12 15:18:32.906061</td>\n",
       "      <td>599906</td>\n",
       "      <td>weak</td>\n",
       "      <td>72.200378</td>\n",
       "      <td>-48.433550</td>\n",
       "      <td>2351.610596</td>\n",
       "      <td>-0.003373</td>\n",
       "      <td>4.273006e-04</td>\n",
       "      <td>18.642754</td>\n",
       "      <td>...</td>\n",
       "      <td>3</td>\n",
       "      <td>0.000340</td>\n",
       "      <td>0.548434</td>\n",
       "      <td>0</td>\n",
       "      <td>0</td>\n",
       "      <td>0</td>\n",
       "      <td>0</td>\n",
       "      <td>0</td>\n",
       "      <td>0</td>\n",
       "      <td>0</td>\n",
       "    </tr>\n",
       "    <tr>\n",
       "      <th>679958</th>\n",
       "      <td>gt2r</td>\n",
       "      <td>2020-04-22 15:39:49.126580</td>\n",
       "      <td>398540</td>\n",
       "      <td>strong</td>\n",
       "      <td>71.596887</td>\n",
       "      <td>-45.597095</td>\n",
       "      <td>2614.750977</td>\n",
       "      <td>-0.000507</td>\n",
       "      <td>-3.189600e-03</td>\n",
       "      <td>56.058338</td>\n",
       "      <td>...</td>\n",
       "      <td>3</td>\n",
       "      <td>0.000370</td>\n",
       "      <td>3.818776</td>\n",
       "      <td>0</td>\n",
       "      <td>0</td>\n",
       "      <td>0</td>\n",
       "      <td>0</td>\n",
       "      <td>0</td>\n",
       "      <td>0</td>\n",
       "      <td>0</td>\n",
       "    </tr>\n",
       "    <tr>\n",
       "      <th>679969</th>\n",
       "      <td>gt1r</td>\n",
       "      <td>2020-05-04 15:15:00.336189</td>\n",
       "      <td>402872</td>\n",
       "      <td>strong</td>\n",
       "      <td>72.362686</td>\n",
       "      <td>-48.359873</td>\n",
       "      <td>2427.986572</td>\n",
       "      <td>-0.006153</td>\n",
       "      <td>3.402823e+38</td>\n",
       "      <td>2.294168</td>\n",
       "      <td>...</td>\n",
       "      <td>3</td>\n",
       "      <td>0.000339</td>\n",
       "      <td>3.005603</td>\n",
       "      <td>0</td>\n",
       "      <td>0</td>\n",
       "      <td>0</td>\n",
       "      <td>0</td>\n",
       "      <td>0</td>\n",
       "      <td>0</td>\n",
       "      <td>0</td>\n",
       "    </tr>\n",
       "    <tr>\n",
       "      <th>679986</th>\n",
       "      <td>gt3r</td>\n",
       "      <td>2019-08-31 15:44:06.963021</td>\n",
       "      <td>611958</td>\n",
       "      <td>weak</td>\n",
       "      <td>70.056629</td>\n",
       "      <td>-46.949249</td>\n",
       "      <td>2025.080933</td>\n",
       "      <td>-0.004956</td>\n",
       "      <td>-5.768909e-04</td>\n",
       "      <td>13.337679</td>\n",
       "      <td>...</td>\n",
       "      <td>3</td>\n",
       "      <td>0.000324</td>\n",
       "      <td>2.116050</td>\n",
       "      <td>0</td>\n",
       "      <td>0</td>\n",
       "      <td>0</td>\n",
       "      <td>0</td>\n",
       "      <td>0</td>\n",
       "      <td>0</td>\n",
       "      <td>0</td>\n",
       "    </tr>\n",
       "    <tr>\n",
       "      <th>679989</th>\n",
       "      <td>gt3l</td>\n",
       "      <td>2020-01-23 08:44:08.879576</td>\n",
       "      <td>607882</td>\n",
       "      <td>weak</td>\n",
       "      <td>70.780462</td>\n",
       "      <td>-45.378108</td>\n",
       "      <td>2471.216797</td>\n",
       "      <td>0.000518</td>\n",
       "      <td>1.062163e-03</td>\n",
       "      <td>3396.802490</td>\n",
       "      <td>...</td>\n",
       "      <td>3</td>\n",
       "      <td>0.000259</td>\n",
       "      <td>2.147993</td>\n",
       "      <td>0</td>\n",
       "      <td>0</td>\n",
       "      <td>0</td>\n",
       "      <td>0</td>\n",
       "      <td>0</td>\n",
       "      <td>0</td>\n",
       "      <td>0</td>\n",
       "    </tr>\n",
       "  </tbody>\n",
       "</table>\n",
       "<p>122736 rows × 55 columns</p>\n",
       "</div>"
      ],
      "text/plain": [
       "       ground_track                       time  segment_id beam_strength  \\\n",
       "1              gt2r 2020-04-22 15:39:38.133368      394640        strong   \n",
       "3              gt1l 2019-09-12 15:18:30.771039      599137          weak   \n",
       "4              gt1l 2019-09-12 15:18:32.188946      599640          weak   \n",
       "8              gt3r 2019-08-31 15:44:27.703120      619316          weak   \n",
       "14             gt2r 2019-09-12 15:18:26.168503      597388        strong   \n",
       "...             ...                        ...         ...           ...   \n",
       "679957         gt3l 2019-09-12 15:18:32.906061      599906          weak   \n",
       "679958         gt2r 2020-04-22 15:39:49.126580      398540        strong   \n",
       "679969         gt1r 2020-05-04 15:15:00.336189      402872        strong   \n",
       "679986         gt3r 2019-08-31 15:44:06.963021      611958          weak   \n",
       "679989         gt3l 2020-01-23 08:44:08.879576      607882          weak   \n",
       "\n",
       "              lat        lon       height  slope_dx      slope_dy  \\\n",
       "1       70.903216 -45.316445  2509.491943 -0.001363 -4.660395e-03   \n",
       "3       72.329287 -48.184544  2444.672607 -0.002662  3.863595e-03   \n",
       "4       72.239909 -48.224734  2403.450439 -0.004390  4.412520e-03   \n",
       "8       68.746205 -47.400714  1651.120483 -0.004741  6.179084e-05   \n",
       "14      72.644087 -48.141152  2526.799316  0.004416  3.402823e+38   \n",
       "...           ...        ...          ...       ...           ...   \n",
       "679957  72.200378 -48.433550  2351.610596 -0.003373  4.273006e-04   \n",
       "679958  71.596887 -45.597095  2614.750977 -0.000507 -3.189600e-03   \n",
       "679969  72.362686 -48.359873  2427.986572 -0.006153  3.402823e+38   \n",
       "679986  70.056629 -46.949249  2025.080933 -0.004956 -5.768909e-04   \n",
       "679989  70.780462 -45.378108  2471.216797  0.000518  1.062163e-03   \n",
       "\n",
       "                snr  ...  Integer_Cloud_Mask_k10  Integer_Cloud_Mask_k10_dist  \\\n",
       "1         51.062405  ...                       3                     0.000370   \n",
       "3         14.310707  ...                       3                     0.000316   \n",
       "4         10.688303  ...                       3                     0.000320   \n",
       "8         12.225956  ...                       3                     0.000324   \n",
       "14         2.700489  ...                       0                     0.000291   \n",
       "...             ...  ...                     ...                          ...   \n",
       "679957    18.642754  ...                       3                     0.000340   \n",
       "679958    56.058338  ...                       3                     0.000370   \n",
       "679969     2.294168  ...                       3                     0.000339   \n",
       "679986    13.337679  ...                       3                     0.000324   \n",
       "679989  3396.802490  ...                       3                     0.000259   \n",
       "\n",
       "        delta_assim  q_flag_1  q_flag_2  q_flag_3  q_flag_4  q_flag_5  \\\n",
       "1          3.635556         0         0         0         0         0   \n",
       "3          0.512851         0         0         0         0         0   \n",
       "4          0.536482         0         0         0         0         0   \n",
       "8          2.461719         0         0         0         0         0   \n",
       "14         0.436142         0         0         0         0         0   \n",
       "...             ...       ...       ...       ...       ...       ...   \n",
       "679957     0.548434         0         0         0         0         0   \n",
       "679958     3.818776         0         0         0         0         0   \n",
       "679969     3.005603         0         0         0         0         0   \n",
       "679986     2.116050         0         0         0         0         0   \n",
       "679989     2.147993         0         0         0         0         0   \n",
       "\n",
       "        q_viirs  q_viirs_10  \n",
       "1             0           0  \n",
       "3             0           0  \n",
       "4             0           0  \n",
       "8             0           0  \n",
       "14            1           1  \n",
       "...         ...         ...  \n",
       "679957        0           0  \n",
       "679958        0           0  \n",
       "679969        0           0  \n",
       "679986        0           0  \n",
       "679989        0           0  \n",
       "\n",
       "[122736 rows x 55 columns]"
      ]
     },
     "execution_count": 63,
     "metadata": {},
     "output_type": "execute_result"
    }
   ],
   "source": [
    "df_train[df_train.delta_assim < 5]"
   ]
  },
  {
   "cell_type": "markdown",
   "metadata": {},
   "source": [
    "## Classification"
   ]
  },
  {
   "cell_type": "code",
   "execution_count": 61,
   "metadata": {},
   "outputs": [],
   "source": [
    "from sklearn import tree\n",
    "from sklearn.discriminant_analysis import LinearDiscriminantAnalysis as LDA\n",
    "from sklearn.discriminant_analysis import QuadraticDiscriminantAnalysis\n",
    "from sklearn.linear_model import LogisticRegression\n",
    "from sklearn import svm\n",
    "from sklearn.ensemble import RandomForestClassifier\n",
    "from sklearn.ensemble import BaggingClassifier\n",
    "\n",
    "from sklearn.decomposition import PCA\n",
    "from sklearn.manifold import TSNE"
   ]
  },
  {
   "cell_type": "markdown",
   "metadata": {},
   "source": [
    "### Decision Tree\n",
    "\n",
    "- Is there something similar but more suitable for this problem? (SAT problem)"
   ]
  },
  {
   "cell_type": "code",
   "execution_count": 62,
   "metadata": {},
   "outputs": [
    {
     "data": {
      "text/plain": [
       "(10000, 12)"
      ]
     },
     "execution_count": 62,
     "metadata": {},
     "output_type": "execute_result"
    }
   ],
   "source": [
    "X_train.shape"
   ]
  },
  {
   "cell_type": "code",
   "execution_count": 63,
   "metadata": {},
   "outputs": [
    {
     "data": {
      "text/plain": [
       "(10000,)"
      ]
     },
     "execution_count": 63,
     "metadata": {},
     "output_type": "execute_result"
    }
   ],
   "source": [
    "Y_train.shape"
   ]
  },
  {
   "cell_type": "code",
   "execution_count": 64,
   "metadata": {},
   "outputs": [
    {
     "data": {
      "image/png": "[encoded data removed]",
      "text/plain": [
       "<Figure size 1080x720 with 1 Axes>"
      ]
     },
     "metadata": {
      "needs_background": "light"
     },
     "output_type": "display_data"
    }
   ],
   "source": [
    "clf_tree = tree.DecisionTreeClassifier( max_depth=6, \n",
    "                                        min_samples_split = 500 )\n",
    "clf_tree = clf_tree.fit(X_train, Y_train)\n",
    "#clf_tree = clf_tree.fit(X_train, Y_train_fake)\n",
    "\n",
    "tree.plot_tree(clf_tree);"
   ]
  },
  {
   "cell_type": "code",
   "execution_count": 65,
   "metadata": {},
   "outputs": [],
   "source": [
    "Y_train_fit = clf_tree.predict(X_train)\n",
    "Y_val_fit = clf_tree.predict(X_val)"
   ]
  },
  {
   "cell_type": "code",
   "execution_count": 66,
   "metadata": {},
   "outputs": [
    {
     "data": {
      "text/plain": [
       "{'accuracy': 0.8647, 'f1': 0.7840383080606544, 'recall': 0.7249114521841794}"
      ]
     },
     "execution_count": 66,
     "metadata": {},
     "output_type": "execute_result"
    }
   ],
   "source": [
    "fit_scores(Y_train, Y_train_fit)\n",
    "#fit_scores(Y_train_fake, Y_train_fit)"
   ]
  },
  {
   "cell_type": "code",
   "execution_count": 67,
   "metadata": {},
   "outputs": [
    {
     "data": {
      "text/plain": [
       "{'accuracy': 0.6952, 'f1': 0.4779033915724563, 'recall': 0.46671127467380397}"
      ]
     },
     "execution_count": 67,
     "metadata": {},
     "output_type": "execute_result"
    }
   ],
   "source": [
    "fit_scores(Y_val, Y_val_fit)"
   ]
  },
  {
   "cell_type": "markdown",
   "metadata": {},
   "source": [
    "### Linear Discriminator Analysis (LDA)\n",
    "\n",
    "For the simplest case where there are just two classes (cloud vs clear) and they have the same number of members, LDA coincides with a linear regression classifier based on that try to fit a one-hot vector based on the features."
   ]
  },
  {
   "cell_type": "code",
   "execution_count": 123,
   "metadata": {},
   "outputs": [],
   "source": [
    "clf_lda = LDA(store_covariance=True, shrinkage=None, solver='eigen')"
   ]
  },
  {
   "cell_type": "code",
   "execution_count": 124,
   "metadata": {},
   "outputs": [
    {
     "data": {
      "text/plain": [
       "LinearDiscriminantAnalysis(solver='eigen', store_covariance=True)"
      ]
     },
     "execution_count": 124,
     "metadata": {},
     "output_type": "execute_result"
    }
   ],
   "source": [
    "clf_lda.fit(X_train, Y_train)"
   ]
  },
  {
   "cell_type": "code",
   "execution_count": 125,
   "metadata": {},
   "outputs": [],
   "source": [
    "Y_train_fit = clf_lda.predict(X_train)\n",
    "Y_val_fit = clf_lda.predict(X_val)"
   ]
  },
  {
   "cell_type": "code",
   "execution_count": 126,
   "metadata": {},
   "outputs": [
    {
     "data": {
      "text/plain": [
       "{'accuracy': 0.785, 'f1': 0.7029566178502349, 'recall': 0.664576802507837}"
      ]
     },
     "execution_count": 126,
     "metadata": {},
     "output_type": "execute_result"
    }
   ],
   "source": [
    "fit_scores(Y_train, Y_train_fit)"
   ]
  },
  {
   "cell_type": "code",
   "execution_count": 127,
   "metadata": {},
   "outputs": [
    {
     "data": {
      "text/plain": [
       "{'accuracy': 0.6154, 'f1': 0.30901904419690984, 'recall': 0.2775984506132989}"
      ]
     },
     "execution_count": 127,
     "metadata": {},
     "output_type": "execute_result"
    }
   ],
   "source": [
    "fit_scores(Y_val, Y_val_fit)"
   ]
  },
  {
   "cell_type": "markdown",
   "metadata": {},
   "source": [
    "### Quadratic Discriminant Analysis"
   ]
  },
  {
   "cell_type": "code",
   "execution_count": 44,
   "metadata": {},
   "outputs": [],
   "source": [
    "clf_qda = QuadraticDiscriminantAnalysis()"
   ]
  },
  {
   "cell_type": "code",
   "execution_count": 45,
   "metadata": {},
   "outputs": [
    {
     "name": "stderr",
     "output_type": "stream",
     "text": [
      "/glade/u/home/fsapienza/.conda/envs/cloudmaskenv/lib/python3.8/site-packages/sklearn/discriminant_analysis.py:715: UserWarning: Variables are collinear\n",
      "  warnings.warn(\"Variables are collinear\")\n"
     ]
    },
    {
     "data": {
      "text/plain": [
       "QuadraticDiscriminantAnalysis()"
      ]
     },
     "execution_count": 45,
     "metadata": {},
     "output_type": "execute_result"
    }
   ],
   "source": [
    "clf_qda.fit(X_train, Y_train)"
   ]
  },
  {
   "cell_type": "code",
   "execution_count": 46,
   "metadata": {},
   "outputs": [
    {
     "name": "stderr",
     "output_type": "stream",
     "text": [
      "/glade/u/home/fsapienza/.conda/envs/cloudmaskenv/lib/python3.8/site-packages/sklearn/discriminant_analysis.py:740: RuntimeWarning: divide by zero encountered in power\n",
      "  X2 = np.dot(Xm, R * (S ** (-0.5)))\n",
      "/glade/u/home/fsapienza/.conda/envs/cloudmaskenv/lib/python3.8/site-packages/sklearn/discriminant_analysis.py:740: RuntimeWarning: invalid value encountered in multiply\n",
      "  X2 = np.dot(Xm, R * (S ** (-0.5)))\n",
      "/glade/u/home/fsapienza/.conda/envs/cloudmaskenv/lib/python3.8/site-packages/sklearn/discriminant_analysis.py:743: RuntimeWarning: divide by zero encountered in log\n",
      "  u = np.asarray([np.sum(np.log(s)) for s in self.scalings_])\n",
      "/glade/u/home/fsapienza/.conda/envs/cloudmaskenv/lib/python3.8/site-packages/sklearn/discriminant_analysis.py:740: RuntimeWarning: divide by zero encountered in power\n",
      "  X2 = np.dot(Xm, R * (S ** (-0.5)))\n",
      "/glade/u/home/fsapienza/.conda/envs/cloudmaskenv/lib/python3.8/site-packages/sklearn/discriminant_analysis.py:740: RuntimeWarning: invalid value encountered in multiply\n",
      "  X2 = np.dot(Xm, R * (S ** (-0.5)))\n",
      "/glade/u/home/fsapienza/.conda/envs/cloudmaskenv/lib/python3.8/site-packages/sklearn/discriminant_analysis.py:743: RuntimeWarning: divide by zero encountered in log\n",
      "  u = np.asarray([np.sum(np.log(s)) for s in self.scalings_])\n"
     ]
    }
   ],
   "source": [
    "Y_train_fit = clf_qda.predict(X_train)\n",
    "Y_val_fit = clf_qda.predict(X_val)"
   ]
  },
  {
   "cell_type": "code",
   "execution_count": 47,
   "metadata": {},
   "outputs": [
    {
     "data": {
      "text/plain": [
       "{'accuracy': 0.6188, 'f1': 0.0, 'recall': 0.0}"
      ]
     },
     "execution_count": 47,
     "metadata": {},
     "output_type": "execute_result"
    }
   ],
   "source": [
    "fit_scores(Y_train, Y_train_fit)"
   ]
  },
  {
   "cell_type": "markdown",
   "metadata": {},
   "source": [
    "### Logistic Regression"
   ]
  },
  {
   "cell_type": "code",
   "execution_count": 159,
   "metadata": {},
   "outputs": [],
   "source": [
    "clf_log = LogisticRegression(random_state=0, max_iter=10000000, penalty='l1', solver=\"liblinear\", C = .02)\n",
    "#clf_log = LogisticRegression(random_state=0, max_iter=10000000, penalty='none')"
   ]
  },
  {
   "cell_type": "code",
   "execution_count": 160,
   "metadata": {},
   "outputs": [
    {
     "data": {
      "text/plain": [
       "LogisticRegression(C=0.02, max_iter=10000000, penalty='l1', random_state=0,\n",
       "                   solver='liblinear')"
      ]
     },
     "execution_count": 160,
     "metadata": {},
     "output_type": "execute_result"
    }
   ],
   "source": [
    "clf_log.fit(X_train_scaled, Y_train)"
   ]
  },
  {
   "cell_type": "code",
   "execution_count": 161,
   "metadata": {},
   "outputs": [],
   "source": [
    "Y_train_fit = clf_log.predict(X_train_scaled)\n",
    "Y_val_fit = clf_log.predict(X_val_scaled)"
   ]
  },
  {
   "cell_type": "code",
   "execution_count": 162,
   "metadata": {},
   "outputs": [
    {
     "data": {
      "text/plain": [
       "{'accuracy': 0.7806, 'f1': 0.7042329468859531, 'recall': 0.6823406478578893}"
      ]
     },
     "execution_count": 162,
     "metadata": {},
     "output_type": "execute_result"
    }
   ],
   "source": [
    "fit_scores(Y_train, Y_train_fit)"
   ]
  },
  {
   "cell_type": "code",
   "execution_count": 163,
   "metadata": {},
   "outputs": [
    {
     "data": {
      "text/plain": [
       "['height',\n",
       " 'slope_dx',\n",
       " 'slope_dy',\n",
       " 'snr',\n",
       " 'h_rb',\n",
       " 'height_sigma',\n",
       " 'snr_significance',\n",
       " 's_fg',\n",
       " 'n_fit_photons_ratio_w',\n",
       " 'c_flg_asr',\n",
       " 'lat',\n",
       " 'lon']"
      ]
     },
     "execution_count": 163,
     "metadata": {},
     "output_type": "execute_result"
    }
   ],
   "source": [
    "col_names"
   ]
  },
  {
   "cell_type": "code",
   "execution_count": 164,
   "metadata": {},
   "outputs": [
    {
     "data": {
      "text/plain": [
       "array([[-0.97663498,  0.01212373,  0.        ,  0.        , -0.08917724,\n",
       "         0.03358932,  0.        ,  0.        , -0.34342594,  0.91985341,\n",
       "         0.41230696,  0.        ]])"
      ]
     },
     "execution_count": 164,
     "metadata": {},
     "output_type": "execute_result"
    }
   ],
   "source": [
    "clf_log.coef_"
   ]
  },
  {
   "cell_type": "code",
   "execution_count": 96,
   "metadata": {},
   "outputs": [
    {
     "data": {
      "text/plain": [
       "['height',\n",
       " 'slope_dx',\n",
       " 'slope_dy',\n",
       " 'snr',\n",
       " 'h_rb',\n",
       " 'height_sigma',\n",
       " 'snr_significance',\n",
       " 's_fg',\n",
       " 'n_fit_photons_ratio_w',\n",
       " 'c_flg_asr']"
      ]
     },
     "execution_count": 96,
     "metadata": {},
     "output_type": "execute_result"
    }
   ],
   "source": [
    "col_names"
   ]
  },
  {
   "cell_type": "code",
   "execution_count": 53,
   "metadata": {},
   "outputs": [
    {
     "data": {
      "text/plain": [
       "{'accuracy': 0.6334, 'f1': 0.42629107981220654, 'recall': 0.44163424124513617}"
      ]
     },
     "execution_count": 53,
     "metadata": {},
     "output_type": "execute_result"
    }
   ],
   "source": [
    "fit_scores(Y_val, Y_val_fit)"
   ]
  },
  {
   "cell_type": "markdown",
   "metadata": {},
   "source": [
    "### Support Vector Machine"
   ]
  },
  {
   "cell_type": "code",
   "execution_count": 47,
   "metadata": {},
   "outputs": [],
   "source": [
    "clf_svm = svm.SVC()"
   ]
  },
  {
   "cell_type": "code",
   "execution_count": 48,
   "metadata": {},
   "outputs": [
    {
     "data": {
      "text/plain": [
       "SVC()"
      ]
     },
     "execution_count": 48,
     "metadata": {},
     "output_type": "execute_result"
    }
   ],
   "source": [
    "clf_svm.fit(X_train_scaled, Y_train)"
   ]
  },
  {
   "cell_type": "code",
   "execution_count": 49,
   "metadata": {},
   "outputs": [],
   "source": [
    "Y_train_fit = clf_svm.predict(X_train_scaled)"
   ]
  },
  {
   "cell_type": "code",
   "execution_count": 50,
   "metadata": {},
   "outputs": [
    {
     "data": {
      "text/plain": [
       "{'accuracy': 0.8776, 'f1': 0.8394543546694648, 'recall': 0.8385744234800838}"
      ]
     },
     "execution_count": 50,
     "metadata": {},
     "output_type": "execute_result"
    }
   ],
   "source": [
    "fit_scores(Y_train, Y_train_fit)"
   ]
  },
  {
   "cell_type": "code",
   "execution_count": null,
   "metadata": {},
   "outputs": [],
   "source": []
  },
  {
   "cell_type": "code",
   "execution_count": null,
   "metadata": {},
   "outputs": [],
   "source": []
  },
  {
   "cell_type": "code",
   "execution_count": null,
   "metadata": {},
   "outputs": [],
   "source": []
  },
  {
   "cell_type": "code",
   "execution_count": null,
   "metadata": {},
   "outputs": [],
   "source": []
  },
  {
   "cell_type": "code",
   "execution_count": null,
   "metadata": {},
   "outputs": [],
   "source": []
  },
  {
   "cell_type": "markdown",
   "metadata": {},
   "source": [
    "### Random Forest"
   ]
  },
  {
   "cell_type": "code",
   "execution_count": 81,
   "metadata": {},
   "outputs": [],
   "source": [
    "clf_rf = RandomForestClassifier(max_depth=3, random_state=0)\n",
    "clf_rf.fit(X_train, Y_train)\n",
    "Y_train_fit = clf_rf.predict(X_train)\n",
    "Y_val_fit = clf_rf.predict(X_val)"
   ]
  },
  {
   "cell_type": "code",
   "execution_count": 82,
   "metadata": {},
   "outputs": [
    {
     "data": {
      "text/plain": [
       "{'accuracy': 0.792, 'f1': 0.6472184531886025, 'recall': 0.5631641086186541}"
      ]
     },
     "execution_count": 82,
     "metadata": {},
     "output_type": "execute_result"
    }
   ],
   "source": [
    "fit_scores(Y_train, Y_train_fit)"
   ]
  },
  {
   "cell_type": "code",
   "execution_count": 83,
   "metadata": {},
   "outputs": [
    {
     "data": {
      "text/plain": [
       "{'accuracy': 0.7355, 'f1': 0.4676997383779432, 'recall': 0.38875878220140514}"
      ]
     },
     "execution_count": 83,
     "metadata": {},
     "output_type": "execute_result"
    }
   ],
   "source": [
    "fit_scores(Y_val, Y_val_fit)"
   ]
  },
  {
   "cell_type": "markdown",
   "metadata": {},
   "source": [
    "### Bagging"
   ]
  },
  {
   "cell_type": "code",
   "execution_count": 56,
   "metadata": {},
   "outputs": [],
   "source": [
    "clf = BaggingClassifier(base_estimator=LogisticRegression(max_iter=100000),\n",
    "                        n_estimators=10, random_state=0).fit(X_train, Y_train)\n",
    "\n",
    "#clf = BaggingClassifier(base_estimator=svm.SVC(),\n",
    "#                        n_estimators=10, random_state=0).fit(X_train, Y_train)"
   ]
  },
  {
   "cell_type": "code",
   "execution_count": 57,
   "metadata": {},
   "outputs": [],
   "source": [
    "Y_train_fit = clf.predict(X_train)"
   ]
  },
  {
   "cell_type": "code",
   "execution_count": 58,
   "metadata": {},
   "outputs": [
    {
     "data": {
      "text/plain": [
       "{'accuracy': 0.6658, 'f1': 0.2775616083009079, 'recall': 0.16823899371069181}"
      ]
     },
     "execution_count": 58,
     "metadata": {},
     "output_type": "execute_result"
    }
   ],
   "source": [
    "fit_scores(Y_train, Y_train_fit)"
   ]
  },
  {
   "cell_type": "markdown",
   "metadata": {},
   "source": [
    "### PCA"
   ]
  },
  {
   "cell_type": "code",
   "execution_count": 25,
   "metadata": {},
   "outputs": [],
   "source": [
    "pca = PCA(n_components=2)\n",
    "pca.fit(X_train_scaled)\n",
    "X_pca = pca.transform(X_train_scaled)"
   ]
  },
  {
   "cell_type": "code",
   "execution_count": 26,
   "metadata": {},
   "outputs": [
    {
     "ename": "NameError",
     "evalue": "name 'Y_train_color' is not defined",
     "output_type": "error",
     "traceback": [
      "\u001b[0;31m---------------------------------------------------------------------------\u001b[0m",
      "\u001b[0;31mNameError\u001b[0m                                 Traceback (most recent call last)",
      "\u001b[0;32m<ipython-input-26-d5f1e2f5de5b>\u001b[0m in \u001b[0;36m<module>\u001b[0;34m\u001b[0m\n\u001b[0;32m----> 1\u001b[0;31m \u001b[0mplt\u001b[0m\u001b[0;34m.\u001b[0m\u001b[0mscatter\u001b[0m\u001b[0;34m(\u001b[0m\u001b[0mX_pca\u001b[0m\u001b[0;34m[\u001b[0m\u001b[0;34m:\u001b[0m\u001b[0;34m,\u001b[0m\u001b[0;36m0\u001b[0m\u001b[0;34m]\u001b[0m\u001b[0;34m,\u001b[0m \u001b[0mX_pca\u001b[0m\u001b[0;34m[\u001b[0m\u001b[0;34m:\u001b[0m\u001b[0;34m,\u001b[0m\u001b[0;36m1\u001b[0m\u001b[0;34m]\u001b[0m\u001b[0;34m,\u001b[0m \u001b[0mc\u001b[0m \u001b[0;34m=\u001b[0m \u001b[0mY_train_color\u001b[0m\u001b[0;34m,\u001b[0m \u001b[0ms\u001b[0m \u001b[0;34m=\u001b[0m \u001b[0;36m10\u001b[0m\u001b[0;34m)\u001b[0m\u001b[0;34m\u001b[0m\u001b[0;34m\u001b[0m\u001b[0m\n\u001b[0m",
      "\u001b[0;31mNameError\u001b[0m: name 'Y_train_color' is not defined"
     ]
    }
   ],
   "source": [
    "plt.scatter(X_pca[:,0], X_pca[:,1], c = Y_train_color, s = 10)"
   ]
  },
  {
   "cell_type": "code",
   "execution_count": null,
   "metadata": {},
   "outputs": [],
   "source": []
  },
  {
   "cell_type": "code",
   "execution_count": null,
   "metadata": {},
   "outputs": [],
   "source": []
  },
  {
   "cell_type": "markdown",
   "metadata": {},
   "source": [
    "### t-SNE"
   ]
  },
  {
   "cell_type": "code",
   "execution_count": 31,
   "metadata": {},
   "outputs": [],
   "source": [
    "X_embedded = TSNE(n_components=2, perplexity=50).fit_transform(X_train_scaled)"
   ]
  },
  {
   "cell_type": "code",
   "execution_count": 32,
   "metadata": {},
   "outputs": [],
   "source": [
    "nice_red = \"#8e44ad\"\n",
    "nice_blue = \"#3498db\"\n",
    "Y_train_color = [nice_red if x == 1 else nice_blue for x in Y_train]"
   ]
  },
  {
   "cell_type": "code",
   "execution_count": 33,
   "metadata": {},
   "outputs": [
    {
     "data": {
      "text/plain": [
       "<matplotlib.collections.PathCollection at 0x2b6eac757c70>"
      ]
     },
     "execution_count": 33,
     "metadata": {},
     "output_type": "execute_result"
    },
    {
     "data": {
      "image/png": "[encoded data removed]",
      "text/plain": [
       "<Figure size 1080x720 with 1 Axes>"
      ]
     },
     "metadata": {
      "needs_background": "light"
     },
     "output_type": "display_data"
    }
   ],
   "source": [
    "plt.scatter(X_embedded[:,0], X_embedded[:,1], c = Y_train_color, s = 10)"
   ]
  },
  {
   "cell_type": "markdown",
   "metadata": {},
   "source": [
    "### Model comparison"
   ]
  },
  {
   "cell_type": "code",
   "execution_count": 75,
   "metadata": {},
   "outputs": [],
   "source": [
    "models = [tree.DecisionTreeClassifier( max_depth=2, min_samples_split = 500 ),\n",
    "          tree.DecisionTreeClassifier( max_depth=3, min_samples_split = 500 ),\n",
    "          tree.DecisionTreeClassifier( max_depth=4, min_samples_split = 500 ),\n",
    "          tree.DecisionTreeClassifier( max_depth=5, min_samples_split = 500 ),\n",
    "          LDA(store_covariance=True, shrinkage=None, solver='eigen'),\n",
    "          QuadraticDiscriminantAnalysis(),\n",
    "          BaggingClassifier(n_estimators=10, random_state=0),\n",
    "          RandomForestClassifier(max_depth=4, random_state=0)\n",
    "          ]"
   ]
  },
  {
   "cell_type": "code",
   "execution_count": 76,
   "metadata": {},
   "outputs": [
    {
     "name": "stdout",
     "output_type": "stream",
     "text": [
      "DecisionTreeClassifier(max_depth=2, min_samples_split=500)\n",
      "Training: {'accuracy': 0.7748, 'f1': 0.6540706605222734, 'recall': 0.6283943329397875}\n",
      "Validati: {'accuracy': 0.4703, 'f1': 0.36126853973230433, 'recall': 0.5011709601873536}\n",
      "\n",
      "DecisionTreeClassifier(max_depth=3, min_samples_split=500)\n",
      "Training: {'accuracy': 0.8303, 'f1': 0.7080681231722002, 'recall': 0.6074380165289256}\n",
      "Validati: {'accuracy': 0.6814, 'f1': 0.43127454480542665, 'recall': 0.40414854466376715}\n",
      "\n",
      "DecisionTreeClassifier(max_depth=4, min_samples_split=500)\n",
      "Training: {'accuracy': 0.8431, 'f1': 0.7539595421044378, 'recall': 0.7095631641086186}\n",
      "Validati: {'accuracy': 0.6761, 'f1': 0.4272325375773651, 'recall': 0.40414854466376715}\n",
      "\n",
      "DecisionTreeClassifier(max_depth=5, min_samples_split=500)\n",
      "Training: {'accuracy': 0.8633, 'f1': 0.7805426232139989, 'recall': 0.7175324675324676}\n",
      "Validati: {'accuracy': 0.6952, 'f1': 0.4779033915724563, 'recall': 0.46671127467380397}\n",
      "\n",
      "LinearDiscriminantAnalysis(solver='eigen', store_covariance=True)\n",
      "Training: {'accuracy': 0.7241, 'f1': 0.5476307591408428, 'recall': 0.49291617473435656}\n",
      "Validati: {'accuracy': 0.7094, 'f1': 0.3516287371709058, 'recall': 0.26363332218133156}\n",
      "\n",
      "QuadraticDiscriminantAnalysis()\n",
      "Training: {'accuracy': 0.6918, 'f1': 0.2446078431372549, 'recall': 0.14728453364817}\n",
      "Validati: {'accuracy': 0.7308, 'f1': 0.23739376770538245, 'recall': 0.14018066242890598}\n",
      "\n",
      "BaggingClassifier(random_state=0)\n",
      "Training: {'accuracy': 0.9963, 'f1': 0.9945193304695601, 'recall': 0.9908500590318772}\n",
      "Validati: {'accuracy': 0.5856, 'f1': 0.3822301729278474, 'recall': 0.42890598862495816}\n",
      "\n",
      "RandomForestClassifier(max_depth=4, random_state=0)\n",
      "Training: {'accuracy': 0.8403, 'f1': 0.7384968069428526, 'recall': 0.6655844155844156}\n",
      "Validati: {'accuracy': 0.722, 'f1': 0.4657955418908532, 'recall': 0.4054867848778856}\n",
      "\n"
     ]
    }
   ],
   "source": [
    "for clf in models:\n",
    "    print(clf)\n",
    "    clf.fit(X_train, Y_train)\n",
    "    Y_train_fit = clf.predict(X_train)\n",
    "    Y_val_fit = clf.predict(X_val)\n",
    "    print(\"Training:\", fit_scores(Y_train, Y_train_fit))\n",
    "    print(\"Validati:\", fit_scores(Y_val, Y_val_fit))\n",
    "    print(\"\")"
   ]
  },
  {
   "cell_type": "code",
   "execution_count": 77,
   "metadata": {},
   "outputs": [],
   "source": [
    "models = [LogisticRegression(random_state=0, max_iter=10000000, penalty='none'),\n",
    "          LogisticRegression(random_state=0, max_iter=10000000, penalty='none', solver='newton-cg'),\n",
    "          LogisticRegression(random_state=0, max_iter=10000000, penalty='l1', solver=\"liblinear\", C = 1),\n",
    "          LogisticRegression(random_state=0, max_iter=10000000, penalty='l1', solver=\"liblinear\", C = .01), \n",
    "          LogisticRegression(random_state=0, max_iter=10000000, penalty='l1', solver=\"liblinear\", C = .0001),\n",
    "          BaggingClassifier(base_estimator=LogisticRegression(random_state=0, max_iter=10000000, penalty='l1', solver=\"liblinear\", C = .01), n_estimators=10, random_state=0),\n",
    "          svm.SVC(),\n",
    "          BaggingClassifier(base_estimator=svm.SVC(), n_estimators=10, random_state=0)\n",
    "         ]"
   ]
  },
  {
   "cell_type": "code",
   "execution_count": 71,
   "metadata": {},
   "outputs": [
    {
     "name": "stdout",
     "output_type": "stream",
     "text": [
      "LogisticRegression(max_iter=10000000, penalty='none', random_state=0)\n",
      "Training: {'accuracy': 0.7288, 'f1': 0.5473965287049398, 'recall': 0.48406139315230223}\n",
      "Validati: {'accuracy': 0.6418, 'f1': 0.3698099929627023, 'recall': 0.3516226162596186}\n",
      "\n",
      "LogisticRegression(max_iter=10000000, penalty='none', random_state=0,\n",
      "                   solver='newton-cg')\n",
      "Training: {'accuracy': 0.7288, 'f1': 0.5473965287049398, 'recall': 0.48406139315230223}\n",
      "Validati: {'accuracy': 0.6418, 'f1': 0.3698099929627023, 'recall': 0.3516226162596186}\n",
      "\n",
      "LogisticRegression(C=1, max_iter=10000000, penalty='l1', random_state=0,\n",
      "                   solver='liblinear')\n",
      "Training: {'accuracy': 0.7284, 'f1': 0.5464261857047428, 'recall': 0.48288075560802834}\n",
      "Validati: {'accuracy': 0.643, 'f1': 0.37192118226600984, 'recall': 0.35362997658079626}\n",
      "\n",
      "LogisticRegression(C=0.01, max_iter=10000000, penalty='l1', random_state=0,\n",
      "                   solver='liblinear')\n",
      "Training: {'accuracy': 0.7193, 'f1': 0.53255620316403, 'recall': 0.4719598583234947}\n",
      "Validati: {'accuracy': 0.7316, 'f1': 0.4812524159257828, 'recall': 0.4165272666443627}\n",
      "\n",
      "LogisticRegression(C=0.0001, max_iter=10000000, penalty='l1', random_state=0,\n",
      "                   solver='liblinear')\n",
      "Training: {'accuracy': 0.6612, 'f1': 0.0, 'recall': 0.0}\n",
      "Validati: {'accuracy': 0.7011, 'f1': 0.0, 'recall': 0.0}\n",
      "\n",
      "BaggingClassifier(base_estimator=LogisticRegression(C=0.01, max_iter=10000000,\n",
      "                                                    penalty='l1',\n",
      "                                                    random_state=0,\n",
      "                                                    solver='liblinear'),\n",
      "                  random_state=0)\n",
      "Training: {'accuracy': 0.7195, 'f1': 0.5330447810887298, 'recall': 0.47255017709563163}\n",
      "Validati: {'accuracy': 0.7291, 'f1': 0.4783362218370884, 'recall': 0.41552358648377385}\n",
      "\n",
      "SVC()\n",
      "Training: {'accuracy': 0.8462, 'f1': 0.7611801242236024, 'recall': 0.723435655253837}\n",
      "Validati: {'accuracy': 0.5656, 'f1': 0.3485302939412117, 'recall': 0.38875878220140514}\n",
      "\n",
      "BaggingClassifier(base_estimator=SVC(), random_state=0)\n",
      "Training: {'accuracy': 0.8473, 'f1': 0.7617413012950538, 'recall': 0.7204840613931524}\n",
      "Validati: {'accuracy': 0.5739, 'f1': 0.34896867838044304, 'recall': 0.38206758113081296}\n",
      "\n"
     ]
    }
   ],
   "source": [
    "for clf in models:\n",
    "    print(clf)\n",
    "    clf.fit(X_train_scaled, Y_train)\n",
    "    Y_train_fit = clf.predict(X_train_scaled)\n",
    "    Y_val_fit = clf.predict(X_val_scaled)\n",
    "    print(\"Training:\", fit_scores(Y_train, Y_train_fit))\n",
    "    print(\"Validati:\", fit_scores(Y_val, Y_val_fit))\n",
    "    #print(clf.coef_)\n",
    "    print(\"\")"
   ]
  },
  {
   "cell_type": "markdown",
   "metadata": {},
   "source": [
    "### EDA perfect match"
   ]
  },
  {
   "cell_type": "code",
   "execution_count": 13,
   "metadata": {},
   "outputs": [
    {
     "data": {
      "text/html": [
       "<div>\n",
       "<style scoped>\n",
       "    .dataframe tbody tr th:only-of-type {\n",
       "        vertical-align: middle;\n",
       "    }\n",
       "\n",
       "    .dataframe tbody tr th {\n",
       "        vertical-align: top;\n",
       "    }\n",
       "\n",
       "    .dataframe thead th {\n",
       "        text-align: right;\n",
       "    }\n",
       "</style>\n",
       "<table border=\"1\" class=\"dataframe\">\n",
       "  <thead>\n",
       "    <tr style=\"text-align: right;\">\n",
       "      <th>Integer_Cloud_Mask_k1</th>\n",
       "      <th>-1</th>\n",
       "      <th>0</th>\n",
       "      <th>1</th>\n",
       "      <th>2</th>\n",
       "      <th>3</th>\n",
       "    </tr>\n",
       "    <tr>\n",
       "      <th>q_flag</th>\n",
       "      <th></th>\n",
       "      <th></th>\n",
       "      <th></th>\n",
       "      <th></th>\n",
       "      <th></th>\n",
       "    </tr>\n",
       "  </thead>\n",
       "  <tbody>\n",
       "    <tr>\n",
       "      <th>0</th>\n",
       "      <td>49</td>\n",
       "      <td>791463</td>\n",
       "      <td>170704</td>\n",
       "      <td>30366</td>\n",
       "      <td>2440704</td>\n",
       "    </tr>\n",
       "    <tr>\n",
       "      <th>1</th>\n",
       "      <td>0</td>\n",
       "      <td>147403</td>\n",
       "      <td>15196</td>\n",
       "      <td>2837</td>\n",
       "      <td>68231</td>\n",
       "    </tr>\n",
       "  </tbody>\n",
       "</table>\n",
       "</div>"
      ],
      "text/plain": [
       "Integer_Cloud_Mask_k1  -1       0       1      2        3\n",
       "q_flag                                                   \n",
       "0                      49  791463  170704  30366  2440704\n",
       "1                       0  147403   15196   2837    68231"
      ]
     },
     "execution_count": 13,
     "metadata": {},
     "output_type": "execute_result"
    }
   ],
   "source": [
    "pd.crosstab(df.q_flag,df.Integer_Cloud_Mask_k1)"
   ]
  },
  {
   "cell_type": "markdown",
   "metadata": {},
   "source": [
    "We can see some correlation between ATL06 flag (q_flag = 1) and cloud in VIIRS (Integer_Cloud_Mask = 0)"
   ]
  },
  {
   "cell_type": "code",
   "execution_count": 14,
   "metadata": {},
   "outputs": [
    {
     "data": {
      "image/png": "[encoded data removed]",
      "text/plain": [
       "<Figure size 432x288 with 2 Axes>"
      ]
     },
     "metadata": {
      "needs_background": "light"
     },
     "output_type": "display_data"
    }
   ],
   "source": [
    "import seaborn as sns\n",
    "\n",
    "ax = sns.heatmap(pd.crosstab(df.q_flag,df.Integer_Cloud_Mask_k1, normalize = \"index\"), annot=True, cmap = sns.color_palette(\"Blues\"))"
   ]
  },
  {
   "cell_type": "code",
   "execution_count": 24,
   "metadata": {},
   "outputs": [
    {
     "data": {
      "image/png": "[encoded data removed]",
      "text/plain": [
       "<Figure size 432x288 with 2 Axes>"
      ]
     },
     "metadata": {
      "needs_background": "light"
     },
     "output_type": "display_data"
    }
   ],
   "source": [
    "df2 = df[ df.delta_assim < 5 ]\n",
    "\n",
    "ax = sns.heatmap(pd.crosstab(df2.q_flag,df2.Integer_Cloud_Mask_k1, normalize = \"index\"), annot=True, cmap = sns.color_palette(\"Blues\"))"
   ]
  },
  {
   "cell_type": "markdown",
   "metadata": {},
   "source": [
    "### Final Model Comparission"
   ]
  },
  {
   "cell_type": "code",
   "execution_count": 97,
   "metadata": {},
   "outputs": [],
   "source": [
    "models_1 = [tree.DecisionTreeClassifier( max_depth=5, min_samples_split = 500 ),\n",
    "            LDA(store_covariance=True, shrinkage=None, solver='eigen'),\n",
    "            QuadraticDiscriminantAnalysis(),\n",
    "            BaggingClassifier(n_estimators=10, random_state=0),\n",
    "            RandomForestClassifier(max_depth=4, random_state=0)\n",
    "          ]\n",
    "\n",
    "models_2 = [LogisticRegression(random_state=0, max_iter=10000000, penalty='none'),\n",
    "          LogisticRegression(random_state=0, max_iter=10000000, penalty='none', solver='newton-cg'),\n",
    "          LogisticRegression(random_state=0, max_iter=10000000, penalty='l1', solver=\"liblinear\", C = 1),\n",
    "          LogisticRegression(random_state=0, max_iter=10000000, penalty='l1', solver=\"liblinear\", C = .01), \n",
    "          LogisticRegression(random_state=0, max_iter=10000000, penalty='l1', solver=\"liblinear\", C = .0001),\n",
    "          BaggingClassifier(base_estimator=LogisticRegression(random_state=0, max_iter=10000000, penalty='l1', solver=\"liblinear\", C = .01), n_estimators=10, random_state=0),\n",
    "          svm.SVC(),\n",
    "          BaggingClassifier(base_estimator=svm.SVC(), n_estimators=10, random_state=0)\n",
    "         ]"
   ]
  },
  {
   "cell_type": "code",
   "execution_count": 98,
   "metadata": {},
   "outputs": [],
   "source": [
    "training_acc = []\n",
    "training_f1  = []\n",
    "validation_acc = []\n",
    "validation_f1  = []\n",
    "\n",
    "training_acc.append(training_scores['accuracy'])\n",
    "training_f1.append(training_scores['f1'])\n",
    "validation_acc.append(validation_scores['accuracy'])\n",
    "validation_f1.append(validation_scores['f1'])\n",
    "\n",
    "for clf in models_1:\n",
    "    clf.fit(X_train, Y_train)\n",
    "    Y_train_fit = clf.predict(X_train)\n",
    "    Y_val_fit = clf.predict(X_val)\n",
    "    \n",
    "    training_scores = fit_scores(Y_train, Y_train_fit)\n",
    "    validation_scores = fit_scores(Y_val, Y_val_fit)\n",
    "    \n",
    "    training_acc.append(training_scores['accuracy'])\n",
    "    training_f1.append(training_scores['f1'])\n",
    "    validation_acc.append(validation_scores['accuracy'])\n",
    "    validation_f1.append(validation_scores['f1'])\n",
    "\n",
    "for clf in models_2:\n",
    "    clf.fit(X_train_scaled, Y_train)\n",
    "    Y_train_fit = clf.predict(X_train_scaled)\n",
    "    Y_val_fit = clf.predict(X_val_scaled)\n",
    "    \n",
    "    training_scores = fit_scores(Y_train, Y_train_fit)\n",
    "    validation_scores = fit_scores(Y_val, Y_val_fit)\n",
    "    \n",
    "    training_acc.append(training_scores['accuracy'])\n",
    "    training_f1.append(training_scores['f1'])\n",
    "    validation_acc.append(validation_scores['accuracy'])\n",
    "    validation_f1.append(validation_scores['f1'])"
   ]
  },
  {
   "cell_type": "code",
   "execution_count": 100,
   "metadata": {},
   "outputs": [],
   "source": [
    "df_summary =   {'training_acc': training_acc,\n",
    "        'traininf_f1': training_f1,\n",
    "        'validation_acc': validation_acc,\n",
    "        'validation_f1': validation_f1}\n",
    "\n",
    "df_summary = pd.DataFrame(df_summary)\n",
    "\n",
    "df_summary.index = ['naive'] + [str(x) for x in models_1] + [str(x) for x in models_2]"
   ]
  },
  {
   "cell_type": "code",
   "execution_count": 101,
   "metadata": {},
   "outputs": [
    {
     "data": {
      "text/html": [
       "<div>\n",
       "<style scoped>\n",
       "    .dataframe tbody tr th:only-of-type {\n",
       "        vertical-align: middle;\n",
       "    }\n",
       "\n",
       "    .dataframe tbody tr th {\n",
       "        vertical-align: top;\n",
       "    }\n",
       "\n",
       "    .dataframe thead th {\n",
       "        text-align: right;\n",
       "    }\n",
       "</style>\n",
       "<table border=\"1\" class=\"dataframe\">\n",
       "  <thead>\n",
       "    <tr style=\"text-align: right;\">\n",
       "      <th></th>\n",
       "      <th>training_acc</th>\n",
       "      <th>traininf_f1</th>\n",
       "      <th>validation_acc</th>\n",
       "      <th>validation_f1</th>\n",
       "    </tr>\n",
       "  </thead>\n",
       "  <tbody>\n",
       "    <tr>\n",
       "      <th>DecisionTreeClassifier(max_depth=5, min_samples_split=500)</th>\n",
       "      <td>0.8633</td>\n",
       "      <td>0.780543</td>\n",
       "      <td>0.6952</td>\n",
       "      <td>0.477903</td>\n",
       "    </tr>\n",
       "    <tr>\n",
       "      <th>LinearDiscriminantAnalysis(solver='eigen', store_covariance=True)</th>\n",
       "      <td>0.7241</td>\n",
       "      <td>0.547631</td>\n",
       "      <td>0.7094</td>\n",
       "      <td>0.351629</td>\n",
       "    </tr>\n",
       "    <tr>\n",
       "      <th>QuadraticDiscriminantAnalysis()</th>\n",
       "      <td>0.6918</td>\n",
       "      <td>0.244608</td>\n",
       "      <td>0.7308</td>\n",
       "      <td>0.237394</td>\n",
       "    </tr>\n",
       "    <tr>\n",
       "      <th>BaggingClassifier(random_state=0)</th>\n",
       "      <td>0.9963</td>\n",
       "      <td>0.994519</td>\n",
       "      <td>0.5856</td>\n",
       "      <td>0.382230</td>\n",
       "    </tr>\n",
       "    <tr>\n",
       "      <th>RandomForestClassifier(max_depth=4, random_state=0)</th>\n",
       "      <td>0.8403</td>\n",
       "      <td>0.738497</td>\n",
       "      <td>0.7220</td>\n",
       "      <td>0.465796</td>\n",
       "    </tr>\n",
       "    <tr>\n",
       "      <th>LogisticRegression(max_iter=10000000, penalty='none', random_state=0)</th>\n",
       "      <td>0.7288</td>\n",
       "      <td>0.547397</td>\n",
       "      <td>0.6418</td>\n",
       "      <td>0.369810</td>\n",
       "    </tr>\n",
       "    <tr>\n",
       "      <th>LogisticRegression(max_iter=10000000, penalty='none', random_state=0,\\n                   solver='newton-cg')</th>\n",
       "      <td>0.7288</td>\n",
       "      <td>0.547397</td>\n",
       "      <td>0.6418</td>\n",
       "      <td>0.369810</td>\n",
       "    </tr>\n",
       "    <tr>\n",
       "      <th>LogisticRegression(C=1, max_iter=10000000, penalty='l1', random_state=0,\\n                   solver='liblinear')</th>\n",
       "      <td>0.7284</td>\n",
       "      <td>0.546426</td>\n",
       "      <td>0.6430</td>\n",
       "      <td>0.371921</td>\n",
       "    </tr>\n",
       "    <tr>\n",
       "      <th>LogisticRegression(C=0.01, max_iter=10000000, penalty='l1', random_state=0,\\n                   solver='liblinear')</th>\n",
       "      <td>0.7193</td>\n",
       "      <td>0.532556</td>\n",
       "      <td>0.7316</td>\n",
       "      <td>0.481252</td>\n",
       "    </tr>\n",
       "    <tr>\n",
       "      <th>LogisticRegression(C=0.0001, max_iter=10000000, penalty='l1', random_state=0,\\n                   solver='liblinear')</th>\n",
       "      <td>0.6612</td>\n",
       "      <td>0.000000</td>\n",
       "      <td>0.7011</td>\n",
       "      <td>0.000000</td>\n",
       "    </tr>\n",
       "    <tr>\n",
       "      <th>BaggingClassifier(base_estimator=LogisticRegression(C=0.01, max_iter=10000000,\\n                                                    penalty='l1',\\n                                                    random_state=0,\\n                                                    solver='liblinear'),\\n                  random_state=0)</th>\n",
       "      <td>0.7195</td>\n",
       "      <td>0.533045</td>\n",
       "      <td>0.7291</td>\n",
       "      <td>0.478336</td>\n",
       "    </tr>\n",
       "    <tr>\n",
       "      <th>SVC()</th>\n",
       "      <td>0.8462</td>\n",
       "      <td>0.761180</td>\n",
       "      <td>0.5656</td>\n",
       "      <td>0.348530</td>\n",
       "    </tr>\n",
       "    <tr>\n",
       "      <th>BaggingClassifier(base_estimator=SVC(), random_state=0)</th>\n",
       "      <td>0.8473</td>\n",
       "      <td>0.761741</td>\n",
       "      <td>0.5739</td>\n",
       "      <td>0.348969</td>\n",
       "    </tr>\n",
       "  </tbody>\n",
       "</table>\n",
       "</div>"
      ],
      "text/plain": [
       "                                                    training_acc  traininf_f1  \\\n",
       "DecisionTreeClassifier(max_depth=5, min_samples...        0.8633     0.780543   \n",
       "LinearDiscriminantAnalysis(solver='eigen', stor...        0.7241     0.547631   \n",
       "QuadraticDiscriminantAnalysis()                           0.6918     0.244608   \n",
       "BaggingClassifier(random_state=0)                         0.9963     0.994519   \n",
       "RandomForestClassifier(max_depth=4, random_stat...        0.8403     0.738497   \n",
       "LogisticRegression(max_iter=10000000, penalty='...        0.7288     0.547397   \n",
       "LogisticRegression(max_iter=10000000, penalty='...        0.7288     0.547397   \n",
       "LogisticRegression(C=1, max_iter=10000000, pena...        0.7284     0.546426   \n",
       "LogisticRegression(C=0.01, max_iter=10000000, p...        0.7193     0.532556   \n",
       "LogisticRegression(C=0.0001, max_iter=10000000,...        0.6612     0.000000   \n",
       "BaggingClassifier(base_estimator=LogisticRegres...        0.7195     0.533045   \n",
       "SVC()                                                     0.8462     0.761180   \n",
       "BaggingClassifier(base_estimator=SVC(), random_...        0.8473     0.761741   \n",
       "\n",
       "                                                    validation_acc  \\\n",
       "DecisionTreeClassifier(max_depth=5, min_samples...          0.6952   \n",
       "LinearDiscriminantAnalysis(solver='eigen', stor...          0.7094   \n",
       "QuadraticDiscriminantAnalysis()                             0.7308   \n",
       "BaggingClassifier(random_state=0)                           0.5856   \n",
       "RandomForestClassifier(max_depth=4, random_stat...          0.7220   \n",
       "LogisticRegression(max_iter=10000000, penalty='...          0.6418   \n",
       "LogisticRegression(max_iter=10000000, penalty='...          0.6418   \n",
       "LogisticRegression(C=1, max_iter=10000000, pena...          0.6430   \n",
       "LogisticRegression(C=0.01, max_iter=10000000, p...          0.7316   \n",
       "LogisticRegression(C=0.0001, max_iter=10000000,...          0.7011   \n",
       "BaggingClassifier(base_estimator=LogisticRegres...          0.7291   \n",
       "SVC()                                                       0.5656   \n",
       "BaggingClassifier(base_estimator=SVC(), random_...          0.5739   \n",
       "\n",
       "                                                    validation_f1  \n",
       "DecisionTreeClassifier(max_depth=5, min_samples...       0.477903  \n",
       "LinearDiscriminantAnalysis(solver='eigen', stor...       0.351629  \n",
       "QuadraticDiscriminantAnalysis()                          0.237394  \n",
       "BaggingClassifier(random_state=0)                        0.382230  \n",
       "RandomForestClassifier(max_depth=4, random_stat...       0.465796  \n",
       "LogisticRegression(max_iter=10000000, penalty='...       0.369810  \n",
       "LogisticRegression(max_iter=10000000, penalty='...       0.369810  \n",
       "LogisticRegression(C=1, max_iter=10000000, pena...       0.371921  \n",
       "LogisticRegression(C=0.01, max_iter=10000000, p...       0.481252  \n",
       "LogisticRegression(C=0.0001, max_iter=10000000,...       0.000000  \n",
       "BaggingClassifier(base_estimator=LogisticRegres...       0.478336  \n",
       "SVC()                                                    0.348530  \n",
       "BaggingClassifier(base_estimator=SVC(), random_...       0.348969  "
      ]
     },
     "execution_count": 101,
     "metadata": {},
     "output_type": "execute_result"
    }
   ],
   "source": [
    "df_summary"
   ]
  },
  {
   "cell_type": "code",
   "execution_count": 103,
   "metadata": {},
   "outputs": [
    {
     "data": {
      "text/plain": [
       "<matplotlib.axes._subplots.AxesSubplot at 0x2b1a08f0b880>"
      ]
     },
     "execution_count": 103,
     "metadata": {},
     "output_type": "execute_result"
    },
    {
     "data": {
      "image/png": "[encoded data removed]",
      "text/plain": [
       "<Figure size 1080x720 with 2 Axes>"
      ]
     },
     "metadata": {
      "needs_background": "light"
     },
     "output_type": "display_data"
    }
   ],
   "source": [
    "sns.heatmap(df_summary,  annot=True, cmap = sns.color_palette(\"Blues\"))"
   ]
  },
  {
   "cell_type": "markdown",
   "metadata": {},
   "source": [
    "### Functions I didn't use"
   ]
  },
  {
   "cell_type": "code",
   "execution_count": 10,
   "metadata": {},
   "outputs": [],
   "source": [
    "# Do we use this function?\n",
    "def orbit_type(time, lat, tmax=1):\n",
    "    \"\"\"\n",
    "    Separate tracks into ascending and descending.\n",
    "    \n",
    "    Defines tracks as segments with time breaks > tmax,\n",
    "    and tests whether lat increases or decreases w/time.\n",
    "    \"\"\"\n",
    "    tracks = np.zeros(lat.shape)  # generate track segment\n",
    "    tracks[0:np.argmax(np.abs(lat))] = 1  # set values for segment\n",
    "    is_asc = np.zeros(tracks.shape, dtype=bool)  # output index array\n",
    "\n",
    "    # Loop trough individual secments\n",
    "    for track in np.unique(tracks):\n",
    "    \n",
    "        i_track, = np.where(track == tracks)  # get all pts from seg\n",
    "    \n",
    "        if len(i_track) < 2: continue\n",
    "    \n",
    "        # Test if lat increases (asc) or decreases (des) w/time\n",
    "        i_min = time[i_track].argmin()\n",
    "        i_max = time[i_track].argmax()\n",
    "        lat_diff = lat[i_track][i_max] - lat[i_track][i_min]\n",
    "    \n",
    "        # Determine track type\n",
    "        if lat_diff > 0:  is_asc[i_track] = True\n",
    "    \n",
    "    return is_asc\n",
    "\n",
    "\n",
    "def transform_coord(proj1, proj2, x, y):\n",
    "    \"\"\"Transform coordinates from proj1 to proj2 (EPSG num).\n",
    "\n",
    "    Example EPSG projections:\n",
    "        Geodetic (lon/lat): 4326\n",
    "        Polar Stereo AnIS (x/y): 3031\n",
    "        Polar Stereo GrIS (x/y): 3413\n",
    "    \"\"\"\n",
    "    # Set full EPSG projection strings\n",
    "    proj1 = pyproj.Proj(\"+init=EPSG:\"+str(proj1))\n",
    "    proj2 = pyproj.Proj(\"+init=EPSG:\"+str(proj2))\n",
    "    return pyproj.transform(proj1, proj2, x, y)  # convert\n",
    "\n",
    "\n",
    "def print_attrs(name, obj):\n",
    "    '''\n",
    "    Retrieves all attributes from hd5 file\n",
    "    Use: f.visititems(print_attrs)\n",
    "    '''\n",
    "    print(name)\n",
    "    for key, val in obj.attrs.items():\n",
    "        print(\"    %s: %s\" % (key, val))"
   ]
  },
  {
   "cell_type": "code",
   "execution_count": 13,
   "metadata": {},
   "outputs": [
    {
     "ename": "AttributeError",
     "evalue": "'File' object has no attribute 'visititemns'",
     "output_type": "error",
     "traceback": [
      "\u001b[0;31m---------------------------------------------------------------------------\u001b[0m",
      "\u001b[0;31mAttributeError\u001b[0m                            Traceback (most recent call last)",
      "\u001b[0;32m<ipython-input-13-689f6f07dcab>\u001b[0m in \u001b[0;36m<module>\u001b[0;34m\u001b[0m\n\u001b[0;32m----> 1\u001b[0;31m \u001b[0mf_\u001b[0m\u001b[0;34m.\u001b[0m\u001b[0mvisititemns\u001b[0m\u001b[0;34m(\u001b[0m\u001b[0mprint_attrs\u001b[0m\u001b[0;34m)\u001b[0m\u001b[0;34m\u001b[0m\u001b[0;34m\u001b[0m\u001b[0m\n\u001b[0m",
      "\u001b[0;31mAttributeError\u001b[0m: 'File' object has no attribute 'visititemns'"
     ]
    }
   ],
   "source": [
    "f_.visititemns(print_attrs)"
   ]
  },
  {
   "cell_type": "code",
   "execution_count": 22,
   "metadata": {},
   "outputs": [
    {
     "data": {
      "text/plain": [
       "array([0., 0., 0., 0., 0., 0., 0., 0., 0., 0.], dtype=float32)"
      ]
     },
     "execution_count": 22,
     "metadata": {},
     "output_type": "execute_result"
    }
   ],
   "source": [
    "f_['QA_dimension'][:]"
   ]
  },
  {
   "cell_type": "code",
   "execution_count": 32,
   "metadata": {},
   "outputs": [],
   "source": [
    "def print_attrs_h5(h5file, counter = 0):\n",
    "    '''\n",
    "    Print all the atrivbutes from a h5 file\n",
    "    '''\n",
    "    for key in h5file.keys():\n",
    "        \n",
    "        try:\n",
    "            print_attrs_h5(h5file[key], counter + 1)\n",
    "            \n",
    "        except:\n",
    "            print('\\t'*counter, end = '')\n",
    "            print(key)"
   ]
  },
  {
   "cell_type": "code",
   "execution_count": 33,
   "metadata": {},
   "outputs": [
    {
     "name": "stdout",
     "output_type": "stream",
     "text": [
      "QA_dimension\n",
      "byte_segment\n",
      "\tlatitude\n",
      "\tlongitude\n",
      "\tsensor_azimuth\n",
      "\tsensor_zenith\n",
      "\tsolar_azimuth\n",
      "\tsolar_zenith\n",
      "\tClear_Sky_Confidence\n",
      "\tCloud_Mask\n",
      "\tInteger_Cloud_Mask\n",
      "\tQuality_Assurance\n",
      "number_of_lines\n",
      "number_of_pixels\n",
      "number_of_scans\n",
      "\tscan_start_time\n"
     ]
    }
   ],
   "source": [
    "print_attrs_h5(f_)"
   ]
  },
  {
   "cell_type": "code",
   "execution_count": 25,
   "metadata": {},
   "outputs": [
    {
     "name": "stdout",
     "output_type": "stream",
     "text": [
      "\t hola\n"
     ]
    }
   ],
   "source": [
    "print('\\t hola')"
   ]
  },
  {
   "cell_type": "code",
   "execution_count": null,
   "metadata": {},
   "outputs": [],
   "source": []
  }
 ],
 "metadata": {
  "kernelspec": {
   "display_name": "Python [conda env:.conda-cloudmaskenv]",
   "language": "python",
   "name": "conda-env-.conda-cloudmaskenv-py"
  },
  "language_info": {
   "codemirror_mode": {
    "name": "ipython",
    "version": 3
   },
   "file_extension": ".py",
   "mimetype": "text/x-python",
   "name": "python",
   "nbconvert_exporter": "python",
   "pygments_lexer": "ipython3",
   "version": "3.8.5"
  }
 },
 "nbformat": 4,
 "nbformat_minor": 4
}
