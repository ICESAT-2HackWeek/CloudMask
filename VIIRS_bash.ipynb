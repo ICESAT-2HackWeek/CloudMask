{
 "cells": [
  {
   "cell_type": "markdown",
   "metadata": {},
   "source": [
    "## Identification of interesting VIIRS files\n",
    "\n",
    "This notebook process a general bash file that retrieve VIIRS images to return a new bash file with the images that mathches ICESat-2 data in a given temporal window"
   ]
  },
  {
   "cell_type": "code",
   "execution_count": 4,
   "metadata": {},
   "outputs": [],
   "source": [
    "import pandas as pd\n",
    "from icepyx import icesat2data as ipd"
   ]
  },
  {
   "cell_type": "code",
   "execution_count": 5,
   "metadata": {},
   "outputs": [],
   "source": [
    "# path with VIIRS's retrieval files\n",
    "path_viirs_retrieve = \"data/VIIRS_bash/\"\n",
    "# name of the original bash file to retrieve the VIIRS data\n",
    "exe_old = \"9531467636-download.sh\"\n",
    "# name of the output bash file \n",
    "exe_new = \"VIIRS-dt10-download.sh\""
   ]
  },
  {
   "cell_type": "code",
   "execution_count": 10,
   "metadata": {},
   "outputs": [],
   "source": [
    "# Spatial extend for the ICESat-2 search \n",
    "# Observation: in case that the VIIRS file retrieve images in a different spatial extent, then we are no going to have matches, \n",
    "# independently of the window. \n",
    "spatial_extent = [-50, 70, -49, 71]\n",
    "\n",
    "# Temporal window in minutes\n",
    "hr = 10 / 60 \n",
    "# Maximim number of files we are interested in retrieve \n",
    "max_viirs = 3"
   ]
  },
  {
   "cell_type": "code",
   "execution_count": null,
   "metadata": {},
   "outputs": [
    {
     "name": "stdout",
     "output_type": "stream",
     "text": [
      ">>> There are a total of 0 viirs files founded out of 10 file names.\n",
      ">>> There are a total of 0 viirs files founded out of 20 file names.\n",
      ">>> There are a total of 0 viirs files founded out of 30 file names.\n",
      ">>> There are a total of 0 viirs files founded out of 40 file names.\n",
      ">>> There are a total of 0 viirs files founded out of 50 file names.\n",
      ">>> There are a total of 0 viirs files founded out of 60 file names.\n",
      ">>> There are a total of 0 viirs files founded out of 70 file names.\n",
      ">>> There are a total of 0 viirs files founded out of 80 file names.\n",
      ">>> There are a total of 0 viirs files founded out of 90 file names.\n",
      ">>> There are a total of 0 viirs files founded out of 100 file names.\n",
      ">>> There are a total of 0 viirs files founded out of 110 file names.\n",
      ">>> There are a total of 0 viirs files founded out of 120 file names.\n",
      ">>> There are a total of 0 viirs files founded out of 130 file names.\n"
     ]
    }
   ],
   "source": [
    "file = open(path_viirs_retrieve + exe_old, 'r')\n",
    "new_file = open(path_viirs_retrieve + exe_new, 'x')\n",
    "\n",
    "viirs_names = []\n",
    "\n",
    "counter = 0\n",
    "counter_viirs = 0\n",
    "\n",
    "for line in file:\n",
    "    \n",
    "    #print(line)\n",
    "    \n",
    "    if (\"https://ladsweb.modaps.eosdis.nasa.gov\" in line) and (len(line) == 146):\n",
    "        \n",
    "        if len(viirs_names) < max_viirs:\n",
    "\n",
    "            Vfile = line[:-1]\n",
    "\n",
    "            f_t = int(Vfile[-33:-26]+Vfile[-25:-21])\n",
    "            f_t = pd.to_datetime(f_t, format=\"%Y%j%H%M\")\n",
    "\n",
    "            # Temporal search window for \n",
    "            start = f_t - pd.DateOffset(hours=hr)\n",
    "            end   = f_t + pd.DateOffset(hours=hr)\n",
    "\n",
    "            start_date_str = start.strftime('%Y-%m-%d')\n",
    "            end_date_str   = end.strftime('%Y-%m-%d')\n",
    "            start_time_str = start.strftime('%H:%M:%S')\n",
    "            end_time_str   = end.strftime('%H:%M:%S')\n",
    "\n",
    "            try:\n",
    "\n",
    "                region_a = ipd.Icesat2Data(\"ATL06\", spatial_extent, [start_date_str, end_date_str], start_time_str, end_time_str)\n",
    "                avail_granules = region_a.avail_granules(ids=True)\n",
    "\n",
    "                viirs_names.append(Vfile)\n",
    "                new_file.write(Vfile + \"\\n\") # add \\n\n",
    "                assert len(avail_granules) > 0\n",
    "                counter_viirs += 1\n",
    "\n",
    "            except AssertionError:\n",
    "                None\n",
    "                \n",
    "            counter += 1\n",
    "        \n",
    "        if counter % 10 == 0:\n",
    "            print(\">>> There are a total of\", counter_viirs, \"viirs files founded out of\", counter, \"file names.\")\n",
    "        \n",
    "    else:\n",
    "        \n",
    "        new_file.write(line)\n",
    "        \n",
    "    \n",
    "new_file.close()"
   ]
  },
  {
   "cell_type": "code",
   "execution_count": null,
   "metadata": {},
   "outputs": [],
   "source": []
  },
  {
   "cell_type": "code",
   "execution_count": 3,
   "metadata": {},
   "outputs": [
    {
     "data": {
      "text/plain": [
       "1"
      ]
     },
     "execution_count": 3,
     "metadata": {},
     "output_type": "execute_result"
    }
   ],
   "source": [
    "100 % 11"
   ]
  },
  {
   "cell_type": "code",
   "execution_count": null,
   "metadata": {},
   "outputs": [],
   "source": []
  }
 ],
 "metadata": {
  "kernelspec": {
   "display_name": "Python 3",
   "language": "python",
   "name": "python3"
  },
  "language_info": {
   "codemirror_mode": {
    "name": "ipython",
    "version": 3
   },
   "file_extension": ".py",
   "mimetype": "text/x-python",
   "name": "python",
   "nbconvert_exporter": "python",
   "pygments_lexer": "ipython3",
   "version": "3.7.4"
  }
 },
 "nbformat": 4,
 "nbformat_minor": 4
}
