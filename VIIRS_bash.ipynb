{
 "cells": [
  {
   "cell_type": "markdown",
   "metadata": {},
   "source": [
    "## Identification of interesting VIIRS files\n",
    "\n",
    "This notebook process a general bash file that retrieve VIIRS images to return a new bash file with the images that mathches ICESat-2 data in a given temporal window"
   ]
  },
  {
   "cell_type": "code",
   "execution_count": 1,
   "metadata": {},
   "outputs": [],
   "source": [
    "#import icepyx"
   ]
  },
  {
   "cell_type": "code",
   "execution_count": 1,
   "metadata": {},
   "outputs": [],
   "source": [
    "import pandas as pd\n",
    "from icepyx import query as ipd"
   ]
  },
  {
   "cell_type": "code",
   "execution_count": 3,
   "metadata": {},
   "outputs": [],
   "source": [
    "# path with VIIRS's retrieval files\n",
    "path_viirs_retrieve = \"data/VIIRS_bash/\"\n",
    "# name of the original bash file to retrieve the VIIRS data\n",
    "exe_old = \"viirs_bash_original_p68m50p73m45.sh\"\n",
    "# name of the output bash file \n",
    "exe_new = \"viirs_bash_modified_p68m50p73m45.sh\""
   ]
  },
  {
   "cell_type": "code",
   "execution_count": 4,
   "metadata": {},
   "outputs": [],
   "source": [
    "# Spatial extend for the ICESat-2 search \n",
    "# Observation: in case that the VIIRS file retrieve images in a different spatial extent, then we are no going to have matches, \n",
    "# independently of the window. \n",
    "#spatial_extent = [-50, 70, -49, 71]\n",
    "spatial_extent = [-50, 68, -45, 73]\n",
    "\n",
    "# Temporal window in minutes\n",
    "minutes = 15\n",
    "hr = minutes / 60 \n",
    "# Maximim number of files we are interested in retrieve \n",
    "max_viirs = 100000000"
   ]
  },
  {
   "cell_type": "code",
   "execution_count": 5,
   "metadata": {},
   "outputs": [
    {
     "name": "stdout",
     "output_type": "stream",
     "text": [
      ">>> There are a total of 2 viirs files founded out of 50 file names.\n",
      ">>> There are a total of 2 viirs files founded out of 100 file names.\n",
      ">>> There are a total of 3 viirs files founded out of 150 file names.\n",
      ">>> There are a total of 3 viirs files founded out of 200 file names.\n",
      ">>> There are a total of 3 viirs files founded out of 250 file names.\n",
      ">>> There are a total of 4 viirs files founded out of 300 file names.\n",
      ">>> There are a total of 4 viirs files founded out of 350 file names.\n",
      ">>> There are a total of 5 viirs files founded out of 400 file names.\n",
      ">>> There are a total of 6 viirs files founded out of 450 file names.\n",
      ">>> There are a total of 6 viirs files founded out of 500 file names.\n",
      ">>> There are a total of 6 viirs files founded out of 550 file names.\n",
      ">>> There are a total of 7 viirs files founded out of 600 file names.\n",
      ">>> There are a total of 7 viirs files founded out of 650 file names.\n",
      ">>> There are a total of 7 viirs files founded out of 700 file names.\n",
      ">>> There are a total of 9 viirs files founded out of 750 file names.\n",
      ">>> There are a total of 9 viirs files founded out of 800 file names.\n",
      ">>> There are a total of 9 viirs files founded out of 850 file names.\n",
      ">>> There are a total of 11 viirs files founded out of 900 file names.\n",
      ">>> There are a total of 11 viirs files founded out of 950 file names.\n",
      ">>> There are a total of 12 viirs files founded out of 1000 file names.\n",
      ">>> There are a total of 12 viirs files founded out of 1050 file names.\n",
      ">>> There are a total of 12 viirs files founded out of 1100 file names.\n",
      ">>> There are a total of 12 viirs files founded out of 1150 file names.\n",
      ">>> There are a total of 12 viirs files founded out of 1200 file names.\n",
      ">>> There are a total of 12 viirs files founded out of 1250 file names.\n",
      ">>> There are a total of 12 viirs files founded out of 1300 file names.\n",
      ">>> There are a total of 12 viirs files founded out of 1350 file names.\n",
      ">>> There are a total of 12 viirs files founded out of 1400 file names.\n",
      ">>> There are a total of 12 viirs files founded out of 1450 file names.\n",
      ">>> There are a total of 12 viirs files founded out of 1500 file names.\n",
      ">>> There are a total of 15 viirs files founded out of 1550 file names.\n",
      ">>> There are a total of 15 viirs files founded out of 1600 file names.\n",
      ">>> There are a total of 17 viirs files founded out of 1650 file names.\n",
      ">>> There are a total of 17 viirs files founded out of 1700 file names.\n",
      ">>> There are a total of 17 viirs files founded out of 1750 file names.\n",
      ">>> There are a total of 17 viirs files founded out of 1800 file names.\n",
      ">>> There are a total of 17 viirs files founded out of 1850 file names.\n",
      ">>> There are a total of 17 viirs files founded out of 1900 file names.\n",
      ">>> There are a total of 17 viirs files founded out of 1950 file names.\n",
      ">>> There are a total of 17 viirs files founded out of 2000 file names.\n",
      ">>> There are a total of 18 viirs files founded out of 2050 file names.\n",
      ">>> There are a total of 18 viirs files founded out of 2100 file names.\n",
      ">>> There are a total of 18 viirs files founded out of 2150 file names.\n",
      ">>> There are a total of 20 viirs files founded out of 2200 file names.\n",
      ">>> There are a total of 20 viirs files founded out of 2250 file names.\n",
      ">>> There are a total of 20 viirs files founded out of 2300 file names.\n",
      ">>> There are a total of 20 viirs files founded out of 2350 file names.\n",
      ">>> There are a total of 20 viirs files founded out of 2400 file names.\n",
      ">>> There are a total of 21 viirs files founded out of 2450 file names.\n",
      ">>> There are a total of 21 viirs files founded out of 2500 file names.\n",
      ">>> There are a total of 22 viirs files founded out of 2550 file names.\n",
      ">>> There are a total of 23 viirs files founded out of 2600 file names.\n",
      ">>> There are a total of 23 viirs files founded out of 2650 file names.\n",
      ">>> There are a total of 24 viirs files founded out of 2700 file names.\n",
      ">>> There are a total of 24 viirs files founded out of 2750 file names.\n",
      ">>> There are a total of 26 viirs files founded out of 2800 file names.\n",
      ">>> There are a total of 27 viirs files founded out of 2850 file names.\n",
      ">>> There are a total of 27 viirs files founded out of 2900 file names.\n",
      ">>> There are a total of 29 viirs files founded out of 2950 file names.\n",
      ">>> There are a total of 29 viirs files founded out of 3000 file names.\n",
      ">>> There are a total of 32 viirs files founded out of 3050 file names.\n",
      ">>> There are a total of 33 viirs files founded out of 3100 file names.\n",
      ">>> There are a total of 34 viirs files founded out of 3150 file names.\n",
      ">>> There are a total of 36 viirs files founded out of 3200 file names.\n",
      ">>> There are a total of 37 viirs files founded out of 3250 file names.\n",
      ">>> There are a total of 39 viirs files founded out of 3300 file names.\n",
      ">>> There are a total of 40 viirs files founded out of 3350 file names.\n",
      ">>> There are a total of 41 viirs files founded out of 3400 file names.\n",
      ">>> There are a total of 42 viirs files founded out of 3450 file names.\n",
      ">>> There are a total of 44 viirs files founded out of 3500 file names.\n",
      ">>> There are a total of 45 viirs files founded out of 3550 file names.\n",
      ">>> There are a total of 48 viirs files founded out of 3600 file names.\n",
      ">>> There are a total of 50 viirs files founded out of 3650 file names.\n",
      ">>> There are a total of 50 viirs files founded out of 3700 file names.\n",
      ">>> There are a total of 51 viirs files founded out of 3750 file names.\n",
      ">>> There are a total of 52 viirs files founded out of 3800 file names.\n",
      ">>> There are a total of 52 viirs files founded out of 3850 file names.\n",
      ">>> There are a total of 54 viirs files founded out of 3900 file names.\n"
     ]
    }
   ],
   "source": [
    "file = open(path_viirs_retrieve + exe_old, 'r')\n",
    "new_file = open(path_viirs_retrieve + exe_new, 'x')\n",
    "\n",
    "viirs_names = []\n",
    "\n",
    "counter = 0\n",
    "counter_viirs = 0\n",
    "\n",
    "for line in file:\n",
    "    \n",
    "    #print(line)\n",
    "    \n",
    "    if (\"https://ladsweb.modaps.eosdis.nasa.gov\" in line) and (len(line) == 146):\n",
    "                \n",
    "        if len(viirs_names) < max_viirs:\n",
    "\n",
    "            Vfile = line[:-1]\n",
    "\n",
    "            f_t = int(Vfile[-33:-26]+Vfile[-25:-21])\n",
    "            f_t = pd.to_datetime(f_t, format=\"%Y%j%H%M\")\n",
    "\n",
    "            # Temporal search window for \n",
    "            start = f_t - pd.DateOffset(hours=hr)\n",
    "            end   = f_t + pd.DateOffset(hours=hr)\n",
    "\n",
    "            start_date_str = start.strftime('%Y-%m-%d')\n",
    "            end_date_str   = end.strftime('%Y-%m-%d')\n",
    "            start_time_str = start.strftime('%H:%M:%S')\n",
    "            end_time_str   = end.strftime('%H:%M:%S')\n",
    "\n",
    "            try:\n",
    "\n",
    "                region_a = ipd.Query(\"ATL06\", spatial_extent, [start_date_str, end_date_str], start_time_str, end_time_str)  # This was different before\n",
    "                avail_granules = region_a.avail_granules(ids=True)\n",
    "\n",
    "                viirs_names.append(Vfile)\n",
    "                new_file.write(Vfile + \"\\n\") # add \\n\n",
    "                assert len(avail_granules) > 0\n",
    "                counter_viirs += 1\n",
    "\n",
    "            except AssertionError:\n",
    "                None\n",
    "                \n",
    "            counter += 1\n",
    "        \n",
    "        if counter % 50 == 0:\n",
    "            print(\">>> There are a total of\", counter_viirs, \"viirs files founded out of\", counter, \"file names.\")\n",
    "        \n",
    "    else:\n",
    "        \n",
    "        new_file.write(line)\n",
    "        \n",
    "    \n",
    "new_file.close()"
   ]
  },
  {
   "cell_type": "code",
   "execution_count": null,
   "metadata": {},
   "outputs": [],
   "source": []
  },
  {
   "cell_type": "code",
   "execution_count": 3,
   "metadata": {},
   "outputs": [
    {
     "data": {
      "text/plain": [
       "1"
      ]
     },
     "execution_count": 3,
     "metadata": {},
     "output_type": "execute_result"
    }
   ],
   "source": [
    "Took a quick look at a VIIRS file — time seems to be there: A= xarray.open_dataset('/Users/jonathantaylor/Downloads/VNP01_NRT.A2020218.1600.001.nc') ",
    "    ...: ; A.time_coverage_end                                                                    ",
    "Out[11]: '2020-08-05T16:06:00.000Z'"
   ]
  },
  {
   "cell_type": "code",
   "execution_count": null,
   "metadata": {},
   "outputs": [],
   "source": []
  }
 ],
 "metadata": {
  "kernelspec": {
   "display_name": "Python [conda env:.conda-cloudmaskenv]",
   "language": "python",
   "name": "conda-env-.conda-cloudmaskenv-py"
  },
  "language_info": {
   "codemirror_mode": {
    "name": "ipython",
    "version": 3
   },
   "file_extension": ".py",
   "mimetype": "text/x-python",
   "name": "python",
   "nbconvert_exporter": "python",
   "pygments_lexer": "ipython3",
   "version": "3.8.5"
  }
 },
 "nbformat": 4,
 "nbformat_minor": 4
}
