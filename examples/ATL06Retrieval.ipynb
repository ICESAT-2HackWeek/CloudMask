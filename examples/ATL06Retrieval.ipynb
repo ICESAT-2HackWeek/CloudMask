{
 "cells": [
  {
   "cell_type": "code",
   "execution_count": 1,
   "metadata": {},
   "outputs": [],
   "source": [
    "#from icepyx import query as ipd\n",
    "import icepyx as ipx\n",
    "\n",
    "import os\n",
    "import shutil\n",
    "from pathlib import Path\n",
    "from pprint import pprint\n",
    "\n",
    "import pandas as pd\n",
    "\n",
    "%matplotlib inline"
   ]
  },
  {
   "cell_type": "code",
   "execution_count": 2,
   "metadata": {},
   "outputs": [],
   "source": [
    "%load_ext autoreload\n",
    "%autoreload 2"
   ]
  },
  {
   "cell_type": "code",
   "execution_count": 3,
   "metadata": {},
   "outputs": [],
   "source": [
    "import os\n",
    "os.chdir(\"/glade/u/home/fsapienza/CloudMask\")\n",
    "from utils_atl06 import *"
   ]
  },
  {
   "cell_type": "markdown",
   "metadata": {},
   "source": [
    "## Example No1\n",
    "\n",
    "Retrieving ATL06 data from bounding box"
   ]
  },
  {
   "cell_type": "code",
   "execution_count": 4,
   "metadata": {},
   "outputs": [],
   "source": [
    "spatial_extent = [ -50.71,  65.73, -45.32,  68.08]\n",
    "date_range = ['2019-06-01','2019-06-05']"
   ]
  },
  {
   "cell_type": "code",
   "execution_count": 5,
   "metadata": {},
   "outputs": [
    {
     "name": "stdout",
     "output_type": "stream",
     "text": [
      "Available Granules: ['ATL06_20190601071608_09780303_003_01.h5', 'ATL06_20190601200102_09860305_003_01.h5', 'ATL06_20190605070748_10390303_003_01.h5']\n",
      "You already donwload all the requiered files\n"
     ]
    }
   ],
   "source": [
    "df = read_atl06(spatial_extent, \n",
    "                date_range, \n",
    "                time_start = \"06:00:00\", \n",
    "                time_end = \"18:00:00\",\n",
    "                path = \"./data/new_ATL06\", \n",
    "                user = 'fsapienza', \n",
    "                email = 'fsapienza@berkeley.edu')"
   ]
  },
  {
   "cell_type": "code",
   "execution_count": 6,
   "metadata": {},
   "outputs": [
    {
     "data": {
      "text/html": [
       "<div>\n",
       "<style scoped>\n",
       "    .dataframe tbody tr th:only-of-type {\n",
       "        vertical-align: middle;\n",
       "    }\n",
       "\n",
       "    .dataframe tbody tr th {\n",
       "        vertical-align: top;\n",
       "    }\n",
       "\n",
       "    .dataframe thead th {\n",
       "        text-align: right;\n",
       "    }\n",
       "</style>\n",
       "<table border=\"1\" class=\"dataframe\">\n",
       "  <thead>\n",
       "    <tr style=\"text-align: right;\">\n",
       "      <th></th>\n",
       "      <th>ground_track</th>\n",
       "      <th>time</th>\n",
       "      <th>segment_id</th>\n",
       "      <th>beam_strength</th>\n",
       "      <th>lat</th>\n",
       "      <th>lon</th>\n",
       "      <th>height</th>\n",
       "      <th>slope_dx</th>\n",
       "      <th>slope_dy</th>\n",
       "      <th>snr</th>\n",
       "      <th>...</th>\n",
       "      <th>c_flg_atm</th>\n",
       "      <th>msw</th>\n",
       "      <th>layer_flag</th>\n",
       "      <th>background</th>\n",
       "      <th>background_expected</th>\n",
       "      <th>q_flag_1</th>\n",
       "      <th>q_flag_2</th>\n",
       "      <th>q_flag_3</th>\n",
       "      <th>q_flag_4</th>\n",
       "      <th>q_flag_5</th>\n",
       "    </tr>\n",
       "  </thead>\n",
       "  <tbody>\n",
       "    <tr>\n",
       "      <th>0</th>\n",
       "      <td>gt1l</td>\n",
       "      <td>2019-06-01 07:18:41.747013</td>\n",
       "      <td>371978</td>\n",
       "      <td>strong</td>\n",
       "      <td>66.862169</td>\n",
       "      <td>-45.326436</td>\n",
       "      <td>3.402823e+38</td>\n",
       "      <td>3.402823e+38</td>\n",
       "      <td>3.402823e+38</td>\n",
       "      <td>3.402823e+38</td>\n",
       "      <td>...</td>\n",
       "      <td>1</td>\n",
       "      <td>1</td>\n",
       "      <td>1</td>\n",
       "      <td>3.402823e+38</td>\n",
       "      <td>3.402823e+38</td>\n",
       "      <td>1</td>\n",
       "      <td>1</td>\n",
       "      <td>0</td>\n",
       "      <td>1</td>\n",
       "      <td>1</td>\n",
       "    </tr>\n",
       "    <tr>\n",
       "      <th>1</th>\n",
       "      <td>gt1l</td>\n",
       "      <td>2019-06-01 07:18:41.749913</td>\n",
       "      <td>371979</td>\n",
       "      <td>strong</td>\n",
       "      <td>66.862351</td>\n",
       "      <td>-45.326488</td>\n",
       "      <td>3.402823e+38</td>\n",
       "      <td>3.402823e+38</td>\n",
       "      <td>3.402823e+38</td>\n",
       "      <td>3.402823e+38</td>\n",
       "      <td>...</td>\n",
       "      <td>1</td>\n",
       "      <td>1</td>\n",
       "      <td>1</td>\n",
       "      <td>3.402823e+38</td>\n",
       "      <td>3.402823e+38</td>\n",
       "      <td>1</td>\n",
       "      <td>1</td>\n",
       "      <td>0</td>\n",
       "      <td>1</td>\n",
       "      <td>1</td>\n",
       "    </tr>\n",
       "    <tr>\n",
       "      <th>2</th>\n",
       "      <td>gt1l</td>\n",
       "      <td>2019-06-01 07:18:41.761213</td>\n",
       "      <td>371983</td>\n",
       "      <td>strong</td>\n",
       "      <td>66.863066</td>\n",
       "      <td>-45.326704</td>\n",
       "      <td>3.402823e+38</td>\n",
       "      <td>3.402823e+38</td>\n",
       "      <td>3.402823e+38</td>\n",
       "      <td>3.402823e+38</td>\n",
       "      <td>...</td>\n",
       "      <td>1</td>\n",
       "      <td>1</td>\n",
       "      <td>1</td>\n",
       "      <td>3.402823e+38</td>\n",
       "      <td>3.402823e+38</td>\n",
       "      <td>1</td>\n",
       "      <td>1</td>\n",
       "      <td>0</td>\n",
       "      <td>1</td>\n",
       "      <td>1</td>\n",
       "    </tr>\n",
       "    <tr>\n",
       "      <th>3</th>\n",
       "      <td>gt1l</td>\n",
       "      <td>2019-06-01 07:18:41.924563</td>\n",
       "      <td>372041</td>\n",
       "      <td>strong</td>\n",
       "      <td>66.873399</td>\n",
       "      <td>-45.329752</td>\n",
       "      <td>3.402823e+38</td>\n",
       "      <td>3.402823e+38</td>\n",
       "      <td>3.402823e+38</td>\n",
       "      <td>3.402823e+38</td>\n",
       "      <td>...</td>\n",
       "      <td>1</td>\n",
       "      <td>1</td>\n",
       "      <td>1</td>\n",
       "      <td>3.402823e+38</td>\n",
       "      <td>3.402823e+38</td>\n",
       "      <td>1</td>\n",
       "      <td>1</td>\n",
       "      <td>0</td>\n",
       "      <td>1</td>\n",
       "      <td>1</td>\n",
       "    </tr>\n",
       "    <tr>\n",
       "      <th>4</th>\n",
       "      <td>gt1l</td>\n",
       "      <td>2019-06-01 07:18:42.076715</td>\n",
       "      <td>372095</td>\n",
       "      <td>strong</td>\n",
       "      <td>66.883032</td>\n",
       "      <td>-45.332678</td>\n",
       "      <td>3.402823e+38</td>\n",
       "      <td>3.402823e+38</td>\n",
       "      <td>3.402823e+38</td>\n",
       "      <td>3.085928e-01</td>\n",
       "      <td>...</td>\n",
       "      <td>1</td>\n",
       "      <td>1</td>\n",
       "      <td>1</td>\n",
       "      <td>3.402823e+38</td>\n",
       "      <td>3.402823e+38</td>\n",
       "      <td>1</td>\n",
       "      <td>1</td>\n",
       "      <td>1</td>\n",
       "      <td>1</td>\n",
       "      <td>1</td>\n",
       "    </tr>\n",
       "    <tr>\n",
       "      <th>...</th>\n",
       "      <td>...</td>\n",
       "      <td>...</td>\n",
       "      <td>...</td>\n",
       "      <td>...</td>\n",
       "      <td>...</td>\n",
       "      <td>...</td>\n",
       "      <td>...</td>\n",
       "      <td>...</td>\n",
       "      <td>...</td>\n",
       "      <td>...</td>\n",
       "      <td>...</td>\n",
       "      <td>...</td>\n",
       "      <td>...</td>\n",
       "      <td>...</td>\n",
       "      <td>...</td>\n",
       "      <td>...</td>\n",
       "      <td>...</td>\n",
       "      <td>...</td>\n",
       "      <td>...</td>\n",
       "      <td>...</td>\n",
       "      <td>...</td>\n",
       "    </tr>\n",
       "    <tr>\n",
       "      <th>173338</th>\n",
       "      <td>gt3r</td>\n",
       "      <td>2019-06-05 07:10:41.034480</td>\n",
       "      <td>378768</td>\n",
       "      <td>weak</td>\n",
       "      <td>68.079187</td>\n",
       "      <td>-46.321051</td>\n",
       "      <td>1.966368e+03</td>\n",
       "      <td>3.356695e-03</td>\n",
       "      <td>-2.106460e-03</td>\n",
       "      <td>4.448723e+01</td>\n",
       "      <td>...</td>\n",
       "      <td>0</td>\n",
       "      <td>0</td>\n",
       "      <td>0</td>\n",
       "      <td>2.410754e+06</td>\n",
       "      <td>8.382752e+05</td>\n",
       "      <td>0</td>\n",
       "      <td>0</td>\n",
       "      <td>0</td>\n",
       "      <td>0</td>\n",
       "      <td>0</td>\n",
       "    </tr>\n",
       "    <tr>\n",
       "      <th>173339</th>\n",
       "      <td>gt3r</td>\n",
       "      <td>2019-06-05 07:10:41.037286</td>\n",
       "      <td>378769</td>\n",
       "      <td>weak</td>\n",
       "      <td>68.079365</td>\n",
       "      <td>-46.321107</td>\n",
       "      <td>1.966487e+03</td>\n",
       "      <td>4.716873e-03</td>\n",
       "      <td>-2.153996e-03</td>\n",
       "      <td>4.556038e+01</td>\n",
       "      <td>...</td>\n",
       "      <td>0</td>\n",
       "      <td>0</td>\n",
       "      <td>0</td>\n",
       "      <td>2.380189e+06</td>\n",
       "      <td>8.382844e+05</td>\n",
       "      <td>0</td>\n",
       "      <td>0</td>\n",
       "      <td>0</td>\n",
       "      <td>0</td>\n",
       "      <td>0</td>\n",
       "    </tr>\n",
       "    <tr>\n",
       "      <th>173340</th>\n",
       "      <td>gt3r</td>\n",
       "      <td>2019-06-05 07:10:41.040093</td>\n",
       "      <td>378770</td>\n",
       "      <td>weak</td>\n",
       "      <td>68.079544</td>\n",
       "      <td>-46.321162</td>\n",
       "      <td>1.966602e+03</td>\n",
       "      <td>3.869057e-03</td>\n",
       "      <td>-2.432660e-03</td>\n",
       "      <td>4.550946e+01</td>\n",
       "      <td>...</td>\n",
       "      <td>0</td>\n",
       "      <td>0</td>\n",
       "      <td>0</td>\n",
       "      <td>2.372903e+06</td>\n",
       "      <td>8.382934e+05</td>\n",
       "      <td>0</td>\n",
       "      <td>0</td>\n",
       "      <td>0</td>\n",
       "      <td>0</td>\n",
       "      <td>0</td>\n",
       "    </tr>\n",
       "    <tr>\n",
       "      <th>173341</th>\n",
       "      <td>gt3r</td>\n",
       "      <td>2019-06-05 07:10:41.042906</td>\n",
       "      <td>378771</td>\n",
       "      <td>weak</td>\n",
       "      <td>68.079722</td>\n",
       "      <td>-46.321218</td>\n",
       "      <td>1.966702e+03</td>\n",
       "      <td>4.729509e-03</td>\n",
       "      <td>-2.593385e-03</td>\n",
       "      <td>4.706477e+01</td>\n",
       "      <td>...</td>\n",
       "      <td>0</td>\n",
       "      <td>0</td>\n",
       "      <td>0</td>\n",
       "      <td>2.446654e+06</td>\n",
       "      <td>8.383026e+05</td>\n",
       "      <td>0</td>\n",
       "      <td>0</td>\n",
       "      <td>0</td>\n",
       "      <td>0</td>\n",
       "      <td>0</td>\n",
       "    </tr>\n",
       "    <tr>\n",
       "      <th>173342</th>\n",
       "      <td>gt3r</td>\n",
       "      <td>2019-06-05 07:10:41.045723</td>\n",
       "      <td>378772</td>\n",
       "      <td>weak</td>\n",
       "      <td>68.079900</td>\n",
       "      <td>-46.321273</td>\n",
       "      <td>1.966826e+03</td>\n",
       "      <td>9.148121e-03</td>\n",
       "      <td>-2.515521e-03</td>\n",
       "      <td>4.336723e+01</td>\n",
       "      <td>...</td>\n",
       "      <td>0</td>\n",
       "      <td>0</td>\n",
       "      <td>0</td>\n",
       "      <td>2.514197e+06</td>\n",
       "      <td>8.383117e+05</td>\n",
       "      <td>0</td>\n",
       "      <td>0</td>\n",
       "      <td>0</td>\n",
       "      <td>0</td>\n",
       "      <td>0</td>\n",
       "    </tr>\n",
       "  </tbody>\n",
       "</table>\n",
       "<p>173343 rows × 32 columns</p>\n",
       "</div>"
      ],
      "text/plain": [
       "       ground_track                       time  segment_id beam_strength  \\\n",
       "0              gt1l 2019-06-01 07:18:41.747013      371978        strong   \n",
       "1              gt1l 2019-06-01 07:18:41.749913      371979        strong   \n",
       "2              gt1l 2019-06-01 07:18:41.761213      371983        strong   \n",
       "3              gt1l 2019-06-01 07:18:41.924563      372041        strong   \n",
       "4              gt1l 2019-06-01 07:18:42.076715      372095        strong   \n",
       "...             ...                        ...         ...           ...   \n",
       "173338         gt3r 2019-06-05 07:10:41.034480      378768          weak   \n",
       "173339         gt3r 2019-06-05 07:10:41.037286      378769          weak   \n",
       "173340         gt3r 2019-06-05 07:10:41.040093      378770          weak   \n",
       "173341         gt3r 2019-06-05 07:10:41.042906      378771          weak   \n",
       "173342         gt3r 2019-06-05 07:10:41.045723      378772          weak   \n",
       "\n",
       "              lat        lon        height      slope_dx      slope_dy  \\\n",
       "0       66.862169 -45.326436  3.402823e+38  3.402823e+38  3.402823e+38   \n",
       "1       66.862351 -45.326488  3.402823e+38  3.402823e+38  3.402823e+38   \n",
       "2       66.863066 -45.326704  3.402823e+38  3.402823e+38  3.402823e+38   \n",
       "3       66.873399 -45.329752  3.402823e+38  3.402823e+38  3.402823e+38   \n",
       "4       66.883032 -45.332678  3.402823e+38  3.402823e+38  3.402823e+38   \n",
       "...           ...        ...           ...           ...           ...   \n",
       "173338  68.079187 -46.321051  1.966368e+03  3.356695e-03 -2.106460e-03   \n",
       "173339  68.079365 -46.321107  1.966487e+03  4.716873e-03 -2.153996e-03   \n",
       "173340  68.079544 -46.321162  1.966602e+03  3.869057e-03 -2.432660e-03   \n",
       "173341  68.079722 -46.321218  1.966702e+03  4.729509e-03 -2.593385e-03   \n",
       "173342  68.079900 -46.321273  1.966826e+03  9.148121e-03 -2.515521e-03   \n",
       "\n",
       "                 snr  ...  c_flg_atm  msw  layer_flag    background  \\\n",
       "0       3.402823e+38  ...          1    1           1  3.402823e+38   \n",
       "1       3.402823e+38  ...          1    1           1  3.402823e+38   \n",
       "2       3.402823e+38  ...          1    1           1  3.402823e+38   \n",
       "3       3.402823e+38  ...          1    1           1  3.402823e+38   \n",
       "4       3.085928e-01  ...          1    1           1  3.402823e+38   \n",
       "...              ...  ...        ...  ...         ...           ...   \n",
       "173338  4.448723e+01  ...          0    0           0  2.410754e+06   \n",
       "173339  4.556038e+01  ...          0    0           0  2.380189e+06   \n",
       "173340  4.550946e+01  ...          0    0           0  2.372903e+06   \n",
       "173341  4.706477e+01  ...          0    0           0  2.446654e+06   \n",
       "173342  4.336723e+01  ...          0    0           0  2.514197e+06   \n",
       "\n",
       "        background_expected  q_flag_1  q_flag_2  q_flag_3  q_flag_4  q_flag_5  \n",
       "0              3.402823e+38         1         1         0         1         1  \n",
       "1              3.402823e+38         1         1         0         1         1  \n",
       "2              3.402823e+38         1         1         0         1         1  \n",
       "3              3.402823e+38         1         1         0         1         1  \n",
       "4              3.402823e+38         1         1         1         1         1  \n",
       "...                     ...       ...       ...       ...       ...       ...  \n",
       "173338         8.382752e+05         0         0         0         0         0  \n",
       "173339         8.382844e+05         0         0         0         0         0  \n",
       "173340         8.382934e+05         0         0         0         0         0  \n",
       "173341         8.383026e+05         0         0         0         0         0  \n",
       "173342         8.383117e+05         0         0         0         0         0  \n",
       "\n",
       "[173343 rows x 32 columns]"
      ]
     },
     "execution_count": 6,
     "metadata": {},
     "output_type": "execute_result"
    }
   ],
   "source": [
    "df"
   ]
  },
  {
   "cell_type": "code",
   "execution_count": 7,
   "metadata": {},
   "outputs": [
    {
     "data": {
      "text/plain": [
       "(5649, 32)"
      ]
     },
     "execution_count": 7,
     "metadata": {},
     "output_type": "execute_result"
    }
   ],
   "source": [
    "df[df.q_flag == 1].shape"
   ]
  },
  {
   "cell_type": "code",
   "execution_count": 8,
   "metadata": {},
   "outputs": [
    {
     "data": {
      "image/png": "[encoded data removed]",
      "text/plain": [
       "<Figure size 432x288 with 1 Axes>"
      ]
     },
     "metadata": {
      "needs_background": "light"
     },
     "output_type": "display_data"
    }
   ],
   "source": [
    "from utils import hist_df\n",
    "hist_df(df[df.n_fit_photons < 10e3], 'n_fit_photons', 'beam_strength')"
   ]
  },
  {
   "cell_type": "code",
   "execution_count": 70,
   "metadata": {},
   "outputs": [],
   "source": [
    "df['q_flag_1'] = df.apply(lambda row: 1 if (row.h_rb >= 1) else 0, axis = 1)\n",
    "df['q_flag_2'] = df.apply(lambda row: 1 if (row.height_sigma >= 1) else 0, axis = 1)\n",
    "df['q_flag_3'] = df.apply(lambda row: 1 if (row.snr_significance >= 0.02) else 0, axis = 1)\n",
    "df['q_flag_4'] = df.apply(lambda row: 1 if (row.s_fg > 1) else 0, axis = 1)\n",
    "df['q_flag_5'] = df.apply(lambda row: 1 if ( (row.beam_strength == 'strong' and row.n_fit_photons_ratio_w <= 4) or \n",
    "                                             (row.beam_strength == 'weak'   and row.n_fit_photons_ratio_w <= 1) ) else 0, axis = 1)"
   ]
  },
  {
   "cell_type": "code",
   "execution_count": 8,
   "metadata": {},
   "outputs": [
    {
     "data": {
      "text/html": [
       "<div>\n",
       "<style scoped>\n",
       "    .dataframe tbody tr th:only-of-type {\n",
       "        vertical-align: middle;\n",
       "    }\n",
       "\n",
       "    .dataframe tbody tr th {\n",
       "        vertical-align: top;\n",
       "    }\n",
       "\n",
       "    .dataframe thead th {\n",
       "        text-align: right;\n",
       "    }\n",
       "</style>\n",
       "<table border=\"1\" class=\"dataframe\">\n",
       "  <thead>\n",
       "    <tr style=\"text-align: right;\">\n",
       "      <th></th>\n",
       "      <th>ground_track</th>\n",
       "      <th>time</th>\n",
       "      <th>segment_id</th>\n",
       "      <th>beam_strength</th>\n",
       "      <th>lat</th>\n",
       "      <th>lon</th>\n",
       "      <th>height</th>\n",
       "      <th>slope_dx</th>\n",
       "      <th>slope_dy</th>\n",
       "      <th>snr</th>\n",
       "      <th>...</th>\n",
       "      <th>c_flg_atm</th>\n",
       "      <th>msw</th>\n",
       "      <th>layer_flag</th>\n",
       "      <th>background</th>\n",
       "      <th>background_expected</th>\n",
       "      <th>q_flag_1</th>\n",
       "      <th>q_flag_2</th>\n",
       "      <th>q_flag_3</th>\n",
       "      <th>q_flag_4</th>\n",
       "      <th>q_flag_5</th>\n",
       "    </tr>\n",
       "  </thead>\n",
       "  <tbody>\n",
       "    <tr>\n",
       "      <th>0</th>\n",
       "      <td>gt1l</td>\n",
       "      <td>2019-06-01 07:18:41.747013</td>\n",
       "      <td>371978</td>\n",
       "      <td>strong</td>\n",
       "      <td>66.862169</td>\n",
       "      <td>-45.326436</td>\n",
       "      <td>3.402823e+38</td>\n",
       "      <td>3.402823e+38</td>\n",
       "      <td>3.402823e+38</td>\n",
       "      <td>3.402823e+38</td>\n",
       "      <td>...</td>\n",
       "      <td>1</td>\n",
       "      <td>1</td>\n",
       "      <td>1</td>\n",
       "      <td>3.402823e+38</td>\n",
       "      <td>3.402823e+38</td>\n",
       "      <td>1</td>\n",
       "      <td>1</td>\n",
       "      <td>0</td>\n",
       "      <td>1</td>\n",
       "      <td>1</td>\n",
       "    </tr>\n",
       "    <tr>\n",
       "      <th>1</th>\n",
       "      <td>gt1l</td>\n",
       "      <td>2019-06-01 07:18:41.749913</td>\n",
       "      <td>371979</td>\n",
       "      <td>strong</td>\n",
       "      <td>66.862351</td>\n",
       "      <td>-45.326488</td>\n",
       "      <td>3.402823e+38</td>\n",
       "      <td>3.402823e+38</td>\n",
       "      <td>3.402823e+38</td>\n",
       "      <td>3.402823e+38</td>\n",
       "      <td>...</td>\n",
       "      <td>1</td>\n",
       "      <td>1</td>\n",
       "      <td>1</td>\n",
       "      <td>3.402823e+38</td>\n",
       "      <td>3.402823e+38</td>\n",
       "      <td>1</td>\n",
       "      <td>1</td>\n",
       "      <td>0</td>\n",
       "      <td>1</td>\n",
       "      <td>1</td>\n",
       "    </tr>\n",
       "    <tr>\n",
       "      <th>2</th>\n",
       "      <td>gt1l</td>\n",
       "      <td>2019-06-01 07:18:41.761213</td>\n",
       "      <td>371983</td>\n",
       "      <td>strong</td>\n",
       "      <td>66.863066</td>\n",
       "      <td>-45.326704</td>\n",
       "      <td>3.402823e+38</td>\n",
       "      <td>3.402823e+38</td>\n",
       "      <td>3.402823e+38</td>\n",
       "      <td>3.402823e+38</td>\n",
       "      <td>...</td>\n",
       "      <td>1</td>\n",
       "      <td>1</td>\n",
       "      <td>1</td>\n",
       "      <td>3.402823e+38</td>\n",
       "      <td>3.402823e+38</td>\n",
       "      <td>1</td>\n",
       "      <td>1</td>\n",
       "      <td>0</td>\n",
       "      <td>1</td>\n",
       "      <td>1</td>\n",
       "    </tr>\n",
       "    <tr>\n",
       "      <th>3</th>\n",
       "      <td>gt1l</td>\n",
       "      <td>2019-06-01 07:18:41.924563</td>\n",
       "      <td>372041</td>\n",
       "      <td>strong</td>\n",
       "      <td>66.873399</td>\n",
       "      <td>-45.329752</td>\n",
       "      <td>3.402823e+38</td>\n",
       "      <td>3.402823e+38</td>\n",
       "      <td>3.402823e+38</td>\n",
       "      <td>3.402823e+38</td>\n",
       "      <td>...</td>\n",
       "      <td>1</td>\n",
       "      <td>1</td>\n",
       "      <td>1</td>\n",
       "      <td>3.402823e+38</td>\n",
       "      <td>3.402823e+38</td>\n",
       "      <td>1</td>\n",
       "      <td>1</td>\n",
       "      <td>0</td>\n",
       "      <td>1</td>\n",
       "      <td>1</td>\n",
       "    </tr>\n",
       "    <tr>\n",
       "      <th>4</th>\n",
       "      <td>gt1l</td>\n",
       "      <td>2019-06-01 07:18:42.076715</td>\n",
       "      <td>372095</td>\n",
       "      <td>strong</td>\n",
       "      <td>66.883032</td>\n",
       "      <td>-45.332678</td>\n",
       "      <td>3.402823e+38</td>\n",
       "      <td>3.402823e+38</td>\n",
       "      <td>3.402823e+38</td>\n",
       "      <td>3.085928e-01</td>\n",
       "      <td>...</td>\n",
       "      <td>1</td>\n",
       "      <td>1</td>\n",
       "      <td>1</td>\n",
       "      <td>3.402823e+38</td>\n",
       "      <td>3.402823e+38</td>\n",
       "      <td>1</td>\n",
       "      <td>1</td>\n",
       "      <td>1</td>\n",
       "      <td>1</td>\n",
       "      <td>1</td>\n",
       "    </tr>\n",
       "  </tbody>\n",
       "</table>\n",
       "<p>5 rows × 32 columns</p>\n",
       "</div>"
      ],
      "text/plain": [
       "  ground_track                       time  segment_id beam_strength  \\\n",
       "0         gt1l 2019-06-01 07:18:41.747013      371978        strong   \n",
       "1         gt1l 2019-06-01 07:18:41.749913      371979        strong   \n",
       "2         gt1l 2019-06-01 07:18:41.761213      371983        strong   \n",
       "3         gt1l 2019-06-01 07:18:41.924563      372041        strong   \n",
       "4         gt1l 2019-06-01 07:18:42.076715      372095        strong   \n",
       "\n",
       "         lat        lon        height      slope_dx      slope_dy  \\\n",
       "0  66.862169 -45.326436  3.402823e+38  3.402823e+38  3.402823e+38   \n",
       "1  66.862351 -45.326488  3.402823e+38  3.402823e+38  3.402823e+38   \n",
       "2  66.863066 -45.326704  3.402823e+38  3.402823e+38  3.402823e+38   \n",
       "3  66.873399 -45.329752  3.402823e+38  3.402823e+38  3.402823e+38   \n",
       "4  66.883032 -45.332678  3.402823e+38  3.402823e+38  3.402823e+38   \n",
       "\n",
       "            snr  ...  c_flg_atm  msw  layer_flag    background  \\\n",
       "0  3.402823e+38  ...          1    1           1  3.402823e+38   \n",
       "1  3.402823e+38  ...          1    1           1  3.402823e+38   \n",
       "2  3.402823e+38  ...          1    1           1  3.402823e+38   \n",
       "3  3.402823e+38  ...          1    1           1  3.402823e+38   \n",
       "4  3.085928e-01  ...          1    1           1  3.402823e+38   \n",
       "\n",
       "   background_expected  q_flag_1  q_flag_2  q_flag_3  q_flag_4  q_flag_5  \n",
       "0         3.402823e+38         1         1         0         1         1  \n",
       "1         3.402823e+38         1         1         0         1         1  \n",
       "2         3.402823e+38         1         1         0         1         1  \n",
       "3         3.402823e+38         1         1         0         1         1  \n",
       "4         3.402823e+38         1         1         1         1         1  \n",
       "\n",
       "[5 rows x 32 columns]"
      ]
     },
     "execution_count": 8,
     "metadata": {},
     "output_type": "execute_result"
    }
   ],
   "source": [
    "df.head()"
   ]
  },
  {
   "cell_type": "code",
   "execution_count": 81,
   "metadata": {},
   "outputs": [],
   "source": [
    "def p_a_cond_b (df, a, b):\n",
    "    \"\"\"\n",
    "    Given a dataframes df, it computes the empirial conditionl probability\n",
    "    \"\"\"    \n",
    "    \n",
    "    assert all(np.unique(df[a]) == [0,1]), \"Variable must be binary\"\n",
    "    assert all(np.unique(df[b]) == [0,1]), \"Variable must be binary\"\n",
    "    \n",
    "    p_b = df[df[b] == 1].shape[0]\n",
    "    p_a_b = df[(df[a] == 1) & (df[b] == 1)].shape[0]\n",
    "    \n",
    "    return p_a_b / p_b\n",
    "\n",
    "def conditional_heatplot(df, variables, plot = True):\n",
    "    \"\"\"\n",
    "    Given a dataframes and a list of binary column names, it returns the matrix of all the conditional probabilities\n",
    "    \"\"\"\n",
    "    \n",
    "    res = np.zeros((len(variables), len(variables)))\n",
    "    \n",
    "    for i, x in enumerate(variables):\n",
    "        for j, y in enumerate(variables):\n",
    "            if i == j:\n",
    "                res[i,j] = np.nan\n",
    "                continue\n",
    "            res[i,j] = p_a_cond_b(df, a = x, b = y)\n",
    "            \n",
    "    if plot:\n",
    "        ax = sns.heatmap(res, annot=True, cmap = sns.color_palette(\"Blues\"))        \n",
    "    \n",
    "    return res"
   ]
  },
  {
   "cell_type": "code",
   "execution_count": 82,
   "metadata": {},
   "outputs": [
    {
     "data": {
      "text/plain": [
       "True"
      ]
     },
     "execution_count": 82,
     "metadata": {},
     "output_type": "execute_result"
    }
   ],
   "source": [
    "all( np.unique(df['q_flag']) == [0,1] )"
   ]
  },
  {
   "cell_type": "code",
   "execution_count": 83,
   "metadata": {},
   "outputs": [],
   "source": [
    "cond_matrix = conditional_heatplot(df, ['q_flag', 'q_flag_1', 'q_flag_2', 'q_flag_3', 'q_flag_4', 'q_flag_5'])"
   ]
  },
  {
   "cell_type": "code",
   "execution_count": 84,
   "metadata": {},
   "outputs": [
    {
     "data": {
      "image/png": "[encoded data removed]",
      "text/plain": [
       "<Figure size 432x288 with 2 Axes>"
      ]
     },
     "metadata": {
      "needs_background": "light"
     },
     "output_type": "display_data"
    }
   ],
   "source": [
    "import seaborn as sns\n",
    "\n",
    "ax = sns.heatmap(cond_matrix, annot=True, cmap = sns.color_palette(\"Blues\"))"
   ]
  },
  {
   "cell_type": "markdown",
   "metadata": {},
   "source": [
    "## Example No2 \n",
    "\n",
    "Here we are going to retrieve granules included in one speficic granule basin in Greenland\n",
    "\n",
    "<div>\n",
    "<img src=\"https://icesat4.gsfc.nasa.gov/cryo_data/drainage_divides/Grn_Drainage_Systems.png\" align=\"center\" width=\"300\"/>\n",
    "</div>"
   ]
  },
  {
   "cell_type": "markdown",
   "metadata": {},
   "source": [
    "#### Granule basin"
   ]
  },
  {
   "cell_type": "code",
   "execution_count": 4,
   "metadata": {},
   "outputs": [],
   "source": [
    "from osgeo import osr\n",
    "\n",
    "os.chdir(\"/glade/u/home/fsapienza/CloudMask/drainage_basis\")"
   ]
  },
  {
   "cell_type": "code",
   "execution_count": 12,
   "metadata": {},
   "outputs": [],
   "source": [
    "basin = '6.2'\n",
    "\n",
    "zwally = pd.read_csv('GrnDrainageSystems_Ekholm.txt', sep='\\s+', names=['basin', 'lat','long'])\n",
    "\n",
    "LL = zip(zwally[zwally.basin == float(basin)].long, zwally[zwally.basin == float(basin)].lat)\n",
    "LL = list(LL)"
   ]
  },
  {
   "cell_type": "code",
   "execution_count": 13,
   "metadata": {},
   "outputs": [],
   "source": [
    "longitudes = [x[0] for x in LL]\n",
    "# Since icepyx just accept longitudes in [-180, 180], we need to modify those longitudes in [180, 360]\n",
    "longitudes = [x if ( (x >= 0) & (x <= 180)) else x - 360 for x in longitudes]\n",
    "\n",
    "latitudes = [x[1] for x in LL]"
   ]
  },
  {
   "cell_type": "code",
   "execution_count": 14,
   "metadata": {},
   "outputs": [],
   "source": [
    "LL = [(longitudes[i], latitudes[i]) for i in range(len(longitudes))]"
   ]
  },
  {
   "cell_type": "code",
   "execution_count": 15,
   "metadata": {},
   "outputs": [],
   "source": [
    "spatial_extent = LL[::1000]\n",
    "spatial_extent.append(spatial_extent[0])\n",
    "date_range = ['2019-06-10','2019-06-30']"
   ]
  },
  {
   "cell_type": "code",
   "execution_count": 16,
   "metadata": {},
   "outputs": [
    {
     "data": {
      "text/plain": [
       "20"
      ]
     },
     "execution_count": 16,
     "metadata": {},
     "output_type": "execute_result"
    }
   ],
   "source": [
    "len(spatial_extent)"
   ]
  },
  {
   "cell_type": "code",
   "execution_count": 17,
   "metadata": {},
   "outputs": [
    {
     "data": {
      "text/plain": [
       "[<matplotlib.lines.Line2D at 0x2b8fec52c8e0>]"
      ]
     },
     "execution_count": 17,
     "metadata": {},
     "output_type": "execute_result"
    },
    {
     "data": {
      "image/png": "[encoded data removed]",
      "text/plain": [
       "<Figure size 432x288 with 1 Axes>"
      ]
     },
     "metadata": {
      "needs_background": "light"
     },
     "output_type": "display_data"
    }
   ],
   "source": [
    "longitudes_icepyx = [x[0] for x in spatial_extent]\n",
    "latitudes_icepyx = [x[1] for x in spatial_extent]\n",
    "\n",
    "plt.plot(longitudes, latitudes)\n",
    "plt.plot(longitudes_icepyx, latitudes_icepyx)"
   ]
  },
  {
   "cell_type": "code",
   "execution_count": 143,
   "metadata": {},
   "outputs": [],
   "source": [
    "os.chdir(\"/glade/u/home/fsapienza/CloudMask\")"
   ]
  },
  {
   "cell_type": "code",
   "execution_count": 150,
   "metadata": {},
   "outputs": [
    {
     "name": "stdout",
     "output_type": "stream",
     "text": [
      "Available Granules: ['ATL06_20190610063350_11150303_003_01.h5', 'ATL06_20190613065109_11610303_003_01.h5', 'ATL06_20190613193602_11690305_003_01.h5', 'ATL06_20190614062530_11760303_003_01.h5', 'ATL06_20190614191023_11840305_003_01.h5', 'ATL06_20190617064249_12220303_003_01.h5', 'ATL06_20190618061710_12370303_003_01.h5', 'ATL06_20190618190203_12450305_003_01.h5', 'ATL06_20190619183623_12600305_003_01.h5', 'ATL06_20190621063429_12830303_003_01.h5', 'ATL06_20190622060850_12980303_003_01.h5', 'ATL06_20190622185343_13060305_003_01.h5', 'ATL06_20190623182803_13210305_003_01.h5', 'ATL06_20190626060029_13590303_003_01.h5']\n",
      "Total number of data order requests is  2  for  14  granules.\n",
      "Data request  1  of  2  is submitting to NSIDC\n",
      "order ID:  5000000913472\n",
      "Initial status of your order request at NSIDC is:  processing\n",
      "Your order status is still  processing  at NSIDC. Please continue waiting... this may take a few moments.\n",
      "Your order status is still  processing  at NSIDC. Please continue waiting... this may take a few moments.\n",
      "Your order is: complete\n",
      "Data request  2  of  2  is submitting to NSIDC\n",
      "order ID:  5000000913473\n",
      "Initial status of your order request at NSIDC is:  processing\n",
      "Your order status is still  processing  at NSIDC. Please continue waiting... this may take a few moments.\n",
      "Your order is: complete\n",
      "Beginning download of zipped output...\n",
      "Data request 5000000913472 of  2  order(s) is downloaded.\n",
      "Beginning download of zipped output...\n",
      "Data request 5000000913473 of  2  order(s) is downloaded.\n",
      "Download complete\n",
      "ATL06_20190619183623_12600305_003_01.h5 not found\n",
      "You are missing some files. There are a total of 14 available granules but you are accessing 13 h5 files\n",
      ">>>  data/new_ATL06/processed_ATL06_20190610063350_11150303_003_01.h5\n",
      ">>>  data/new_ATL06/processed_ATL06_20190613065109_11610303_003_01.h5\n",
      ">>>  data/new_ATL06/processed_ATL06_20190613193602_11690305_003_01.h5\n",
      "There was an error with the file  data/new_ATL06/processed_ATL06_20190613193602_11690305_003_01.h5  and the ground track  /gt2l\n",
      "There was an error with the file  data/new_ATL06/processed_ATL06_20190613193602_11690305_003_01.h5  and the ground track  /gt2r\n",
      "There was an error with the file  data/new_ATL06/processed_ATL06_20190613193602_11690305_003_01.h5  and the ground track  /gt3l\n",
      "There was an error with the file  data/new_ATL06/processed_ATL06_20190613193602_11690305_003_01.h5  and the ground track  /gt3r\n",
      ">>>  data/new_ATL06/processed_ATL06_20190614062530_11760303_003_01.h5\n",
      ">>>  data/new_ATL06/processed_ATL06_20190614191023_11840305_003_01.h5\n",
      ">>>  data/new_ATL06/processed_ATL06_20190617064249_12220303_003_01.h5\n",
      ">>>  data/new_ATL06/processed_ATL06_20190618061710_12370303_003_01.h5\n",
      ">>>  data/new_ATL06/processed_ATL06_20190618190203_12450305_003_01.h5\n",
      ">>>  data/new_ATL06/processed_ATL06_20190621063429_12830303_003_01.h5\n",
      ">>>  data/new_ATL06/processed_ATL06_20190622060850_12980303_003_01.h5\n",
      ">>>  data/new_ATL06/processed_ATL06_20190622185343_13060305_003_01.h5\n",
      ">>>  data/new_ATL06/processed_ATL06_20190623182803_13210305_003_01.h5\n",
      ">>>  data/new_ATL06/processed_ATL06_20190626060029_13590303_003_01.h5\n"
     ]
    }
   ],
   "source": [
    "df = read_atl06(spatial_extent, \n",
    "                date_range, \n",
    "                time_start = \"00:00:00\", \n",
    "                time_end = \"23:59:59\",\n",
    "                path = \"./data/new_ATL06\", \n",
    "                user = 'fsapienza', \n",
    "                email = 'fsapienza@berkeley.edu')"
   ]
  },
  {
   "cell_type": "code",
   "execution_count": 151,
   "metadata": {},
   "outputs": [],
   "source": [
    "longitude_df = df.lon.to_numpy()\n",
    "latitude_df  = df.lat.to_numpy()"
   ]
  },
  {
   "cell_type": "code",
   "execution_count": 152,
   "metadata": {},
   "outputs": [
    {
     "data": {
      "text/plain": [
       "<matplotlib.collections.PathCollection at 0x2b0824220e80>"
      ]
     },
     "execution_count": 152,
     "metadata": {},
     "output_type": "execute_result"
    },
    {
     "data": {
      "image/png": "[encoded data removed]",
      "text/plain": [
       "<Figure size 432x288 with 1 Axes>"
      ]
     },
     "metadata": {
      "needs_background": "light"
     },
     "output_type": "display_data"
    }
   ],
   "source": [
    "plt.plot(longitudes, latitudes)\n",
    "plt.plot(longitudes_icepyx, latitudes_icepyx)\n",
    "plt.scatter(longitude_df, latitude_df, 0.5)"
   ]
  }
 ],
 "metadata": {
  "kernelspec": {
   "display_name": "Python [conda env:.conda-cloudmaskenv]",
   "language": "python",
   "name": "conda-env-.conda-cloudmaskenv-py"
  },
  "language_info": {
   "codemirror_mode": {
    "name": "ipython",
    "version": 3
   },
   "file_extension": ".py",
   "mimetype": "text/x-python",
   "name": "python",
   "nbconvert_exporter": "python",
   "pygments_lexer": "ipython3",
   "version": "3.8.5"
  }
 },
 "nbformat": 4,
 "nbformat_minor": 4
}
