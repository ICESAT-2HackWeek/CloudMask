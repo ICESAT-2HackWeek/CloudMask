{
 "cells": [
  {
   "cell_type": "code",
   "execution_count": 44,
   "metadata": {},
   "outputs": [],
   "source": [
    "#from icepyx import query as ipd\n",
    "import icepyx as ipx\n",
    "\n",
    "import os\n",
    "import shutil\n",
    "from pathlib import Path\n",
    "from pprint import pprint\n",
    "import geopandas as gpd\n",
    "from shapely.ops import unary_union\n",
    "\n",
    "import pandas as pd\n",
    "\n",
    "%matplotlib inline"
   ]
  },
  {
   "cell_type": "code",
   "execution_count": 45,
   "metadata": {},
   "outputs": [
    {
     "name": "stdout",
     "output_type": "stream",
     "text": [
      "The autoreload extension is already loaded. To reload it, use:\n",
      "  %reload_ext autoreload\n"
     ]
    }
   ],
   "source": [
    "%load_ext autoreload\n",
    "%autoreload 2"
   ]
  },
  {
   "cell_type": "code",
   "execution_count": 3,
   "metadata": {},
   "outputs": [],
   "source": [
    "import os\n",
    "os.chdir(\"/glade/u/home/fsapienza/CloudMask\")\n",
    "\n",
    "from utils_atl06 import *\n",
    "from utils import drainage_basin"
   ]
  },
  {
   "cell_type": "markdown",
   "metadata": {},
   "source": [
    "## Example No1\n",
    "\n",
    "Retrieving ATL06 data from bounding box"
   ]
  },
  {
   "cell_type": "code",
   "execution_count": 1,
   "metadata": {},
   "outputs": [],
   "source": [
    "spatial_extent = [ -50.71,  65.73, -45.32,  68.08]\n",
    "date_range = ['2019-06-01','2019-06-05']"
   ]
  },
  {
   "cell_type": "code",
   "execution_count": null,
   "metadata": {},
   "outputs": [],
   "source": [
    "df = read_atl06(spatial_extent, \n",
    "                date_range, \n",
    "                time_start = \"06:00:00\", \n",
    "                time_end = \"18:00:00\",\n",
    "                path = \"./data/ATL06\", \n",
    "                user = 'fsapienza', \n",
    "                email = 'fsapienza@berkeley.edu')"
   ]
  },
  {
   "cell_type": "code",
   "execution_count": null,
   "metadata": {},
   "outputs": [],
   "source": [
    "df"
   ]
  },
  {
   "cell_type": "code",
   "execution_count": 15,
   "metadata": {},
   "outputs": [
    {
     "data": {
      "text/plain": [
       "(5649, 32)"
      ]
     },
     "execution_count": 15,
     "metadata": {},
     "output_type": "execute_result"
    }
   ],
   "source": [
    "df[df.atl06_quality_summary == 1].shape"
   ]
  },
  {
   "cell_type": "code",
   "execution_count": 16,
   "metadata": {},
   "outputs": [
    {
     "data": {
      "image/png": "[encoded data removed]",
      "text/plain": [
       "<Figure size 432x288 with 1 Axes>"
      ]
     },
     "metadata": {
      "needs_background": "light"
     },
     "output_type": "display_data"
    }
   ],
   "source": [
    "from utils import hist_df\n",
    "hist_df(df[df.n_fit_photons < 10e3], 'n_fit_photons', 'beam_strength')"
   ]
  },
  {
   "cell_type": "code",
   "execution_count": 17,
   "metadata": {},
   "outputs": [
    {
     "data": {
      "text/html": [
       "<div>\n",
       "<style scoped>\n",
       "    .dataframe tbody tr th:only-of-type {\n",
       "        vertical-align: middle;\n",
       "    }\n",
       "\n",
       "    .dataframe tbody tr th {\n",
       "        vertical-align: top;\n",
       "    }\n",
       "\n",
       "    .dataframe thead th {\n",
       "        text-align: right;\n",
       "    }\n",
       "</style>\n",
       "<table border=\"1\" class=\"dataframe\">\n",
       "  <thead>\n",
       "    <tr style=\"text-align: right;\">\n",
       "      <th></th>\n",
       "      <th>ground_track</th>\n",
       "      <th>time</th>\n",
       "      <th>segment_id</th>\n",
       "      <th>beam_strength</th>\n",
       "      <th>latitide</th>\n",
       "      <th>longitude</th>\n",
       "      <th>h_li</th>\n",
       "      <th>dh_fit_dx</th>\n",
       "      <th>dh_fit_dy</th>\n",
       "      <th>snr</th>\n",
       "      <th>...</th>\n",
       "      <th>cloud_flg_atm</th>\n",
       "      <th>msw_flag</th>\n",
       "      <th>layer_flag</th>\n",
       "      <th>bckgrd</th>\n",
       "      <th>e_bckgrd</th>\n",
       "      <th>q_flag_1</th>\n",
       "      <th>q_flag_2</th>\n",
       "      <th>q_flag_3</th>\n",
       "      <th>q_flag_4</th>\n",
       "      <th>q_flag_5</th>\n",
       "    </tr>\n",
       "  </thead>\n",
       "  <tbody>\n",
       "    <tr>\n",
       "      <th>0</th>\n",
       "      <td>gt1l</td>\n",
       "      <td>2019-06-01 07:18:22.747013+00:00</td>\n",
       "      <td>371978</td>\n",
       "      <td>strong</td>\n",
       "      <td>66.862169</td>\n",
       "      <td>-45.326436</td>\n",
       "      <td>3.402823e+38</td>\n",
       "      <td>3.402823e+38</td>\n",
       "      <td>3.402823e+38</td>\n",
       "      <td>3.402823e+38</td>\n",
       "      <td>...</td>\n",
       "      <td>1</td>\n",
       "      <td>1</td>\n",
       "      <td>1</td>\n",
       "      <td>3.402823e+38</td>\n",
       "      <td>3.402823e+38</td>\n",
       "      <td>1</td>\n",
       "      <td>1</td>\n",
       "      <td>0</td>\n",
       "      <td>1</td>\n",
       "      <td>1</td>\n",
       "    </tr>\n",
       "    <tr>\n",
       "      <th>1</th>\n",
       "      <td>gt1l</td>\n",
       "      <td>2019-06-01 07:18:22.749913+00:00</td>\n",
       "      <td>371979</td>\n",
       "      <td>strong</td>\n",
       "      <td>66.862351</td>\n",
       "      <td>-45.326488</td>\n",
       "      <td>3.402823e+38</td>\n",
       "      <td>3.402823e+38</td>\n",
       "      <td>3.402823e+38</td>\n",
       "      <td>3.402823e+38</td>\n",
       "      <td>...</td>\n",
       "      <td>1</td>\n",
       "      <td>1</td>\n",
       "      <td>1</td>\n",
       "      <td>3.402823e+38</td>\n",
       "      <td>3.402823e+38</td>\n",
       "      <td>1</td>\n",
       "      <td>1</td>\n",
       "      <td>0</td>\n",
       "      <td>1</td>\n",
       "      <td>1</td>\n",
       "    </tr>\n",
       "    <tr>\n",
       "      <th>2</th>\n",
       "      <td>gt1l</td>\n",
       "      <td>2019-06-01 07:18:22.761213+00:00</td>\n",
       "      <td>371983</td>\n",
       "      <td>strong</td>\n",
       "      <td>66.863066</td>\n",
       "      <td>-45.326704</td>\n",
       "      <td>3.402823e+38</td>\n",
       "      <td>3.402823e+38</td>\n",
       "      <td>3.402823e+38</td>\n",
       "      <td>3.402823e+38</td>\n",
       "      <td>...</td>\n",
       "      <td>1</td>\n",
       "      <td>1</td>\n",
       "      <td>1</td>\n",
       "      <td>3.402823e+38</td>\n",
       "      <td>3.402823e+38</td>\n",
       "      <td>1</td>\n",
       "      <td>1</td>\n",
       "      <td>0</td>\n",
       "      <td>1</td>\n",
       "      <td>1</td>\n",
       "    </tr>\n",
       "    <tr>\n",
       "      <th>3</th>\n",
       "      <td>gt1l</td>\n",
       "      <td>2019-06-01 07:18:22.924563+00:00</td>\n",
       "      <td>372041</td>\n",
       "      <td>strong</td>\n",
       "      <td>66.873399</td>\n",
       "      <td>-45.329752</td>\n",
       "      <td>3.402823e+38</td>\n",
       "      <td>3.402823e+38</td>\n",
       "      <td>3.402823e+38</td>\n",
       "      <td>3.402823e+38</td>\n",
       "      <td>...</td>\n",
       "      <td>1</td>\n",
       "      <td>1</td>\n",
       "      <td>1</td>\n",
       "      <td>3.402823e+38</td>\n",
       "      <td>3.402823e+38</td>\n",
       "      <td>1</td>\n",
       "      <td>1</td>\n",
       "      <td>0</td>\n",
       "      <td>1</td>\n",
       "      <td>1</td>\n",
       "    </tr>\n",
       "    <tr>\n",
       "      <th>4</th>\n",
       "      <td>gt1l</td>\n",
       "      <td>2019-06-01 07:18:23.076715+00:00</td>\n",
       "      <td>372095</td>\n",
       "      <td>strong</td>\n",
       "      <td>66.883032</td>\n",
       "      <td>-45.332678</td>\n",
       "      <td>3.402823e+38</td>\n",
       "      <td>3.402823e+38</td>\n",
       "      <td>3.402823e+38</td>\n",
       "      <td>3.085928e-01</td>\n",
       "      <td>...</td>\n",
       "      <td>1</td>\n",
       "      <td>1</td>\n",
       "      <td>1</td>\n",
       "      <td>3.402823e+38</td>\n",
       "      <td>3.402823e+38</td>\n",
       "      <td>1</td>\n",
       "      <td>1</td>\n",
       "      <td>1</td>\n",
       "      <td>1</td>\n",
       "      <td>1</td>\n",
       "    </tr>\n",
       "  </tbody>\n",
       "</table>\n",
       "<p>5 rows × 32 columns</p>\n",
       "</div>"
      ],
      "text/plain": [
       "  ground_track                             time  segment_id beam_strength  \\\n",
       "0         gt1l 2019-06-01 07:18:22.747013+00:00      371978        strong   \n",
       "1         gt1l 2019-06-01 07:18:22.749913+00:00      371979        strong   \n",
       "2         gt1l 2019-06-01 07:18:22.761213+00:00      371983        strong   \n",
       "3         gt1l 2019-06-01 07:18:22.924563+00:00      372041        strong   \n",
       "4         gt1l 2019-06-01 07:18:23.076715+00:00      372095        strong   \n",
       "\n",
       "    latitide  longitude          h_li     dh_fit_dx     dh_fit_dy  \\\n",
       "0  66.862169 -45.326436  3.402823e+38  3.402823e+38  3.402823e+38   \n",
       "1  66.862351 -45.326488  3.402823e+38  3.402823e+38  3.402823e+38   \n",
       "2  66.863066 -45.326704  3.402823e+38  3.402823e+38  3.402823e+38   \n",
       "3  66.873399 -45.329752  3.402823e+38  3.402823e+38  3.402823e+38   \n",
       "4  66.883032 -45.332678  3.402823e+38  3.402823e+38  3.402823e+38   \n",
       "\n",
       "            snr  ...  cloud_flg_atm  msw_flag  layer_flag        bckgrd  \\\n",
       "0  3.402823e+38  ...              1         1           1  3.402823e+38   \n",
       "1  3.402823e+38  ...              1         1           1  3.402823e+38   \n",
       "2  3.402823e+38  ...              1         1           1  3.402823e+38   \n",
       "3  3.402823e+38  ...              1         1           1  3.402823e+38   \n",
       "4  3.085928e-01  ...              1         1           1  3.402823e+38   \n",
       "\n",
       "       e_bckgrd  q_flag_1  q_flag_2  q_flag_3  q_flag_4  q_flag_5  \n",
       "0  3.402823e+38         1         1         0         1         1  \n",
       "1  3.402823e+38         1         1         0         1         1  \n",
       "2  3.402823e+38         1         1         0         1         1  \n",
       "3  3.402823e+38         1         1         0         1         1  \n",
       "4  3.402823e+38         1         1         1         1         1  \n",
       "\n",
       "[5 rows x 32 columns]"
      ]
     },
     "execution_count": 17,
     "metadata": {},
     "output_type": "execute_result"
    }
   ],
   "source": [
    "df.head()"
   ]
  },
  {
   "cell_type": "code",
   "execution_count": 18,
   "metadata": {},
   "outputs": [
    {
     "data": {
      "text/plain": [
       "True"
      ]
     },
     "execution_count": 18,
     "metadata": {},
     "output_type": "execute_result"
    }
   ],
   "source": [
    "all( np.unique(df['atl06_quality_summary']) == [0,1] )"
   ]
  },
  {
   "cell_type": "code",
   "execution_count": 19,
   "metadata": {},
   "outputs": [
    {
     "data": {
      "image/png": "[encoded data removed]",
      "text/plain": [
       "<Figure size 432x288 with 2 Axes>"
      ]
     },
     "metadata": {
      "needs_background": "light"
     },
     "output_type": "display_data"
    }
   ],
   "source": [
    "cond_matrix = conditional_heatplot(df, ['atl06_quality_summary', 'q_flag_1', 'q_flag_2', 'q_flag_3', 'q_flag_4', 'q_flag_5'])"
   ]
  },
  {
   "cell_type": "markdown",
   "metadata": {},
   "source": [
    "## Example No2 \n",
    "\n",
    "Here we are going to retrieve granules included in one speficic granule basin in Greenland\n",
    "\n",
    "<div>\n",
    "<img src=\"https://icesat4.gsfc.nasa.gov/cryo_data/drainage_divides/Grn_Drainage_Systems.png\" align=\"center\" width=\"300\"/>\n",
    "</div>"
   ]
  },
  {
   "cell_type": "markdown",
   "metadata": {},
   "source": [
    "#### Granule basin"
   ]
  },
  {
   "cell_type": "code",
   "execution_count": 4,
   "metadata": {},
   "outputs": [],
   "source": [
    "#from osgeo import osr\n",
    "\n",
    "#os.chdir(\"/glade/u/home/fsapienza/CloudMask/drainage_basin\")"
   ]
  },
  {
   "cell_type": "code",
   "execution_count": 37,
   "metadata": {},
   "outputs": [],
   "source": [
    "basin_id = 6.2\n",
    "\n",
    "polygon = drainage_basin(basin = basin_id, \n",
    "                         polygon_size = 5000)\n",
    "\n",
    "date_range = ['2019-06-10', '2019-06-11']"
   ]
  },
  {
   "cell_type": "code",
   "execution_count": 38,
   "metadata": {},
   "outputs": [],
   "source": [
    "full_polygon = drainage_basin(basin = 6.2)"
   ]
  },
  {
   "cell_type": "code",
   "execution_count": 39,
   "metadata": {},
   "outputs": [
    {
     "data": {
      "text/plain": [
       "[<matplotlib.lines.Line2D at 0x2b2c27e0fd90>]"
      ]
     },
     "execution_count": 39,
     "metadata": {},
     "output_type": "execute_result"
    },
    {
     "data": {
      "image/png": "[encoded data removed]",
      "text/plain": [
       "<Figure size 432x288 with 1 Axes>"
      ]
     },
     "metadata": {
      "needs_background": "light"
     },
     "output_type": "display_data"
    }
   ],
   "source": [
    "longitudes_icepyx, latitudes_icepyx = polygon.exterior.xy\n",
    "longitudes, latitudes = full_polygon.exterior.xy\n",
    "\n",
    "plt.plot(longitudes, latitudes)\n",
    "plt.plot(longitudes_icepyx, latitudes_icepyx)"
   ]
  },
  {
   "cell_type": "code",
   "execution_count": 40,
   "metadata": {},
   "outputs": [],
   "source": [
    "os.chdir(\"/glade/u/home/fsapienza/CloudMask\")"
   ]
  },
  {
   "cell_type": "code",
   "execution_count": 41,
   "metadata": {},
   "outputs": [],
   "source": [
    "spatial_extent = list(polygon.exterior.coords)"
   ]
  },
  {
   "cell_type": "code",
   "execution_count": 43,
   "metadata": {},
   "outputs": [
    {
     "name": "stdout",
     "output_type": "stream",
     "text": [
      "Available Granules: ['ATL06_20190610191843_11230305_003_01.h5']\n",
      "Total number of data order requests is  1  for  1  granules.\n",
      "Data request  1  of  1  is submitting to NSIDC\n"
     ]
    },
    {
     "ename": "ParseError",
     "evalue": "syntax error: line 1, column 49 (<string>)",
     "output_type": "error",
     "traceback": [
      "Traceback \u001b[0;36m(most recent call last)\u001b[0m:\n",
      "  File \u001b[1;32m\"/glade/u/home/fsapienza/.conda/envs/cloudmaskenv/lib/python3.8/site-packages/IPython/core/interactiveshell.py\"\u001b[0m, line \u001b[1;32m3343\u001b[0m, in \u001b[1;35mrun_code\u001b[0m\n    exec(code_obj, self.user_global_ns, self.user_ns)\n",
      "  File \u001b[1;32m\"<ipython-input-43-719fa45bf69c>\"\u001b[0m, line \u001b[1;32m1\u001b[0m, in \u001b[1;35m<module>\u001b[0m\n    df = read_atl06(spatial_extent,\n",
      "  File \u001b[1;32m\"/glade/u/home/fsapienza/CloudMask/utils_atl06.py\"\u001b[0m, line \u001b[1;32m263\u001b[0m, in \u001b[1;35mread_atl06\u001b[0m\n    region_a.order_granules()\n",
      "  File \u001b[1;32m\"/glade/u/home/fsapienza/icepyx/icepyx/core/query.py\"\u001b[0m, line \u001b[1;32m828\u001b[0m, in \u001b[1;35morder_granules\u001b[0m\n    self._granules.place_order(\n",
      "  File \u001b[1;32m\"/glade/u/home/fsapienza/icepyx/icepyx/core/granules.py\"\u001b[0m, line \u001b[1;32m287\u001b[0m, in \u001b[1;35mplace_order\u001b[0m\n    root = ET.fromstring(request.content)\n",
      "\u001b[0;36m  File \u001b[0;32m\"/glade/u/home/fsapienza/.conda/envs/cloudmaskenv/lib/python3.8/xml/etree/ElementTree.py\"\u001b[0;36m, line \u001b[0;32m1320\u001b[0;36m, in \u001b[0;35mXML\u001b[0;36m\u001b[0m\n\u001b[0;31m    parser.feed(text)\u001b[0m\n",
      "\u001b[0;36m  File \u001b[0;32m\"<string>\"\u001b[0;36m, line \u001b[0;32munknown\u001b[0m\n\u001b[0;31mParseError\u001b[0m\u001b[0;31m:\u001b[0m syntax error: line 1, column 49\n"
     ]
    }
   ],
   "source": [
    "df = read_atl06(spatial_extent, \n",
    "                date_range, \n",
    "                time_start = \"15:00:00\", \n",
    "                time_end = \"16:59:59\",\n",
    "                path = \"./data/new_ATL06\", \n",
    "                user = 'fsapienza', \n",
    "                email = 'fsapienza@berkeley.edu')"
   ]
  },
  {
   "cell_type": "code",
   "execution_count": 35,
   "metadata": {},
   "outputs": [],
   "source": [
    "longitude_df = df.longitude.to_numpy()\n",
    "latitude_df  = df.latitude.to_numpy()"
   ]
  },
  {
   "cell_type": "code",
   "execution_count": 36,
   "metadata": {},
   "outputs": [
    {
     "data": {
      "text/plain": [
       "<matplotlib.collections.PathCollection at 0x2b2c27acc2b0>"
      ]
     },
     "execution_count": 36,
     "metadata": {},
     "output_type": "execute_result"
    },
    {
     "data": {
      "image/png": "[encoded data removed]",
      "text/plain": [
       "<Figure size 432x288 with 1 Axes>"
      ]
     },
     "metadata": {
      "needs_background": "light"
     },
     "output_type": "display_data"
    }
   ],
   "source": [
    "plt.plot(longitudes, latitudes)\n",
    "plt.plot(longitudes_icepyx, latitudes_icepyx)\n",
    "plt.scatter(longitude_df, latitude_df, 0.5)"
   ]
  },
  {
   "cell_type": "markdown",
   "metadata": {},
   "source": [
    "## Example No3\n",
    "\n",
    "Combining different Drainage basins"
   ]
  },
  {
   "cell_type": "code",
   "execution_count": 50,
   "metadata": {},
   "outputs": [],
   "source": [
    "basins_ids = [1.1, 1.2, 1.3, 1.4,\n",
    "              2.1, 2.2, \n",
    "              3.1, 3.2, 3.3, \n",
    "              4.1, 4.2, 4.3,\n",
    "              5.0,\n",
    "              6.1, 6.2,\n",
    "              7.1, 7.2, \n",
    "              8.1, 8.2]"
   ]
  },
  {
   "cell_type": "code",
   "execution_count": 103,
   "metadata": {},
   "outputs": [],
   "source": [
    "my_basins = basins_ids\n",
    "#my_basins = [2.1, 2.2]\n",
    "\n",
    "polygons = [drainage_basin(basin_id) for basin_id in my_basins ]\n",
    "\n",
    "poly_full = unary_union(polygons)\n",
    "\n",
    "poly_full_simplify = poly_full.simplify(tolerance=0.5)"
   ]
  },
  {
   "cell_type": "code",
   "execution_count": 104,
   "metadata": {},
   "outputs": [
    {
     "name": "stdout",
     "output_type": "stream",
     "text": [
      "9918 122\n"
     ]
    },
    {
     "data": {
      "text/plain": [
       "[<matplotlib.lines.Line2D at 0x2b39ffb797c0>]"
      ]
     },
     "execution_count": 104,
     "metadata": {},
     "output_type": "execute_result"
    },
    {
     "data": {
      "image/png": "[encoded data removed]",
      "text/plain": [
       "<Figure size 432x288 with 1 Axes>"
      ]
     },
     "metadata": {
      "needs_background": "light"
     },
     "output_type": "display_data"
    }
   ],
   "source": [
    "x, y = poly_full.exterior.xy\n",
    "x_simp, y_simp = poly_full_simplify.exterior.xy\n",
    "\n",
    "print(len(x), len(x_simp))\n",
    "\n",
    "plt.plot(x,y)\n",
    "plt.plot(x_simp, y_simp)"
   ]
  },
  {
   "cell_type": "code",
   "execution_count": 105,
   "metadata": {},
   "outputs": [],
   "source": [
    "date_range = ['2019-06-10', '2019-06-10']\n",
    "\n",
    "spatial_extent = list(poly_full_simplify.exterior.coords)"
   ]
  },
  {
   "cell_type": "code",
   "execution_count": 108,
   "metadata": {},
   "outputs": [
    {
     "name": "stdout",
     "output_type": "stream",
     "text": [
      "Available Granules: ['ATL06_20190610191334_11230304_003_01.h5', 'ATL06_20190610191843_11230305_003_01.h5', 'ATL06_20190610204751_11240304_003_01.h5', 'ATL06_20190610205300_11240305_003_01.h5', 'ATL06_20190611043353_11290303_003_01.h5', 'ATL06_20190611043918_11290304_003_01.h5', 'ATL06_20190611060811_11300303_003_01.h5', 'ATL06_20190611061336_11300304_003_01.h5', 'ATL06_20190611074228_11310303_003_01.h5', 'ATL06_20190611074753_11310304_003_01.h5', 'ATL06_20190611184755_11380304_003_01.h5', 'ATL06_20190611185304_11380305_003_01.h5', 'ATL06_20190611202212_11390304_003_01.h5', 'ATL06_20190611202721_11390305_003_01.h5', 'ATL06_20190612054231_11450303_003_01.h5', 'ATL06_20190612054756_11450304_003_01.h5', 'ATL06_20190612182215_11530304_003_01.h5', 'ATL06_20190612182724_11530305_003_01.h5', 'ATL06_20190612195632_11540304_003_01.h5', 'ATL06_20190612200142_11540305_003_01.h5', 'ATL06_20190613051652_11600303_003_01.h5', 'ATL06_20190613052217_11600304_003_01.h5', 'ATL06_20190613065109_11610303_003_01.h5', 'ATL06_20190613065634_11610304_003_01.h5', 'ATL06_20190613175636_11680304_003_01.h5', 'ATL06_20190613180145_11680305_003_01.h5', 'ATL06_20190613193053_11690304_003_01.h5', 'ATL06_20190613193602_11690305_003_01.h5', 'ATL06_20190613210510_11700304_003_01.h5', 'ATL06_20190613211020_11700305_003_01.h5', 'ATL06_20190614045113_11750303_003_01.h5', 'ATL06_20190614045638_11750304_003_01.h5', 'ATL06_20190614062530_11760303_003_01.h5', 'ATL06_20190614063055_11760304_003_01.h5', 'ATL06_20190614075947_11770303_003_01.h5', 'ATL06_20190614080513_11770304_003_01.h5', 'ATL06_20190614190514_11840304_003_01.h5', 'ATL06_20190614191023_11840305_003_01.h5', 'ATL06_20190614203931_11850304_003_01.h5', 'ATL06_20190614204441_11850305_003_01.h5', 'ATL06_20190615042533_11900303_003_01.h5', 'ATL06_20190615043058_11900304_003_01.h5', 'ATL06_20190615055951_11910303_003_01.h5', 'ATL06_20190615060516_11910304_003_01.h5', 'ATL06_20190615073408_11920303_003_01.h5', 'ATL06_20190615073933_11920304_003_01.h5']\n",
      "Total number of data order requests is  5  for  46  granules.\n",
      "Data request  1  of  5  is submitting to NSIDC\n",
      "order ID:  5000000952717\n",
      "Initial status of your order request at NSIDC is:  pending\n",
      "Your order status is still  pending  at NSIDC. Please continue waiting... this may take a few moments.\n",
      "Your order status is still  processing  at NSIDC. Please continue waiting... this may take a few moments.\n",
      "Your order status is still  processing  at NSIDC. Please continue waiting... this may take a few moments.\n",
      "Your order status is still  processing  at NSIDC. Please continue waiting... this may take a few moments.\n",
      "Your order status is still  processing  at NSIDC. Please continue waiting... this may take a few moments.\n",
      "Your order status is still  processing  at NSIDC. Please continue waiting... this may take a few moments.\n",
      "Your order status is still  processing  at NSIDC. Please continue waiting... this may take a few moments.\n",
      "Your order is: complete\n",
      "Data request  2  of  5  is submitting to NSIDC\n",
      "order ID:  5000000952718\n",
      "Initial status of your order request at NSIDC is:  pending\n",
      "Your order status is still  pending  at NSIDC. Please continue waiting... this may take a few moments.\n",
      "Your order status is still  processing  at NSIDC. Please continue waiting... this may take a few moments.\n",
      "Your order status is still  processing  at NSIDC. Please continue waiting... this may take a few moments.\n",
      "Your order status is still  processing  at NSIDC. Please continue waiting... this may take a few moments.\n",
      "Your order status is still  processing  at NSIDC. Please continue waiting... this may take a few moments.\n",
      "Your order status is still  processing  at NSIDC. Please continue waiting... this may take a few moments.\n",
      "Your order is: complete\n",
      "Data request  3  of  5  is submitting to NSIDC\n",
      "order ID:  5000000952720\n",
      "Initial status of your order request at NSIDC is:  pending\n",
      "Your order status is still  pending  at NSIDC. Please continue waiting... this may take a few moments.\n",
      "Your order status is still  processing  at NSIDC. Please continue waiting... this may take a few moments.\n",
      "Your order status is still  processing  at NSIDC. Please continue waiting... this may take a few moments.\n",
      "Your order status is still  processing  at NSIDC. Please continue waiting... this may take a few moments.\n",
      "Your order status is still  processing  at NSIDC. Please continue waiting... this may take a few moments.\n",
      "Your order status is still  processing  at NSIDC. Please continue waiting... this may take a few moments.\n",
      "Your order status is still  processing  at NSIDC. Please continue waiting... this may take a few moments.\n",
      "Your order is: complete\n",
      "Data request  4  of  5  is submitting to NSIDC\n",
      "order ID:  5000000952721\n",
      "Initial status of your order request at NSIDC is:  pending\n",
      "Your order status is still  pending  at NSIDC. Please continue waiting... this may take a few moments.\n",
      "Your order status is still  processing  at NSIDC. Please continue waiting... this may take a few moments.\n",
      "Your order status is still  processing  at NSIDC. Please continue waiting... this may take a few moments.\n",
      "Your order status is still  processing  at NSIDC. Please continue waiting... this may take a few moments.\n",
      "Your order status is still  processing  at NSIDC. Please continue waiting... this may take a few moments.\n",
      "Your order status is still  processing  at NSIDC. Please continue waiting... this may take a few moments.\n",
      "Your order is: complete\n",
      "Data request  5  of  5  is submitting to NSIDC\n",
      "order ID:  5000000952723\n",
      "Initial status of your order request at NSIDC is:  pending\n",
      "Your order status is still  pending  at NSIDC. Please continue waiting... this may take a few moments.\n",
      "Your order status is still  processing  at NSIDC. Please continue waiting... this may take a few moments.\n",
      "Your order status is still  processing  at NSIDC. Please continue waiting... this may take a few moments.\n",
      "Your order status is still  processing  at NSIDC. Please continue waiting... this may take a few moments.\n",
      "Your order status is still  processing  at NSIDC. Please continue waiting... this may take a few moments.\n",
      "Your order is: complete\n",
      "Beginning download of zipped output...\n",
      "Data request 5000000952717 of  5  order(s) is downloaded.\n",
      "Beginning download of zipped output...\n",
      "Data request 5000000952718 of  5  order(s) is downloaded.\n",
      "Beginning download of zipped output...\n",
      "Data request 5000000952720 of  5  order(s) is downloaded.\n",
      "Beginning download of zipped output...\n",
      "Data request 5000000952721 of  5  order(s) is downloaded.\n",
      "Beginning download of zipped output...\n",
      "Data request 5000000952723 of  5  order(s) is downloaded.\n",
      "Download complete\n",
      "ATL06_20190611043353_11290303_003_01.h5 not found\n",
      "ATL06_20190611043918_11290304_003_01.h5 not found\n",
      "ATL06_20190611074753_11310304_003_01.h5 not found\n",
      "ATL06_20190612182215_11530304_003_01.h5 not found\n",
      "ATL06_20190613175636_11680304_003_01.h5 not found\n",
      "ATL06_20190613210510_11700304_003_01.h5 not found\n",
      "ATL06_20190614080513_11770304_003_01.h5 not found\n",
      "ATL06_20190615043058_11900304_003_01.h5 not found\n",
      "ATL06_20190615073933_11920304_003_01.h5 not found\n",
      "You are missing some files. There are a total of 46 available granules but you are accessing 37 h5 files\n",
      ">>>  data/new_ATL06/processed_ATL06_20190610191334_11230304_003_01.h5\n",
      ">>>  data/new_ATL06/processed_ATL06_20190610191843_11230305_003_01.h5\n",
      ">>>  data/new_ATL06/processed_ATL06_20190610204751_11240304_003_01.h5\n",
      ">>>  data/new_ATL06/processed_ATL06_20190610205300_11240305_003_01.h5\n",
      ">>>  data/new_ATL06/processed_ATL06_20190611060811_11300303_003_01.h5\n",
      ">>>  data/new_ATL06/processed_ATL06_20190611061336_11300304_003_01.h5\n",
      ">>>  data/new_ATL06/processed_ATL06_20190611074228_11310303_003_01.h5\n",
      ">>>  data/new_ATL06/processed_ATL06_20190611184755_11380304_003_01.h5\n",
      ">>>  data/new_ATL06/processed_ATL06_20190611185304_11380305_003_01.h5\n",
      ">>>  data/new_ATL06/processed_ATL06_20190611202212_11390304_003_01.h5\n",
      ">>>  data/new_ATL06/processed_ATL06_20190611202721_11390305_003_01.h5\n",
      ">>>  data/new_ATL06/processed_ATL06_20190612054231_11450303_003_01.h5\n",
      ">>>  data/new_ATL06/processed_ATL06_20190612054756_11450304_003_01.h5\n",
      ">>>  data/new_ATL06/processed_ATL06_20190612182724_11530305_003_01.h5\n",
      ">>>  data/new_ATL06/processed_ATL06_20190612195632_11540304_003_01.h5\n",
      ">>>  data/new_ATL06/processed_ATL06_20190612200142_11540305_003_01.h5\n",
      ">>>  data/new_ATL06/processed_ATL06_20190613051652_11600303_003_01.h5\n",
      ">>>  data/new_ATL06/processed_ATL06_20190613052217_11600304_003_01.h5\n",
      ">>>  data/new_ATL06/processed_ATL06_20190613065109_11610303_003_01.h5\n",
      ">>>  data/new_ATL06/processed_ATL06_20190613065634_11610304_003_01.h5\n",
      ">>>  data/new_ATL06/processed_ATL06_20190613180145_11680305_003_01.h5\n",
      ">>>  data/new_ATL06/processed_ATL06_20190613193053_11690304_003_01.h5\n",
      ">>>  data/new_ATL06/processed_ATL06_20190613193602_11690305_003_01.h5\n",
      ">>>  data/new_ATL06/processed_ATL06_20190613211020_11700305_003_01.h5\n",
      ">>>  data/new_ATL06/processed_ATL06_20190614045113_11750303_003_01.h5\n",
      ">>>  data/new_ATL06/processed_ATL06_20190614045638_11750304_003_01.h5\n",
      ">>>  data/new_ATL06/processed_ATL06_20190614062530_11760303_003_01.h5\n",
      ">>>  data/new_ATL06/processed_ATL06_20190614063055_11760304_003_01.h5\n",
      ">>>  data/new_ATL06/processed_ATL06_20190614075947_11770303_003_01.h5\n",
      ">>>  data/new_ATL06/processed_ATL06_20190614190514_11840304_003_01.h5\n",
      ">>>  data/new_ATL06/processed_ATL06_20190614191023_11840305_003_01.h5\n",
      ">>>  data/new_ATL06/processed_ATL06_20190614203931_11850304_003_01.h5\n",
      ">>>  data/new_ATL06/processed_ATL06_20190614204441_11850305_003_01.h5\n",
      ">>>  data/new_ATL06/processed_ATL06_20190615042533_11900303_003_01.h5\n",
      ">>>  data/new_ATL06/processed_ATL06_20190615055951_11910303_003_01.h5\n",
      ">>>  data/new_ATL06/processed_ATL06_20190615060516_11910304_003_01.h5\n",
      ">>>  data/new_ATL06/processed_ATL06_20190615073408_11920303_003_01.h5\n"
     ]
    }
   ],
   "source": [
    "df = read_atl06(spatial_extent, \n",
    "                date_range, \n",
    "                time_start = \"15:00:00\", \n",
    "                time_end = \"15:14:59\",\n",
    "                path = \"./data/new_ATL06\", \n",
    "                user = 'fsapienza', \n",
    "                email = 'fsapienza@berkeley.edu')"
   ]
  },
  {
   "cell_type": "code",
   "execution_count": 109,
   "metadata": {},
   "outputs": [
    {
     "data": {
      "text/html": [
       "<div>\n",
       "<style scoped>\n",
       "    .dataframe tbody tr th:only-of-type {\n",
       "        vertical-align: middle;\n",
       "    }\n",
       "\n",
       "    .dataframe tbody tr th {\n",
       "        vertical-align: top;\n",
       "    }\n",
       "\n",
       "    .dataframe thead th {\n",
       "        text-align: right;\n",
       "    }\n",
       "</style>\n",
       "<table border=\"1\" class=\"dataframe\">\n",
       "  <thead>\n",
       "    <tr style=\"text-align: right;\">\n",
       "      <th></th>\n",
       "      <th>ground_track</th>\n",
       "      <th>time</th>\n",
       "      <th>segment_id</th>\n",
       "      <th>beam_strength</th>\n",
       "      <th>time_2</th>\n",
       "      <th>latitude</th>\n",
       "      <th>longitude</th>\n",
       "      <th>h_li</th>\n",
       "      <th>dh_fit_dx</th>\n",
       "      <th>dh_fit_dy</th>\n",
       "      <th>...</th>\n",
       "      <th>cloud_flg_atm</th>\n",
       "      <th>msw_flag</th>\n",
       "      <th>layer_flag</th>\n",
       "      <th>bckgrd</th>\n",
       "      <th>e_bckgrd</th>\n",
       "      <th>q_flag_1</th>\n",
       "      <th>q_flag_2</th>\n",
       "      <th>q_flag_3</th>\n",
       "      <th>q_flag_4</th>\n",
       "      <th>q_flag_5</th>\n",
       "    </tr>\n",
       "  </thead>\n",
       "  <tbody>\n",
       "    <tr>\n",
       "      <th>0</th>\n",
       "      <td>gt1l</td>\n",
       "      <td>2019-06-10 19:18:31.671569+00:00</td>\n",
       "      <td>545265</td>\n",
       "      <td>strong</td>\n",
       "      <td>2019-06-10 19:18:50.671569</td>\n",
       "      <td>81.821748</td>\n",
       "      <td>-33.205490</td>\n",
       "      <td>292.474152</td>\n",
       "      <td>-0.595139</td>\n",
       "      <td>3.402823e+38</td>\n",
       "      <td>...</td>\n",
       "      <td>1</td>\n",
       "      <td>3</td>\n",
       "      <td>0</td>\n",
       "      <td>1544938.50</td>\n",
       "      <td>2312064.00</td>\n",
       "      <td>1</td>\n",
       "      <td>1</td>\n",
       "      <td>0</td>\n",
       "      <td>0</td>\n",
       "      <td>0</td>\n",
       "    </tr>\n",
       "    <tr>\n",
       "      <th>1</th>\n",
       "      <td>gt1l</td>\n",
       "      <td>2019-06-10 19:18:31.674371+00:00</td>\n",
       "      <td>545266</td>\n",
       "      <td>strong</td>\n",
       "      <td>2019-06-10 19:18:50.674371</td>\n",
       "      <td>81.821575</td>\n",
       "      <td>-33.205807</td>\n",
       "      <td>280.050690</td>\n",
       "      <td>-0.690392</td>\n",
       "      <td>-1.518472e-01</td>\n",
       "      <td>...</td>\n",
       "      <td>1</td>\n",
       "      <td>3</td>\n",
       "      <td>0</td>\n",
       "      <td>1810824.75</td>\n",
       "      <td>2312071.50</td>\n",
       "      <td>1</td>\n",
       "      <td>0</td>\n",
       "      <td>0</td>\n",
       "      <td>0</td>\n",
       "      <td>0</td>\n",
       "    </tr>\n",
       "    <tr>\n",
       "      <th>2</th>\n",
       "      <td>gt1l</td>\n",
       "      <td>2019-06-10 19:18:31.677170+00:00</td>\n",
       "      <td>545267</td>\n",
       "      <td>strong</td>\n",
       "      <td>2019-06-10 19:18:50.677170</td>\n",
       "      <td>81.821401</td>\n",
       "      <td>-33.206124</td>\n",
       "      <td>266.137299</td>\n",
       "      <td>-0.554570</td>\n",
       "      <td>-1.567262e-01</td>\n",
       "      <td>...</td>\n",
       "      <td>1</td>\n",
       "      <td>3</td>\n",
       "      <td>0</td>\n",
       "      <td>2253673.00</td>\n",
       "      <td>2309152.75</td>\n",
       "      <td>1</td>\n",
       "      <td>0</td>\n",
       "      <td>0</td>\n",
       "      <td>0</td>\n",
       "      <td>0</td>\n",
       "    </tr>\n",
       "    <tr>\n",
       "      <th>3</th>\n",
       "      <td>gt1l</td>\n",
       "      <td>2019-06-10 19:18:31.679975+00:00</td>\n",
       "      <td>545268</td>\n",
       "      <td>strong</td>\n",
       "      <td>2019-06-10 19:18:50.679975</td>\n",
       "      <td>81.821228</td>\n",
       "      <td>-33.206442</td>\n",
       "      <td>255.120560</td>\n",
       "      <td>-0.003246</td>\n",
       "      <td>-1.469671e-01</td>\n",
       "      <td>...</td>\n",
       "      <td>1</td>\n",
       "      <td>3</td>\n",
       "      <td>0</td>\n",
       "      <td>2609186.50</td>\n",
       "      <td>2309161.00</td>\n",
       "      <td>0</td>\n",
       "      <td>0</td>\n",
       "      <td>0</td>\n",
       "      <td>0</td>\n",
       "      <td>0</td>\n",
       "    </tr>\n",
       "    <tr>\n",
       "      <th>4</th>\n",
       "      <td>gt1l</td>\n",
       "      <td>2019-06-10 19:18:31.682789+00:00</td>\n",
       "      <td>545269</td>\n",
       "      <td>strong</td>\n",
       "      <td>2019-06-10 19:18:50.682789</td>\n",
       "      <td>81.821055</td>\n",
       "      <td>-33.206765</td>\n",
       "      <td>255.104111</td>\n",
       "      <td>-0.001634</td>\n",
       "      <td>-1.108392e-01</td>\n",
       "      <td>...</td>\n",
       "      <td>1</td>\n",
       "      <td>3</td>\n",
       "      <td>0</td>\n",
       "      <td>2747718.00</td>\n",
       "      <td>2309169.50</td>\n",
       "      <td>0</td>\n",
       "      <td>0</td>\n",
       "      <td>0</td>\n",
       "      <td>0</td>\n",
       "      <td>0</td>\n",
       "    </tr>\n",
       "  </tbody>\n",
       "</table>\n",
       "<p>5 rows × 33 columns</p>\n",
       "</div>"
      ],
      "text/plain": [
       "  ground_track                             time  segment_id beam_strength  \\\n",
       "0         gt1l 2019-06-10 19:18:31.671569+00:00      545265        strong   \n",
       "1         gt1l 2019-06-10 19:18:31.674371+00:00      545266        strong   \n",
       "2         gt1l 2019-06-10 19:18:31.677170+00:00      545267        strong   \n",
       "3         gt1l 2019-06-10 19:18:31.679975+00:00      545268        strong   \n",
       "4         gt1l 2019-06-10 19:18:31.682789+00:00      545269        strong   \n",
       "\n",
       "                      time_2   latitude  longitude        h_li  dh_fit_dx  \\\n",
       "0 2019-06-10 19:18:50.671569  81.821748 -33.205490  292.474152  -0.595139   \n",
       "1 2019-06-10 19:18:50.674371  81.821575 -33.205807  280.050690  -0.690392   \n",
       "2 2019-06-10 19:18:50.677170  81.821401 -33.206124  266.137299  -0.554570   \n",
       "3 2019-06-10 19:18:50.679975  81.821228 -33.206442  255.120560  -0.003246   \n",
       "4 2019-06-10 19:18:50.682789  81.821055 -33.206765  255.104111  -0.001634   \n",
       "\n",
       "      dh_fit_dy  ...  cloud_flg_atm  msw_flag  layer_flag      bckgrd  \\\n",
       "0  3.402823e+38  ...              1         3           0  1544938.50   \n",
       "1 -1.518472e-01  ...              1         3           0  1810824.75   \n",
       "2 -1.567262e-01  ...              1         3           0  2253673.00   \n",
       "3 -1.469671e-01  ...              1         3           0  2609186.50   \n",
       "4 -1.108392e-01  ...              1         3           0  2747718.00   \n",
       "\n",
       "     e_bckgrd  q_flag_1  q_flag_2  q_flag_3  q_flag_4  q_flag_5  \n",
       "0  2312064.00         1         1         0         0         0  \n",
       "1  2312071.50         1         0         0         0         0  \n",
       "2  2309152.75         1         0         0         0         0  \n",
       "3  2309161.00         0         0         0         0         0  \n",
       "4  2309169.50         0         0         0         0         0  \n",
       "\n",
       "[5 rows x 33 columns]"
      ]
     },
     "execution_count": 109,
     "metadata": {},
     "output_type": "execute_result"
    }
   ],
   "source": [
    "df.head()"
   ]
  },
  {
   "cell_type": "code",
   "execution_count": 110,
   "metadata": {},
   "outputs": [],
   "source": [
    "longitude_df = df.longitude.to_numpy()\n",
    "latitude_df  = df.latitude.to_numpy()"
   ]
  },
  {
   "cell_type": "code",
   "execution_count": 116,
   "metadata": {},
   "outputs": [
    {
     "data": {
      "text/plain": [
       "<matplotlib.collections.PathCollection at 0x2b39ff155400>"
      ]
     },
     "execution_count": 116,
     "metadata": {},
     "output_type": "execute_result"
    },
    {
     "data": {
      "image/png": "[encoded data removed]",
      "text/plain": [
       "<Figure size 432x288 with 1 Axes>"
      ]
     },
     "metadata": {
      "needs_background": "light"
     },
     "output_type": "display_data"
    }
   ],
   "source": [
    "plt.plot(x,y, 'r')\n",
    "#plt.plot(longitudes_icepyx, latitudes_icepyx)\n",
    "plt.scatter(longitude_df, latitude_df, 0.1)"
   ]
  },
  {
   "cell_type": "code",
   "execution_count": null,
   "metadata": {},
   "outputs": [],
   "source": []
  },
  {
   "cell_type": "code",
   "execution_count": null,
   "metadata": {},
   "outputs": [],
   "source": []
  },
  {
   "cell_type": "code",
   "execution_count": null,
   "metadata": {},
   "outputs": [],
   "source": []
  },
  {
   "cell_type": "code",
   "execution_count": null,
   "metadata": {},
   "outputs": [],
   "source": []
  },
  {
   "cell_type": "code",
   "execution_count": null,
   "metadata": {},
   "outputs": [],
   "source": []
  },
  {
   "cell_type": "code",
   "execution_count": null,
   "metadata": {},
   "outputs": [],
   "source": []
  },
  {
   "cell_type": "code",
   "execution_count": null,
   "metadata": {},
   "outputs": [],
   "source": []
  },
  {
   "cell_type": "code",
   "execution_count": null,
   "metadata": {},
   "outputs": [],
   "source": []
  },
  {
   "cell_type": "code",
   "execution_count": null,
   "metadata": {},
   "outputs": [],
   "source": [
    "from shapely import geometry"
   ]
  },
  {
   "cell_type": "code",
   "execution_count": null,
   "metadata": {},
   "outputs": [],
   "source": [
    "def basinid_2_poly (basin_id):\n",
    "    \n",
    "    basin = drainage_basin(basin = 6.1, \n",
    "                           polygon_size = 'full')"
   ]
  },
  {
   "cell_type": "code",
   "execution_count": 51,
   "metadata": {},
   "outputs": [],
   "source": [
    "poly61 = drainage_basin(basin = 6.1, \n",
    "                         polygon_size = 'full')\n",
    "\n",
    "poly62 = drainage_basin(basin = 6.2, \n",
    "                         polygon_size = 'full')"
   ]
  },
  {
   "cell_type": "code",
   "execution_count": 52,
   "metadata": {},
   "outputs": [
    {
     "data": {
      "image/png": "[encoded data removed]",
      "text/plain": [
       "<Figure size 432x288 with 1 Axes>"
      ]
     },
     "metadata": {
      "needs_background": "light"
     },
     "output_type": "display_data"
    }
   ],
   "source": [
    "x_61, y_61 = poly61.exterior.xy\n",
    "x_62, y_62 = poly62.exterior.xy\n",
    "x_62_convex, y_62_convex = poly62.convex_hull.exterior.xy\n",
    "\n",
    "plt.plot(x_61, y_61, 'r')\n",
    "plt.plot(x_62, y_62, 'b')\n",
    "plt.plot(x_62_convex, y_62_convex, 'b')\n",
    "plt.show()"
   ]
  },
  {
   "cell_type": "code",
   "execution_count": 76,
   "metadata": {},
   "outputs": [],
   "source": [
    "polygons = [poly61, poly62]\n",
    "\n",
    "poly_full = unary_union(polygons)"
   ]
  },
  {
   "cell_type": "code",
   "execution_count": 66,
   "metadata": {},
   "outputs": [],
   "source": [
    "poly_full_simplify = poly_full.simplify(tolerance=0.01)"
   ]
  },
  {
   "cell_type": "code",
   "execution_count": 67,
   "metadata": {},
   "outputs": [],
   "source": [
    "x, y = poly_full.exterior.xy\n",
    "x_simp, y_simp = poly_full_simplify.exterior.xy"
   ]
  },
  {
   "cell_type": "code",
   "execution_count": 68,
   "metadata": {},
   "outputs": [
    {
     "name": "stdout",
     "output_type": "stream",
     "text": [
      "21046\n",
      "544\n"
     ]
    }
   ],
   "source": [
    "print(len(x))\n",
    "print(len(x_simp))"
   ]
  },
  {
   "cell_type": "code",
   "execution_count": 69,
   "metadata": {},
   "outputs": [
    {
     "data": {
      "text/plain": [
       "[<matplotlib.lines.Line2D at 0x2b39ff1df940>]"
      ]
     },
     "execution_count": 69,
     "metadata": {},
     "output_type": "execute_result"
    },
    {
     "data": {
      "image/png": "[encoded data removed]",
      "text/plain": [
       "<Figure size 432x288 with 1 Axes>"
      ]
     },
     "metadata": {
      "needs_background": "light"
     },
     "output_type": "display_data"
    }
   ],
   "source": [
    "plt.plot(x,y)\n",
    "plt.plot(x_simp, y_simp)"
   ]
  },
  {
   "cell_type": "code",
   "execution_count": null,
   "metadata": {},
   "outputs": [],
   "source": []
  }
 ],
 "metadata": {
  "kernelspec": {
   "display_name": "Python [conda env:.conda-cloudmaskenv]",
   "language": "python",
   "name": "conda-env-.conda-cloudmaskenv-py"
  },
  "language_info": {
   "codemirror_mode": {
    "name": "ipython",
    "version": 3
   },
   "file_extension": ".py",
   "mimetype": "text/x-python",
   "name": "python",
   "nbconvert_exporter": "python",
   "pygments_lexer": "ipython3",
   "version": "3.8.5"
  }
 },
 "nbformat": 4,
 "nbformat_minor": 4
}
