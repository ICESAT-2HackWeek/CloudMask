{
 "cells": [
  {
   "cell_type": "markdown",
   "metadata": {},
   "source": [
    "# Basemaps"
   ]
  },
  {
   "cell_type": "code",
   "execution_count": 1,
   "metadata": {},
   "outputs": [],
   "source": [
    "import pandas as pd\n",
    "import numpy as np\n",
    "import geopandas as gpd\n",
    "\n",
    "atl6 = pd.read_csv(\"dataframe20200702_deltatime\")"
   ]
  },
  {
   "cell_type": "code",
   "execution_count": 5,
   "metadata": {},
   "outputs": [],
   "source": [
    "from ipyleaflet import Map, basemaps, basemap_to_tiles, GeoData, Marker, MarkerCluster, CircleMarker, WidgetControl\n",
    "\n",
    "center = [65.73, -50.71]\n",
    "zoom = 5"
   ]
  },
  {
   "cell_type": "code",
   "execution_count": 6,
   "metadata": {
    "collapsed": true,
    "jupyter": {
     "outputs_hidden": true
    }
   },
   "outputs": [
    {
     "data": {
      "application/vnd.jupyter.widget-view+json": {
       "model_id": "6ed363067656494d9c1e431b43ea2c38",
       "version_major": 2,
       "version_minor": 0
      },
      "text/plain": [
       "Map(center=[65.73, -50.71], controls=(ZoomControl(options=['position', 'zoom_in_text', 'zoom_in_title', 'zoom_…"
      ]
     },
     "metadata": {},
     "output_type": "display_data"
    }
   ],
   "source": [
    "Map(basemap=basemaps.OpenStreetMap.Mapnik, center=center, zoom=zoom)"
   ]
  },
  {
   "cell_type": "code",
   "execution_count": 7,
   "metadata": {},
   "outputs": [
    {
     "data": {
      "application/vnd.jupyter.widget-view+json": {
       "model_id": "2c4cc5109adf400fa96df566c9815185",
       "version_major": 2,
       "version_minor": 0
      },
      "text/plain": [
       "Map(center=[65.73, -50.71], controls=(ZoomControl(options=['position', 'zoom_in_text', 'zoom_in_title', 'zoom_…"
      ]
     },
     "metadata": {},
     "output_type": "display_data"
    }
   ],
   "source": [
    "from ipywidgets import Dropdown \n",
    "\n",
    "maps = Map(center=center, zoom=zoom)\n",
    "\n",
    "ee_basemaps={}\n",
    "\n",
    "for item in basemaps.values():\n",
    "    try:\n",
    "        name = item['name']\n",
    "        basemap = 'basemaps.{}'.format(name)\n",
    "        ee_basemaps[name] = basemap_to_tiles(eval(basemap))\n",
    "    except:\n",
    "        for sub_item in item:\n",
    "            name = item[sub_item]['name']\n",
    "            basemap = 'basemaps.{}'.format(name)\n",
    "            basemap = basemap.replace('Mids', 'Modis')\n",
    "            ee_basemaps[name] = basemap_to_tiles(eval(basemap))\n",
    "\n",
    "dropdown = Dropdown(options=list(ee_basemaps.keys()), value='OpenStreetMap.Mapnik', description='Basemaps')\n",
    "\n",
    "def on_click(change):\n",
    "    basemap_name = change['new']\n",
    "    old_basemap = maps.layers[-1]\n",
    "    maps.substitute_layer(old_basemap, ee_basemaps[basemap_name])\n",
    "    \n",
    "dropdown.observe(on_click, 'value')\n",
    "\n",
    "basemap_control = WidgetControl(widget=dropdown, position='topright')\n",
    "maps.add_control(basemap_control)\n",
    "\n",
    "maps"
   ]
  },
  {
   "cell_type": "code",
   "execution_count": 7,
   "metadata": {},
   "outputs": [
    {
     "data": {
      "application/vnd.jupyter.widget-view+json": {
       "model_id": "2dd49075f6d9476397fcc32fb6625d5b",
       "version_major": 2,
       "version_minor": 0
      },
      "text/plain": [
       "Map(center=[65.73, -50.71], controls=(ZoomControl(options=['position', 'zoom_in_text', 'zoom_in_title', 'zoom_…"
      ]
     },
     "metadata": {},
     "output_type": "display_data"
    }
   ],
   "source": [
    "m1 = Map(center=center, zoom=zoom)\n",
    "watercolor_layer = basemap_to_tiles(basemaps.NASAGIBS.ViirsTrueColorCR, '2019-06-01')\n",
    "m1.add_layer(watercolor_layer)\n",
    "m1"
   ]
  },
  {
   "cell_type": "markdown",
   "metadata": {},
   "source": [
    "# Geodataframe\n",
    "Using GeoData layer to visualize geodataframe on the map. [Example](https://ipyleaflet.readthedocs.io/en/latest/api_reference/geodata.html) with rivers and countries."
   ]
  },
  {
   "cell_type": "code",
   "execution_count": 8,
   "metadata": {},
   "outputs": [],
   "source": [
    "gdf = gpd.GeoDataFrame(atl6, geometry=gpd.points_from_xy(atl6.lon, atl6.lat))"
   ]
  },
  {
   "cell_type": "code",
   "execution_count": 9,
   "metadata": {},
   "outputs": [
    {
     "data": {
      "text/html": [
       "<div>\n",
       "<style scoped>\n",
       "    .dataframe tbody tr th:only-of-type {\n",
       "        vertical-align: middle;\n",
       "    }\n",
       "\n",
       "    .dataframe tbody tr th {\n",
       "        vertical-align: top;\n",
       "    }\n",
       "\n",
       "    .dataframe thead th {\n",
       "        text-align: right;\n",
       "    }\n",
       "</style>\n",
       "<table border=\"1\" class=\"dataframe\">\n",
       "  <thead>\n",
       "    <tr style=\"text-align: right;\">\n",
       "      <th></th>\n",
       "      <th>Unnamed: 0</th>\n",
       "      <th>ground_track</th>\n",
       "      <th>t_year</th>\n",
       "      <th>lat</th>\n",
       "      <th>lon</th>\n",
       "      <th>Integer_Cloud_Mask</th>\n",
       "      <th>VIIRS_offset</th>\n",
       "      <th>h_li</th>\n",
       "      <th>s_li</th>\n",
       "      <th>q_flag</th>\n",
       "      <th>...</th>\n",
       "      <th>msw_flag</th>\n",
       "      <th>fbsnow_h</th>\n",
       "      <th>bsnow_od</th>\n",
       "      <th>layer_flag</th>\n",
       "      <th>bckgrd</th>\n",
       "      <th>e_bckgrd</th>\n",
       "      <th>n_fit_photons</th>\n",
       "      <th>segment_id</th>\n",
       "      <th>w_surface_window_final</th>\n",
       "      <th>geometry</th>\n",
       "    </tr>\n",
       "  </thead>\n",
       "  <tbody>\n",
       "    <tr>\n",
       "      <th>0</th>\n",
       "      <td>0</td>\n",
       "      <td>gt1l</td>\n",
       "      <td>2019-06-01 20:04:48.205868</td>\n",
       "      <td>68.079999</td>\n",
       "      <td>-47.455941</td>\n",
       "      <td>NaN</td>\n",
       "      <td>NaN</td>\n",
       "      <td>1681.1671</td>\n",
       "      <td>0.008938</td>\n",
       "      <td>0</td>\n",
       "      <td>...</td>\n",
       "      <td>0</td>\n",
       "      <td>3.402824e+38</td>\n",
       "      <td>3.402824e+38</td>\n",
       "      <td>0</td>\n",
       "      <td>7417902.0</td>\n",
       "      <td>2635365.8</td>\n",
       "      <td>507</td>\n",
       "      <td>623016</td>\n",
       "      <td>3.0</td>\n",
       "      <td>POINT (-47.45594 68.08000)</td>\n",
       "    </tr>\n",
       "    <tr>\n",
       "      <th>1</th>\n",
       "      <td>1</td>\n",
       "      <td>gt1l</td>\n",
       "      <td>2019-06-01 20:04:48.208686</td>\n",
       "      <td>68.079821</td>\n",
       "      <td>-47.455997</td>\n",
       "      <td>NaN</td>\n",
       "      <td>NaN</td>\n",
       "      <td>1681.0332</td>\n",
       "      <td>0.012630</td>\n",
       "      <td>0</td>\n",
       "      <td>...</td>\n",
       "      <td>0</td>\n",
       "      <td>3.402824e+38</td>\n",
       "      <td>3.402824e+38</td>\n",
       "      <td>0</td>\n",
       "      <td>7494146.0</td>\n",
       "      <td>2635369.5</td>\n",
       "      <td>531</td>\n",
       "      <td>623017</td>\n",
       "      <td>3.0</td>\n",
       "      <td>POINT (-47.45600 68.07982)</td>\n",
       "    </tr>\n",
       "    <tr>\n",
       "      <th>2</th>\n",
       "      <td>2</td>\n",
       "      <td>gt1l</td>\n",
       "      <td>2019-06-01 20:04:48.211507</td>\n",
       "      <td>68.079643</td>\n",
       "      <td>-47.456053</td>\n",
       "      <td>NaN</td>\n",
       "      <td>NaN</td>\n",
       "      <td>1680.8826</td>\n",
       "      <td>0.011899</td>\n",
       "      <td>0</td>\n",
       "      <td>...</td>\n",
       "      <td>0</td>\n",
       "      <td>3.402824e+38</td>\n",
       "      <td>3.402824e+38</td>\n",
       "      <td>0</td>\n",
       "      <td>7561520.0</td>\n",
       "      <td>2635373.5</td>\n",
       "      <td>525</td>\n",
       "      <td>623018</td>\n",
       "      <td>3.0</td>\n",
       "      <td>POINT (-47.45605 68.07964)</td>\n",
       "    </tr>\n",
       "    <tr>\n",
       "      <th>3</th>\n",
       "      <td>3</td>\n",
       "      <td>gt1l</td>\n",
       "      <td>2019-06-01 20:04:48.214329</td>\n",
       "      <td>68.079464</td>\n",
       "      <td>-47.456110</td>\n",
       "      <td>NaN</td>\n",
       "      <td>NaN</td>\n",
       "      <td>1680.7661</td>\n",
       "      <td>0.011329</td>\n",
       "      <td>0</td>\n",
       "      <td>...</td>\n",
       "      <td>0</td>\n",
       "      <td>3.402824e+38</td>\n",
       "      <td>3.402824e+38</td>\n",
       "      <td>0</td>\n",
       "      <td>7556358.0</td>\n",
       "      <td>2635377.8</td>\n",
       "      <td>481</td>\n",
       "      <td>623019</td>\n",
       "      <td>3.0</td>\n",
       "      <td>POINT (-47.45611 68.07946)</td>\n",
       "    </tr>\n",
       "    <tr>\n",
       "      <th>4</th>\n",
       "      <td>4</td>\n",
       "      <td>gt1l</td>\n",
       "      <td>2019-06-01 20:04:48.217151</td>\n",
       "      <td>68.079286</td>\n",
       "      <td>-47.456168</td>\n",
       "      <td>NaN</td>\n",
       "      <td>NaN</td>\n",
       "      <td>1680.6771</td>\n",
       "      <td>0.011673</td>\n",
       "      <td>0</td>\n",
       "      <td>...</td>\n",
       "      <td>0</td>\n",
       "      <td>3.402824e+38</td>\n",
       "      <td>3.402824e+38</td>\n",
       "      <td>0</td>\n",
       "      <td>7567084.0</td>\n",
       "      <td>2635381.5</td>\n",
       "      <td>500</td>\n",
       "      <td>623020</td>\n",
       "      <td>3.0</td>\n",
       "      <td>POINT (-47.45617 68.07929)</td>\n",
       "    </tr>\n",
       "  </tbody>\n",
       "</table>\n",
       "<p>5 rows × 27 columns</p>\n",
       "</div>"
      ],
      "text/plain": [
       "   Unnamed: 0 ground_track                      t_year        lat        lon  \\\n",
       "0           0         gt1l  2019-06-01 20:04:48.205868  68.079999 -47.455941   \n",
       "1           1         gt1l  2019-06-01 20:04:48.208686  68.079821 -47.455997   \n",
       "2           2         gt1l  2019-06-01 20:04:48.211507  68.079643 -47.456053   \n",
       "3           3         gt1l  2019-06-01 20:04:48.214329  68.079464 -47.456110   \n",
       "4           4         gt1l  2019-06-01 20:04:48.217151  68.079286 -47.456168   \n",
       "\n",
       "   Integer_Cloud_Mask  VIIRS_offset       h_li      s_li  q_flag  ...  \\\n",
       "0                 NaN           NaN  1681.1671  0.008938       0  ...   \n",
       "1                 NaN           NaN  1681.0332  0.012630       0  ...   \n",
       "2                 NaN           NaN  1680.8826  0.011899       0  ...   \n",
       "3                 NaN           NaN  1680.7661  0.011329       0  ...   \n",
       "4                 NaN           NaN  1680.6771  0.011673       0  ...   \n",
       "\n",
       "   msw_flag      fbsnow_h      bsnow_od  layer_flag     bckgrd   e_bckgrd  \\\n",
       "0         0  3.402824e+38  3.402824e+38           0  7417902.0  2635365.8   \n",
       "1         0  3.402824e+38  3.402824e+38           0  7494146.0  2635369.5   \n",
       "2         0  3.402824e+38  3.402824e+38           0  7561520.0  2635373.5   \n",
       "3         0  3.402824e+38  3.402824e+38           0  7556358.0  2635377.8   \n",
       "4         0  3.402824e+38  3.402824e+38           0  7567084.0  2635381.5   \n",
       "\n",
       "   n_fit_photons  segment_id  w_surface_window_final  \\\n",
       "0            507      623016                     3.0   \n",
       "1            531      623017                     3.0   \n",
       "2            525      623018                     3.0   \n",
       "3            481      623019                     3.0   \n",
       "4            500      623020                     3.0   \n",
       "\n",
       "                     geometry  \n",
       "0  POINT (-47.45594 68.08000)  \n",
       "1  POINT (-47.45600 68.07982)  \n",
       "2  POINT (-47.45605 68.07964)  \n",
       "3  POINT (-47.45611 68.07946)  \n",
       "4  POINT (-47.45617 68.07929)  \n",
       "\n",
       "[5 rows x 27 columns]"
      ]
     },
     "execution_count": 9,
     "metadata": {},
     "output_type": "execute_result"
    }
   ],
   "source": [
    "gdf.head()"
   ]
  },
  {
   "cell_type": "code",
   "execution_count": 10,
   "metadata": {},
   "outputs": [
    {
     "data": {
      "application/vnd.jupyter.widget-view+json": {
       "model_id": "8c1af0c465e04f1db2e38dbb4d788a1f",
       "version_major": 2,
       "version_minor": 0
      },
      "text/plain": [
       "Map(center=[65.73, -50.71], controls=(ZoomControl(options=['position', 'zoom_in_text', 'zoom_in_title', 'zoom_…"
      ]
     },
     "metadata": {},
     "output_type": "display_data"
    }
   ],
   "source": [
    "geoMap = Map(center=center, zoom=zoom)\n",
    "geoMap.add_layer(GeoData(geo_dataframe = gdf[:1000], point_style= {'radius': 5}))\n",
    "geoMap"
   ]
  },
  {
   "cell_type": "markdown",
   "metadata": {},
   "source": [
    "# Marker clusters?"
   ]
  },
  {
   "cell_type": "markdown",
   "metadata": {},
   "source": [
    "Sampling 1000 rows from geodataframe and displaying marker for each location. Markers are clustered based on location."
   ]
  },
  {
   "cell_type": "code",
   "execution_count": 6,
   "metadata": {},
   "outputs": [
    {
     "data": {
      "application/vnd.jupyter.widget-view+json": {
       "model_id": "cb10ca3c73ce4ff293477b1afdb6ca4c",
       "version_major": 2,
       "version_minor": 0
      },
      "text/plain": [
       "Map(center=[65.73, -50.71], controls=(ZoomControl(options=['position', 'zoom_in_text', 'zoom_in_title', 'zoom_…"
      ]
     },
     "metadata": {},
     "output_type": "display_data"
    }
   ],
   "source": [
    "clusterMap = Map(center=center, zoom=zoom)\n",
    "clusterMap.add_layer(MarkerCluster(markers=[Marker(location=point.coords[0][::-1]) for point in gdf.sample(1000).geometry]))\n",
    "clusterMap"
   ]
  },
  {
   "cell_type": "markdown",
   "metadata": {},
   "source": [
    "Using circle marker instead of normal ones and considering only first 100 rows of the geodataframe.\n",
    "Problem: I can see single points only when I zoom a lot and can see observe a few points in the map."
   ]
  },
  {
   "cell_type": "code",
   "execution_count": 11,
   "metadata": {},
   "outputs": [
    {
     "data": {
      "application/vnd.jupyter.widget-view+json": {
       "model_id": "576aec3e5737424a84d0da56f0c058e4",
       "version_major": 2,
       "version_minor": 0
      },
      "text/plain": [
       "Map(center=[65.73, -50.71], controls=(ZoomControl(options=['position', 'zoom_in_text', 'zoom_in_title', 'zoom_…"
      ]
     },
     "metadata": {},
     "output_type": "display_data"
    }
   ],
   "source": [
    "circleMap1 = Map(center=center, zoom=zoom)\n",
    "circleMap1.add_layer(MarkerCluster(markers=[CircleMarker(radius=5, location=point.coords[0][::-1]) for point in gdf[:100].geometry]))\n",
    "circleMap1"
   ]
  },
  {
   "cell_type": "markdown",
   "metadata": {},
   "source": [
    "# Circle markers without clusters"
   ]
  },
  {
   "cell_type": "markdown",
   "metadata": {},
   "source": [
    "Note: using for loop, is there something faster?"
   ]
  },
  {
   "cell_type": "code",
   "execution_count": 5,
   "metadata": {},
   "outputs": [
    {
     "data": {
      "application/vnd.jupyter.widget-view+json": {
       "model_id": "5cf457209cb5403d9e82e133d4258d57",
       "version_major": 2,
       "version_minor": 0
      },
      "text/plain": [
       "Map(center=[65.73, -50.71], controls=(ZoomControl(options=['position', 'zoom_in_text', 'zoom_in_title', 'zoom_…"
      ]
     },
     "metadata": {},
     "output_type": "display_data"
    }
   ],
   "source": [
    "circleMap2 = Map(center=center, zoom=zoom)\n",
    "for point in gdf[:1000].geometry:\n",
    "    circleMap2.add_layer(CircleMarker(radius=5, location=point.coords[0][::-1]))\n",
    "circleMap2"
   ]
  },
  {
   "cell_type": "markdown",
   "metadata": {},
   "source": [
    "# Adding controls "
   ]
  },
  {
   "cell_type": "markdown",
   "metadata": {},
   "source": [
    "Control on scale and on full-screen."
   ]
  },
  {
   "cell_type": "code",
   "execution_count": 19,
   "metadata": {},
   "outputs": [],
   "source": [
    "from ipyleaflet import ScaleControl, FullScreenControl\n",
    "\n",
    "geoMap.add_control(ScaleControl(position='bottomleft'))\n",
    "geoMap.add_control(FullScreenControl())"
   ]
  },
  {
   "cell_type": "code",
   "execution_count": 12,
   "metadata": {},
   "outputs": [],
   "source": [
    "#from ipyleaflet import MeasureControl\n",
    "#circleMap2.add_control(MeasureControl(active_color = 'orange',primary_length_unit = 'kilometers'))"
   ]
  },
  {
   "cell_type": "markdown",
   "metadata": {},
   "source": [
    "Control on zoom level using widget."
   ]
  },
  {
   "cell_type": "code",
   "execution_count": 21,
   "metadata": {},
   "outputs": [],
   "source": [
    "from ipyleaflet import WidgetControl\n",
    "from ipywidgets import IntSlider, jslink\n",
    "\n",
    "zoom_slider = IntSlider(description='Zoom level:', min=0, max=18, value=5)\n",
    "jslink((zoom_slider, 'value'), (geoMap, 'zoom'))\n",
    "geoMap.add_control(WidgetControl(widget=zoom_slider))"
   ]
  },
  {
   "cell_type": "markdown",
   "metadata": {},
   "source": [
    "Other controls: [split-map](https://ipyleaflet.readthedocs.io/en/latest/api_reference/split_map_control.html), draw, legend, search."
   ]
  },
  {
   "cell_type": "markdown",
   "metadata": {},
   "source": [
    "# Adding color and popup"
   ]
  },
  {
   "cell_type": "code",
   "execution_count": 49,
   "metadata": {},
   "outputs": [
    {
     "data": {
      "application/vnd.jupyter.widget-view+json": {
       "model_id": "2afcdc10ebba447daa228f2230baf4e3",
       "version_major": 2,
       "version_minor": 0
      },
      "text/plain": [
       "Map(center=[65.73, -50.71], controls=(ZoomControl(options=['position', 'zoom_in_text', 'zoom_in_title', 'zoom_…"
      ]
     },
     "metadata": {},
     "output_type": "display_data"
    }
   ],
   "source": [
    "from ipywidgets import HTML\n",
    "import matplotlib.colors as colors\n",
    "import matplotlib.cm as cm\n",
    "\n",
    "a = Map(center=center, zoom = zoom)\n",
    "\n",
    "minima = gdf[:100]['h_li'].min()\n",
    "maxima = gdf[:100]['h_li'].max()\n",
    "norm = colors.Normalize(vmin=minima, vmax=maxima, clip=True)\n",
    "mapper = cm.ScalarMappable(norm=norm, cmap=cm.inferno)\n",
    "\n",
    "for n in range(100):\n",
    "    location=gdf.iloc[n].geometry.coords[0][::-1]\n",
    "    i1 = gdf.iloc[n].n_fit_photons\n",
    "    i2 = gdf.iloc[n].h_li\n",
    "    marker = CircleMarker(location=location, radius = 5, color=colors.to_hex(mapper.to_rgba(i2)), \n",
    "                          fill_color=colors.to_hex(mapper.to_rgba(i2)))\n",
    "    message = 'The number of photons is '+ str(i1)\n",
    "    marker.popup = HTML(value= message)\n",
    "    a.add_layer(marker)    \n",
    "a"
   ]
  },
  {
   "cell_type": "markdown",
   "metadata": {},
   "source": [
    "Problem: can't add legend that maps colors into `h_li`."
   ]
  },
  {
   "cell_type": "markdown",
   "metadata": {},
   "source": [
    "Define `marker_popup` function that adds layer where marker color and popup message are determined by choice of two features."
   ]
  },
  {
   "cell_type": "code",
   "execution_count": 11,
   "metadata": {},
   "outputs": [],
   "source": [
    "from ipywidgets import HTML\n",
    "import matplotlib.colors as colors\n",
    "import matplotlib.cm as cm\n",
    "\n",
    "\n",
    "def marker_popup(basemap, data, popup_feat, color_feat, n_rows = 100):\n",
    "    minima = data[:n_rows][color_feat].min()\n",
    "    maxima = data[:n_rows][color_feat].max()\n",
    "    norm = colors.Normalize(vmin=minima, vmax=maxima, clip=True)\n",
    "    mapper = cm.ScalarMappable(norm=norm, cmap=cm.inferno)\n",
    "\n",
    "    for n in range(n_rows):\n",
    "        location=data.iloc[n].geometry.coords[0][::-1]\n",
    "        i1 = gdf.iloc[n][popup_feat]\n",
    "        i2 = gdf.iloc[n][color_feat]\n",
    "        marker = CircleMarker(location=location, radius = 5, color=colors.to_hex(mapper.to_rgba(i2)), fill_color=colors.to_hex(mapper.to_rgba(i2)))\n",
    "        message = 'The value for '+ popup_feat + ' is ' + str(i1)\n",
    "        marker.popup = HTML(value= message)\n",
    "        basemap.add_layer(marker)  \n",
    "    return(basemap)"
   ]
  },
  {
   "cell_type": "code",
   "execution_count": 12,
   "metadata": {},
   "outputs": [
    {
     "data": {
      "application/vnd.jupyter.widget-view+json": {
       "model_id": "9f8c29314de143b484c9ad1d8cf590a1",
       "version_major": 2,
       "version_minor": 0
      },
      "text/plain": [
       "Map(center=[65.73, -50.71], controls=(ZoomControl(options=['position', 'zoom_in_text', 'zoom_in_title', 'zoom_…"
      ]
     },
     "metadata": {},
     "output_type": "display_data"
    }
   ],
   "source": [
    "b = Map(center=center, zoom = zoom)\n",
    "marker_popup(b, gdf, 'n_fit_photons', 'h_li')"
   ]
  },
  {
   "cell_type": "markdown",
   "metadata": {},
   "source": [
    "Use ipywidgets to control `popup_feat` and `color_feat`."
   ]
  },
  {
   "cell_type": "code",
   "execution_count": 13,
   "metadata": {},
   "outputs": [
    {
     "data": {
      "application/vnd.jupyter.widget-view+json": {
       "model_id": "3e472550fa2442d3b82702cfcf0cf918",
       "version_major": 2,
       "version_minor": 0
      },
      "text/plain": [
       "interactive(children=(Dropdown(description='popup_feat', options=('h_li', 's_li', 'q_flag', 's_fg', 'snr', 'h_…"
      ]
     },
     "metadata": {},
     "output_type": "display_data"
    },
    {
     "data": {
      "text/plain": [
       "<function __main__.marker_popup(basemap, data, popup_feat, color_feat, n_rows=100)>"
      ]
     },
     "execution_count": 13,
     "metadata": {},
     "output_type": "execute_result"
    }
   ],
   "source": [
    "from ipywidgets import interact, interactive, fixed, interact_manual\n",
    "import ipywidgets as widgets\n",
    "\n",
    "features = ['h_li', 's_li', 'q_flag', 's_fg', 'snr', 'h_rb', 'dh_fit_dx', 'bsnow_conf', 'cloud_flg_asr', 'cloud_flg_atm', 'msw_flag', 'fbsnow_h', \n",
    "            'bsnow_od', 'layer_flag', 'bckgrd', 'e_bckgrd', 'n_fit_photons', 'segment_id', 'w_surface_window_final','Integer_Cloud_Mask', 'VIIRS_offset']\n",
    "\n",
    "interact(marker_popup, basemap = fixed(b), data = fixed(gdf), popup_feat = features, color_feat= features, n_rows=fixed(100))"
   ]
  },
  {
   "cell_type": "markdown",
   "metadata": {},
   "source": [
    "### Different solution: using GeoJSON and Choropleth"
   ]
  },
  {
   "cell_type": "code",
   "execution_count": 5,
   "metadata": {},
   "outputs": [],
   "source": [
    "#gdf[:100].to_file(\"atl6_100.json\", driver=\"GeoJSON\")"
   ]
  },
  {
   "cell_type": "code",
   "execution_count": 14,
   "metadata": {},
   "outputs": [],
   "source": [
    "import json\n",
    "\n",
    "with open('atl6_100.json') as f:\n",
    "    gj = json.load(f)\n",
    "\n",
    "for feature in gj['features']:\n",
    "     properties = feature['properties']\n",
    "     feature.update(id=properties['Unnamed: 0'])"
   ]
  },
  {
   "cell_type": "code",
   "execution_count": 15,
   "metadata": {},
   "outputs": [],
   "source": [
    "from ipyleaflet import Choropleth\n",
    "import matplotlib.cm as cm\n",
    "\n",
    "color_dict =  dict(zip(gdf[:100]['Unnamed: 0'].tolist(), gdf[:100].h_li.tolist()))\n",
    "\n",
    "layer = Choropleth(geo_data=gj, choro_data=color_dict, key_on='id', \n",
    "                   value_min=gdf[:100].h_li.min(), value_max=gdf[:100].h_li.max(), point_style= {'radius': 5})"
   ]
  },
  {
   "cell_type": "code",
   "execution_count": 16,
   "metadata": {},
   "outputs": [
    {
     "data": {
      "application/vnd.jupyter.widget-view+json": {
       "model_id": "a6b4e97a745c44398ff3ac2bf989723c",
       "version_major": 2,
       "version_minor": 0
      },
      "text/plain": [
       "Map(center=[65.73, -50.71], controls=(ZoomControl(options=['position', 'zoom_in_text', 'zoom_in_title', 'zoom_…"
      ]
     },
     "metadata": {},
     "output_type": "display_data"
    }
   ],
   "source": [
    "chorMap = Map(center=center, zoom=zoom)\n",
    "chorMap.add_layer(layer)\n",
    "chorMap"
   ]
  },
  {
   "cell_type": "markdown",
   "metadata": {},
   "source": [
    "Adding message that tells us values of specific ATL6 flags. It is updated hovering over different points.\n",
    "\n",
    "Note: could add arbitrary number of flags!"
   ]
  },
  {
   "cell_type": "code",
   "execution_count": 17,
   "metadata": {},
   "outputs": [],
   "source": [
    "from ipywidgets import Text, HTML\n",
    "from ipyleaflet import WidgetControl, GeoJSON \n",
    "\n",
    "html = HTML('''Hover over a point''')\n",
    "control = WidgetControl(widget=html, position='topright')\n",
    "chorMap.add_control(control)\n",
    "\n",
    "def update_html(feature, id, **kwargs):\n",
    "    html.value = '''\n",
    "        <h3>ATL6 flags</h3>\n",
    "        <h4>Cloud flag (asr): {}</h4>\n",
    "        <h4>Layer flag: {}</h4> \n",
    "        <h4>Photons fitted: {}</h4>\n",
    "    '''.format(feature['properties']['cloud_flg_asr'],\n",
    "               feature['properties']['layer_flag'],\n",
    "               feature['properties']['n_fit_photons'])\n",
    "\n",
    "layer.on_hover(update_html)"
   ]
  },
  {
   "cell_type": "markdown",
   "metadata": {},
   "source": [
    "To do: create legend."
   ]
  },
  {
   "cell_type": "markdown",
   "metadata": {},
   "source": [
    "# ATL03 plotting"
   ]
  },
  {
   "cell_type": "markdown",
   "metadata": {},
   "source": [
    "Load ATL03 data and create a dictionary where keys correspond to ATL06 rows and values are dataframes with height, lat, lon of the single photons."
   ]
  },
  {
   "cell_type": "code",
   "execution_count": 18,
   "metadata": {},
   "outputs": [],
   "source": [
    "from utils_atl03 import *\n",
    "\n",
    "my_lat = 66.444\n",
    "my_lon = -46.614\n",
    "date_range = ['2019-06-08','2019-06-10']\n",
    "w = 10000\n",
    "\n",
    "window_lat = delta_lat(my_lat, my_lon, w)\n",
    "window_lon = delta_lon(my_lat, my_lon, w)\n",
    "\n",
    "atl6_2 = atl6 [ (atl6[\"lat\"] < my_lat + window_lat) & (atl6[\"lon\"] < my_lon + window_lon) &\n",
    "                (atl6[\"lat\"] > my_lat - window_lat) & (atl6[\"lon\"] > my_lon - window_lon) ]"
   ]
  },
  {
   "cell_type": "code",
   "execution_count": 19,
   "metadata": {},
   "outputs": [],
   "source": [
    "#pho = read_atl03(my_lat, my_lon, date_range, w)"
   ]
  },
  {
   "cell_type": "code",
   "execution_count": 20,
   "metadata": {},
   "outputs": [],
   "source": [
    "def temporary_f(lat, lon, date_range, delta_m, path = \"new_ATL03/177301998\"):\n",
    "\n",
    "    window_lat = delta_lat(lat, lon, delta_m)\n",
    "    window_lon = delta_lon(lat, lon, delta_m)\n",
    "    \n",
    "    spatial_extent = [ lon - window_lon, lat - window_lat, lon + window_lon, lat + window_lat ]\n",
    "    spatial_extent = [ float(x) for x in spatial_extent ]\n",
    "    \n",
    "    flist = file_in_dir(path)\n",
    "    assert len(flist) > 0, \"There are not available granules for these parameters\"\n",
    "        \n",
    "        \n",
    "    dataframes = pd.DataFrame(columns = [\"h_ph\", \"lon_ph\", \"lat_ph\"])\n",
    "    \n",
    "    for file in flist:\n",
    "        \n",
    "        fname = path + \"/\" + file \n",
    "        \n",
    "        with h5py.File(fname, 'r') as fi: \n",
    "            \n",
    "            for my_gt in filter(fi.keys(), [\"gt\"]):\n",
    "    \n",
    "                lat_ph = fi[my_gt]['heights'][\"lat_ph\"][:]\n",
    "                lon_ph = fi[my_gt]['heights'][\"lon_ph\"][:]\n",
    "                h_ph   = fi[my_gt]['heights'][\"h_ph\"][:]\n",
    "\n",
    "                \n",
    "                df = pd.DataFrame.from_dict({\"h_ph\": h_ph,\n",
    "                                             \"lon_ph\": lon_ph,\n",
    "                                             \"lat_ph\": lat_ph} )\n",
    "    \n",
    "                df = df [ (df[\"lat_ph\"] < lat + window_lat) & (df[\"lon_ph\"] < lon + window_lon) &\n",
    "                          (df[\"lat_ph\"] > lat - window_lat) & (df[\"lon_ph\"] > lon - window_lon) ]\n",
    "        \n",
    "                dataframes = dataframes.append(df, ignore_index=True)\n",
    "    \n",
    "    return dataframes"
   ]
  },
  {
   "cell_type": "code",
   "execution_count": 21,
   "metadata": {},
   "outputs": [],
   "source": [
    "pho = temporary_f(my_lat, my_lon, date_range, w)"
   ]
  },
  {
   "cell_type": "code",
   "execution_count": 22,
   "metadata": {},
   "outputs": [
    {
     "name": "stderr",
     "output_type": "stream",
     "text": [
      "/srv/conda/envs/notebook/lib/python3.7/site-packages/ipykernel_launcher.py:2: SettingWithCopyWarning: \n",
      "A value is trying to be set on a copy of a slice from a DataFrame.\n",
      "Try using .loc[row_indexer,col_indexer] = value instead\n",
      "\n",
      "See the caveats in the documentation: https://pandas.pydata.org/pandas-docs/stable/user_guide/indexing.html#returning-a-view-versus-a-copy\n",
      "  \n",
      "/srv/conda/envs/notebook/lib/python3.7/site-packages/ipykernel_launcher.py:3: SettingWithCopyWarning: \n",
      "A value is trying to be set on a copy of a slice from a DataFrame.\n",
      "Try using .loc[row_indexer,col_indexer] = value instead\n",
      "\n",
      "See the caveats in the documentation: https://pandas.pydata.org/pandas-docs/stable/user_guide/indexing.html#returning-a-view-versus-a-copy\n",
      "  This is separate from the ipykernel package so we can avoid doing imports until\n",
      "/srv/conda/envs/notebook/lib/python3.7/site-packages/pandas/core/indexing.py:966: SettingWithCopyWarning: \n",
      "A value is trying to be set on a copy of a slice from a DataFrame.\n",
      "Try using .loc[row_indexer,col_indexer] = value instead\n",
      "\n",
      "See the caveats in the documentation: https://pandas.pydata.org/pandas-docs/stable/user_guide/indexing.html#returning-a-view-versus-a-copy\n",
      "  self.obj[item] = s\n"
     ]
    }
   ],
   "source": [
    "atl3_2 = {}\n",
    "atl6_2[\"atl3_std\"] = None\n",
    "atl6_2[\"n_photons\"] = None\n",
    " \n",
    "window_lat = delta_lat(my_lat, my_lon, 50)\n",
    "window_lon = delta_lon(my_lat, my_lon, 50)   \n",
    "\n",
    "for j, i in enumerate(atl6_2.index):\n",
    "            \n",
    "    my_row = atl6_2.loc[i]\n",
    "    \n",
    "    lat = float(my_row.lat)\n",
    "    lon = float(my_row.lon)\n",
    "    \n",
    "    df = pho [ (pho[\"lat_ph\"] < lat + window_lat) & (pho[\"lon_ph\"] < lon + window_lon) &\n",
    "               (pho[\"lat_ph\"] > lat - window_lat) & (pho[\"lon_ph\"] > lon - window_lon) ]\n",
    "    \n",
    "    atl3_2[i] = df\n",
    "    \n",
    "    atl6_2.loc[i, \"atl3_std\"] = np.std(df.h_ph)\n",
    "    atl6_2.loc[i, \"n_photons\"] = df.shape[0]"
   ]
  },
  {
   "cell_type": "markdown",
   "metadata": {},
   "source": [
    "Example of ATL03 scatter plot corresponding to a single ATL06 row."
   ]
  },
  {
   "cell_type": "code",
   "execution_count": 90,
   "metadata": {},
   "outputs": [
    {
     "data": {
      "text/plain": [
       "(66.35406692675662, 66.35455237845844, 2040.2826293945313, 2102.0252319335937)"
      ]
     },
     "execution_count": 90,
     "metadata": {},
     "output_type": "execute_result"
    },
    {
     "data": {
      "image/png": "[encoded data removed]",
      "text/plain": [
       "<Figure size 432x288 with 1 Axes>"
      ]
     },
     "metadata": {
      "needs_background": "light"
     },
     "output_type": "display_data"
    }
   ],
   "source": [
    "import matplotlib.pyplot as plt\n",
    "\n",
    "fig, ax = plt.subplots(1,1)\n",
    "s, = ax.plot(atl3_2[atl6_2.index[0]].lat_ph, atl3_2[atl6_2.index[0]].h_ph, 'o', markersize=.3)\n",
    "plt.axis('off')"
   ]
  },
  {
   "cell_type": "markdown",
   "metadata": {},
   "source": [
    "Function that updates the plot given a different row index."
   ]
  },
  {
   "cell_type": "code",
   "execution_count": 28,
   "metadata": {},
   "outputs": [],
   "source": [
    "def update_points(s, ind):\n",
    "    s.set_xdata(atl3_2[ind].lat_ph)\n",
    "    s.set_ydata(atl3_2[ind].h_ph)\n",
    "    ax.set_xlim([min(atl3_2[ind].lat_ph),max(atl3_2[ind].lat_ph)])\n",
    "    ax.set_ylim([min(atl3_2[ind].h_ph),max(atl3_2[ind].h_ph)])\n",
    "    fig.canvas.draw()\n",
    "    fig.canvas.flush_events()"
   ]
  },
  {
   "cell_type": "markdown",
   "metadata": {},
   "source": [
    " Create a map with GeoJSON layer."
   ]
  },
  {
   "cell_type": "code",
   "execution_count": 81,
   "metadata": {},
   "outputs": [],
   "source": [
    "gdf2 = gpd.GeoDataFrame(atl6_2, geometry=gpd.points_from_xy(atl6_2.lon, atl6_2.lat))"
   ]
  },
  {
   "cell_type": "code",
   "execution_count": 86,
   "metadata": {},
   "outputs": [],
   "source": [
    "gdf2=gdf2.drop(columns=['n_photons','atl3_std'])"
   ]
  },
  {
   "cell_type": "code",
   "execution_count": 92,
   "metadata": {},
   "outputs": [],
   "source": [
    "#gdf2.to_file(\"atl6_2.json\", driver=\"GeoJSON\")"
   ]
  },
  {
   "cell_type": "code",
   "execution_count": 98,
   "metadata": {},
   "outputs": [],
   "source": [
    "import json\n",
    "\n",
    "with open('atl6_2.json') as f:\n",
    "    gj2 = json.load(f)\n",
    "    \n",
    "for feature in gj2['features']:\n",
    "     properties = feature['properties']\n",
    "     feature.update(id=properties['Unnamed: 0'])"
   ]
  },
  {
   "cell_type": "code",
   "execution_count": 106,
   "metadata": {},
   "outputs": [
    {
     "data": {
      "application/vnd.jupyter.widget-view+json": {
       "model_id": "fb8354e10f554c8b9129f29922d2c135",
       "version_major": 2,
       "version_minor": 0
      },
      "text/plain": [
       "Map(center=[65.73, -50.71], controls=(ZoomControl(options=['position', 'zoom_in_text', 'zoom_in_title', 'zoom_…"
      ]
     },
     "metadata": {},
     "output_type": "display_data"
    }
   ],
   "source": [
    "m_atl3 = Map(center=center, zoom=zoom)\n",
    "geo = GeoJSON(data=gj2, point_style= {'radius': 5})\n",
    "m_atl3.add_layer(geo)\n",
    "m_atl3"
   ]
  },
  {
   "cell_type": "markdown",
   "metadata": {},
   "source": [
    "Attempt to add a widget control for the scatter plot. Seems that WidgetControl doesn't accept a Matplotlib figure."
   ]
  },
  {
   "cell_type": "code",
   "execution_count": 30,
   "metadata": {
    "collapsed": true,
    "jupyter": {
     "outputs_hidden": true
    }
   },
   "outputs": [
    {
     "ename": "TraitError",
     "evalue": "The 'widget' trait of a WidgetControl instance must be a DOMWidget, but a value of class 'matplotlib.figure.Figure' (i.e. <Figure size 432x288 with 1 Axes>) was specified.",
     "output_type": "error",
     "traceback": [
      "\u001b[0;31m---------------------------------------------------------------------------\u001b[0m",
      "\u001b[0;31mTraitError\u001b[0m                                Traceback (most recent call last)",
      "\u001b[0;32m<ipython-input-30-7e0a401ae280>\u001b[0m in \u001b[0;36m<module>\u001b[0;34m\u001b[0m\n\u001b[1;32m      1\u001b[0m \u001b[0;32mfrom\u001b[0m \u001b[0mipyleaflet\u001b[0m \u001b[0;32mimport\u001b[0m \u001b[0mWidgetControl\u001b[0m\u001b[0;34m\u001b[0m\u001b[0;34m\u001b[0m\u001b[0m\n\u001b[1;32m      2\u001b[0m \u001b[0;34m\u001b[0m\u001b[0m\n\u001b[0;32m----> 3\u001b[0;31m \u001b[0mwidget_control\u001b[0m \u001b[0;34m=\u001b[0m \u001b[0mWidgetControl\u001b[0m\u001b[0;34m(\u001b[0m\u001b[0mwidget\u001b[0m\u001b[0;34m=\u001b[0m\u001b[0mfig\u001b[0m\u001b[0;34m,\u001b[0m \u001b[0mposition\u001b[0m\u001b[0;34m=\u001b[0m\u001b[0;34m'bottomright'\u001b[0m\u001b[0;34m)\u001b[0m\u001b[0;34m\u001b[0m\u001b[0;34m\u001b[0m\u001b[0m\n\u001b[0m\u001b[1;32m      4\u001b[0m \u001b[0mm_atl3\u001b[0m\u001b[0;34m.\u001b[0m\u001b[0madd_control\u001b[0m\u001b[0;34m(\u001b[0m\u001b[0mwidget_control\u001b[0m\u001b[0;34m)\u001b[0m\u001b[0;34m\u001b[0m\u001b[0;34m\u001b[0m\u001b[0m\n\u001b[1;32m      5\u001b[0m \u001b[0;34m\u001b[0m\u001b[0m\n",
      "\u001b[0;32m/srv/conda/envs/notebook/lib/python3.7/site-packages/ipywidgets/widgets/widget.py\u001b[0m in \u001b[0;36m__init__\u001b[0;34m(self, **kwargs)\u001b[0m\n\u001b[1;32m    410\u001b[0m         \u001b[0;34m\"\"\"Public constructor\"\"\"\u001b[0m\u001b[0;34m\u001b[0m\u001b[0;34m\u001b[0m\u001b[0m\n\u001b[1;32m    411\u001b[0m         \u001b[0mself\u001b[0m\u001b[0;34m.\u001b[0m\u001b[0m_model_id\u001b[0m \u001b[0;34m=\u001b[0m \u001b[0mkwargs\u001b[0m\u001b[0;34m.\u001b[0m\u001b[0mpop\u001b[0m\u001b[0;34m(\u001b[0m\u001b[0;34m'model_id'\u001b[0m\u001b[0;34m,\u001b[0m \u001b[0;32mNone\u001b[0m\u001b[0;34m)\u001b[0m\u001b[0;34m\u001b[0m\u001b[0;34m\u001b[0m\u001b[0m\n\u001b[0;32m--> 412\u001b[0;31m         \u001b[0msuper\u001b[0m\u001b[0;34m(\u001b[0m\u001b[0mWidget\u001b[0m\u001b[0;34m,\u001b[0m \u001b[0mself\u001b[0m\u001b[0;34m)\u001b[0m\u001b[0;34m.\u001b[0m\u001b[0m__init__\u001b[0m\u001b[0;34m(\u001b[0m\u001b[0;34m**\u001b[0m\u001b[0mkwargs\u001b[0m\u001b[0;34m)\u001b[0m\u001b[0;34m\u001b[0m\u001b[0;34m\u001b[0m\u001b[0m\n\u001b[0m\u001b[1;32m    413\u001b[0m \u001b[0;34m\u001b[0m\u001b[0m\n\u001b[1;32m    414\u001b[0m         \u001b[0mWidget\u001b[0m\u001b[0;34m.\u001b[0m\u001b[0m_call_widget_constructed\u001b[0m\u001b[0;34m(\u001b[0m\u001b[0mself\u001b[0m\u001b[0;34m)\u001b[0m\u001b[0;34m\u001b[0m\u001b[0;34m\u001b[0m\u001b[0m\n",
      "\u001b[0;32m/srv/conda/envs/notebook/lib/python3.7/site-packages/traitlets/traitlets.py\u001b[0m in \u001b[0;36m__init__\u001b[0;34m(self, *args, **kwargs)\u001b[0m\n\u001b[1;32m    995\u001b[0m             \u001b[0;32mfor\u001b[0m \u001b[0mkey\u001b[0m\u001b[0;34m,\u001b[0m \u001b[0mvalue\u001b[0m \u001b[0;32min\u001b[0m \u001b[0mkwargs\u001b[0m\u001b[0;34m.\u001b[0m\u001b[0mitems\u001b[0m\u001b[0;34m(\u001b[0m\u001b[0;34m)\u001b[0m\u001b[0;34m:\u001b[0m\u001b[0;34m\u001b[0m\u001b[0;34m\u001b[0m\u001b[0m\n\u001b[1;32m    996\u001b[0m                 \u001b[0;32mif\u001b[0m \u001b[0mself\u001b[0m\u001b[0;34m.\u001b[0m\u001b[0mhas_trait\u001b[0m\u001b[0;34m(\u001b[0m\u001b[0mkey\u001b[0m\u001b[0;34m)\u001b[0m\u001b[0;34m:\u001b[0m\u001b[0;34m\u001b[0m\u001b[0;34m\u001b[0m\u001b[0m\n\u001b[0;32m--> 997\u001b[0;31m                     \u001b[0msetattr\u001b[0m\u001b[0;34m(\u001b[0m\u001b[0mself\u001b[0m\u001b[0;34m,\u001b[0m \u001b[0mkey\u001b[0m\u001b[0;34m,\u001b[0m \u001b[0mvalue\u001b[0m\u001b[0;34m)\u001b[0m\u001b[0;34m\u001b[0m\u001b[0;34m\u001b[0m\u001b[0m\n\u001b[0m\u001b[1;32m    998\u001b[0m                 \u001b[0;32melse\u001b[0m\u001b[0;34m:\u001b[0m\u001b[0;34m\u001b[0m\u001b[0;34m\u001b[0m\u001b[0m\n\u001b[1;32m    999\u001b[0m                     \u001b[0;31m# passthrough args that don't set traits to super\u001b[0m\u001b[0;34m\u001b[0m\u001b[0;34m\u001b[0m\u001b[0;34m\u001b[0m\u001b[0m\n",
      "\u001b[0;32m/srv/conda/envs/notebook/lib/python3.7/site-packages/traitlets/traitlets.py\u001b[0m in \u001b[0;36m__set__\u001b[0;34m(self, obj, value)\u001b[0m\n\u001b[1;32m    583\u001b[0m             \u001b[0;32mraise\u001b[0m \u001b[0mTraitError\u001b[0m\u001b[0;34m(\u001b[0m\u001b[0;34m'The \"%s\" trait is read-only.'\u001b[0m \u001b[0;34m%\u001b[0m \u001b[0mself\u001b[0m\u001b[0;34m.\u001b[0m\u001b[0mname\u001b[0m\u001b[0;34m)\u001b[0m\u001b[0;34m\u001b[0m\u001b[0;34m\u001b[0m\u001b[0m\n\u001b[1;32m    584\u001b[0m         \u001b[0;32melse\u001b[0m\u001b[0;34m:\u001b[0m\u001b[0;34m\u001b[0m\u001b[0;34m\u001b[0m\u001b[0m\n\u001b[0;32m--> 585\u001b[0;31m             \u001b[0mself\u001b[0m\u001b[0;34m.\u001b[0m\u001b[0mset\u001b[0m\u001b[0;34m(\u001b[0m\u001b[0mobj\u001b[0m\u001b[0;34m,\u001b[0m \u001b[0mvalue\u001b[0m\u001b[0;34m)\u001b[0m\u001b[0;34m\u001b[0m\u001b[0;34m\u001b[0m\u001b[0m\n\u001b[0m\u001b[1;32m    586\u001b[0m \u001b[0;34m\u001b[0m\u001b[0m\n\u001b[1;32m    587\u001b[0m     \u001b[0;32mdef\u001b[0m \u001b[0m_validate\u001b[0m\u001b[0;34m(\u001b[0m\u001b[0mself\u001b[0m\u001b[0;34m,\u001b[0m \u001b[0mobj\u001b[0m\u001b[0;34m,\u001b[0m \u001b[0mvalue\u001b[0m\u001b[0;34m)\u001b[0m\u001b[0;34m:\u001b[0m\u001b[0;34m\u001b[0m\u001b[0;34m\u001b[0m\u001b[0m\n",
      "\u001b[0;32m/srv/conda/envs/notebook/lib/python3.7/site-packages/traitlets/traitlets.py\u001b[0m in \u001b[0;36mset\u001b[0;34m(self, obj, value)\u001b[0m\n\u001b[1;32m    557\u001b[0m \u001b[0;34m\u001b[0m\u001b[0m\n\u001b[1;32m    558\u001b[0m     \u001b[0;32mdef\u001b[0m \u001b[0mset\u001b[0m\u001b[0;34m(\u001b[0m\u001b[0mself\u001b[0m\u001b[0;34m,\u001b[0m \u001b[0mobj\u001b[0m\u001b[0;34m,\u001b[0m \u001b[0mvalue\u001b[0m\u001b[0;34m)\u001b[0m\u001b[0;34m:\u001b[0m\u001b[0;34m\u001b[0m\u001b[0;34m\u001b[0m\u001b[0m\n\u001b[0;32m--> 559\u001b[0;31m         \u001b[0mnew_value\u001b[0m \u001b[0;34m=\u001b[0m \u001b[0mself\u001b[0m\u001b[0;34m.\u001b[0m\u001b[0m_validate\u001b[0m\u001b[0;34m(\u001b[0m\u001b[0mobj\u001b[0m\u001b[0;34m,\u001b[0m \u001b[0mvalue\u001b[0m\u001b[0;34m)\u001b[0m\u001b[0;34m\u001b[0m\u001b[0;34m\u001b[0m\u001b[0m\n\u001b[0m\u001b[1;32m    560\u001b[0m         \u001b[0;32mtry\u001b[0m\u001b[0;34m:\u001b[0m\u001b[0;34m\u001b[0m\u001b[0;34m\u001b[0m\u001b[0m\n\u001b[1;32m    561\u001b[0m             \u001b[0mold_value\u001b[0m \u001b[0;34m=\u001b[0m \u001b[0mobj\u001b[0m\u001b[0;34m.\u001b[0m\u001b[0m_trait_values\u001b[0m\u001b[0;34m[\u001b[0m\u001b[0mself\u001b[0m\u001b[0;34m.\u001b[0m\u001b[0mname\u001b[0m\u001b[0;34m]\u001b[0m\u001b[0;34m\u001b[0m\u001b[0;34m\u001b[0m\u001b[0m\n",
      "\u001b[0;32m/srv/conda/envs/notebook/lib/python3.7/site-packages/traitlets/traitlets.py\u001b[0m in \u001b[0;36m_validate\u001b[0;34m(self, obj, value)\u001b[0m\n\u001b[1;32m    589\u001b[0m             \u001b[0;32mreturn\u001b[0m \u001b[0mvalue\u001b[0m\u001b[0;34m\u001b[0m\u001b[0;34m\u001b[0m\u001b[0m\n\u001b[1;32m    590\u001b[0m         \u001b[0;32mif\u001b[0m \u001b[0mhasattr\u001b[0m\u001b[0;34m(\u001b[0m\u001b[0mself\u001b[0m\u001b[0;34m,\u001b[0m \u001b[0;34m'validate'\u001b[0m\u001b[0;34m)\u001b[0m\u001b[0;34m:\u001b[0m\u001b[0;34m\u001b[0m\u001b[0;34m\u001b[0m\u001b[0m\n\u001b[0;32m--> 591\u001b[0;31m             \u001b[0mvalue\u001b[0m \u001b[0;34m=\u001b[0m \u001b[0mself\u001b[0m\u001b[0;34m.\u001b[0m\u001b[0mvalidate\u001b[0m\u001b[0;34m(\u001b[0m\u001b[0mobj\u001b[0m\u001b[0;34m,\u001b[0m \u001b[0mvalue\u001b[0m\u001b[0;34m)\u001b[0m\u001b[0;34m\u001b[0m\u001b[0;34m\u001b[0m\u001b[0m\n\u001b[0m\u001b[1;32m    592\u001b[0m         \u001b[0;32mif\u001b[0m \u001b[0mobj\u001b[0m\u001b[0;34m.\u001b[0m\u001b[0m_cross_validation_lock\u001b[0m \u001b[0;32mis\u001b[0m \u001b[0;32mFalse\u001b[0m\u001b[0;34m:\u001b[0m\u001b[0;34m\u001b[0m\u001b[0;34m\u001b[0m\u001b[0m\n\u001b[1;32m    593\u001b[0m             \u001b[0mvalue\u001b[0m \u001b[0;34m=\u001b[0m \u001b[0mself\u001b[0m\u001b[0;34m.\u001b[0m\u001b[0m_cross_validate\u001b[0m\u001b[0;34m(\u001b[0m\u001b[0mobj\u001b[0m\u001b[0;34m,\u001b[0m \u001b[0mvalue\u001b[0m\u001b[0;34m)\u001b[0m\u001b[0;34m\u001b[0m\u001b[0;34m\u001b[0m\u001b[0m\n",
      "\u001b[0;32m/srv/conda/envs/notebook/lib/python3.7/site-packages/traitlets/traitlets.py\u001b[0m in \u001b[0;36mvalidate\u001b[0;34m(self, obj, value)\u001b[0m\n\u001b[1;32m   1675\u001b[0m             \u001b[0;32mreturn\u001b[0m \u001b[0mvalue\u001b[0m\u001b[0;34m\u001b[0m\u001b[0;34m\u001b[0m\u001b[0m\n\u001b[1;32m   1676\u001b[0m         \u001b[0;32melse\u001b[0m\u001b[0;34m:\u001b[0m\u001b[0;34m\u001b[0m\u001b[0;34m\u001b[0m\u001b[0m\n\u001b[0;32m-> 1677\u001b[0;31m             \u001b[0mself\u001b[0m\u001b[0;34m.\u001b[0m\u001b[0merror\u001b[0m\u001b[0;34m(\u001b[0m\u001b[0mobj\u001b[0m\u001b[0;34m,\u001b[0m \u001b[0mvalue\u001b[0m\u001b[0;34m)\u001b[0m\u001b[0;34m\u001b[0m\u001b[0;34m\u001b[0m\u001b[0m\n\u001b[0m\u001b[1;32m   1678\u001b[0m \u001b[0;34m\u001b[0m\u001b[0m\n\u001b[1;32m   1679\u001b[0m     \u001b[0;32mdef\u001b[0m \u001b[0minfo\u001b[0m\u001b[0;34m(\u001b[0m\u001b[0mself\u001b[0m\u001b[0;34m)\u001b[0m\u001b[0;34m:\u001b[0m\u001b[0;34m\u001b[0m\u001b[0;34m\u001b[0m\u001b[0m\n",
      "\u001b[0;32m/srv/conda/envs/notebook/lib/python3.7/site-packages/traitlets/traitlets.py\u001b[0m in \u001b[0;36merror\u001b[0;34m(self, obj, value)\u001b[0m\n\u001b[1;32m   1522\u001b[0m                 \u001b[0;34m%\u001b[0m \u001b[0;34m(\u001b[0m\u001b[0mself\u001b[0m\u001b[0;34m.\u001b[0m\u001b[0mname\u001b[0m\u001b[0;34m,\u001b[0m \u001b[0mself\u001b[0m\u001b[0;34m.\u001b[0m\u001b[0minfo\u001b[0m\u001b[0;34m(\u001b[0m\u001b[0;34m)\u001b[0m\u001b[0;34m,\u001b[0m \u001b[0mmsg\u001b[0m\u001b[0;34m)\u001b[0m\u001b[0;34m\u001b[0m\u001b[0;34m\u001b[0m\u001b[0m\n\u001b[1;32m   1523\u001b[0m \u001b[0;34m\u001b[0m\u001b[0m\n\u001b[0;32m-> 1524\u001b[0;31m         \u001b[0;32mraise\u001b[0m \u001b[0mTraitError\u001b[0m\u001b[0;34m(\u001b[0m\u001b[0me\u001b[0m\u001b[0;34m)\u001b[0m\u001b[0;34m\u001b[0m\u001b[0;34m\u001b[0m\u001b[0m\n\u001b[0m\u001b[1;32m   1525\u001b[0m \u001b[0;34m\u001b[0m\u001b[0m\n\u001b[1;32m   1526\u001b[0m \u001b[0;34m\u001b[0m\u001b[0m\n",
      "\u001b[0;31mTraitError\u001b[0m: The 'widget' trait of a WidgetControl instance must be a DOMWidget, but a value of class 'matplotlib.figure.Figure' (i.e. <Figure size 432x288 with 1 Axes>) was specified."
     ]
    }
   ],
   "source": [
    "from ipyleaflet import WidgetControl\n",
    "\n",
    "widget_control = WidgetControl(widget=fig, position='bottomright')\n",
    "m_atl3.add_control(widget_control)\n",
    "\n",
    "def on_hover(event, feature, **kwargs):\n",
    "    global ind\n",
    "\n",
    "    ind = feature['properties']['Unnamed: 0']\n",
    "    update_points(s, ind)\n",
    "\n",
    "m_atl3.on_hover(on_hover)"
   ]
  },
  {
   "cell_type": "markdown",
   "metadata": {},
   "source": [
    "Trying with `bqplot` but there are problems in loading it."
   ]
  },
  {
   "cell_type": "code",
   "execution_count": 28,
   "metadata": {},
   "outputs": [
    {
     "data": {
      "application/vnd.jupyter.widget-view+json": {
       "model_id": "bef04061ee5546e0bcc625898bf1149c",
       "version_major": 2,
       "version_minor": 0
      },
      "text/plain": [
       "Figure(axes=[Axis(scale=LinearScale()), Axis(scale=LinearScale())], fig_margin={'top': 60, 'bottom': 60, 'left…"
      ]
     },
     "metadata": {},
     "output_type": "display_data"
    }
   ],
   "source": [
    "from bqplot import Scatter, Figure, LinearScale, Axis\n",
    "\n",
    "x_scale = LinearScale()\n",
    "y_scale = LinearScale()\n",
    "\n",
    "scatter = Scatter(x=atl3_2[atl6_2.index[0]].lat_ph.values, y=atl3_2[atl6_2.index[0]].h_ph.values, \n",
    "                  scales={'x': x_scale, 'y': y_scale})\n",
    "\n",
    "ax_x = Axis(scale=x_scale)\n",
    "ax_y = Axis(scale=y_scale)\n",
    "\n",
    "figure = Figure(axes=[ax_x, ax_y], title='ATL03 heights', marks=[scatter])\n",
    "figure"
   ]
  },
  {
   "cell_type": "markdown",
   "metadata": {},
   "source": [
    "# Ideas for next steps"
   ]
  },
  {
   "cell_type": "markdown",
   "metadata": {},
   "source": [
    "* Solve the plotting issue with ATL03. \n",
    "* Use two different layers for ATL06 and VIIRS: the first similar to what we have seen so far and the second similar to [this](https://ipyleaflet.readthedocs.io/en/latest/api_reference/wms_layer.html). Also adding a widget that allows the user to choose whether to show both or one of the layers.\n",
    "* Add an option that allows to select an area of interest and get some statistics out of it, possibly also past data."
   ]
  },
  {
   "cell_type": "markdown",
   "metadata": {},
   "source": [
    "### Other cool options"
   ]
  },
  {
   "cell_type": "markdown",
   "metadata": {},
   "source": [
    "* [Velocity](https://ipyleaflet.readthedocs.io/en/latest/api_reference/velocity.html) layer: capturing wind velocity \n",
    "* [Split map](https://ipyleaflet.readthedocs.io/en/latest/api_reference/split_map_control.html) control. Could split by cloud mask type (e.g. VIIRS vs ATL06)?"
   ]
  },
  {
   "cell_type": "code",
   "execution_count": null,
   "metadata": {},
   "outputs": [],
   "source": []
  },
  {
   "cell_type": "code",
   "execution_count": 8,
   "metadata": {},
   "outputs": [],
   "source": [
    "#Lines"
   ]
  },
  {
   "cell_type": "code",
   "execution_count": 4,
   "metadata": {},
   "outputs": [],
   "source": [
    "#lat_lon = (atl6.loc[:,['lat', 'lon']].values).tolist()"
   ]
  },
  {
   "cell_type": "code",
   "execution_count": 14,
   "metadata": {},
   "outputs": [
    {
     "data": {
      "application/vnd.jupyter.widget-view+json": {
       "model_id": "77f92b53060e4b73a643421a91c69e4a",
       "version_major": 2,
       "version_minor": 0
      },
      "text/plain": [
       "Map(center=[65.73, -50.71], controls=(ZoomControl(options=['position', 'zoom_in_text', 'zoom_in_title', 'zoom_…"
      ]
     },
     "metadata": {},
     "output_type": "display_data"
    }
   ],
   "source": [
    "#from ipyleaflet import Map, Polyline\n",
    "#\n",
    "#lines = Polyline(locations=lat_lon, fill=False, weight=5)\n",
    "#\n",
    "#n = Map(center = center, zoom = zoom)\n",
    "#n.add_layer(lines)\n",
    "#n"
   ]
  },
  {
   "cell_type": "code",
   "execution_count": null,
   "metadata": {},
   "outputs": [],
   "source": []
  },
  {
   "cell_type": "code",
   "execution_count": null,
   "metadata": {},
   "outputs": [],
   "source": []
  },
  {
   "cell_type": "code",
   "execution_count": null,
   "metadata": {},
   "outputs": [],
   "source": [
    "# Multiple polygons"
   ]
  },
  {
   "cell_type": "code",
   "execution_count": null,
   "metadata": {},
   "outputs": [],
   "source": [
    "#tups = atl6.loc[:,['lat', 'lon']].apply(tuple, axis=1).values\n",
    "#tups = tups.tolist()"
   ]
  },
  {
   "cell_type": "code",
   "execution_count": 27,
   "metadata": {},
   "outputs": [],
   "source": [
    "#def extractDigits(lst): \n",
    "    #return list(map(lambda el:[el], lst))"
   ]
  },
  {
   "cell_type": "code",
   "execution_count": 29,
   "metadata": {},
   "outputs": [],
   "source": [
    "#points = extractDigits(tups)"
   ]
  },
  {
   "cell_type": "code",
   "execution_count": null,
   "metadata": {},
   "outputs": [],
   "source": [
    "#from ipyleaflet import Map, Polygon\n",
    "#\n",
    "#polygon = Polygon(\n",
    "#    locations= points,\n",
    "#    stroke=True,\n",
    "#    opacity=0.8,\n",
    "#    weight=2,\n",
    "#    fill=True\n",
    "#)\n",
    "#\n",
    "#m = Map(center=center, zoom=5)\n",
    "#m.add_layer(polygon);\n",
    "#\n",
    "#m"
   ]
  },
  {
   "cell_type": "code",
   "execution_count": null,
   "metadata": {},
   "outputs": [],
   "source": []
  },
  {
   "cell_type": "code",
   "execution_count": null,
   "metadata": {},
   "outputs": [],
   "source": [
    "#Trying to pass list for color but doesn't work."
   ]
  },
  {
   "cell_type": "code",
   "execution_count": 47,
   "metadata": {},
   "outputs": [],
   "source": [
    "#lst=[]\n",
    "#for i in gdf[:100].h_li:\n",
    "#    lst.append(colors.to_hex(mapper.to_rgba(i)))"
   ]
  },
  {
   "cell_type": "code",
   "execution_count": 37,
   "metadata": {},
   "outputs": [
    {
     "data": {
      "application/vnd.jupyter.widget-view+json": {
       "model_id": "",
       "version_major": 2,
       "version_minor": 0
      },
      "text/plain": [
       "Map(center=[65.73, -50.71], controls=(ZoomControl(options=['position', 'zoom_in_text', 'zoom_in_title', 'zoom_…"
      ]
     },
     "metadata": {},
     "output_type": "display_data"
    }
   ],
   "source": [
    "#import matplotlib.colors as colors\n",
    "#import matplotlib.cm as cm\n",
    "#\n",
    "#a1 = Map(center=center, zoom=zoom)\n",
    "#\n",
    "#minima = gdf[:100]['h_li'].min()\n",
    "#maxima = gdf[:100]['h_li'].max()\n",
    "#norm = colors.Normalize(vmin=minima, vmax=maxima, clip=True)\n",
    "#mapper = cm.ScalarMappable(norm=norm, cmap=cm.inferno)\n",
    "#    \n",
    "#a1.add_layer(GeoData(geo_dataframe = gdf[:100], point_style= {'radius': 5, \n",
    "#                                                               'color' : lst}))\n",
    "#a1"
   ]
  },
  {
   "cell_type": "code",
   "execution_count": null,
   "metadata": {},
   "outputs": [],
   "source": [
    "#Trying with heatmap"
   ]
  },
  {
   "cell_type": "code",
   "execution_count": 106,
   "metadata": {},
   "outputs": [],
   "source": [
    "#from numpy import interp\n",
    "#atl6_temp = atl6[:100].copy()\n",
    "#atl6_temp['h_li_norm'] = interp(atl6[:100].h_li, [atl6[:100].h_li.min(), atl6[:100].h_li.max()], [0,1000])"
   ]
  },
  {
   "cell_type": "code",
   "execution_count": 107,
   "metadata": {},
   "outputs": [],
   "source": [
    "#lat_lon_h = (atl6_temp.loc[:,['lat', 'lon','h_li_norm']].values).tolist()"
   ]
  },
  {
   "cell_type": "code",
   "execution_count": 112,
   "metadata": {
    "collapsed": true,
    "jupyter": {
     "outputs_hidden": true
    }
   },
   "outputs": [
    {
     "data": {
      "application/vnd.jupyter.widget-view+json": {
       "model_id": "69de48936f20470ca935a7d64de4569d",
       "version_major": 2,
       "version_minor": 0
      },
      "text/plain": [
       "Map(center=[65.73, -50.71], controls=(ZoomControl(options=['position', 'zoom_in_text', 'zoom_in_title', 'zoom_…"
      ]
     },
     "metadata": {},
     "output_type": "display_data"
    }
   ],
   "source": [
    "#from ipyleaflet import Heatmap\n",
    "#\n",
    "#heatMap = Map(center=center, zoom=zoom)\n",
    "#\n",
    "#heat = Heatmap(locations=lat_lon_h, radius=5, blur=5, gradient={0.4: 'blue', 0.6: 'cyan', 0.7: 'lime', 0.8: 'yellow', 1.0: 'red'})\n",
    "#heatMap.add_layer(heat)\n",
    "#\n",
    "#heatMap"
   ]
  },
  {
   "cell_type": "code",
   "execution_count": null,
   "metadata": {},
   "outputs": [],
   "source": []
  }
 ],
 "metadata": {
  "kernelspec": {
   "display_name": "Python [conda env:notebook] *",
   "language": "python",
   "name": "conda-env-notebook-py"
  },
  "language_info": {
   "codemirror_mode": {
    "name": "ipython",
    "version": 3
   },
   "file_extension": ".py",
   "mimetype": "text/x-python",
   "name": "python",
   "nbconvert_exporter": "python",
   "pygments_lexer": "ipython3",
   "version": "3.7.6"
  }
 },
 "nbformat": 4,
 "nbformat_minor": 4
}
