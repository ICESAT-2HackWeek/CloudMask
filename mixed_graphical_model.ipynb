{
 "cells": [
  {
   "cell_type": "markdown",
   "metadata": {},
   "source": [
    "## Overview of model\n",
    "\n",
    "The model we'll start with is based on [Hastie and Lee](https://web.stanford.edu/~hastie/Papers/structmgm.pdf). It fits a certain type of \n",
    "*undirected* graphical model to a sample of random variables of mixed type (discrete or continuous).\n",
    "\n",
    "It has the advantage that it also selects which *interactions* amongst the variables seem most relevant.\n",
    "\n",
    "Our data is\n",
    "$$\n",
    "X = \\begin{pmatrix} X_1 \\\\ X_2 \\\\ \\vdots \\\\ X_n\n",
    "\\end{pmatrix}\n",
    "$$\n",
    "and each sample $X_i$ is of mixed type -- in `numpy / pandas` terms we can think of it having a `dtype` with some `np.float` fields as well as some `pandas.Categotical` fields.\n",
    "We think of having $p$ different variables so we can talk about $X_{ij}, 1 \\leq i \\leq n, 1 \\leq j \\leq p$."
   ]
  },
  {
   "cell_type": "markdown",
   "metadata": {},
   "source": [
    "### Special case: binary random variables\n",
    "\n",
    "In this case $X_i \\in \\{0,1\\}^p$. The model here is a generalization of the Ising model. That is, each row is like a realization of an Ising model so we have a sample of realizations of Ising models.\n",
    "\n",
    "The model is parameterized here by a $p \\times p$ symmetric matrix $\\Sigma$\n",
    "and\n",
    "$$\n",
    "P_{\\Theta}(X_i=x_i) \\propto \\exp\\left(\\sum_{j,k} x_{i,j} x_{i,k} \\Theta_{jk} \\right).\n",
    "$$\n",
    "\n",
    "Classical Ising models have a fixed graph, say with adjacency matrix $A$ and perhaps two parameters $(\\theta_1, \\theta_2)$: one for interaction and one affecting the overall mean (external field? not sure, not a physicist). In these models\n",
    "$$\n",
    "P_{(\\theta_1, \\theta_2)}(X_i=x) \\propto \\exp \\left(\\theta_1 \\sum_j x_j + \\theta_2 \\sum_{j, k} x_j x_k A_{jk}\\right)\n",
    "$$\n",
    "so we can think of this having a $\\Theta$ with $\\theta_1$ on the diagonal and $\\theta_2/2$ off the diagonal.\n",
    "\n",
    "This model therefore has a parameter for *each edge*. Edges are selected by putting a penalty on each edge, i.e. an $\\ell_1$ penalty perhaps leaving the mean terms unpenalized:\n",
    "$$\n",
    "{\\cal P}(\\Theta) = \\lambda \\sum_{(j,k): j \\neq k} |\\Theta_{jk}|.\n",
    "$$"
   ]
  },
  {
   "cell_type": "markdown",
   "metadata": {},
   "source": [
    "### Psuedolikelihood\n",
    "\n",
    "To fit this model is complicated -- it is expensive to normalize the $\\propto$ in the likelihood so people, dating back to Besag in the 80s have used pseudolikelihood as the objective.\n",
    "\n",
    "This objective is the sum of all the conditional likelihoods for one of the variables given all the others. E.g. in our Ising model here, if we *knew* $\\Sigma$ then for any $X_{i,j}$ we know that $X_{i,j}$ is Bernoulli and given $X_{i,k}, k \\neq j$ we can work out the probability it is 1 or 0 based on $\\Sigma$. This is effectively the likelihood for a logistic regression. There is therefore a likelihood for each column $j$\n",
    "$$\n",
    "\\ell_j(\\Theta; X[:,j] | X[:,k], k \\neq j)\n",
    "$$\n",
    "and the pseudo-likelihood (sum of conditional negative log-likelihoods) is\n",
    "$$\n",
    "\\Theta \\mapsto \\sum_{j=1}^p \\ell_j(\\Theta; X[:,j] | X[:,k], k \\neq j).\n",
    "$$\n",
    "\n",
    "The penalized *pseudolikelihood* is \n",
    "$$\n",
    "\\Theta \\mapsto \\left[\\sum_{j=1}^p \\ell_j(\\Theta; X[:,j] | X[:,k], k \\neq j)\\right] + {\\cal P}(\\Theta).\n",
    "$$\n",
    "\n",
    "This is an objective we can minimize as a function of $\\Theta$. For large enough values of $\\lambda$ the minimize, $\\Theta$ will be sparse off-diagonal. This is the *undirected* graph selection."
   ]
  },
  {
   "cell_type": "markdown",
   "metadata": {},
   "source": [
    "### Special case: all continuous\n",
    "\n",
    "When each feature is continuous, a common model for the distribution\n",
    "would be Gaussian. This can be parameterized in terms of sufficient\n",
    "statistics $X$ and $XX^T$ with natural parameters $\\alpha$ and\n",
    "$\\Theta$, say. So, the density can be written as $$\n",
    "P_{\\alpha,\\Theta}(X_i=x) \\propto \\exp \\left(\\alpha^Tx +\n",
    "\\text{Tr}(\\Theta xx^T) \\right).$$ \n",
    "This is of course the normal\n",
    "family but parametrized slightly differently.\n",
    "\n",
    "This is quite similar to the binary case (in the binary case we could\n",
    "suck the $\\alpha$ into the diagonal of $\\Theta$) but this doesn't work in the Gaussian case.\n",
    "\n",
    "In this case, for one of the columns $X[:,j]$ there is a\n",
    "pseudo-likelihood corresponding to predicting $X[:,j]$ as a function\n",
    "of $X[:,k], k \\neq j$. Each term in the this pseudo-likelihood looks\n",
    "like a linear regression loss function. Summing these terms gives a\n",
    "pseudo-likelihood that could be used to fit the *graphical LASSO*\n",
    "(e.g. `glasso` in `R`).\n",
    "\n",
    "For Gaussians we need to introduce a separate scale parameter in the optimization.\n",
    "Call these $\\alpha$. Enforcing each $\\Theta[j,j]$ block to be 0, our $j$-th pseudolikelihood\n",
    "for a Gaussian is a normalized version of the density\n",
    "$$\n",
    "x_j \\mapsto \\exp\\left(x_j \\cdot \\left(\\sum_{k:k \\neq j} \\Theta[k,j] x_k\\right) - \\alpha_j x_j^2 \\right). \n",
    "$$\n",
    "The normalizing constant is\n",
    "$$\n",
    "\\sqrt{2 \\pi /\\alpha_j} \\exp\\left( \\frac{1}{2 \\alpha_j} (\\Theta[j]^Tx)^2 \\right)\n",
    "$$\n",
    "so the likelihood for a continuous feature is\n",
    "$$\n",
    "(\\Theta[j], \\alpha_j) \\mapsto \\frac{1}{\\sqrt{2\\pi/\\alpha_j}} \\exp\\left(-\\frac{\\alpha_j}{2} (\\Theta[j]x - x_j)^2 \\right)\n",
    "$$\n",
    "where we have used the convention that $\\Theta[j,j]=0$.\n",
    "\n",
    "Taking negative logs yields\n",
    "$$\n",
    "(\\Theta[j], \\alpha_j) \\mapsto - \\frac{1}{2}\\log(\\alpha_j) + \\frac{\\alpha_j}{2}(\\Theta[j]x-x_j)^2\n",
    "$$\n",
    "\n",
    "Stacking rows and summing yields\n",
    "$$\n",
    "(\\Theta[j], \\alpha_j) \\mapsto - \\frac{n}{2}\\log(\\alpha_j) + \\frac{\\alpha_j}{2}\\|\\eta_j-X[:,j]\\|^2_2\n",
    "$$\n",
    "with $\\eta_j = X\\Theta[:,j]$.            \n",
    "\n",
    "In fact, fixing $\\Theta$, we could solve for $\\alpha_j$ but this seems messy."
   ]
  },
  {
   "cell_type": "markdown",
   "metadata": {},
   "source": [
    "### Putting these together\n",
    "\n",
    "It is now not hard to see how to mix continuous and binary. Each binary `field` has a reference sample space of $\\{0,1\\}$ while each continuous one has a reference sample space $\\mathbb{R}$. Stringing all fields together gives a sample space\n",
    "$$\n",
    "\\{0,1\\}^{j:j \\in {\\cal B}} \\times \\mathbb{R}^{j: j \\in {\\cal C}}\n",
    "$$\n",
    "where ${\\cal B}$ are the binary fields in our `dtype` and ${\\cal C}$ are the floating type fields in our `dtype`. If we had categorical instead of binary then that field's $\\{0,1\\}$ would be replaced by $\\{1, \\dots, N_j\\}$ where $N_j$ is the number of categories for field $j$.\n",
    "\n",
    "We now have a symmetric $p \\times p$ *matrix* $\\Theta$ (it's not really a matrix) where each entry $\\Theta_{jk}$ models the interaction between field $j$ and field $k$ of the `dtype`. When $j$ or $k$ is categorical (including binary) the entry $\\Theta_{jk}$ is really a matrix. Concretely, suppose $N_j=3$ and $N_k=5$ then, if we were to fit a \n",
    "multinomial regression (the analog of logistic for categorical) of $X[:,j]$ on to $X[:,k]$ then there would be a $3 \\times 5$ matrix of parameters in that model. (Note that much software often will set some of these to 0 automatically for identification reasons -- in this model with the penalty it is common not to do this). Anyways, we see that $\\Theta_{jk}$ is really in $\\mathbb{R}^{3 \\times 5}$ and $\\Theta_{kj} = \\Theta_{jk}^T \\in \\mathbb{R}^{5 \\times 3}$.\n",
    "\n",
    "The (or, an) analog of the $\\ell_1$ penalty for the *matrix* $\\Theta_{jk}$ is the Frobenius norm -- this is what the authors propose."
   ]
  },
  {
   "cell_type": "markdown",
   "metadata": {},
   "source": [
    "### Relation to separate regressions\n",
    "\n",
    "In order to understand the relationships between columns it is tempting to simply regress each $X[:,j]$ onto all the other columns. The total objective in this case would be a sum of negative log-likelihoods and would look a lot like our pseudo-likelihood. The difference is that the pseudo-likelihood assumes symmetry and ties the parameters together this way. The separate regression framework drops this requirement.\n",
    "\n",
    "That is, the total loss for separate regressions is the same as the pseudo-likelihood\n",
    "but the pseudo-likelihood has linear constraints enforcing symmetry of the $\\Theta$ \"matrix\".\n"
   ]
  },
  {
   "cell_type": "markdown",
   "metadata": {},
   "source": [
    "### Fitting the model\n",
    "\n",
    "The model can be fit by proximal gradient methods, so we really just have to compute the\n",
    "objective (as a function of $\\Theta$ with $X$ fixed) and its gradient.\n",
    "\n",
    "As each term in the pseudo-likelihood is like a regression (negative log-) likelihood it is enough to have appropriate regression losses for each node.\n",
    "\n",
    "The proximal step is essentially the group LASSO proximal step (though here the parameters are matrices rather than vectors). By appropriate `vec` operations we should be able to use a group LASSO map."
   ]
  },
  {
   "cell_type": "markdown",
   "metadata": {},
   "source": [
    "### TODO\n",
    "\n",
    "0. Create a *design matrix* `X` and a dict mapping fields of the dtype to columns. Should include a column of 1s. Continuous features enter as columns unchanged. Categorical features are coded using *full* representation, i.e. for a categorical with $N_j$ levels we want $N_j$ 1-hot columns in the design matrix. Our final $\\Theta$ parameter will have shape $(X.shape[1], X.shape[1])$ and will be symmetric but we will store as regular `ndarray`.\n",
    "\n",
    "1. Create a representation of the pseudo-likelihood that can compute\n",
    "the maps\n",
    "$$\n",
    "\\begin{aligned}\n",
    "\\Theta & \\mapsto \\sum_{j=1}^p \\ell_j\\left(\\Theta; X[:,j] | X[:,k], k \\neq j \\right) \\\\\n",
    "\\Theta & \\mapsto \\nabla_{\\Theta} \\sum_{j=1}^p \\ell_j\\left(\\Theta; X[:,j] | X[:,k], k \\neq j \\right)\n",
    "\\end{aligned}\n",
    "$$\n",
    "Note that $\\ell_j$ depends only on $\\Theta[j]$ and differentiating with respect to\n",
    "a term like $\\Theta[j,k]$ will involve only the losses $\\ell_k$ and $\\ell_j$.\n",
    "\n",
    "2. Make a group LASSO penalty for the $\\Theta$ matrix that sets $\\infty$ penalty on the \"diagonal\" terms $\\Theta[j,j]$.\n",
    "\n",
    "3. We should be able to just write the loss as a sum of saturated losses for each *response* composed with `X.dot(Theta[j])`, i.e.\n",
    "\n",
    "     loss(theta) = sum([s_loss(X.dot(Theta[j])) for s_loss in saturated_losses])\n",
    "\n",
    "4. For a categorical variable with $N_j$ levels `X.dot(Theta[j])` should have shape `(n, N_j)` and this product should effectively zero out any *self* terms in the sum over the\n",
    "$\\sum_j N_j$ in the matrix product. I.e. I am imaging that feature $j$ has been allocated $N_j$ columns in $X$ (the usual 1-hot encoding of multinomials).\n",
    "\n",
    "5. If we can write out the objective with a single `X` matrix, then I think the $\\Theta[j,k]$ gradient will simply look at the `k` rows of the `j` loss plus the `j` rows of the `k` loss."
   ]
  },
  {
   "cell_type": "markdown",
   "metadata": {},
   "source": [
    "### Toy example\n",
    "\n",
    "Let's make a data frame with 7 features, 2 binary, 2 categorical and 3 continuous. We'll code the binary as multinomial."
   ]
  },
  {
   "cell_type": "code",
   "execution_count": 1,
   "metadata": {},
   "outputs": [
    {
     "data": {
      "text/plain": [
       "(Index(['ground_track', 'lat', 'lon', 'h_li', 's_li', 'q_flag', 's_fg', 'snr',\n",
       "        'h_rb', 'dh_fit_dx', 'b_snow_conf', 'c_flg_asr', 'c_flg_atm', 'msw',\n",
       "        'bsnow_h', 'bsnow_od', 'layer_flag', 'bckgrd', 'e_bckgrd',\n",
       "        'n_fit_photons', 'segment_id', 'w_surface_window_final'],\n",
       "       dtype='object'),\n",
       " (252416, 22))"
      ]
     },
     "execution_count": 1,
     "metadata": {},
     "output_type": "execute_result"
    }
   ],
   "source": [
    "import numpy as np, pandas as pd\n",
    "from itertools import product\n",
    "import matplotlib.pyplot as plt\n",
    "%matplotlib inline\n",
    "\n",
    "\n",
    "D = pd.read_csv('atl06.csv') # .iloc[:5000]\n",
    "D = D.dropna()\n",
    "del(D['Unnamed: 0'])\n",
    "D.columns, D.shape"
   ]
  },
  {
   "cell_type": "code",
   "execution_count": 2,
   "metadata": {},
   "outputs": [
    {
     "data": {
      "text/plain": [
       "array([3.       , 4.4581361])"
      ]
     },
     "execution_count": 2,
     "metadata": {},
     "output_type": "execute_result"
    }
   ],
   "source": [
    "def make_onehot(categorical_col):  #TODO: would be more robust to know labels beforehand\n",
    "                                   # e.g. for cross-validation\n",
    "    labels = sorted(np.unique(categorical_col))\n",
    "    return np.equal.outer(np.asarray(categorical_col), labels)\n",
    "\n",
    "def make_design(df, desc):\n",
    "    design = [np.ones((df.shape[0], 1))] # column for intercept\n",
    "    new_desc = [('intercept', None, slice(0, 1))]\n",
    "    idx = 1\n",
    "    for col, dtype in desc:\n",
    "        if dtype in ['binary', 'categorical']:\n",
    "            design_col = make_onehot(df[col])\n",
    "            ncol = design_col.shape[1]\n",
    "            design.append(design_col)\n",
    "            new_desc.append((col, dtype, slice(idx, idx + ncol)))\n",
    "            idx += ncol\n",
    "        elif dtype == 'continuous': # a continuous one\n",
    "            new_desc.append((col, dtype, slice(idx, idx+1)))\n",
    "            design_col = np.asarray(df[col].copy())\n",
    "            # should we standardize?\n",
    "            design_col.shape = (-1,1)\n",
    "            design.append(design_col)\n",
    "            idx += 1\n",
    "    return np.hstack(design), new_desc\n",
    "\n",
    "desc = [('s_li', 'continuous'),\n",
    "        ('q_flag', 'binary'),\n",
    "        ('snr', 'continuous'),\n",
    "        ('h_rb', 'continuous'),\n",
    "        ('dh_fit_dx', 'continuous'),\n",
    "        ('b_snow_conf', 'categorical'),\n",
    "        ('c_flg_asr', 'categorical'),\n",
    "        ('c_flg_atm', 'categorical'),\n",
    "        ('msw', 'categorical' ),\n",
    "        #('bsnow_h', 'continuous'),\n",
    "        #('bsnow_od', 'continuous'),\n",
    "        ('layer_flag', 'binary'),\n",
    "        ('bckgrd', 'continuous'),\n",
    "        ('e_bckgrd', 'continuous'),\n",
    "        ('n_fit_photons', 'continuous'),\n",
    "        ('w_surface_window_final', 'continuous')]\n",
    "desc\n",
    "(np.mean(D['bsnow_od'] == D['bsnow_od'].max()), \n",
    " np.mean(D['bsnow_h'] == D['bsnow_h'].max()))\n",
    "np.percentile(D['w_surface_window_final'], [2,98])"
   ]
  },
  {
   "cell_type": "code",
   "execution_count": 3,
   "metadata": {},
   "outputs": [
    {
     "data": {
      "text/plain": [
       "(array([0.0000000e+00, 6.7144660e-09, 1.0892861e-08, ..., 9.3741010e-01,\n",
       "        9.3925035e-01, 9.4173110e-01]),\n",
       " array([3.4386003e-03, 5.2483900e-03, 5.4293690e-03, ..., 4.9964676e+00,\n",
       "        5.0000000e+00, 3.4028235e+38]))"
      ]
     },
     "execution_count": 3,
     "metadata": {},
     "output_type": "execute_result"
    }
   ],
   "source": [
    "X, desc2 = make_design(D, desc)\n",
    "#X = X[np.random.choice(np.arange(X.shape[0]), 50000, replace=False)]\n",
    "desc2\n",
    "np.unique(D['snr']), np.unique(D['h_rb'])"
   ]
  },
  {
   "cell_type": "code",
   "execution_count": 4,
   "metadata": {},
   "outputs": [
    {
     "data": {
      "text/plain": [
       "[(246767, 'continuous'),\n",
       " (2, 'binary'),\n",
       " (6299, 'continuous'),\n",
       " (7268, 'continuous'),\n",
       " (175317, 'continuous'),\n",
       " (8, 'categorical'),\n",
       " (6, 'categorical'),\n",
       " (3, 'categorical'),\n",
       " (4, 'categorical'),\n",
       " (2, 'binary'),\n",
       " (243085, 'continuous'),\n",
       " (243308, 'continuous'),\n",
       " (713, 'continuous'),\n",
       " (3216, 'continuous')]"
      ]
     },
     "execution_count": 4,
     "metadata": {},
     "output_type": "execute_result"
    }
   ],
   "source": [
    "[(len(np.unique(D[c])), t) for c, t, _ in desc2[1:]]"
   ]
  },
  {
   "cell_type": "markdown",
   "metadata": {},
   "source": [
    "### Form saturated losses \n",
    "\n",
    "This will use the `regreg` package: `http://github.com/jonathan-taylor/regreg.git`\n",
    "\n",
    "For `binary` or `categorical` we will use multinomial loss, while for `continuous`\n",
    "we will use the special Gaussian loss described above."
   ]
  },
  {
   "cell_type": "code",
   "execution_count": 5,
   "metadata": {},
   "outputs": [],
   "source": [
    "from regreg.smooth.mglm import multinomial_loglike\n",
    "from regreg.smooth.glm import gaussian_loglike\n",
    "import regreg.api as rr        "
   ]
  },
  {
   "cell_type": "code",
   "execution_count": 6,
   "metadata": {},
   "outputs": [
    {
     "data": {
      "text/plain": [
       "(0,\n",
       " array([0.00000000e+00, 4.27455210e+37, 1.48234511e-01, 1.48234511e-01,\n",
       "        5.01065967e-02, 2.71481633e+37, 3.24797455e+37, 1.17049969e-01,\n",
       "        4.79491936e-01, 4.99880513e-01, 1.29609944e-01, 2.40016662e-01,\n",
       "        2.18420378e-01, 9.24887027e-02, 3.79471257e-02, 3.87709290e-02,\n",
       "        4.64835303e-01, 4.99214417e-01, 3.29700907e-01, 1.41454415e-01,\n",
       "        2.48590316e-01, 4.57907820e-01, 4.53777379e-01, 9.53066884e-02,\n",
       "        4.89373218e-01, 2.95966657e-01, 3.68165670e-01, 3.45703179e-01,\n",
       "        2.77489125e-01, 2.77489125e-01, 4.27455210e+37, 4.27455210e+37,\n",
       "        1.57090474e+08, 3.24797455e+37]),\n",
       " array([1., 1., 1., 1., 1., 1., 1., 1., 1., 1.]))"
      ]
     },
     "execution_count": 6,
     "metadata": {},
     "output_type": "execute_result"
    }
   ],
   "source": [
    "np.isnan(X[:,4]).sum(), X.std(0), X[:,0][:10]"
   ]
  },
  {
   "cell_type": "markdown",
   "metadata": {},
   "source": [
    "### Combine losses into a smooth objective function"
   ]
  },
  {
   "cell_type": "code",
   "execution_count": 7,
   "metadata": {},
   "outputs": [],
   "source": [
    "def _reshape(G):\n",
    "    if G.ndim == 1:\n",
    "        return G.reshape((-1, 1))\n",
    "    return G\n",
    "\n",
    "class gaussian_loss(rr.smooth_atom):\n",
    "\n",
    "    \"\"\"\n",
    "    This codes up (11) of Lee and Hastie\n",
    "    \"\"\"\n",
    "\n",
    "class full_loss(rr.smooth_atom):\n",
    "    \n",
    "    def __init__(self,\n",
    "                 X,\n",
    "                 desc,\n",
    "                 symmetrize=True,\n",
    "                 coef=1.,\n",
    "                 offset=None,\n",
    "                 quadratic=None,\n",
    "                 case_weights=None,\n",
    "                 initial=None):\n",
    "        \n",
    "        (self.X, \n",
    "         self.symmetrize) = (X.copy(), symmetrize)\n",
    "\n",
    "        # create individual losses\n",
    "        # categorical / binary\n",
    "        # are multinomial\n",
    "\n",
    "        # continuous ones get a special loss\n",
    "        # with unknown covariance\n",
    "        \n",
    "        idx_cont = 0\n",
    "        self.desc = []\n",
    "        self.sum_sq = []\n",
    "        for var, dtype, idx in desc:\n",
    "            if dtype in ['binary', 'categorical']:\n",
    "                response = self.X[:,idx]\n",
    "                self.desc.append((var, dtype, idx,\n",
    "                                  multinomial_loglike(response.shape,\n",
    "                                                      response), \n",
    "                                  None))\n",
    "            elif dtype == 'continuous':\n",
    "                response = np.squeeze(self.X[:,idx]) # it will be a 2D array\n",
    "                if var not in ['snr', 'w_surface_window_final', 'intercept']:\n",
    "                    l, u = np.percentile(response, [5, 95]) # quick and dirty cleaning..\n",
    "                    response = np.clip(response, l, u)\n",
    "                elif var == 'w_surface_window_final':\n",
    "                    l, u = np.percentile(response, [2, 98]) # quick and dirty cleaning..\n",
    "                    response = np.clip(response, l, u)\n",
    "                response -= np.mean(response)\n",
    "                response /= np.std(response)\n",
    "                self.X[:,idx] = response[:,None]\n",
    "                self.sum_sq.append((response**2).sum())\n",
    "                self.desc.append((var, dtype, idx,\n",
    "                                  gaussian_loglike(response.shape,\n",
    "                                                   response),\n",
    "                                  idx_cont))\n",
    "                idx_cont += 1\n",
    "            else:\n",
    "                self.desc.append((var, dtype, idx, None, None))\n",
    "\n",
    "        rr.smooth_atom.__init__(self,\n",
    "                                shape=(X.shape[1]**2 + idx_cont),\n",
    "                                coef=coef,\n",
    "                                offset=offset,\n",
    "                                quadratic=quadratic,\n",
    "                                initial=initial)\n",
    "        \n",
    "        self.matrix_slice = slice(0, X.shape[1]**2, None)\n",
    "        self.scale_slice = slice(X.shape[1]**2, X.shape[1]**2 + idx_cont, None)\n",
    "        self.sum_sq = np.array(self.sum_sq)\n",
    "        self._grad_buff = np.zeros((X.shape[1], \n",
    "                                    X.shape[1]))\n",
    "        \n",
    "    def smooth_objective(self, arg, mode='both', check_feasibility=False):\n",
    "        \n",
    "        arg = self.apply_offset(arg)\n",
    "        matrix_arg = arg[self.matrix_slice].reshape((self._grad_buff.shape))\n",
    "        scale_arg = arg[self.scale_slice]\n",
    "        scale_arg = np.maximum(scale_arg, 1.e-14)\n",
    "        scale_grad = np.zeros_like(scale_arg)\n",
    "        full_grad = np.zeros(self.shape)\n",
    "        eta = natural_param = self.X.dot(matrix_arg) # same shape as X\n",
    "        nobs = eta.shape[0]\n",
    "        # because we will force\n",
    "        # diagonal blocks to have np.inf\n",
    "        # weight, these parameters will be zero\n",
    "        # so column j of eta above is really only summing over k != j\n",
    "        _f = []\n",
    "        _g = []\n",
    "        for _, _, _slice, _loss, _scale_idx in self.desc:\n",
    "            if _loss is not None:\n",
    "                if _scale_idx is not None: # continuous variable\n",
    "                    _scale = scale_arg[_scale_idx]\n",
    "                    _eta = np.squeeze(eta[:,_slice])\n",
    "                    _fval, _gval = _loss.smooth_objective(_eta / \n",
    "                                                          _scale, 'both')\n",
    "                    scale_grad[_scale_idx] = 0.5 * ((- nobs / _scale) + \n",
    "                                                        self.sum_sq[_scale_idx] -\n",
    "                                                        1. / _scale**2 * (_eta**2).sum())\n",
    "                    _fval *= _scale\n",
    "                    _fval += -nobs * 0.5 * np.log(_scale)\n",
    "                else:\n",
    "                    _fval, _gval = _loss.smooth_objective(eta[:,_slice], \n",
    "                                                          'both')\n",
    "                _f.append(_fval)\n",
    "                _g.append(_reshape(_gval))\n",
    "        \n",
    "        if mode == 'func':\n",
    "            return self.scale(np.sum(_f))\n",
    "        elif mode == 'grad':\n",
    "            self._grad_buff[:,1:] = self.scale(self.X.T.dot(np.hstack(_g)))\n",
    "            self._grad_buff[:,0] = 0\n",
    "            if self.symmetrize:\n",
    "                self._grad_buff = 0.5 * (self._grad_buff + self._grad_buff.T)\n",
    "            full_grad[self.matrix_slice] = self._grad_buff.reshape(-1)\n",
    "            full_grad[self.scale_slice] = self.scale(scale_grad)\n",
    "            return full_grad\n",
    "        elif mode == 'both':\n",
    "            self._grad_buff[:,1:] = self.scale(self.X.T.dot(np.hstack(_g)))\n",
    "            self._grad_buff[:,0] = 0\n",
    "            if self.symmetrize:\n",
    "                self._grad_buff = 0.5 * (self._grad_buff + self._grad_buff.T)\n",
    "            full_grad[self.matrix_slice] = self._grad_buff.reshape(-1)\n",
    "            full_grad[self.scale_slice] = self.scale(scale_grad)\n",
    "            return self.scale(np.sum(_f)), full_grad"
   ]
  },
  {
   "cell_type": "code",
   "execution_count": 8,
   "metadata": {},
   "outputs": [
    {
     "name": "stderr",
     "output_type": "stream",
     "text": [
      "/Users/jonathantaylor/Stanford/projects/CloudMask/other/regreg/regreg/smooth/mglm.py:787: RuntimeWarning: divide by zero encountered in log\n",
      "  loss_terms = np.log(saturated) * self.counts\n",
      "/Users/jonathantaylor/Stanford/projects/CloudMask/other/regreg/regreg/smooth/mglm.py:787: RuntimeWarning: invalid value encountered in multiply\n",
      "  loss_terms = np.log(saturated) * self.counts\n"
     ]
    },
    {
     "data": {
      "text/plain": [
       "(array([0.00000000e+00, 4.27455210e+37, 1.48234511e-01, 1.48234511e-01,\n",
       "        5.01065967e-02, 2.71481633e+37, 3.24797455e+37, 1.17049969e-01,\n",
       "        4.79491936e-01, 4.99880513e-01, 1.29609944e-01, 2.40016662e-01,\n",
       "        2.18420378e-01, 9.24887027e-02, 3.79471257e-02, 3.87709290e-02,\n",
       "        4.64835303e-01, 4.99214417e-01, 3.29700907e-01, 1.41454415e-01,\n",
       "        2.48590316e-01, 4.57907820e-01, 4.53777379e-01, 9.53066884e-02,\n",
       "        4.89373218e-01, 2.95966657e-01, 3.68165670e-01, 3.45703179e-01,\n",
       "        2.77489125e-01, 2.77489125e-01, 4.27455210e+37, 4.27455210e+37,\n",
       "        1.57090474e+08, 3.24797455e+37]),\n",
       " (1164,))"
      ]
     },
     "execution_count": 8,
     "metadata": {},
     "output_type": "execute_result"
    }
   ],
   "source": [
    "loss = full_loss(X, desc2)\n",
    "F, G = loss.smooth_objective(np.zeros(loss.shape), 'both')\n",
    "G.shape\n",
    "X.std(0), loss.shape"
   ]
  },
  {
   "cell_type": "markdown",
   "metadata": {},
   "source": [
    "### Construct penalty\n",
    "\n",
    "The basic penalty is a group lasso for every \"block\" $\\Theta[k,j]$. We've flattened\n",
    "$\\Theta$ above so we can just use the usual group LASSO penalty.\n",
    "\n",
    "The penality is\n",
    "$$\n",
    "{\\cal P}(\\Theta) = \\lambda \\sum_{(j,k): j < k} w_{(j,k)} \\|\\Theta[j,k]\\|_F\n",
    "$$\n",
    "where\n",
    "$$\n",
    "\\|A\\|_F = Tr(A^TA)^{1/2} = \\left(\\sum_{i,j} A_{ij}^2 \\right)^{1/2}\n",
    "$$"
   ]
  },
  {
   "cell_type": "code",
   "execution_count": 9,
   "metadata": {},
   "outputs": [
    {
     "data": {
      "text/plain": [
       "(34, 34, 2)"
      ]
     },
     "execution_count": 9,
     "metadata": {},
     "output_type": "execute_result"
    }
   ],
   "source": [
    "R, C = np.zeros((2, X.shape[1], X.shape[1]), np.int)\n",
    "var_names = list(D.columns) + ['intercept']\n",
    "\n",
    "for l, r in product(desc2, desc2):\n",
    "    l_slice = l[2]\n",
    "    r_slice = r[2]\n",
    "    R[l_slice][:,r_slice] = R[r_slice][:,l_slice] = var_names.index(r[0])\n",
    "    C[l_slice][:,r_slice] = C[r_slice][:,l_slice] = var_names.index(l[0])  \n",
    "I = np.transpose(np.array([R, C]), [1, 2, 0])\n",
    "I.shape"
   ]
  },
  {
   "cell_type": "code",
   "execution_count": 10,
   "metadata": {},
   "outputs": [
    {
     "data": {
      "text/plain": [
       "(slice(1, 2, None), slice(2, 4, None))"
      ]
     },
     "execution_count": 10,
     "metadata": {},
     "output_type": "execute_result"
    }
   ],
   "source": [
    "B2_slice, M1_slice = desc2[1][2], desc2[2][2]\n",
    "B2_slice, M1_slice"
   ]
  },
  {
   "cell_type": "code",
   "execution_count": 11,
   "metadata": {},
   "outputs": [
    {
     "data": {
      "text/plain": [
       "(array([[4, 4]]),\n",
       " array([[4],\n",
       "        [4]]))"
      ]
     },
     "execution_count": 11,
     "metadata": {},
     "output_type": "execute_result"
    }
   ],
   "source": [
    "I[B2_slice][:,M1_slice][:,:,0], I[M1_slice][:,B2_slice][:,:,0]"
   ]
  },
  {
   "cell_type": "code",
   "execution_count": 12,
   "metadata": {},
   "outputs": [
    {
     "data": {
      "text/plain": [
       "(array([[5, 5]]),\n",
       " array([[5],\n",
       "        [5]]))"
      ]
     },
     "execution_count": 12,
     "metadata": {},
     "output_type": "execute_result"
    }
   ],
   "source": [
    "I[B2_slice][:,M1_slice][:,:,1], I[M1_slice][:,B2_slice][:,:,1]"
   ]
  },
  {
   "cell_type": "code",
   "execution_count": 13,
   "metadata": {},
   "outputs": [
    {
     "data": {
      "text/plain": [
       "(1156,\n",
       " ['intercept-intercept',\n",
       "  'intercept-s_li',\n",
       "  'intercept-q_flag',\n",
       "  'intercept-q_flag',\n",
       "  'intercept-snr',\n",
       "  'h_rb-intercept',\n",
       "  'dh_fit_dx-intercept',\n",
       "  'b_snow_conf-intercept',\n",
       "  'b_snow_conf-intercept',\n",
       "  'b_snow_conf-intercept',\n",
       "  'b_snow_conf-intercept',\n",
       "  'b_snow_conf-intercept',\n",
       "  'b_snow_conf-intercept',\n",
       "  'b_snow_conf-intercept',\n",
       "  'b_snow_conf-intercept',\n",
       "  'c_flg_asr-intercept',\n",
       "  'c_flg_asr-intercept',\n",
       "  'c_flg_asr-intercept',\n",
       "  'c_flg_asr-intercept',\n",
       "  'c_flg_asr-intercept',\n",
       "  'c_flg_asr-intercept',\n",
       "  'c_flg_atm-intercept',\n",
       "  'c_flg_atm-intercept',\n",
       "  'c_flg_atm-intercept',\n",
       "  'intercept-msw',\n",
       "  'intercept-msw',\n",
       "  'intercept-msw',\n",
       "  'intercept-msw',\n",
       "  'intercept-layer_flag',\n",
       "  'intercept-layer_flag',\n",
       "  'bckgrd-intercept',\n",
       "  'e_bckgrd-intercept',\n",
       "  'intercept-n_fit_photons',\n",
       "  'intercept-w_surface_window_final',\n",
       "  'intercept-s_li',\n",
       "  's_li-s_li',\n",
       "  'q_flag-s_li',\n",
       "  'q_flag-s_li',\n",
       "  's_li-snr',\n",
       "  'h_rb-s_li'])"
      ]
     },
     "execution_count": 13,
     "metadata": {},
     "output_type": "execute_result"
    }
   ],
   "source": [
    "groups = ['-'.join(sorted([var_names[r], var_names[c]])) for r, c in zip(R.reshape(-1), C.reshape(-1))]\n",
    "len(groups), groups[:40]"
   ]
  },
  {
   "cell_type": "code",
   "execution_count": 14,
   "metadata": {},
   "outputs": [
    {
     "data": {
      "text/plain": [
       "{'intercept-intercept': inf,\n",
       " 'intercept-s_li': 0.0,\n",
       " 'intercept-q_flag': 0.0,\n",
       " 'intercept-snr': 0.0,\n",
       " 'h_rb-intercept': 0.0,\n",
       " 'dh_fit_dx-intercept': 0.0,\n",
       " 'b_snow_conf-intercept': 0.0,\n",
       " 'c_flg_asr-intercept': 0.0,\n",
       " 'c_flg_atm-intercept': 0.0,\n",
       " 'intercept-msw': 0.0,\n",
       " 'intercept-layer_flag': 0.0,\n",
       " 'bckgrd-intercept': 0.0,\n",
       " 'e_bckgrd-intercept': 0.0,\n",
       " 'intercept-n_fit_photons': 0.0,\n",
       " 'intercept-w_surface_window_final': 0.0,\n",
       " 's_li-s_li': inf,\n",
       " 'q_flag-s_li': 8.960968254112539e+36,\n",
       " 's_li-snr': 2.1418325834683843e+36,\n",
       " 'h_rb-s_li': 1.1604623865936536e+75,\n",
       " 'dh_fit_dx-s_li': 1.3883636455770038e+75,\n",
       " 'b_snow_conf-s_li': 3.3809574676806117e+37,\n",
       " 'c_flg_asr-s_li': 3.465550148909536e+37,\n",
       " 'c_flg_atm-s_li': 2.785607393439636e+37,\n",
       " 'msw-s_li': 3.261399380603476e+37,\n",
       " 'layer_flag-s_li': 1.6774577114560335e+37,\n",
       " 'bckgrd-s_li': 1.8271795682356935e+75,\n",
       " 'e_bckgrd-s_li': 1.8271795682356935e+75,\n",
       " 'n_fit_photons-s_li': 6.714914151075733e+45,\n",
       " 's_li-w_surface_window_final': 1.3883636455770038e+75,\n",
       " 'q_flag-q_flag': inf,\n",
       " 'q_flag-snr': 0.0105041092401315,\n",
       " 'h_rb-q_flag': 5.691212175932136e+36,\n",
       " 'dh_fit_dx-q_flag': 6.808899776168398e+36,\n",
       " 'b_snow_conf-q_flag': 0.1658110295401608,\n",
       " 'c_flg_asr-q_flag': 0.1699596766912156,\n",
       " 'c_flg_atm-q_flag': 0.1366134990505425,\n",
       " 'msw-q_flag': 0.15994758709889528,\n",
       " 'layer_flag-q_flag': 0.08226692965097128,\n",
       " 'bckgrd-q_flag': 8.960968254112539e+36,\n",
       " 'e_bckgrd-q_flag': 8.960968254112539e+36,\n",
       " 'n_fit_photons-q_flag': 32931701.723756853,\n",
       " 'q_flag-w_surface_window_final': 6.808899776168398e+36,\n",
       " 'snr-snr': inf,\n",
       " 'h_rb-snr': 1.3603020714027367e+36,\n",
       " 'dh_fit_dx-snr': 1.6274495104337766e+36,\n",
       " 'b_snow_conf-snr': 0.03963181831433984,\n",
       " 'c_flg_asr-snr': 0.04062341960043572,\n",
       " 'c_flg_atm-snr': 0.03265308338457644,\n",
       " 'msw-snr': 0.038230350111812694,\n",
       " 'layer_flag-snr': 0.01966327582819922,\n",
       " 'bckgrd-snr': 2.1418325834683843e+36,\n",
       " 'e_bckgrd-snr': 2.1418325834683843e+36,\n",
       " 'n_fit_photons-snr': 7871269.017009796,\n",
       " 'snr-w_surface_window_final': 1.6274495104337766e+36,\n",
       " 'h_rb-h_rb': inf,\n",
       " 'dh_fit_dx-h_rb': 8.817654365311559e+74,\n",
       " 'b_snow_conf-h_rb': 2.1472842845461246e+37,\n",
       " 'c_flg_asr-h_rb': 2.2010100520918193e+37,\n",
       " 'c_flg_atm-h_rb': 1.7691707263480655e+37,\n",
       " 'h_rb-msw': 2.071351592719851e+37,\n",
       " 'h_rb-layer_flag': 1.0653723438500574e+37,\n",
       " 'bckgrd-h_rb': 1.1604623865936536e+75,\n",
       " 'e_bckgrd-h_rb': 1.1604623865936536e+75,\n",
       " 'h_rb-n_fit_photons': 4.264717839994846e+45,\n",
       " 'h_rb-w_surface_window_final': 8.817654365311559e+74,\n",
       " 'dh_fit_dx-dh_fit_dx': inf,\n",
       " 'b_snow_conf-dh_fit_dx': 2.5689858385962184e+37,\n",
       " 'c_flg_asr-dh_fit_dx': 2.6332627193920814e+37,\n",
       " 'c_flg_atm-dh_fit_dx': 2.1166151937855053e+37,\n",
       " 'dh_fit_dx-msw': 2.4781408529592e+37,\n",
       " 'dh_fit_dx-layer_flag': 1.274599029052815e+37,\n",
       " 'bckgrd-dh_fit_dx': 1.3883636455770038e+75,\n",
       " 'dh_fit_dx-e_bckgrd': 1.3883636455770038e+75,\n",
       " 'dh_fit_dx-n_fit_photons': 5.102258613545063e+45,\n",
       " 'dh_fit_dx-w_surface_window_final': 1.0549338695928474e+75,\n",
       " 'b_snow_conf-b_snow_conf': inf,\n",
       " 'b_snow_conf-c_flg_asr': 0.6412548530679474,\n",
       " 'b_snow_conf-c_flg_atm': 0.5154403148219312,\n",
       " 'b_snow_conf-msw': 0.6034794161795204,\n",
       " 'b_snow_conf-layer_flag': 0.31039167002846724,\n",
       " 'b_snow_conf-bckgrd': 3.3809574676806117e+37,\n",
       " 'b_snow_conf-e_bckgrd': 3.3809574676806117e+37,\n",
       " 'b_snow_conf-n_fit_photons': 124250727.9447928,\n",
       " 'b_snow_conf-w_surface_window_final': 2.5689858385962184e+37,\n",
       " 'c_flg_asr-c_flg_asr': inf,\n",
       " 'c_flg_asr-c_flg_atm': 0.528336803068552,\n",
       " 'c_flg_asr-msw': 0.6185786720468569,\n",
       " 'c_flg_asr-layer_flag': 0.3181577729297392,\n",
       " 'bckgrd-c_flg_asr': 3.465550148909536e+37,\n",
       " 'c_flg_asr-e_bckgrd': 3.465550148909536e+37,\n",
       " 'c_flg_asr-n_fit_photons': 127359522.51614426,\n",
       " 'c_flg_asr-w_surface_window_final': 2.6332627193920814e+37,\n",
       " 'c_flg_atm-c_flg_atm': inf,\n",
       " 'c_flg_atm-msw': 0.4972132124014969,\n",
       " 'c_flg_atm-layer_flag': 0.25573505113819817,\n",
       " 'bckgrd-c_flg_atm': 2.785607393439636e+37,\n",
       " 'c_flg_atm-e_bckgrd': 2.785607393439636e+37,\n",
       " 'c_flg_atm-n_fit_photons': 102371517.45085719,\n",
       " 'c_flg_atm-w_surface_window_final': 2.1166151937855053e+37,\n",
       " 'msw-msw': inf,\n",
       " 'layer_flag-msw': 0.2994155383651668,\n",
       " 'bckgrd-msw': 3.261399380603476e+37,\n",
       " 'e_bckgrd-msw': 3.261399380603476e+37,\n",
       " 'msw-n_fit_photons': 119856949.11349273,\n",
       " 'msw-w_surface_window_final': 2.4781408529592e+37,\n",
       " 'layer_flag-layer_flag': inf,\n",
       " 'bckgrd-layer_flag': 1.6774577114560335e+37,\n",
       " 'e_bckgrd-layer_flag': 1.6774577114560335e+37,\n",
       " 'layer_flag-n_fit_photons': 61646839.31620156,\n",
       " 'layer_flag-w_surface_window_final': 1.274599029052815e+37,\n",
       " 'bckgrd-bckgrd': inf,\n",
       " 'bckgrd-e_bckgrd': 1.8271795682356935e+75,\n",
       " 'bckgrd-n_fit_photons': 6.714914151075733e+45,\n",
       " 'bckgrd-w_surface_window_final': 1.3883636455770038e+75,\n",
       " 'e_bckgrd-e_bckgrd': inf,\n",
       " 'e_bckgrd-n_fit_photons': 6.714914151075733e+45,\n",
       " 'e_bckgrd-w_surface_window_final': 1.3883636455770038e+75,\n",
       " 'n_fit_photons-n_fit_photons': inf,\n",
       " 'n_fit_photons-w_surface_window_final': 5.102258613545063e+45,\n",
       " 'w_surface_window_final-w_surface_window_final': inf,\n",
       " 's_li-scale': 0,\n",
       " 'snr-scale': 0,\n",
       " 'h_rb-scale': 0,\n",
       " 'dh_fit_dx-scale': 0,\n",
       " 'bckgrd-scale': 0,\n",
       " 'e_bckgrd-scale': 0,\n",
       " 'n_fit_photons-scale': 0,\n",
       " 'w_surface_window_final-scale': 0}"
      ]
     },
     "execution_count": 14,
     "metadata": {},
     "output_type": "execute_result"
    }
   ],
   "source": [
    "weights = {}\n",
    "covs = {}\n",
    "for d in desc2:\n",
    "    X_ = X[:,d[2]] * 1.\n",
    "    X_ = X_ - X_.mean(0)\n",
    "    C_ = X_.T.dot(X_) / X_.shape[0]\n",
    "    covs[d[0]] = np.diag(C_).sum()\n",
    "    \n",
    "for l, r in product(covs.keys(), covs.keys()):\n",
    "    weights['-'.join(sorted([l, r]))] = np.sqrt(covs[l] * covs[r])\n",
    "    if l == r:\n",
    "        weights['-'.join([l, r])] = np.inf\n",
    "for d in loss.desc:\n",
    "    if d[1] == 'continuous':\n",
    "        weights[d[0]+'-scale'] = 0\n",
    "        groups.append(d[0]+'-scale')\n",
    "weights"
   ]
  },
  {
   "cell_type": "code",
   "execution_count": 15,
   "metadata": {},
   "outputs": [
    {
     "data": {
      "text/plain": [
       "(1164,)"
      ]
     },
     "execution_count": 15,
     "metadata": {},
     "output_type": "execute_result"
    }
   ],
   "source": [
    "penalty = rr.group_lasso(list(groups), weights=weights, lagrange=10 * np.sqrt(X.shape[0]))\n",
    "penalty.shape"
   ]
  },
  {
   "cell_type": "code",
   "execution_count": 16,
   "metadata": {},
   "outputs": [],
   "source": [
    "problem = rr.simple_problem(loss, penalty)\n"
   ]
  },
  {
   "cell_type": "code",
   "execution_count": 17,
   "metadata": {},
   "outputs": [
    {
     "data": {
      "text/plain": [
       "array([1., 1., 1., 1., 1., 1., 1., 1., 1., 1.])"
      ]
     },
     "execution_count": 17,
     "metadata": {},
     "output_type": "execute_result"
    }
   ],
   "source": [
    "loss.smooth_objective(problem.coefs, 'grad')\n",
    "X[:,0][:10]"
   ]
  },
  {
   "cell_type": "code",
   "execution_count": 18,
   "metadata": {},
   "outputs": [],
   "source": [
    "problem.coefs[:] = 0\n",
    "problem.coefs[-8:] = 1."
   ]
  },
  {
   "cell_type": "code",
   "execution_count": 19,
   "metadata": {},
   "outputs": [
    {
     "name": "stdout",
     "output_type": "stream",
     "text": [
      "0    obj: 2.963970e+06    step: 3.96e-06    rel_obj_change: 2.66e-01    tol: 1.0e-05\n",
      "1    obj: 2.175321e+06    step: 3.96e-06    rel_obj_change: 5.45e-02    tol: 1.0e-05\n",
      "2    Decreasing step to 3.601558178130186e-06\n",
      "2    Decreasing step to 3.274143798300169e-06\n",
      "2    Decreasing step to 2.9764943620910623e-06\n",
      "2    obj: 2.056875e+06    step: 2.98e-06    rel_obj_change: 3.63e-02    tol: 1.0e-05\n",
      "3    Decreasing step to 2.705903965537329e-06\n",
      "3    Decreasing step to 2.4599126959430263e-06\n",
      "3    obj: 1.982153e+06    step: 2.46e-06    rel_obj_change: 2.94e-02    tol: 1.0e-05\n",
      "4    obj: 1.923835e+06    step: 2.46e-06    rel_obj_change: 2.43e-02    tol: 1.0e-05\n",
      "5    obj: 1.877017e+06    step: 2.46e-06    rel_obj_change: 2.11e-02    tol: 1.0e-05\n",
      "6    obj: 1.837412e+06    step: 2.46e-06    rel_obj_change: 1.90e-02    tol: 1.0e-05\n",
      "7    obj: 1.802490e+06    step: 2.46e-06    rel_obj_change: 1.72e-02    tol: 1.0e-05\n",
      "8    obj: 1.771536e+06    step: 2.46e-06    rel_obj_change: 1.55e-02    tol: 1.0e-05\n",
      "9    obj: 1.744018e+06    step: 2.46e-06    rel_obj_change: 1.40e-02    tol: 1.0e-05\n",
      "10    obj: 1.719556e+06    step: 2.46e-06    rel_obj_change: 1.26e-02    tol: 1.0e-05\n",
      "11    obj: 1.697830e+06    step: 2.46e-06    rel_obj_change: 1.13e-02    tol: 1.0e-05\n",
      "12    obj: 1.678594e+06    step: 2.46e-06    rel_obj_change: 1.01e-02    tol: 1.0e-05\n",
      "13    obj: 1.661616e+06    step: 2.46e-06    rel_obj_change: 9.00e-03    tol: 1.0e-05\n",
      "14    obj: 1.646668e+06    step: 2.46e-06    rel_obj_change: 7.98e-03    tol: 1.0e-05\n",
      "15    obj: 1.633523e+06    step: 2.46e-06    rel_obj_change: 7.08e-03    tol: 1.0e-05\n",
      "16    obj: 1.621960e+06    step: 2.46e-06    rel_obj_change: 6.28e-03    tol: 1.0e-05\n",
      "17    obj: 1.611778e+06    step: 2.46e-06    rel_obj_change: 5.57e-03    tol: 1.0e-05\n",
      "18    obj: 1.602794e+06    step: 2.46e-06    rel_obj_change: 4.96e-03    tol: 1.0e-05\n",
      "19    obj: 1.594848e+06    step: 2.46e-06    rel_obj_change: 4.42e-03    tol: 1.0e-05\n",
      "20    obj: 1.587802e+06    step: 2.46e-06    rel_obj_change: 3.94e-03    tol: 1.0e-05\n",
      "21    obj: 1.581538e+06    step: 2.46e-06    rel_obj_change: 3.53e-03    tol: 1.0e-05\n",
      "22    obj: 1.575957e+06    step: 2.46e-06    rel_obj_change: 3.16e-03    tol: 1.0e-05\n",
      "23    obj: 1.570973e+06    step: 2.46e-06    rel_obj_change: 2.84e-03    tol: 1.0e-05\n",
      "24    obj: 1.566515e+06    step: 2.46e-06    rel_obj_change: 2.55e-03    tol: 1.0e-05\n",
      "25    obj: 1.562523e+06    step: 2.46e-06    rel_obj_change: 2.29e-03    tol: 1.0e-05\n",
      "26    obj: 1.558945e+06    step: 2.46e-06    rel_obj_change: 2.06e-03    tol: 1.0e-05\n",
      "27    obj: 1.555735e+06    step: 2.46e-06    rel_obj_change: 1.85e-03    tol: 1.0e-05\n",
      "28    obj: 1.552856e+06    step: 2.46e-06    rel_obj_change: 1.66e-03    tol: 1.0e-05\n",
      "29    obj: 1.550273e+06    step: 2.46e-06    rel_obj_change: 1.49e-03    tol: 1.0e-05\n",
      "30    obj: 1.547956e+06    step: 2.46e-06    rel_obj_change: 1.34e-03    tol: 1.0e-05\n",
      "31    obj: 1.545877e+06    step: 2.46e-06    rel_obj_change: 1.21e-03    tol: 1.0e-05\n",
      "32    obj: 1.544013e+06    step: 2.46e-06    rel_obj_change: 1.08e-03    tol: 1.0e-05\n",
      "33    obj: 1.542341e+06    step: 2.46e-06    rel_obj_change: 9.72e-04    tol: 1.0e-05\n",
      "34    obj: 1.540842e+06    step: 2.46e-06    rel_obj_change: 8.72e-04    tol: 1.0e-05\n",
      "35    obj: 1.539498e+06    step: 2.46e-06    rel_obj_change: 7.83e-04    tol: 1.0e-05\n",
      "36    obj: 1.538292e+06    step: 2.46e-06    rel_obj_change: 7.04e-04    tol: 1.0e-05\n",
      "37    obj: 1.537209e+06    step: 2.46e-06    rel_obj_change: 6.34e-04    tol: 1.0e-05\n",
      "38    obj: 1.536235e+06    step: 2.46e-06    rel_obj_change: 5.71e-04    tol: 1.0e-05\n",
      "39    obj: 1.535358e+06    step: 2.46e-06    rel_obj_change: 5.15e-04    tol: 1.0e-05\n",
      "40    obj: 1.534567e+06    step: 2.46e-06    rel_obj_change: 4.66e-04    tol: 1.0e-05\n",
      "41    obj: 1.533852e+06    step: 2.46e-06    rel_obj_change: 4.22e-04    tol: 1.0e-05\n",
      "42    obj: 1.533205e+06    step: 2.46e-06    rel_obj_change: 3.83e-04    tol: 1.0e-05\n",
      "43    obj: 1.532618e+06    step: 2.46e-06    rel_obj_change: 3.48e-04    tol: 1.0e-05\n",
      "44    obj: 1.532085e+06    step: 2.46e-06    rel_obj_change: 3.16e-04    tol: 1.0e-05\n",
      "45    obj: 1.531600e+06    step: 2.46e-06    rel_obj_change: 2.88e-04    tol: 1.0e-05\n",
      "46    obj: 1.531158e+06    step: 2.46e-06    rel_obj_change: 2.63e-04    tol: 1.0e-05\n",
      "47    obj: 1.530756e+06    step: 2.46e-06    rel_obj_change: 2.40e-04    tol: 1.0e-05\n",
      "48    obj: 1.530388e+06    step: 2.46e-06    rel_obj_change: 2.20e-04    tol: 1.0e-05\n",
      "49    obj: 1.530052e+06    step: 2.46e-06    rel_obj_change: 2.01e-04    tol: 1.0e-05\n",
      "50    obj: 1.529744e+06    step: 2.46e-06    rel_obj_change: 1.84e-04    tol: 1.0e-05\n",
      "51    obj: 1.529462e+06    step: 2.46e-06    rel_obj_change: 1.69e-04    tol: 1.0e-05\n",
      "52    obj: 1.529203e+06    step: 2.46e-06    rel_obj_change: 1.55e-04    tol: 1.0e-05\n",
      "53    obj: 1.528966e+06    step: 2.46e-06    rel_obj_change: 1.42e-04    tol: 1.0e-05\n",
      "54    obj: 1.528749e+06    step: 2.46e-06    rel_obj_change: 1.30e-04    tol: 1.0e-05\n",
      "55    obj: 1.528549e+06    step: 2.46e-06    rel_obj_change: 1.19e-04    tol: 1.0e-05\n",
      "56    obj: 1.528367e+06    step: 2.46e-06    rel_obj_change: 1.08e-04    tol: 1.0e-05\n",
      "57    obj: 1.528202e+06    step: 2.46e-06    rel_obj_change: 9.85e-05    tol: 1.0e-05\n",
      "58    obj: 1.528051e+06    step: 2.46e-06    rel_obj_change: 8.95e-05    tol: 1.0e-05\n",
      "59    obj: 1.527914e+06    step: 2.46e-06    rel_obj_change: 8.23e-05    tol: 1.0e-05\n",
      "60    obj: 1.527789e+06    step: 2.46e-06    rel_obj_change: 7.76e-05    tol: 1.0e-05\n",
      "61    obj: 1.527670e+06    step: 2.46e-06    rel_obj_change: 7.64e-05    tol: 1.0e-05\n",
      "62    obj: 1.527553e+06    step: 2.46e-06    rel_obj_change: 7.84e-05    tol: 1.0e-05\n",
      "63    obj: 1.527434e+06    step: 2.46e-06    rel_obj_change: 8.14e-05    tol: 1.0e-05\n",
      "64    obj: 1.527309e+06    step: 2.46e-06    rel_obj_change: 8.09e-05    tol: 1.0e-05\n",
      "65    obj: 1.527186e+06    step: 2.46e-06    rel_obj_change: 7.33e-05    tol: 1.0e-05\n",
      "66    obj: 1.527074e+06    step: 2.46e-06    rel_obj_change: 6.41e-05    tol: 1.0e-05\n",
      "67    obj: 1.526976e+06    step: 2.46e-06    rel_obj_change: 5.99e-05    tol: 1.0e-05\n",
      "68    obj: 1.526884e+06    step: 2.46e-06    rel_obj_change: 5.92e-05    tol: 1.0e-05\n",
      "69    obj: 1.526794e+06    step: 2.46e-06    rel_obj_change: 5.99e-05    tol: 1.0e-05\n",
      "70    obj: 1.526703e+06    step: 2.46e-06    rel_obj_change: 6.11e-05    tol: 1.0e-05\n",
      "71    obj: 1.526609e+06    step: 2.46e-06    rel_obj_change: 6.27e-05    tol: 1.0e-05\n",
      "72    obj: 1.526514e+06    step: 2.46e-06    rel_obj_change: 6.44e-05    tol: 1.0e-05\n",
      "73    obj: 1.526416e+06    step: 2.46e-06    rel_obj_change: 6.62e-05    tol: 1.0e-05\n",
      "74    obj: 1.526314e+06    step: 2.46e-06    rel_obj_change: 6.83e-05    tol: 1.0e-05\n",
      "75    obj: 1.526210e+06    step: 2.46e-06    rel_obj_change: 6.46e-05    tol: 1.0e-05\n",
      "76    obj: 1.526112e+06    step: 2.46e-06    rel_obj_change: 6.06e-05    tol: 1.0e-05\n",
      "77    obj: 1.526019e+06    step: 2.46e-06    rel_obj_change: 6.09e-05    tol: 1.0e-05\n",
      "78    obj: 1.525926e+06    step: 2.46e-06    rel_obj_change: 6.11e-05    tol: 1.0e-05\n",
      "79    obj: 1.525833e+06    step: 2.46e-06    rel_obj_change: 6.11e-05    tol: 1.0e-05\n",
      "80    obj: 1.525740e+06    step: 2.46e-06    rel_obj_change: 6.10e-05    tol: 1.0e-05\n",
      "81    obj: 1.525647e+06    step: 2.46e-06    rel_obj_change: 6.08e-05    tol: 1.0e-05\n",
      "82    obj: 1.525554e+06    step: 2.46e-06    rel_obj_change: 6.05e-05    tol: 1.0e-05\n",
      "83    obj: 1.525462e+06    step: 2.46e-06    rel_obj_change: 6.01e-05    tol: 1.0e-05\n",
      "84    obj: 1.525370e+06    step: 2.46e-06    rel_obj_change: 5.96e-05    tol: 1.0e-05\n",
      "85    obj: 1.525279e+06    step: 2.46e-06    rel_obj_change: 5.91e-05    tol: 1.0e-05\n",
      "86    obj: 1.525189e+06    step: 2.46e-06    rel_obj_change: 5.84e-05    tol: 1.0e-05\n",
      "87    obj: 1.525100e+06    step: 2.46e-06    rel_obj_change: 5.77e-05    tol: 1.0e-05\n",
      "88    obj: 1.525012e+06    step: 2.46e-06    rel_obj_change: 5.69e-05    tol: 1.0e-05\n",
      "89    obj: 1.524925e+06    step: 2.46e-06    rel_obj_change: 5.60e-05    tol: 1.0e-05\n",
      "90    obj: 1.524839e+06    step: 2.46e-06    rel_obj_change: 5.50e-05    tol: 1.0e-05\n",
      "91    obj: 1.524756e+06    step: 2.46e-06    rel_obj_change: 5.40e-05    tol: 1.0e-05\n",
      "92    obj: 1.524673e+06    step: 2.46e-06    rel_obj_change: 5.29e-05    tol: 1.0e-05\n"
     ]
    },
    {
     "name": "stdout",
     "output_type": "stream",
     "text": [
      "93    obj: 1.524593e+06    step: 2.46e-06    rel_obj_change: 5.17e-05    tol: 1.0e-05\n",
      "94    obj: 1.524514e+06    step: 2.46e-06    rel_obj_change: 5.05e-05    tol: 1.0e-05\n",
      "95    obj: 1.524437e+06    step: 2.46e-06    rel_obj_change: 4.92e-05    tol: 1.0e-05\n",
      "96    obj: 1.524362e+06    step: 2.46e-06    rel_obj_change: 4.79e-05    tol: 1.0e-05\n",
      "97    obj: 1.524289e+06    step: 2.46e-06    rel_obj_change: 4.66e-05    tol: 1.0e-05\n",
      "98    obj: 1.524218e+06    step: 2.46e-06    rel_obj_change: 4.53e-05    tol: 1.0e-05\n",
      "99    obj: 1.524149e+06    step: 2.71e-06    rel_obj_change: 4.42e-05    tol: 1.0e-05\n",
      "100    obj: 1.524082e+06    step: 2.98e-06    rel_obj_change: 4.33e-05    tol: 1.0e-05\n",
      "101    obj: 1.524016e+06    step: 3.27e-06    rel_obj_change: 4.26e-05    tol: 1.0e-05\n",
      "102    obj: 1.523951e+06    step: 3.60e-06    rel_obj_change: 4.22e-05    tol: 1.0e-05\n",
      "103    obj: 1.523886e+06    step: 3.96e-06    rel_obj_change: 4.21e-05    tol: 1.0e-05\n",
      "104    obj: 1.523822e+06    step: 4.36e-06    rel_obj_change: 4.22e-05    tol: 1.0e-05\n",
      "105    obj: 1.523758e+06    step: 4.79e-06    rel_obj_change: 4.26e-05    tol: 1.0e-05\n",
      "106    obj: 1.523693e+06    step: 5.27e-06    rel_obj_change: 4.34e-05    tol: 1.0e-05\n",
      "107    obj: 1.523627e+06    step: 5.80e-06    rel_obj_change: 4.44e-05    tol: 1.0e-05\n",
      "108    obj: 1.523559e+06    step: 6.38e-06    rel_obj_change: 4.58e-05    tol: 1.0e-05\n",
      "109    obj: 1.523490e+06    step: 7.02e-06    rel_obj_change: 4.75e-05    tol: 1.0e-05\n",
      "110    obj: 1.523417e+06    step: 7.72e-06    rel_obj_change: 4.93e-05    tol: 1.0e-05\n",
      "111    obj: 1.523342e+06    step: 8.49e-06    rel_obj_change: 5.11e-05    tol: 1.0e-05\n",
      "112    obj: 1.523264e+06    step: 9.34e-06    rel_obj_change: 5.21e-05    tol: 1.0e-05\n",
      "113    obj: 1.523185e+06    step: 1.03e-05    rel_obj_change: 5.08e-05    tol: 1.0e-05\n",
      "114    Decreasing step to 1.0275665806050339e-05\n",
      "114    Decreasing step to 9.34151436913667e-06\n",
      "114    Decreasing step to 8.492285790124245e-06\n",
      "114    Decreasing step to 7.720259809203859e-06\n",
      "114    Decreasing step to 7.0184180083671436e-06\n",
      "114    Decreasing step to 6.380380007606493e-06\n",
      "114    Decreasing step to 5.800345461460448e-06\n",
      "114    Decreasing step to 5.273041328600407e-06\n",
      "114    Decreasing step to 4.793673935091278e-06\n",
      "114    Decreasing step to 4.357885395537525e-06\n",
      "114    Decreasing step to 3.961713995943205e-06\n",
      "114    Decreasing step to 3.601558178130186e-06\n",
      "114    Decreasing step to 3.274143798300169e-06\n",
      "114    obj: 1.523107e+06    step: 3.27e-06    rel_obj_change: 4.27e-05    tol: 1.0e-05\n",
      "115    Decreasing step to 2.9764943620910623e-06\n",
      "115    obj: 1.523042e+06    step: 2.98e-06    rel_obj_change: 3.89e-05    tol: 1.0e-05\n",
      "116    obj: 1.522983e+06    step: 2.98e-06    rel_obj_change: 3.79e-05    tol: 1.0e-05\n",
      "117    obj: 1.522925e+06    step: 2.98e-06    rel_obj_change: 3.72e-05    tol: 1.0e-05\n",
      "118    obj: 1.522869e+06    step: 2.98e-06    rel_obj_change: 3.66e-05    tol: 1.0e-05\n",
      "119    obj: 1.522813e+06    step: 2.98e-06    rel_obj_change: 3.56e-05    tol: 1.0e-05\n",
      "120    obj: 1.522759e+06    step: 2.98e-06    rel_obj_change: 3.33e-05    tol: 1.0e-05\n",
      "121    obj: 1.522708e+06    step: 2.98e-06    rel_obj_change: 2.93e-05    tol: 1.0e-05\n",
      "122    obj: 1.522663e+06    step: 2.98e-06    rel_obj_change: 2.66e-05    tol: 1.0e-05\n",
      "123    obj: 1.522623e+06    step: 2.98e-06    rel_obj_change: 2.52e-05    tol: 1.0e-05\n",
      "124    obj: 1.522584e+06    step: 2.98e-06    rel_obj_change: 2.39e-05    tol: 1.0e-05\n",
      "125    obj: 1.522548e+06    step: 2.98e-06    rel_obj_change: 2.27e-05    tol: 1.0e-05\n",
      "126    obj: 1.522513e+06    step: 2.98e-06    rel_obj_change: 2.16e-05    tol: 1.0e-05\n",
      "127    obj: 1.522481e+06    step: 2.98e-06    rel_obj_change: 2.05e-05    tol: 1.0e-05\n",
      "128    obj: 1.522449e+06    step: 2.98e-06    rel_obj_change: 1.95e-05    tol: 1.0e-05\n",
      "129    obj: 1.522420e+06    step: 2.98e-06    rel_obj_change: 1.86e-05    tol: 1.0e-05\n",
      "130    obj: 1.522391e+06    step: 2.98e-06    rel_obj_change: 1.77e-05    tol: 1.0e-05\n",
      "131    obj: 1.522364e+06    step: 2.98e-06    rel_obj_change: 1.68e-05    tol: 1.0e-05\n",
      "132    obj: 1.522339e+06    step: 2.98e-06    rel_obj_change: 1.58e-05    tol: 1.0e-05\n",
      "133    obj: 1.522315e+06    step: 2.98e-06    rel_obj_change: 1.49e-05    tol: 1.0e-05\n",
      "134    obj: 1.522292e+06    step: 2.98e-06    rel_obj_change: 1.42e-05    tol: 1.0e-05\n",
      "135    obj: 1.522270e+06    step: 2.98e-06    rel_obj_change: 1.39e-05    tol: 1.0e-05\n",
      "136    obj: 1.522249e+06    step: 2.98e-06    rel_obj_change: 1.38e-05    tol: 1.0e-05\n",
      "137    obj: 1.522228e+06    step: 2.98e-06    rel_obj_change: 1.38e-05    tol: 1.0e-05\n",
      "138    obj: 1.522207e+06    step: 2.98e-06    rel_obj_change: 1.40e-05    tol: 1.0e-05\n",
      "139    obj: 1.522186e+06    step: 2.98e-06    rel_obj_change: 1.41e-05    tol: 1.0e-05\n",
      "140    obj: 1.522164e+06    step: 2.98e-06    rel_obj_change: 1.42e-05    tol: 1.0e-05\n",
      "141    obj: 1.522143e+06    step: 2.98e-06    rel_obj_change: 1.41e-05    tol: 1.0e-05\n",
      "142    obj: 1.522121e+06    step: 2.98e-06    rel_obj_change: 1.40e-05    tol: 1.0e-05\n",
      "143    obj: 1.522100e+06    step: 2.98e-06    rel_obj_change: 1.37e-05    tol: 1.0e-05\n",
      "144    obj: 1.522079e+06    step: 2.98e-06    rel_obj_change: 1.34e-05    tol: 1.0e-05\n",
      "145    obj: 1.522059e+06    step: 2.98e-06    rel_obj_change: 1.31e-05    tol: 1.0e-05\n",
      "146    obj: 1.522039e+06    step: 2.98e-06    rel_obj_change: 1.28e-05    tol: 1.0e-05\n",
      "147    obj: 1.522019e+06    step: 2.98e-06    rel_obj_change: 1.25e-05    tol: 1.0e-05\n",
      "148    obj: 1.522000e+06    step: 2.98e-06    rel_obj_change: 1.21e-05    tol: 1.0e-05\n",
      "149    obj: 1.521982e+06    step: 2.98e-06    rel_obj_change: 1.17e-05    tol: 1.0e-05\n",
      "150    obj: 1.521964e+06    step: 2.98e-06    rel_obj_change: 1.13e-05    tol: 1.0e-05\n",
      "151    obj: 1.521947e+06    step: 2.98e-06    rel_obj_change: 1.09e-05    tol: 1.0e-05\n",
      "152    obj: 1.521930e+06    step: 2.98e-06    rel_obj_change: 1.05e-05    tol: 1.0e-05\n",
      "153    obj: 1.521914e+06    step: 2.98e-06    rel_obj_change: 1.01e-05    tol: 1.0e-05\n",
      "154    obj: 1.521899e+06    step: 2.98e-06    rel_obj_change: 9.73e-06    tol: 1.0e-05\n",
      "Success: Optimization stopped because decrease in objective was below tolerance\n",
      "FISTA used 154 of 10000 iterations\n"
     ]
    }
   ],
   "source": [
    "soln = problem.solve(start_step=1/X.shape[0], min_its=50, debug=True)"
   ]
  },
  {
   "cell_type": "code",
   "execution_count": 20,
   "metadata": {},
   "outputs": [
    {
     "data": {
      "text/plain": [
       "array([1.        , 1.47856496, 1.        , 1.        , 1.        ,\n",
       "       1.        , 1.        , 1.        ])"
      ]
     },
     "execution_count": 20,
     "metadata": {},
     "output_type": "execute_result"
    }
   ],
   "source": [
    "loss.smooth_objective(problem.coefs, 'grad')\n",
    "problem.coefs[-8:]"
   ]
  },
  {
   "cell_type": "code",
   "execution_count": 21,
   "metadata": {},
   "outputs": [
    {
     "data": {
      "text/plain": [
       "array([252416., 252416., 252416., 252416., 252416., 252416., 252416.,\n",
       "       252416.])"
      ]
     },
     "execution_count": 21,
     "metadata": {},
     "output_type": "execute_result"
    }
   ],
   "source": [
    "loss.sum_sq"
   ]
  },
  {
   "cell_type": "code",
   "execution_count": 22,
   "metadata": {},
   "outputs": [
    {
     "data": {
      "text/plain": [
       "[<matplotlib.lines.Line2D at 0x1249d0730>]"
      ]
     },
     "execution_count": 22,
     "metadata": {},
     "output_type": "execute_result"
    },
    {
     "data": {
      "image/png": "[encoded data removed]",
      "text/plain": [
       "<Figure size 432x288 with 1 Axes>"
      ]
     },
     "metadata": {
      "needs_background": "light"
     },
     "output_type": "display_data"
    }
   ],
   "source": [
    "problem.coefs[loss.matrix_slice].reshape((X.shape[1], X.shape[1]))[0]\n",
    "plt.plot(problem.solver_results)"
   ]
  },
  {
   "cell_type": "code",
   "execution_count": 23,
   "metadata": {},
   "outputs": [
    {
     "data": {
      "text/plain": [
       "<matplotlib.colorbar.Colorbar at 0x12d760580>"
      ]
     },
     "execution_count": 23,
     "metadata": {},
     "output_type": "execute_result"
    },
    {
     "data": {
      "image/png": "[encoded data removed]",
      "text/plain": [
       "<Figure size 432x288 with 2 Axes>"
      ]
     },
     "metadata": {
      "needs_background": "light"
     },
     "output_type": "display_data"
    }
   ],
   "source": [
    "matrix_soln = problem.coefs[loss.matrix_slice].reshape((X.shape[1], X.shape[1]))\n",
    "matrix_soln = matrix_soln[1:][:,1:]\n",
    "plt.imshow(matrix_soln != 0)\n",
    "matrix_soln = np.sign(matrix_soln) * np.log(np.fabs(matrix_soln)+1)\n",
    "plt.colorbar()"
   ]
  },
  {
   "cell_type": "code",
   "execution_count": 24,
   "metadata": {},
   "outputs": [
    {
     "data": {
      "image/png": "[encoded data removed]",
      "text/plain": [
       "<Figure size 576x576 with 1 Axes>"
      ]
     },
     "execution_count": 24,
     "metadata": {},
     "output_type": "execute_result"
    }
   ],
   "source": [
    "f = plt.figure(figsize=(8,8))\n",
    "ax = plt.gca()\n",
    "ax.imshow(matrix_soln, cmap='RdBu', interpolation='nearest', vmin=-np.fabs(matrix_soln).max(),\n",
    "         vmax=np.fabs(matrix_soln).max())\n",
    "ylim, xlim = ax.get_ylim(), ax.get_xlim()\n",
    "ax.xaxis.set_ticks(np.cumsum([X[:,d[2]].shape[1] for d in desc2[1:]]) - 0.5)\n",
    "ax.yaxis.set_ticks(np.cumsum([X[:,d[2]].shape[1] for d in desc2[1:]]) - 0.5)\n",
    "ax.set_xticklabels([d[0] for d in desc2[1:]], rotation=270)\n",
    "ax.set_yticklabels([d[0] for d in desc2[1:]])\n",
    "ax.grid(color='gray', linewidth=1, linestyle='--')\n",
    "f"
   ]
  },
  {
   "cell_type": "code",
   "execution_count": 25,
   "metadata": {},
   "outputs": [
    {
     "data": {
      "text/plain": [
       "-1.4497660954439562"
      ]
     },
     "execution_count": 25,
     "metadata": {},
     "output_type": "execute_result"
    },
    {
     "data": {
      "image/png": "[encoded data removed]",
      "text/plain": [
       "<Figure size 576x576 with 1 Axes>"
      ]
     },
     "metadata": {
      "needs_background": "light"
     },
     "output_type": "display_data"
    }
   ],
   "source": [
    "matrix_soln.min()"
   ]
  },
  {
   "cell_type": "code",
   "execution_count": 26,
   "metadata": {},
   "outputs": [],
   "source": [
    "group_keys = sorted(weights.keys())\n",
    "group_img = np.array([group_keys.index(g) for g in groups])[loss.matrix_slice].reshape((X.shape[1], X.shape[1]))"
   ]
  },
  {
   "cell_type": "code",
   "execution_count": 27,
   "metadata": {},
   "outputs": [
    {
     "data": {
      "text/plain": [
       "<matplotlib.colorbar.Colorbar at 0x12d68fe50>"
      ]
     },
     "execution_count": 27,
     "metadata": {},
     "output_type": "execute_result"
    },
    {
     "data": {
      "image/png": "[encoded data removed]",
      "text/plain": [
       "<Figure size 432x288 with 2 Axes>"
      ]
     },
     "metadata": {
      "needs_background": "light"
     },
     "output_type": "display_data"
    }
   ],
   "source": [
    "plt.imshow(group_img)\n",
    "plt.colorbar()"
   ]
  },
  {
   "cell_type": "code",
   "execution_count": 28,
   "metadata": {},
   "outputs": [
    {
     "data": {
      "text/plain": [
       "(120,)"
      ]
     },
     "execution_count": 28,
     "metadata": {},
     "output_type": "execute_result"
    }
   ],
   "source": [
    "np.unique(group_img).shape"
   ]
  },
  {
   "cell_type": "code",
   "execution_count": 29,
   "metadata": {},
   "outputs": [
    {
     "data": {
      "text/plain": [
       "128"
      ]
     },
     "execution_count": 29,
     "metadata": {},
     "output_type": "execute_result"
    }
   ],
   "source": [
    "len(group_keys)"
   ]
  },
  {
   "cell_type": "markdown",
   "metadata": {},
   "source": [
    "## Regular markdown"
   ]
  },
  {
   "cell_type": "code",
   "execution_count": 30,
   "metadata": {},
   "outputs": [],
   "source": [
    "from regreg.sklearn.base import sklearn_regression\n",
    "\n",
    "class sklearn_mixed(sklearn_regression):\n",
    "\n",
    "    \"\"\"\n",
    "\n",
    "    A simple regression mixin for sklearn\n",
    "    that allows any atom to be used as a regularizer.\n",
    "\n",
    "    \"\"\"\n",
    "\n",
    "    def __init__(self, \n",
    "                 atom_constructor, \n",
    "                 atom_params, \n",
    "                 desc,\n",
    "                 case_weights=False,\n",
    "                 offset=False,\n",
    "                 coef=1., \n",
    "                 quadratic=None,\n",
    "                 score_method='deviance',\n",
    "                 solve_args={},\n",
    "                 initial=None):\n",
    "        \n",
    "        self.desc = desc\n",
    "        self.initial = initial\n",
    "        sklearn_regression.__init__(self,\n",
    "                                    atom_constructor,\n",
    "                                    atom_params,\n",
    "                                    case_weights=case_weights,\n",
    "                                    offset=offset,\n",
    "                                    coef=coef,\n",
    "                                    score_method=score_method,\n",
    "                                    solve_args=solve_args,\n",
    "                                    initial=initial)\n",
    "        self.solve_args = solve_args\n",
    "        \n",
    "    def _loglike_factory(self, X, y):\n",
    "        loss = full_loss(X, self.desc)\n",
    "        return loss\n",
    "\n",
    "    def _saturated_score(self,\n",
    "                         predictions,\n",
    "                         response,\n",
    "                         case_weights=None):\n",
    "\n",
    "        # XXX fix these scores!!!\n",
    "        if self.score_method == 'deviance':\n",
    "            return np.random.standard_normal()\n",
    "        elif self.score_method == 'mean_deviance':\n",
    "            return np.random.standard_normal()\n",
    "        elif self.score_method == 'R2':\n",
    "            SSE = np.sum(loss(predictions))\n",
    "            SST = np.sum(loss(response.mean() * np.ones_like(response)))\n",
    "            return np.mean(loss(predictions))\n",
    "        else:\n",
    "            return np.nan\n",
    "        \n",
    "    def score(self, X, y, sample_weight=None):\n",
    "        '''\n",
    "        Parameters\n",
    "        ----------\n",
    "        X : array-like, shape = (n_samples, n_features)\n",
    "            Test samples.\n",
    "\n",
    "        y : array-like, shape = (n_samples) or (n_samples, n_outputs)\n",
    "            True values for X.\n",
    "\n",
    "        sample_weight : array-like, shape = [n_samples], optional\n",
    "            Sample weights.\n",
    "\n",
    "        Returns\n",
    "        -------\n",
    "        score : float\n",
    "        '''\n",
    "        return np.random.standard_normal() ### fix this!!!\n",
    "        predictions = X.dot(self._coefs)\n",
    "        if offset is not None:\n",
    "            predictions -= offset   # this is how offsets are incorporated\n",
    "                                    # in regreg\n",
    "        if sample_weight is not None:\n",
    "            if case_weights is not None:\n",
    "                case_weights *= sample_weight\n",
    "        return self._saturated_score(predictions, response, case_weights=case_weights)"
   ]
  },
  {
   "cell_type": "code",
   "execution_count": 31,
   "metadata": {},
   "outputs": [
    {
     "name": "stderr",
     "output_type": "stream",
     "text": [
      "/Users/jonathantaylor/Stanford/projects/CloudMask/other/regreg/regreg/smooth/mglm.py:787: RuntimeWarning: divide by zero encountered in log\n",
      "  loss_terms = np.log(saturated) * self.counts\n",
      "/Users/jonathantaylor/Stanford/projects/CloudMask/other/regreg/regreg/smooth/mglm.py:787: RuntimeWarning: invalid value encountered in multiply\n",
      "  loss_terms = np.log(saturated) * self.counts\n"
     ]
    },
    {
     "name": "stdout",
     "output_type": "stream",
     "text": [
      "0    obj: 1.521899e+06    step: 3.96e-06    rel_obj_change: 1.45e-06    tol: 1.0e-05\n",
      "1    obj: 1.521897e+06    step: 3.96e-06    rel_obj_change: 1.42e-06    tol: 1.0e-05\n",
      "2    obj: 1.521894e+06    step: 3.96e-06    rel_obj_change: 1.80e-06    tol: 1.0e-05\n",
      "3    obj: 1.521892e+06    step: 3.96e-06    rel_obj_change: 2.14e-06    tol: 1.0e-05\n",
      "4    obj: 1.521888e+06    step: 3.96e-06    rel_obj_change: 2.46e-06    tol: 1.0e-05\n",
      "5    obj: 1.521885e+06    step: 3.96e-06    rel_obj_change: 2.75e-06    tol: 1.0e-05\n",
      "Success: Optimization stopped because decrease in objective was below tolerance\n",
      "FISTA used 5 of 10000 iterations\n"
     ]
    },
    {
     "name": "stderr",
     "output_type": "stream",
     "text": [
      "/Users/jonathantaylor/opt/anaconda3/envs/icesat2/lib/python3.8/site-packages/sklearn/base.py:209: FutureWarning: From version 0.24, get_params will raise an AttributeError if a parameter cannot be retrieved as an instance attribute. Previously it would return None.\n",
      "  warnings.warn('From version 0.24, get_params will raise an '\n"
     ]
    },
    {
     "data": {
      "text/plain": [
       "sklearn_mixed(atom_constructor=<class 'regreg.atoms.group_lasso.group_lasso'>,\n",
       "              atom_params={'groups': ['intercept-intercept', 'intercept-s_li',\n",
       "                                      'intercept-q_flag', 'intercept-q_flag',\n",
       "                                      'intercept-snr', 'h_rb-intercept',\n",
       "                                      'dh_fit_dx-intercept',\n",
       "                                      'b_snow_conf-intercept',\n",
       "                                      'b_snow_conf-intercept',\n",
       "                                      'b_snow_conf-intercept',\n",
       "                                      'b_snow_conf-intercept',\n",
       "                                      'b_snow_conf-intercept...\n",
       "                    ('bckgrd', 'continuous', slice(30, 31, None)),\n",
       "                    ('e_bckgrd', 'continuous', slice(31, 32, None)),\n",
       "                    ('n_fit_photons', 'continuous', slice(32, 33, None)),\n",
       "                    ('w_surface_window_final', 'continuous',\n",
       "                     slice(33, 34, None))],\n",
       "              initial=array([0.00000000e+00, 4.43889641e-16, 1.69984571e+00, ...,\n",
       "       1.00000000e+00, 1.00000000e+00, 1.00000000e+00]),\n",
       "              solve_args={'debug': True, 'start_step': 3.961713995943205e-06})"
      ]
     },
     "execution_count": 31,
     "metadata": {},
     "output_type": "execute_result"
    }
   ],
   "source": [
    "from sklearn.model_selection import cross_validate\n",
    "sklearn_loss = sklearn_mixed(rr.group_lasso,\n",
    "                             {'groups':groups,\n",
    "                              'weights':weights,\n",
    "                              'lagrange':10 * np.sqrt(X.shape[0])},\n",
    "                             desc2,\n",
    "                             solve_args={'start_step':1/X.shape[0], 'debug':True},                             \n",
    "                             initial=problem.coefs.copy())                                    \n",
    "\n",
    "sklearn_loss.fit(X, None)"
   ]
  },
  {
   "cell_type": "code",
   "execution_count": 34,
   "metadata": {},
   "outputs": [
    {
     "name": "stderr",
     "output_type": "stream",
     "text": [
      "<ipython-input-7-919b2bf20307>:53: RuntimeWarning: invalid value encountered in true_divide\n",
      "  response /= np.std(response)\n"
     ]
    },
    {
     "name": "stdout",
     "output_type": "stream",
     "text": [
      "0    obj: 1.070396e+06    step: 3.96e-06    rel_obj_change: 7.51e-03    tol: 1.0e-05\n",
      "1    obj: 1.062360e+06    step: 3.96e-06    rel_obj_change: 2.72e-03    tol: 1.0e-05\n",
      "2    obj: 1.059466e+06    step: 3.96e-06    rel_obj_change: 1.91e-03    tol: 1.0e-05\n",
      "3    obj: 1.057444e+06    step: 3.96e-06    rel_obj_change: 1.54e-03    tol: 1.0e-05\n",
      "4    obj: 1.055814e+06    step: 3.96e-06    rel_obj_change: 1.31e-03    tol: 1.0e-05\n",
      "5    obj: 1.054426e+06    step: 3.96e-06    rel_obj_change: 1.12e-03    tol: 1.0e-05\n",
      "6    obj: 1.053240e+06    step: 3.96e-06    rel_obj_change: 9.60e-04    tol: 1.0e-05\n",
      "7    obj: 1.052228e+06    step: 3.96e-06    rel_obj_change: 8.18e-04    tol: 1.0e-05\n",
      "8    obj: 1.051367e+06    step: 3.96e-06    rel_obj_change: 6.93e-04    tol: 1.0e-05\n",
      "9    obj: 1.050639e+06    step: 3.96e-06    rel_obj_change: 5.83e-04    tol: 1.0e-05\n",
      "10    obj: 1.050027e+06    step: 3.96e-06    rel_obj_change: 4.89e-04    tol: 1.0e-05\n",
      "11    obj: 1.049513e+06    step: 3.96e-06    rel_obj_change: 4.14e-04    tol: 1.0e-05\n",
      "12    obj: 1.049079e+06    step: 3.96e-06    rel_obj_change: 3.55e-04    tol: 1.0e-05\n",
      "13    obj: 1.048707e+06    step: 3.96e-06    rel_obj_change: 3.10e-04    tol: 1.0e-05\n",
      "14    obj: 1.048382e+06    step: 3.96e-06    rel_obj_change: 2.77e-04    tol: 1.0e-05\n",
      "15    obj: 1.048091e+06    step: 3.96e-06    rel_obj_change: 2.54e-04    tol: 1.0e-05\n",
      "16    obj: 1.047824e+06    step: 3.96e-06    rel_obj_change: 2.40e-04    tol: 1.0e-05\n",
      "17    obj: 1.047573e+06    step: 3.96e-06    rel_obj_change: 2.32e-04    tol: 1.0e-05\n",
      "18    obj: 1.047329e+06    step: 3.96e-06    rel_obj_change: 2.28e-04    tol: 1.0e-05\n",
      "19    obj: 1.047090e+06    step: 3.96e-06    rel_obj_change: 2.08e-04    tol: 1.0e-05\n",
      "20    obj: 1.046872e+06    step: 3.96e-06    rel_obj_change: 2.02e-04    tol: 1.0e-05\n",
      "21    obj: 1.046661e+06    step: 3.96e-06    rel_obj_change: 1.96e-04    tol: 1.0e-05\n",
      "22    obj: 1.046455e+06    step: 3.96e-06    rel_obj_change: 1.89e-04    tol: 1.0e-05\n",
      "23    obj: 1.046257e+06    step: 3.96e-06    rel_obj_change: 1.80e-04    tol: 1.0e-05\n",
      "24    obj: 1.046069e+06    step: 3.96e-06    rel_obj_change: 1.70e-04    tol: 1.0e-05\n",
      "25    obj: 1.045891e+06    step: 3.96e-06    rel_obj_change: 1.59e-04    tol: 1.0e-05\n",
      "26    obj: 1.045725e+06    step: 3.96e-06    rel_obj_change: 1.49e-04    tol: 1.0e-05\n",
      "27    obj: 1.045569e+06    step: 3.96e-06    rel_obj_change: 1.39e-04    tol: 1.0e-05\n",
      "28    obj: 1.045424e+06    step: 3.96e-06    rel_obj_change: 1.29e-04    tol: 1.0e-05\n",
      "29    obj: 1.045289e+06    step: 3.96e-06    rel_obj_change: 1.21e-04    tol: 1.0e-05\n",
      "30    obj: 1.045162e+06    step: 3.96e-06    rel_obj_change: 1.14e-04    tol: 1.0e-05\n",
      "31    obj: 1.045043e+06    step: 3.96e-06    rel_obj_change: 1.07e-04    tol: 1.0e-05\n",
      "32    obj: 1.044932e+06    step: 3.96e-06    rel_obj_change: 1.01e-04    tol: 1.0e-05\n",
      "33    obj: 1.044826e+06    step: 3.96e-06    rel_obj_change: 9.54e-05    tol: 1.0e-05\n",
      "34    obj: 1.044727e+06    step: 3.96e-06    rel_obj_change: 9.01e-05    tol: 1.0e-05\n",
      "35    obj: 1.044632e+06    step: 3.96e-06    rel_obj_change: 8.49e-05    tol: 1.0e-05\n",
      "36    obj: 1.044544e+06    step: 3.96e-06    rel_obj_change: 7.98e-05    tol: 1.0e-05\n",
      "37    obj: 1.044460e+06    step: 3.96e-06    rel_obj_change: 7.48e-05    tol: 1.0e-05\n",
      "38    obj: 1.044382e+06    step: 3.96e-06    rel_obj_change: 6.99e-05    tol: 1.0e-05\n",
      "39    obj: 1.044309e+06    step: 3.96e-06    rel_obj_change: 6.52e-05    tol: 1.0e-05\n",
      "40    obj: 1.044241e+06    step: 3.96e-06    rel_obj_change: 6.08e-05    tol: 1.0e-05\n",
      "41    obj: 1.044178e+06    step: 3.96e-06    rel_obj_change: 5.67e-05    tol: 1.0e-05\n",
      "42    obj: 1.044119e+06    step: 3.96e-06    rel_obj_change: 5.28e-05    tol: 1.0e-05\n",
      "43    obj: 1.044063e+06    step: 3.96e-06    rel_obj_change: 4.90e-05    tol: 1.0e-05\n",
      "44    obj: 1.044012e+06    step: 3.96e-06    rel_obj_change: 4.54e-05    tol: 1.0e-05\n",
      "45    obj: 1.043965e+06    step: 3.96e-06    rel_obj_change: 4.16e-05    tol: 1.0e-05\n",
      "46    obj: 1.043921e+06    step: 3.96e-06    rel_obj_change: 3.78e-05    tol: 1.0e-05\n",
      "47    obj: 1.043882e+06    step: 3.96e-06    rel_obj_change: 3.39e-05    tol: 1.0e-05\n",
      "48    obj: 1.043847e+06    step: 3.96e-06    rel_obj_change: 3.01e-05    tol: 1.0e-05\n",
      "49    obj: 1.043815e+06    step: 3.96e-06    rel_obj_change: 2.66e-05    tol: 1.0e-05\n",
      "50    obj: 1.043787e+06    step: 3.96e-06    rel_obj_change: 2.38e-05    tol: 1.0e-05\n",
      "51    obj: 1.043763e+06    step: 3.96e-06    rel_obj_change: 2.23e-05    tol: 1.0e-05\n",
      "52    obj: 1.043739e+06    step: 3.96e-06    rel_obj_change: 2.20e-05    tol: 1.0e-05\n",
      "53    obj: 1.043716e+06    step: 3.96e-06    rel_obj_change: 2.27e-05    tol: 1.0e-05\n",
      "54    obj: 1.043693e+06    step: 3.96e-06    rel_obj_change: 2.37e-05    tol: 1.0e-05\n",
      "55    obj: 1.043668e+06    step: 3.96e-06    rel_obj_change: 2.43e-05    tol: 1.0e-05\n",
      "56    obj: 1.043642e+06    step: 3.96e-06    rel_obj_change: 2.41e-05    tol: 1.0e-05\n",
      "57    obj: 1.043617e+06    step: 3.96e-06    rel_obj_change: 2.34e-05    tol: 1.0e-05\n",
      "58    obj: 1.043593e+06    step: 3.96e-06    rel_obj_change: 2.24e-05    tol: 1.0e-05\n",
      "59    obj: 1.043569e+06    step: 3.96e-06    rel_obj_change: 2.11e-05    tol: 1.0e-05\n",
      "60    obj: 1.043547e+06    step: 3.96e-06    rel_obj_change: 1.98e-05    tol: 1.0e-05\n",
      "61    obj: 1.043527e+06    step: 3.96e-06    rel_obj_change: 1.84e-05    tol: 1.0e-05\n",
      "62    obj: 1.043508e+06    step: 3.96e-06    rel_obj_change: 1.70e-05    tol: 1.0e-05\n",
      "63    obj: 1.043490e+06    step: 3.96e-06    rel_obj_change: 1.56e-05    tol: 1.0e-05\n",
      "64    obj: 1.043474e+06    step: 3.96e-06    rel_obj_change: 1.43e-05    tol: 1.0e-05\n",
      "65    obj: 1.043459e+06    step: 3.96e-06    rel_obj_change: 1.30e-05    tol: 1.0e-05\n",
      "66    obj: 1.043445e+06    step: 3.96e-06    rel_obj_change: 1.19e-05    tol: 1.0e-05\n",
      "67    obj: 1.043433e+06    step: 3.96e-06    rel_obj_change: 1.09e-05    tol: 1.0e-05\n",
      "68    obj: 1.043421e+06    step: 3.96e-06    rel_obj_change: 9.98e-06    tol: 1.0e-05\n",
      "Success: Optimization stopped because decrease in objective was below tolerance\n",
      "FISTA used 68 of 10000 iterations\n",
      "0    obj: 1.023744e+06    step: 3.96e-06    rel_obj_change: 1.22e-02    tol: 1.0e-05\n",
      "1    obj: 1.011290e+06    step: 3.96e-06    rel_obj_change: 3.55e-03    tol: 1.0e-05\n",
      "2    obj: 1.007698e+06    step: 3.96e-06    rel_obj_change: 2.18e-03    tol: 1.0e-05\n",
      "3    obj: 1.005497e+06    step: 3.96e-06    rel_obj_change: 1.76e-03    tol: 1.0e-05\n",
      "4    obj: 1.003725e+06    step: 3.96e-06    rel_obj_change: 1.58e-03    tol: 1.0e-05\n",
      "5    obj: 1.002140e+06    step: 3.96e-06    rel_obj_change: 1.42e-03    tol: 1.0e-05\n",
      "6    obj: 1.000714e+06    step: 3.96e-06    rel_obj_change: 1.28e-03    tol: 1.0e-05\n",
      "7    obj: 9.994310e+05    step: 3.96e-06    rel_obj_change: 1.16e-03    tol: 1.0e-05\n",
      "8    obj: 9.982733e+05    step: 3.96e-06    rel_obj_change: 1.05e-03    tol: 1.0e-05\n",
      "9    obj: 9.972229e+05    step: 3.96e-06    rel_obj_change: 9.61e-04    tol: 1.0e-05\n",
      "10    obj: 9.962644e+05    step: 3.96e-06    rel_obj_change: 8.83e-04    tol: 1.0e-05\n",
      "11    obj: 9.953848e+05    step: 3.96e-06    rel_obj_change: 8.15e-04    tol: 1.0e-05\n",
      "12    obj: 9.945736e+05    step: 3.96e-06    rel_obj_change: 7.55e-04    tol: 1.0e-05\n",
      "13    obj: 9.938230e+05    step: 3.96e-06    rel_obj_change: 7.01e-04    tol: 1.0e-05\n",
      "14    obj: 9.931267e+05    step: 3.96e-06    rel_obj_change: 6.51e-04    tol: 1.0e-05\n",
      "15    obj: 9.924801e+05    step: 3.96e-06    rel_obj_change: 6.06e-04    tol: 1.0e-05\n",
      "16    obj: 9.918791e+05    step: 3.96e-06    rel_obj_change: 5.63e-04    tol: 1.0e-05\n",
      "17    obj: 9.913204e+05    step: 3.96e-06    rel_obj_change: 5.24e-04    tol: 1.0e-05\n",
      "18    obj: 9.908007e+05    step: 3.96e-06    rel_obj_change: 4.88e-04    tol: 1.0e-05\n",
      "19    obj: 9.903171e+05    step: 3.96e-06    rel_obj_change: 4.55e-04    tol: 1.0e-05\n",
      "20    obj: 9.898666e+05    step: 3.96e-06    rel_obj_change: 4.25e-04    tol: 1.0e-05\n",
      "21    obj: 9.894464e+05    step: 3.96e-06    rel_obj_change: 3.97e-04    tol: 1.0e-05\n",
      "22    obj: 9.890538e+05    step: 3.96e-06    rel_obj_change: 3.71e-04    tol: 1.0e-05\n",
      "23    obj: 9.886865e+05    step: 3.96e-06    rel_obj_change: 3.48e-04    tol: 1.0e-05\n",
      "24    obj: 9.883428e+05    step: 3.96e-06    rel_obj_change: 3.26e-04    tol: 1.0e-05\n",
      "25    obj: 9.880210e+05    step: 3.96e-06    rel_obj_change: 3.05e-04    tol: 1.0e-05\n"
     ]
    },
    {
     "name": "stdout",
     "output_type": "stream",
     "text": [
      "26    obj: 9.877198e+05    step: 3.96e-06    rel_obj_change: 2.86e-04    tol: 1.0e-05\n",
      "27    obj: 9.874375e+05    step: 3.96e-06    rel_obj_change: 2.61e-04    tol: 1.0e-05\n",
      "28    obj: 9.871793e+05    step: 3.96e-06    rel_obj_change: 2.35e-04    tol: 1.0e-05\n",
      "29    obj: 9.869471e+05    step: 3.96e-06    rel_obj_change: 2.21e-04    tol: 1.0e-05\n",
      "30    obj: 9.867292e+05    step: 3.96e-06    rel_obj_change: 2.07e-04    tol: 1.0e-05\n",
      "31    obj: 9.865245e+05    step: 3.96e-06    rel_obj_change: 1.95e-04    tol: 1.0e-05\n",
      "32    obj: 9.863320e+05    step: 3.96e-06    rel_obj_change: 1.84e-04    tol: 1.0e-05\n",
      "33    obj: 9.861504e+05    step: 3.96e-06    rel_obj_change: 1.75e-04    tol: 1.0e-05\n",
      "34    obj: 9.859783e+05    step: 3.96e-06    rel_obj_change: 1.66e-04    tol: 1.0e-05\n",
      "35    obj: 9.858147e+05    step: 3.96e-06    rel_obj_change: 1.58e-04    tol: 1.0e-05\n",
      "36    obj: 9.856587e+05    step: 3.96e-06    rel_obj_change: 1.51e-04    tol: 1.0e-05\n",
      "37    obj: 9.855095e+05    step: 3.96e-06    rel_obj_change: 1.45e-04    tol: 1.0e-05\n",
      "38    obj: 9.853665e+05    step: 3.96e-06    rel_obj_change: 1.39e-04    tol: 1.0e-05\n",
      "39    obj: 9.852290e+05    step: 3.96e-06    rel_obj_change: 1.34e-04    tol: 1.0e-05\n",
      "40    obj: 9.850966e+05    step: 3.96e-06    rel_obj_change: 1.30e-04    tol: 1.0e-05\n",
      "41    obj: 9.849691e+05    step: 3.96e-06    rel_obj_change: 1.25e-04    tol: 1.0e-05\n",
      "42    obj: 9.848460e+05    step: 3.96e-06    rel_obj_change: 1.21e-04    tol: 1.0e-05\n",
      "43    obj: 9.847271e+05    step: 3.96e-06    rel_obj_change: 1.17e-04    tol: 1.0e-05\n",
      "44    obj: 9.846120e+05    step: 3.96e-06    rel_obj_change: 1.13e-04    tol: 1.0e-05\n",
      "45    obj: 9.845007e+05    step: 3.96e-06    rel_obj_change: 1.09e-04    tol: 1.0e-05\n",
      "46    obj: 9.843930e+05    step: 3.96e-06    rel_obj_change: 1.06e-04    tol: 1.0e-05\n",
      "47    obj: 9.842889e+05    step: 3.96e-06    rel_obj_change: 1.02e-04    tol: 1.0e-05\n",
      "48    obj: 9.841883e+05    step: 3.96e-06    rel_obj_change: 9.87e-05    tol: 1.0e-05\n",
      "49    obj: 9.840911e+05    step: 3.96e-06    rel_obj_change: 9.52e-05    tol: 1.0e-05\n",
      "50    obj: 9.839974e+05    step: 3.96e-06    rel_obj_change: 9.18e-05    tol: 1.0e-05\n",
      "51    obj: 9.839071e+05    step: 3.96e-06    rel_obj_change: 8.84e-05    tol: 1.0e-05\n",
      "52    obj: 9.838201e+05    step: 3.96e-06    rel_obj_change: 8.50e-05    tol: 1.0e-05\n",
      "53    obj: 9.837364e+05    step: 3.96e-06    rel_obj_change: 8.17e-05    tol: 1.0e-05\n",
      "54    obj: 9.836560e+05    step: 3.96e-06    rel_obj_change: 7.84e-05    tol: 1.0e-05\n",
      "55    obj: 9.835789e+05    step: 3.96e-06    rel_obj_change: 7.52e-05    tol: 1.0e-05\n",
      "56    obj: 9.835049e+05    step: 3.96e-06    rel_obj_change: 7.20e-05    tol: 1.0e-05\n",
      "57    obj: 9.834341e+05    step: 3.96e-06    rel_obj_change: 6.88e-05    tol: 1.0e-05\n",
      "58    obj: 9.833664e+05    step: 3.96e-06    rel_obj_change: 6.57e-05    tol: 1.0e-05\n",
      "59    obj: 9.833018e+05    step: 3.96e-06    rel_obj_change: 6.25e-05    tol: 1.0e-05\n",
      "60    obj: 9.832403e+05    step: 3.96e-06    rel_obj_change: 5.95e-05    tol: 1.0e-05\n",
      "61    obj: 9.831818e+05    step: 3.96e-06    rel_obj_change: 5.64e-05    tol: 1.0e-05\n",
      "62    obj: 9.831264e+05    step: 3.96e-06    rel_obj_change: 5.34e-05    tol: 1.0e-05\n",
      "63    obj: 9.830739e+05    step: 3.96e-06    rel_obj_change: 5.04e-05    tol: 1.0e-05\n",
      "64    obj: 9.830244e+05    step: 3.96e-06    rel_obj_change: 4.75e-05    tol: 1.0e-05\n",
      "65    obj: 9.829777e+05    step: 3.96e-06    rel_obj_change: 4.47e-05    tol: 1.0e-05\n",
      "66    obj: 9.829337e+05    step: 3.96e-06    rel_obj_change: 4.19e-05    tol: 1.0e-05\n",
      "67    obj: 9.828925e+05    step: 3.96e-06    rel_obj_change: 3.93e-05    tol: 1.0e-05\n",
      "68    obj: 9.828540e+05    step: 3.96e-06    rel_obj_change: 3.67e-05    tol: 1.0e-05\n",
      "69    obj: 9.828179e+05    step: 3.96e-06    rel_obj_change: 3.43e-05    tol: 1.0e-05\n",
      "70    obj: 9.827842e+05    step: 3.96e-06    rel_obj_change: 3.19e-05    tol: 1.0e-05\n",
      "71    obj: 9.827528e+05    step: 3.96e-06    rel_obj_change: 2.98e-05    tol: 1.0e-05\n",
      "72    obj: 9.827236e+05    step: 3.96e-06    rel_obj_change: 2.77e-05    tol: 1.0e-05\n",
      "73    obj: 9.826964e+05    step: 3.96e-06    rel_obj_change: 2.58e-05    tol: 1.0e-05\n",
      "74    obj: 9.826710e+05    step: 3.96e-06    rel_obj_change: 2.41e-05    tol: 1.0e-05\n",
      "75    obj: 9.826474e+05    step: 3.96e-06    rel_obj_change: 2.25e-05    tol: 1.0e-05\n",
      "76    obj: 9.826253e+05    step: 3.96e-06    rel_obj_change: 2.10e-05    tol: 1.0e-05\n",
      "77    obj: 9.826046e+05    step: 3.96e-06    rel_obj_change: 1.97e-05    tol: 1.0e-05\n",
      "78    obj: 9.825853e+05    step: 3.96e-06    rel_obj_change: 1.85e-05    tol: 1.0e-05\n",
      "79    obj: 9.825671e+05    step: 3.96e-06    rel_obj_change: 1.74e-05    tol: 1.0e-05\n",
      "80    obj: 9.825500e+05    step: 3.96e-06    rel_obj_change: 1.64e-05    tol: 1.0e-05\n",
      "81    obj: 9.825339e+05    step: 3.96e-06    rel_obj_change: 1.56e-05    tol: 1.0e-05\n",
      "82    obj: 9.825186e+05    step: 3.96e-06    rel_obj_change: 1.48e-05    tol: 1.0e-05\n",
      "83    obj: 9.825041e+05    step: 3.96e-06    rel_obj_change: 1.41e-05    tol: 1.0e-05\n",
      "84    obj: 9.824903e+05    step: 3.96e-06    rel_obj_change: 1.34e-05    tol: 1.0e-05\n",
      "85    obj: 9.824771e+05    step: 3.96e-06    rel_obj_change: 1.28e-05    tol: 1.0e-05\n",
      "86    obj: 9.824645e+05    step: 3.96e-06    rel_obj_change: 1.23e-05    tol: 1.0e-05\n",
      "87    obj: 9.824524e+05    step: 3.96e-06    rel_obj_change: 1.18e-05    tol: 1.0e-05\n",
      "88    obj: 9.824409e+05    step: 3.96e-06    rel_obj_change: 1.13e-05    tol: 1.0e-05\n",
      "89    obj: 9.824297e+05    step: 3.96e-06    rel_obj_change: 1.09e-05    tol: 1.0e-05\n",
      "90    obj: 9.824190e+05    step: 3.96e-06    rel_obj_change: 1.05e-05    tol: 1.0e-05\n",
      "91    obj: 9.824087e+05    step: 3.96e-06    rel_obj_change: 1.01e-05    tol: 1.0e-05\n",
      "92    obj: 9.823987e+05    step: 3.96e-06    rel_obj_change: 9.78e-06    tol: 1.0e-05\n",
      "Success: Optimization stopped because decrease in objective was below tolerance\n",
      "FISTA used 92 of 10000 iterations\n"
     ]
    },
    {
     "data": {
      "text/plain": [
       "{'fit_time': array([ 0.64612317, 43.45547795, 58.82821488]),\n",
       " 'score_time': array([0.00000000e+00, 2.50339508e-05, 3.40938568e-05]),\n",
       " 'test_score': array([       nan, 1.77972167, 0.98073116])}"
      ]
     },
     "execution_count": 34,
     "metadata": {},
     "output_type": "execute_result"
    }
   ],
   "source": [
    "cross_validate(sklearn_loss, X, np.ones(X.shape[0]), cv=3)"
   ]
  },
  {
   "cell_type": "code",
   "execution_count": null,
   "metadata": {},
   "outputs": [],
   "source": []
  }
 ],
 "metadata": {
  "jupytext": {
   "formats": "ipynb,Rmd"
  },
  "kernelspec": {
   "display_name": "Python 3",
   "language": "python",
   "name": "python3"
  },
  "language_info": {
   "codemirror_mode": {
    "name": "ipython",
    "version": 3
   },
   "file_extension": ".py",
   "mimetype": "text/x-python",
   "name": "python",
   "nbconvert_exporter": "python",
   "pygments_lexer": "ipython3",
   "version": "3.8.3"
  }
 },
 "nbformat": 4,
 "nbformat_minor": 4
}
