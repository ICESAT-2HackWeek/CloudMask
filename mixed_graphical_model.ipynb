{
 "cells": [
  {
   "cell_type": "markdown",
   "metadata": {},
   "source": [
    "## Overview of model\n",
    "\n",
    "The model we'll start with is based on [Hastie and Lee](https://web.stanford.edu/~hastie/Papers/structmgm.pdf). It fits a certain type of \n",
    "*undirected* graphical model to a sample of random variables of mixed type (discrete or continuous).\n",
    "\n",
    "It has the advantage that it also selects which *interactions* amongst the variables seem most relevant.\n",
    "\n",
    "Our data is\n",
    "$$\n",
    "X = \\begin{pmatrix} X_1 \\\\ X_2 \\\\ \\vdots \\\\ X_n\n",
    "\\end{pmatrix}\n",
    "$$\n",
    "and each sample $X_i$ is of mixed type -- in `numpy / pandas` terms we can think of it having a `dtype` with some `np.float` fields as well as some `pandas.Categotical` fields.\n",
    "We think of having $p$ different variables so we can talk about $X_{ij}, 1 \\leq i \\leq n, 1 \\leq j \\leq p$."
   ]
  },
  {
   "cell_type": "markdown",
   "metadata": {},
   "source": [
    "### Special case: binary random variables\n",
    "\n",
    "In this case $X_i \\in \\{0,1\\}^p$. The model here is a generalization of the Ising model. That is, each row is like a realization of an Ising model so we have a sample of realizations of Ising models.\n",
    "\n",
    "The model is parameterized here by a $p \\times p$ symmetric matrix $\\Sigma$\n",
    "and\n",
    "$$\n",
    "P_{\\Theta}(X_i=x_i) \\propto \\exp\\left(\\sum_{j,k} x_{i,j} x_{i,k} \\Theta_{jk} \\right).\n",
    "$$\n",
    "\n",
    "Classical Ising models have a fixed graph, say with adjacency matrix $A$ and perhaps two parameters $(\\theta_1, \\theta_2)$: one for interaction and one affecting the overall mean (external field? not sure, not a physicist). In these models\n",
    "$$\n",
    "P_{(\\theta_1, \\theta_2)}(X_i=x) \\propto \\exp \\left(\\theta_1 \\sum_j x_j + \\theta_2 \\sum_{j, k} x_j x_k A_{jk}\\right)\n",
    "$$\n",
    "so we can think of this having a $\\Theta$ with $\\theta_1$ on the diagonal and $\\theta_2/2$ off the diagonal.\n",
    "\n",
    "This model therefore has a parameter for *each edge*. Edges are selected by putting a penalty on each edge, i.e. an $\\ell_1$ penalty perhaps leaving the mean terms unpenalized:\n",
    "$$\n",
    "{\\cal P}(\\Theta) = \\lambda \\sum_{(j,k): j \\neq k} |\\Theta_{jk}|.\n",
    "$$"
   ]
  },
  {
   "cell_type": "markdown",
   "metadata": {},
   "source": [
    "### Psuedolikelihood\n",
    "\n",
    "To fit this model is complicated -- it is expensive to normalize the $\\propto$ in the likelihood so people, dating back to Besag in the 80s have used pseudolikelihood as the objective.\n",
    "\n",
    "This objective is the sum of all the conditional likelihoods for one of the variables given all the others. E.g. in our Ising model here, if we *knew* $\\Sigma$ then for any $X_{i,j}$ we know that $X_{i,j}$ is Bernoulli and given $X_{i,k}, k \\neq j$ we can work out the probability it is 1 or 0 based on $\\Sigma$. This is effectively the likelihood for a logistic regression. There is therefore a likelihood for each column $j$\n",
    "$$\n",
    "\\ell_j(\\Theta; X[:,j] | X[:,k], k \\neq j)\n",
    "$$\n",
    "and the pseudo-likelihood (sum of conditional negative log-likelihoods) is\n",
    "$$\n",
    "\\Theta \\mapsto \\sum_{j=1}^p \\ell_j(\\Theta; X[:,j] | X[:,k], k \\neq j).\n",
    "$$\n",
    "\n",
    "The penalized *pseudolikelihood$ is \n",
    "$$\n",
    "\\Theta \\mapsto \\left[\\sum_{j=1}^p \\ell_j(\\Theta; X[:,j] | X[:,k], k \\neq j)\\right] + {\\cal P}(\\Theta).\n",
    "$$\n",
    "\n",
    "This is an objective we can minimize as a function of $\\Theta$. For large enough values of $\\lambda$ the minimize, $\\Theta$ will be sparse off-diagonal. This is the *undirected* graph selection."
   ]
  },
  {
   "cell_type": "markdown",
   "metadata": {},
   "source": [
    "### Special case: all continuous\n",
    "\n",
    "When each feature is continuous, a common model for the distribution would be Gaussian. This can be parameterized in terms of sufficient statistics $X$ and $XX^T$ with natural parameters $\\alpha$ and $\\Theta$, say. So, the density can be written as\n",
    "$$\n",
    "P_{\\alpha,\\Theta}(X_i=x) \\propto \\exp \\left(\\alpha^Tx - \\frac{1}{2} \\text{Tr}(\\Theta xx^T) \\right).\n",
    "$$\n",
    "This is of course the normal family but parametrized slightly differently.\n",
    "\n",
    "This is quite similar to the binary case (in the binary case we could suck the $\\alpha$ into the diagonal of $\\Theta$ but this doesn't work in the Gaussian case.\n",
    "\n",
    "In this case, for one of the columns $X[:,j]$ there is a pseudo-likelihood corresponding to predicting $X[:,j]$ as a function of $X[:,k], k \\neq j$. Each term in the this pseudo-likelihood looks like a linear regression loss function. Summing these terms gives a pseudo-likelihood that could be used to fit the *graphical LASSO* (e.g. `glasso` in `R`)."
   ]
  },
  {
   "cell_type": "markdown",
   "metadata": {},
   "source": [
    "### Putting these together\n",
    "\n",
    "It is now not hard to see how to mix continuous and binary. Each binary `field` has a reference sample space of $\\{0,1\\}$ while each continuous one has a reference sample space $\\mathbb{R}$. Stringing all fields together gives a sample space\n",
    "$$\n",
    "\\{0,1\\}^{j:j \\in {\\cal B}} \\times \\mathbb{R}^{j: j \\in {\\cal C}}\n",
    "$$\n",
    "where ${\\cal B}$ are the binary fields in our `dtype` and ${\\cal C}$ are the floating type fields in our `dtype`. If we had categorical instead of binary then that field's $\\{0,1\\}$ would be replaced by $\\{1, \\dots, N_j\\}$ where $N_j$ is the number of categories for field $j$.\n",
    "\n",
    "We now have a symmetric $p \\times p$ *matrix* $\\Theta$ (it's not really a matrix) where each entry $\\Theta_{jk}$ models the interaction between field $j$ and field $k$ of the `dtype`. When $j$ or $k$ is categorical (including binary) the entry $\\Theta_{jk}$ is really a matrix. Concretely, suppose $N_j=3$ and $N_k=5$ then, if we were to fit a \n",
    "multinomial regression (the analog of logistic for categorical) of $X[:,j]$ on to $X[:,k]$ then there would be a $3 \\times 5$ matrix of parameters in that model. (Note that much software often will set some of these to 0 automatically for identification reasons -- in this model with the penalty it is common not to do this). Anyways, we see that $\\Theta_{jk}$ is really in $\\mathbb{R}^{3 \\times 5}$ and $\\Theta_{kj} = \\Theta_{jk}^T \\in \\mathbb{R}^{5 \\times 3}$.\n",
    "\n",
    "The (or, an) analog of the $\\ell_1$ penalty for the *matrix* $\\Theta_{jk}$ is the Frobenius norm -- this is what the authors propose.\n",
    "\n"
   ]
  },
  {
   "cell_type": "markdown",
   "metadata": {},
   "source": [
    "### Relation to separate regressions\n",
    "\n",
    "In order to understand the relationships between columns it is tempting to simply regress each $X[:,j]$ onto all the other columns. The total objective in this case would be a sum of negative log-likelihoods and would look a lot like our pseudo-likelihood. The difference is that the pseudo-likelihood assumes symmetry and ties the parameters together this way. The separate regression framework drops this requirement.\n",
    "\n",
    "That is, the total loss for separate regressions is the same as the pseudo-likelihood\n",
    "but the pseudo-likelihood has linear constraints enforcing symmetry of the $\\Theta$ \"matrix\".\n"
   ]
  },
  {
   "cell_type": "markdown",
   "metadata": {},
   "source": [
    "### Fitting the model\n",
    "\n",
    "The model can be fit by proximal gradient methods, so we really just have to compute the\n",
    "objective (as a function of $\\Theta$ with $X$ fixed) and its gradient.\n",
    "\n",
    "As each term in the pseudo-likelihood is like a regression (negative log-) likelihood it is enough to have appropriate regression losses for each node.\n",
    "\n",
    "The proximal step is essentially the group LASSO proximal step (though here the parameters are matrices rather than vectors). By appropriate `vec` operations we should be able to use a group LASSO map."
   ]
  },
  {
   "cell_type": "markdown",
   "metadata": {},
   "source": [
    "### TODO\n",
    "\n",
    "0. Create a *design matrix* `X` and a dict mapping fields of the dtype to columns. Should include a column of 1s. Continuous features enter as columns unchanged. Categorical features are coded using *full* representation, i.e. for a categorical with $N_j$ levels we want $N_j$ 1-hot columns in the design matrix. Our final $\\Theta$ parameter will have shape $(X.shape[1], X.shape[1])$ and will be symmetric but we will store as regular `ndarray`.\n",
    "\n",
    "1. Create a representation of the pseudo-likelihood that can compute\n",
    "the maps\n",
    "$$\n",
    "\\begin{aligned}\n",
    "\\Theta & \\mapsto \\sum_{j=1}^p \\ell_j\\left(\\Theta; X[:,j] | X[:,k], k \\neq j \\right) \\\\\n",
    "\\Theta & \\mapsto \\nabla_{\\Theta} \\sum_{j=1}^p \\ell_j\\left(\\Theta; X[:,j] | X[:,k], k \\neq j \\right)\n",
    "\\end{aligned}\n",
    "$$\n",
    "Note that $\\ell_j$ depends only on $\\Theta[j]$ and differentiating with respect to\n",
    "a term like $\\Theta[j,k]$ will involve only the losses $\\ell_k$ and $\\ell_j$.\n",
    "\n",
    "2. Make a group LASSO penalty for the $\\Theta$ matrix that sets $\\infty$ penalty on the \"diagonal\" terms $\\Theta[j,j]$.\n",
    "\n",
    "3. We should be able to just write the loss as a sum of saturated losses for each *response* composed with `X.dot(Theta[j])`, i.e.\n",
    "\n",
    "     loss(theta) = sum([s_loss(X.dot(Theta[j])) for s_loss in saturated_losses])\n",
    "\n",
    "4. For a categorical variable with $N_j$ levels `X.dot(Theta[j])` should have shape `(n, N_j)` and this product should effectively zero out any *self* terms in the sum over the\n",
    "$\\sum_j N_j$ in the matrix product. I.e. I am imaging that feature $j$ has been allocated $N_j$ columns in $X$ (the usual 1-hot encoding of multinomials).\n",
    "\n",
    "5. If we can write out the objective with a single `X` matrix, then I think the $\\Theta[j,k]$ gradient will simply look at the `k` rows of the `j` loss plus the `j` rows of the `k` loss."
   ]
  },
  {
   "cell_type": "markdown",
   "metadata": {},
   "source": [
    "### Toy example\n",
    "\n",
    "Let's make a data frame with 7 features, 2 binary, 2 categorical and 3 continuous. We'll code the binary as multinomial."
   ]
  },
  {
   "cell_type": "code",
   "execution_count": 306,
   "metadata": {},
   "outputs": [
    {
     "data": {
      "text/plain": [
       "(Index(['ground_track', 'lat', 'lon', 'h_li', 's_li', 'q_flag', 's_fg', 'snr',\n",
       "        'h_rb', 'dh_fit_dx', 'b_snow_conf', 'c_flg_asr', 'c_flg_atm', 'msw',\n",
       "        'bsnow_h', 'bsnow_od', 'layer_flag', 'bckgrd', 'e_bckgrd',\n",
       "        'n_fit_photons', 'segment_id', 'w_surface_window_final'],\n",
       "       dtype='object'),\n",
       " (252416, 22))"
      ]
     },
     "execution_count": 306,
     "metadata": {},
     "output_type": "execute_result"
    }
   ],
   "source": [
    "import numpy as np, pandas as pd\n",
    "from itertools import product\n",
    "import matplotlib.pyplot as plt\n",
    "%matplotlib inline\n",
    "\n",
    "\n",
    "D = pd.read_csv('atl06.csv') # .iloc[:5000]\n",
    "D = D.dropna()\n",
    "del(D['Unnamed: 0'])\n",
    "D.columns, D.shape"
   ]
  },
  {
   "cell_type": "code",
   "execution_count": 307,
   "metadata": {},
   "outputs": [
    {
     "data": {
      "text/plain": [
       "array([3.       , 4.4581361])"
      ]
     },
     "execution_count": 307,
     "metadata": {},
     "output_type": "execute_result"
    }
   ],
   "source": [
    "def make_onehot(categorical_col):  #TODO: would be more robust to know labels beforehand\n",
    "                                   # e.g. for cross-validation\n",
    "    labels = sorted(np.unique(categorical_col))\n",
    "    return np.equal.outer(np.asarray(categorical_col), labels)\n",
    "\n",
    "def make_design(df, desc):\n",
    "    design = [np.ones((df.shape[0], 1))] # column for intercept\n",
    "    new_desc = [('intercept', None, slice(0, 1))]\n",
    "    idx = 1\n",
    "    for col, dtype in desc:\n",
    "        if dtype in ['binary', 'categorical']:\n",
    "            design_col = make_onehot(df[col])\n",
    "            ncol = design_col.shape[1]\n",
    "            design.append(design_col)\n",
    "            new_desc.append((col, dtype, slice(idx, idx + ncol)))\n",
    "            idx += ncol\n",
    "        elif dtype == 'continuous': # a continuous one\n",
    "            new_desc.append((col, dtype, slice(idx, idx+1)))\n",
    "            design_col = np.asarray(df[col].copy())\n",
    "            # should we standardize?\n",
    "            design_col.shape = (-1,1)\n",
    "            design.append(design_col)\n",
    "            idx += 1\n",
    "    return np.hstack(design), new_desc\n",
    "\n",
    "desc = [('s_li', 'continuous'),\n",
    "        ('q_flag', 'binary'),\n",
    "        ('snr', 'continuous'),\n",
    "        ('h_rb', 'continuous'),\n",
    "        ('dh_fit_dx', 'continuous'),\n",
    "        ('b_snow_conf', 'categorical'),\n",
    "        ('c_flg_asr', 'categorical'),\n",
    "        ('c_flg_atm', 'categorical'),\n",
    "        ('msw', 'categorical' ),\n",
    "        #('bsnow_h', 'continuous'),\n",
    "        #('bsnow_od', 'continuous'),\n",
    "        ('layer_flag', 'binary'),\n",
    "        ('bckgrd', 'continuous'),\n",
    "        ('e_bckgrd', 'continuous'),\n",
    "        ('n_fit_photons', 'continuous'),\n",
    "        ('w_surface_window_final', 'continuous')]\n",
    "desc\n",
    "(np.mean(D['bsnow_od'] == D['bsnow_od'].max()), \n",
    " np.mean(D['bsnow_h'] == D['bsnow_h'].max()))\n",
    "np.percentile(D['w_surface_window_final'], [2,98])"
   ]
  },
  {
   "cell_type": "code",
   "execution_count": 308,
   "metadata": {},
   "outputs": [
    {
     "data": {
      "text/plain": [
       "(array([0.0000000e+00, 6.7144660e-09, 1.0892861e-08, ..., 9.3741010e-01,\n",
       "        9.3925035e-01, 9.4173110e-01]),\n",
       " array([3.4386003e-03, 5.2483900e-03, 5.4293690e-03, ..., 4.9964676e+00,\n",
       "        5.0000000e+00, 3.4028235e+38]))"
      ]
     },
     "execution_count": 308,
     "metadata": {},
     "output_type": "execute_result"
    }
   ],
   "source": [
    "X, desc2 = make_design(D, desc)\n",
    "desc2\n",
    "np.unique(D['snr']), np.unique(D['h_rb'])"
   ]
  },
  {
   "cell_type": "code",
   "execution_count": 309,
   "metadata": {},
   "outputs": [
    {
     "data": {
      "text/plain": [
       "[(246767, 'continuous'),\n",
       " (2, 'binary'),\n",
       " (6299, 'continuous'),\n",
       " (7268, 'continuous'),\n",
       " (175317, 'continuous'),\n",
       " (8, 'categorical'),\n",
       " (6, 'categorical'),\n",
       " (3, 'categorical'),\n",
       " (4, 'categorical'),\n",
       " (2, 'binary'),\n",
       " (243085, 'continuous'),\n",
       " (243308, 'continuous'),\n",
       " (713, 'continuous'),\n",
       " (3216, 'continuous')]"
      ]
     },
     "execution_count": 309,
     "metadata": {},
     "output_type": "execute_result"
    }
   ],
   "source": [
    "[(len(np.unique(D[c])), t) for c, t, _ in desc2[1:]]"
   ]
  },
  {
   "cell_type": "markdown",
   "metadata": {},
   "source": [
    "### Form saturated losses \n",
    "\n",
    "This will use the `regreg` package: `http://github.com/jonathan-taylor/regreg.git`\n",
    "\n",
    "For `binary` or `categorical` we will use multinomial loss, while for `continuous`\n",
    "we will use Gaussian loss (i.e. squared error). We probably want to rescale each loss a little based on the variability under the *null* model."
   ]
  },
  {
   "cell_type": "code",
   "execution_count": 311,
   "metadata": {},
   "outputs": [
    {
     "data": {
      "text/plain": [
       "('w_surface_window_final',\n",
       " 'continuous',\n",
       " slice(33, 34, None),\n",
       " <regreg.smooth.glm.gaussian_loglike at 0x135e0cb50>)"
      ]
     },
     "execution_count": 311,
     "metadata": {},
     "output_type": "execute_result"
    }
   ],
   "source": [
    "from regreg.smooth.mglm import multinomial_loglike\n",
    "from regreg.smooth.glm import gaussian_loglike\n",
    "import regreg.api as rr\n",
    "\n",
    "desc3 = []\n",
    "for var, dtype, idx in desc2:\n",
    "    if dtype in ['binary', 'categorical']:\n",
    "        response = X[:,idx]\n",
    "        desc3.append((var, dtype, idx,\n",
    "                         multinomial_loglike(response.shape,\n",
    "                                             response)))\n",
    "    elif dtype == 'continuous':\n",
    "        response = np.squeeze(X[:,idx]) # it will be a 2D array\n",
    "        if var not in ['snr', 'w_surface_window_final']:\n",
    "            l, u = np.percentile(response, [5, 95]) # quick and dirty cleaning..\n",
    "            response = np.clip(response, l, u)\n",
    "        elif var == 'w_surface_window_final':\n",
    "            l, u = np.percentile(response, [2, 98]) # quick and dirty cleaning..\n",
    "            response = np.clip(response, l, u)\n",
    "        response /= np.std(response)\n",
    "        X[:,idx] = response[:,None]\n",
    "        \n",
    "        desc3.append((var, dtype, idx,\n",
    "                         gaussian_loglike(response.shape,\n",
    "                                          response)))\n",
    "    else:\n",
    "        desc3.append((var, dtype, idx, None))\n",
    "\n",
    "desc3[-1]"
   ]
  },
  {
   "cell_type": "code",
   "execution_count": 312,
   "metadata": {},
   "outputs": [
    {
     "data": {
      "text/plain": [
       "(0,\n",
       " array([0.        , 1.        , 0.14823451, 0.14823451, 1.        ,\n",
       "        1.        , 1.        , 0.11704997, 0.47949194, 0.49988051,\n",
       "        0.12960994, 0.24001666, 0.21842038, 0.0924887 , 0.03794713,\n",
       "        0.03877093, 0.4648353 , 0.49921442, 0.32970091, 0.14145441,\n",
       "        0.24859032, 0.45790782, 0.45377738, 0.09530669, 0.48937322,\n",
       "        0.29596666, 0.36816567, 0.34570318, 0.27748913, 0.27748913,\n",
       "        1.        , 1.        , 1.        , 1.        ]))"
      ]
     },
     "execution_count": 312,
     "metadata": {},
     "output_type": "execute_result"
    }
   ],
   "source": [
    "np.isnan(X[:,4]).sum(), X.std(0)"
   ]
  },
  {
   "cell_type": "markdown",
   "metadata": {},
   "source": [
    "### Combine losses into a smooth objective function"
   ]
  },
  {
   "cell_type": "code",
   "execution_count": 313,
   "metadata": {},
   "outputs": [],
   "source": [
    "def _reshape(G):\n",
    "    if G.ndim == 1:\n",
    "        return G.reshape((-1, 1))\n",
    "    return G\n",
    "\n",
    "class full_loss(rr.smooth_atom):\n",
    "    \n",
    "    def __init__(self,\n",
    "                 X,\n",
    "                 desc,\n",
    "                 symmetrize=True,\n",
    "                 coef=1.,\n",
    "                 offset=None,\n",
    "                 quadratic=None,\n",
    "                 case_weights=None,\n",
    "                 initial=None):\n",
    "        \n",
    "        (self.X, \n",
    "         self.desc,\n",
    "         self.symmetrize) = (X, desc, symmetrize)\n",
    "\n",
    "        rr.smooth_atom.__init__(self,\n",
    "                                shape=(X.shape[1]**2),\n",
    "                                coef=coef,\n",
    "                                offset=offset,\n",
    "                                quadratic=quadratic,\n",
    "                                initial=initial)\n",
    "        \n",
    "        self._grad_buff = np.zeros((X.shape[1], \n",
    "                                    X.shape[1]))\n",
    "        \n",
    "    def smooth_objective(self, arg, mode='both', check_feasibility=False):\n",
    "        \n",
    "        arg = self.apply_offset(arg)\n",
    "        matrix_arg = arg.reshape((self._grad_buff.shape))\n",
    "        \n",
    "        eta = natural_param = self.X.dot(matrix_arg) # again of shape as X\n",
    "        \n",
    "        if mode == 'func':\n",
    "            _f = [_loss.smooth_objective(np.squeeze(eta[:,_slice]), 'func') \n",
    "                  for _, _, _slice, _loss in self.desc if _loss is not None]\n",
    "            return self.scale(np.sum(_f))\n",
    "        elif mode == 'grad':\n",
    "            _g = [_reshape(_loss.smooth_objective(np.squeeze(eta[:,_slice]), \n",
    "                                                  'grad')) \n",
    "                  for _, _, _slice, _loss in self.desc if _loss is not None]\n",
    "            self._grad_buff[:,1:] = self.scale(self.X.T.dot(np.hstack(_g)))\n",
    "            self._grad_buff[:,0] = 0\n",
    "            if self.symmetrize:\n",
    "                return 0.5 * (self._grad_buff + self._grad_buff.T).reshape(-1)\n",
    "            else:\n",
    "                return self._grad_buff.copy()\n",
    "        elif mode == 'both':\n",
    "            _f = [_loss.smooth_objective(np.squeeze(eta[:,_slice]), 'func') \n",
    "                  for _, _, _slice, _loss in self.desc if _loss is not None]\n",
    "            _g = [_reshape(_loss.smooth_objective(np.squeeze(eta[:,_slice]), \n",
    "                                                  'grad'))\n",
    "                  for _, _, _slice, _loss in self.desc if _loss is not None]\n",
    "            self._grad_buff[:,1:] = self.scale(self.X.T.dot(np.hstack(_g)))\n",
    "            self._grad_buff[:,0] = 0\n",
    "            if self.symmetrize:\n",
    "                return (self.scale(np.sum(_f)), \n",
    "                        0.5 * (self._grad_buff + self._grad_buff.T).reshape(-1))\n",
    "            else:\n",
    "                return (self.scale(np.sum(_f)), \n",
    "                        self._grad_buff.copy())"
   ]
  },
  {
   "cell_type": "code",
   "execution_count": 315,
   "metadata": {},
   "outputs": [
    {
     "data": {
      "text/plain": [
       "array([0.        , 1.        , 0.14823451, 0.14823451, 1.        ,\n",
       "       1.        , 1.        , 0.11704997, 0.47949194, 0.49988051,\n",
       "       0.12960994, 0.24001666, 0.21842038, 0.0924887 , 0.03794713,\n",
       "       0.03877093, 0.4648353 , 0.49921442, 0.32970091, 0.14145441,\n",
       "       0.24859032, 0.45790782, 0.45377738, 0.09530669, 0.48937322,\n",
       "       0.29596666, 0.36816567, 0.34570318, 0.27748913, 0.27748913,\n",
       "       1.        , 1.        , 1.        , 1.        ])"
      ]
     },
     "execution_count": 315,
     "metadata": {},
     "output_type": "execute_result"
    }
   ],
   "source": [
    "loss = full_loss(X, desc3)\n",
    "F, G = loss.smooth_objective(np.zeros(loss.shape), 'both')\n",
    "G.shape\n",
    "X.std(0)"
   ]
  },
  {
   "cell_type": "markdown",
   "metadata": {},
   "source": [
    "### Construct penalty\n",
    "\n",
    "The basic penalty is a group lasso for every \"block\" $\\Theta[k,j]$. We've flattened\n",
    "$\\Theta$ above so we can just use the usual group LASSO penalty.\n",
    "\n",
    "The penality is\n",
    "$$\n",
    "{\\cal P}(\\Theta) = \\lambda \\sum_{(j,k): j < k} w_{(j,k)} \\|\\Theta[j,k]\\|_F\n",
    "$$\n",
    "where\n",
    "$$\n",
    "\\|A\\|_F = Tr(A^TA)^{1/2} = \\left(\\sum_{i,j} A_{ij}^2 \\right)^{1/2}\n",
    "$$"
   ]
  },
  {
   "cell_type": "code",
   "execution_count": 317,
   "metadata": {},
   "outputs": [
    {
     "data": {
      "text/plain": [
       "(34, 34, 2)"
      ]
     },
     "execution_count": 317,
     "metadata": {},
     "output_type": "execute_result"
    }
   ],
   "source": [
    "R, C = np.zeros((2, X.shape[1], X.shape[1]), np.int)\n",
    "var_names = list(D.columns) + ['intercept']\n",
    "\n",
    "for l, r in product(desc3, desc3):\n",
    "    l_slice = l[2]\n",
    "    r_slice = r[2]\n",
    "    R[l_slice][:,r_slice] = R[r_slice][:,l_slice] = var_names.index(r[0])\n",
    "    C[l_slice][:,r_slice] = C[r_slice][:,l_slice] = var_names.index(l[0])  \n",
    "I = np.transpose(np.array([R, C]), [1, 2, 0])\n",
    "I.shape"
   ]
  },
  {
   "cell_type": "code",
   "execution_count": 318,
   "metadata": {},
   "outputs": [
    {
     "data": {
      "text/plain": [
       "(slice(1, 2, None), slice(2, 4, None))"
      ]
     },
     "execution_count": 318,
     "metadata": {},
     "output_type": "execute_result"
    }
   ],
   "source": [
    "B2_slice, M1_slice = desc3[1][2], desc3[2][2]\n",
    "B2_slice, M1_slice"
   ]
  },
  {
   "cell_type": "code",
   "execution_count": 319,
   "metadata": {},
   "outputs": [
    {
     "data": {
      "text/plain": [
       "(array([[4, 4]]),\n",
       " array([[4],\n",
       "        [4]]))"
      ]
     },
     "execution_count": 319,
     "metadata": {},
     "output_type": "execute_result"
    }
   ],
   "source": [
    "I[B2_slice][:,M1_slice][:,:,0], I[M1_slice][:,B2_slice][:,:,0]"
   ]
  },
  {
   "cell_type": "code",
   "execution_count": 320,
   "metadata": {},
   "outputs": [
    {
     "data": {
      "text/plain": [
       "(array([[5, 5]]),\n",
       " array([[5],\n",
       "        [5]]))"
      ]
     },
     "execution_count": 320,
     "metadata": {},
     "output_type": "execute_result"
    }
   ],
   "source": [
    "I[B2_slice][:,M1_slice][:,:,1], I[M1_slice][:,B2_slice][:,:,1]"
   ]
  },
  {
   "cell_type": "code",
   "execution_count": 321,
   "metadata": {},
   "outputs": [
    {
     "data": {
      "text/plain": [
       "(1156,\n",
       " ['intercept-intercept',\n",
       "  'intercept-s_li',\n",
       "  'intercept-q_flag',\n",
       "  'intercept-q_flag',\n",
       "  'intercept-snr',\n",
       "  'h_rb-intercept',\n",
       "  'dh_fit_dx-intercept',\n",
       "  'b_snow_conf-intercept',\n",
       "  'b_snow_conf-intercept',\n",
       "  'b_snow_conf-intercept',\n",
       "  'b_snow_conf-intercept',\n",
       "  'b_snow_conf-intercept',\n",
       "  'b_snow_conf-intercept',\n",
       "  'b_snow_conf-intercept',\n",
       "  'b_snow_conf-intercept',\n",
       "  'c_flg_asr-intercept',\n",
       "  'c_flg_asr-intercept',\n",
       "  'c_flg_asr-intercept',\n",
       "  'c_flg_asr-intercept',\n",
       "  'c_flg_asr-intercept',\n",
       "  'c_flg_asr-intercept',\n",
       "  'c_flg_atm-intercept',\n",
       "  'c_flg_atm-intercept',\n",
       "  'c_flg_atm-intercept',\n",
       "  'intercept-msw',\n",
       "  'intercept-msw',\n",
       "  'intercept-msw',\n",
       "  'intercept-msw',\n",
       "  'intercept-layer_flag',\n",
       "  'intercept-layer_flag',\n",
       "  'bckgrd-intercept',\n",
       "  'e_bckgrd-intercept',\n",
       "  'intercept-n_fit_photons',\n",
       "  'intercept-w_surface_window_final',\n",
       "  'intercept-s_li',\n",
       "  's_li-s_li',\n",
       "  'q_flag-s_li',\n",
       "  'q_flag-s_li',\n",
       "  's_li-snr',\n",
       "  'h_rb-s_li'])"
      ]
     },
     "execution_count": 321,
     "metadata": {},
     "output_type": "execute_result"
    }
   ],
   "source": [
    "groups = ['-'.join(sorted([var_names[r], var_names[c]])) for r, c in zip(R.reshape(-1), C.reshape(-1))]\n",
    "len(groups), groups[:40]"
   ]
  },
  {
   "cell_type": "code",
   "execution_count": 323,
   "metadata": {},
   "outputs": [],
   "source": [
    "weights = {}\n",
    "covs = {}\n",
    "for d in desc3:\n",
    "    X_ = X[:,d[2]]\n",
    "    X_ -= X_.mean(0)\n",
    "    C_ = X_.T.dot(X_) / X_.shape[0]\n",
    "    covs[d[0]] = np.diag(C_).sum()\n",
    "    \n",
    "for l, r in product(covs.keys(), covs.keys()):\n",
    "    weights['-'.join(sorted([l, r]))] = np.sqrt(covs[l] * covs[r])\n",
    "    if l == r:\n",
    "        weights['-'.join([l, r])] = np.inf"
   ]
  },
  {
   "cell_type": "code",
   "execution_count": 324,
   "metadata": {},
   "outputs": [
    {
     "data": {
      "text/latex": [
       "$$\\lambda_{} \\sum_g w_g \\|\\beta[g]\\|_2$$"
      ],
      "text/plain": [
       "group_lasso(array(['intercept-intercept', 'intercept-s_li', 'intercept-q_flag', ...,\n",
       "       'e_bckgrd-w_surface_window_final',\n",
       "       'n_fit_photons-w_surface_window_final',\n",
       "       'w_surface_window_final-w_surface_window_final'], dtype='<U45'), lagrange=2512.050954897213, weights={'intercept-intercept': inf, 'intercept-s_li': 0.0, 'intercept-q_flag': 0.0, 'intercept-snr': 0.0, 'h_rb-intercept': 0.0, 'dh_fit_dx-intercept': 0.0, 'b_snow_conf-intercept': 0.0, 'c_flg_asr-intercept': 0.0, 'c_flg_atm-intercept': 0.0, 'intercept-msw': 0.0, 'intercept-layer_flag': 0.0, 'bckgrd-intercept': 0.0, 'e_bckgrd-intercept': 0.0, 'intercept-n_fit_photons': 0.0, 'intercept-w_surface_window_final': 0.0, 's_li-s_li': inf, 'q_flag-s_li': 0.20963525623082152, 's_li-snr': 0.9999999999999486, 'h_rb-s_li': 1.0000000000000036, 'dh_fit_dx-s_li': 1.0000000000000093, 'b_snow_conf-s_li': 0.790950112692848, 'c_flg_asr-s_li': 0.8107399477885577, 'c_flg_atm-s_li': 0.651672345133224, 'msw-s_li': 0.7629803782756107, 'layer_flag-s_li': 0.39242888400599474, 'bckgrd-s_li': 1.0000000000000138, 'e_bckgrd-s_li': 1.0000000000000038, 'n_fit_photons-s_li': 1.0000000000000075, 's_li-w_surface_window_final': 0.9999999999999611, 'q_flag-q_flag': inf, 'q_flag-snr': 0.20963525623080878, 'h_rb-q_flag': 0.20963525623082035, 'dh_fit_dx-q_flag': 0.20963525623082155, 'b_snow_conf-q_flag': 0.1658110295401608, 'c_flg_asr-q_flag': 0.1699596766912156, 'c_flg_atm-q_flag': 0.1366134990505425, 'msw-q_flag': 0.15994758709889528, 'layer_flag-q_flag': 0.08226692965097128, 'bckgrd-q_flag': 0.20963525623082244, 'e_bckgrd-q_flag': 0.20963525623082038, 'n_fit_photons-q_flag': 0.20963525623082116, 'q_flag-w_surface_window_final': 0.20963525623081142, 'snr-snr': inf, 'h_rb-snr': 0.9999999999999429, 'dh_fit_dx-snr': 0.9999999999999487, 'b_snow_conf-snr': 0.7909501126927999, 'c_flg_asr-snr': 0.8107399477885084, 'c_flg_atm-snr': 0.6516723451331844, 'msw-snr': 0.7629803782755643, 'layer_flag-snr': 0.3924288840059709, 'bckgrd-snr': 0.999999999999953, 'e_bckgrd-snr': 0.9999999999999432, 'n_fit_photons-snr': 0.9999999999999469, 'snr-w_surface_window_final': 0.9999999999999004, 'h_rb-h_rb': inf, 'dh_fit_dx-h_rb': 1.0000000000000038, 'b_snow_conf-h_rb': 0.7909501126928435, 'c_flg_asr-h_rb': 0.8107399477885532, 'c_flg_atm-h_rb': 0.6516723451332204, 'h_rb-msw': 0.7629803782756064, 'h_rb-layer_flag': 0.3924288840059926, 'bckgrd-h_rb': 1.000000000000008, 'e_bckgrd-h_rb': 0.9999999999999982, 'h_rb-n_fit_photons': 1.000000000000002, 'h_rb-w_surface_window_final': 0.9999999999999556, 'dh_fit_dx-dh_fit_dx': inf, 'b_snow_conf-dh_fit_dx': 0.7909501126928481, 'c_flg_asr-dh_fit_dx': 0.8107399477885578, 'c_flg_atm-dh_fit_dx': 0.651672345133224, 'dh_fit_dx-msw': 0.7629803782756107, 'dh_fit_dx-layer_flag': 0.3924288840059948, 'bckgrd-dh_fit_dx': 1.0000000000000138, 'dh_fit_dx-e_bckgrd': 1.000000000000004, 'dh_fit_dx-n_fit_photons': 1.0000000000000078, 'dh_fit_dx-w_surface_window_final': 0.9999999999999613, 'b_snow_conf-b_snow_conf': inf, 'b_snow_conf-c_flg_asr': 0.6412548530679474, 'b_snow_conf-c_flg_atm': 0.5154403148219312, 'b_snow_conf-msw': 0.6034794161795204, 'b_snow_conf-layer_flag': 0.31039167002846724, 'b_snow_conf-bckgrd': 0.7909501126928515, 'b_snow_conf-e_bckgrd': 0.7909501126928437, 'b_snow_conf-n_fit_photons': 0.7909501126928467, 'b_snow_conf-w_surface_window_final': 0.7909501126928099, 'c_flg_asr-c_flg_asr': inf, 'c_flg_asr-c_flg_atm': 0.528336803068552, 'c_flg_asr-msw': 0.6185786720468569, 'c_flg_asr-layer_flag': 0.3181577729297392, 'bckgrd-c_flg_asr': 0.8107399477885613, 'c_flg_asr-e_bckgrd': 0.8107399477885533, 'c_flg_asr-n_fit_photons': 0.8107399477885563, 'c_flg_asr-w_surface_window_final': 0.8107399477885187, 'c_flg_atm-c_flg_atm': inf, 'c_flg_atm-msw': 0.4972132124014969, 'c_flg_atm-layer_flag': 0.25573505113819817, 'bckgrd-c_flg_atm': 0.6516723451332269, 'c_flg_atm-e_bckgrd': 0.6516723451332205, 'c_flg_atm-n_fit_photons': 0.6516723451332229, 'c_flg_atm-w_surface_window_final': 0.6516723451331926, 'msw-msw': inf, 'layer_flag-msw': 0.2994155383651668, 'bckgrd-msw': 0.762980378275614, 'e_bckgrd-msw': 0.7629803782756065, 'msw-n_fit_photons': 0.7629803782756094, 'msw-w_surface_window_final': 0.762980378275574, 'layer_flag-layer_flag': inf, 'bckgrd-layer_flag': 0.3924288840059965, 'e_bckgrd-layer_flag': 0.39242888400599263, 'layer_flag-n_fit_photons': 0.39242888400599407, 'layer_flag-w_surface_window_final': 0.39242888400597586, 'bckgrd-bckgrd': inf, 'bckgrd-e_bckgrd': 1.0000000000000082, 'bckgrd-n_fit_photons': 1.000000000000012, 'bckgrd-w_surface_window_final': 0.9999999999999656, 'e_bckgrd-e_bckgrd': inf, 'e_bckgrd-n_fit_photons': 1.0000000000000022, 'e_bckgrd-w_surface_window_final': 0.9999999999999557, 'n_fit_photons-n_fit_photons': inf, 'n_fit_photons-w_surface_window_final': 0.9999999999999595, 'w_surface_window_final-w_surface_window_final': inf}, offset=None)"
      ]
     },
     "execution_count": 324,
     "metadata": {},
     "output_type": "execute_result"
    }
   ],
   "source": [
    "penalty = rr.group_lasso(list(groups), weights=weights, lagrange=5 * np.sqrt(X.shape[0]))\n",
    "penalty.shape\n",
    "penalty"
   ]
  },
  {
   "cell_type": "code",
   "execution_count": 325,
   "metadata": {},
   "outputs": [
    {
     "data": {
      "text/latex": [
       "$$f(\\beta)$$"
      ],
      "text/plain": [
       "<__main__.full_loss at 0x135f557c0>"
      ]
     },
     "execution_count": 325,
     "metadata": {},
     "output_type": "execute_result"
    }
   ],
   "source": [
    "loss"
   ]
  },
  {
   "cell_type": "code",
   "execution_count": 326,
   "metadata": {},
   "outputs": [
    {
     "data": {
      "text/latex": [
       "$$\n",
       "\\begin{aligned}\n",
       "\\text{minimize}_{\\beta} & f(\\beta) + g(\\beta) \\\\\n",
       "f(\\beta) &= f(\\beta) \\\\\n",
       "g(\\beta) &= \\lambda_{2} \\sum_g w_g \\|\\beta[g]\\|_2 \\\\\n",
       "\\end{aligned}\n",
       "$$"
      ],
      "text/plain": [
       "<regreg.problems.simple.simple_problem at 0x135f346d0>"
      ]
     },
     "execution_count": 326,
     "metadata": {},
     "output_type": "execute_result"
    }
   ],
   "source": [
    "problem = rr.simple_problem(loss, penalty)\n",
    "problem"
   ]
  },
  {
   "cell_type": "code",
   "execution_count": 327,
   "metadata": {},
   "outputs": [
    {
     "ename": "KeyboardInterrupt",
     "evalue": "",
     "output_type": "error",
     "traceback": [
      "\u001b[0;31m---------------------------------------------------------------------------\u001b[0m",
      "\u001b[0;31mKeyboardInterrupt\u001b[0m                         Traceback (most recent call last)",
      "\u001b[0;32m<ipython-input-327-cb6bf6163b28>\u001b[0m in \u001b[0;36m<module>\u001b[0;34m\u001b[0m\n\u001b[0;32m----> 1\u001b[0;31m \u001b[0msoln\u001b[0m \u001b[0;34m=\u001b[0m \u001b[0mproblem\u001b[0m\u001b[0;34m.\u001b[0m\u001b[0msolve\u001b[0m\u001b[0;34m(\u001b[0m\u001b[0mmax_its\u001b[0m\u001b[0;34m=\u001b[0m\u001b[0;36m10\u001b[0m\u001b[0;34m)\u001b[0m\u001b[0;34m\u001b[0m\u001b[0;34m\u001b[0m\u001b[0m\n\u001b[0m",
      "\u001b[0;32m~/Stanford/projects/CloudMask/other/regreg/regreg/problems/simple.py\u001b[0m in \u001b[0;36msolve\u001b[0;34m(self, quadratic, return_optimum, **fit_args)\u001b[0m\n\u001b[1;32m     83\u001b[0m         \u001b[0msolver\u001b[0m \u001b[0;34m=\u001b[0m \u001b[0mFISTA\u001b[0m\u001b[0;34m(\u001b[0m\u001b[0mself\u001b[0m\u001b[0;34m)\u001b[0m\u001b[0;34m\u001b[0m\u001b[0;34m\u001b[0m\u001b[0m\n\u001b[1;32m     84\u001b[0m         \u001b[0msolver\u001b[0m\u001b[0;34m.\u001b[0m\u001b[0mcomposite\u001b[0m\u001b[0;34m.\u001b[0m\u001b[0mcoefs\u001b[0m\u001b[0;34m[\u001b[0m\u001b[0;34m:\u001b[0m\u001b[0;34m]\u001b[0m \u001b[0;34m=\u001b[0m \u001b[0mself\u001b[0m\u001b[0;34m.\u001b[0m\u001b[0mcoefs\u001b[0m\u001b[0;34m\u001b[0m\u001b[0;34m\u001b[0m\u001b[0m\n\u001b[0;32m---> 85\u001b[0;31m         \u001b[0mself\u001b[0m\u001b[0;34m.\u001b[0m\u001b[0msolver_results\u001b[0m \u001b[0;34m=\u001b[0m \u001b[0msolver\u001b[0m\u001b[0;34m.\u001b[0m\u001b[0mfit\u001b[0m\u001b[0;34m(\u001b[0m\u001b[0;34m**\u001b[0m\u001b[0mfit_args\u001b[0m\u001b[0;34m)\u001b[0m\u001b[0;34m\u001b[0m\u001b[0;34m\u001b[0m\u001b[0m\n\u001b[0m\u001b[1;32m     86\u001b[0m         \u001b[0mself\u001b[0m\u001b[0;34m.\u001b[0m\u001b[0mfinal_step\u001b[0m \u001b[0;34m=\u001b[0m \u001b[0msolver\u001b[0m\u001b[0;34m.\u001b[0m\u001b[0mstep\u001b[0m\u001b[0;34m\u001b[0m\u001b[0;34m\u001b[0m\u001b[0m\n\u001b[1;32m     87\u001b[0m \u001b[0;34m\u001b[0m\u001b[0m\n",
      "\u001b[0;32m~/Stanford/projects/CloudMask/other/regreg/regreg/algorithms.py\u001b[0m in \u001b[0;36mfit\u001b[0;34m(self, tol, min_its, max_its, FISTA, start_step, restart, coef_stop, return_objective_hist, monotonicity_restart, debug, prox_control)\u001b[0m\n\u001b[1;32m    127\u001b[0m             \u001b[0;31m# Backtracking loop\u001b[0m\u001b[0;34m\u001b[0m\u001b[0;34m\u001b[0m\u001b[0;34m\u001b[0m\u001b[0m\n\u001b[1;32m    128\u001b[0m             \u001b[0;32mif\u001b[0m \u001b[0mself\u001b[0m\u001b[0;34m.\u001b[0m\u001b[0mperform_backtrack\u001b[0m\u001b[0;34m:\u001b[0m\u001b[0;34m\u001b[0m\u001b[0;34m\u001b[0m\u001b[0m\n\u001b[0;32m--> 129\u001b[0;31m                 \u001b[0mproposed_coefs\u001b[0m\u001b[0;34m,\u001b[0m \u001b[0mproposed_smooth\u001b[0m \u001b[0;34m=\u001b[0m \u001b[0mself\u001b[0m\u001b[0;34m.\u001b[0m\u001b[0mbacktrack\u001b[0m\u001b[0;34m(\u001b[0m\u001b[0mitercount\u001b[0m\u001b[0;34m)\u001b[0m\u001b[0;34m\u001b[0m\u001b[0;34m\u001b[0m\u001b[0m\n\u001b[0m\u001b[1;32m    130\u001b[0m \u001b[0;34m\u001b[0m\u001b[0m\n\u001b[1;32m    131\u001b[0m             \u001b[0;32melse\u001b[0m\u001b[0;34m:\u001b[0m\u001b[0;34m\u001b[0m\u001b[0;34m\u001b[0m\u001b[0m\n",
      "\u001b[0;32m~/Stanford/projects/CloudMask/other/regreg/regreg/algorithms.py\u001b[0m in \u001b[0;36mbacktrack\u001b[0;34m(self, itercount)\u001b[0m\n\u001b[1;32m    236\u001b[0m                 \u001b[0mproposed_coefs\u001b[0m \u001b[0;34m=\u001b[0m \u001b[0mself\u001b[0m\u001b[0;34m.\u001b[0m\u001b[0mcomposite\u001b[0m\u001b[0;34m.\u001b[0m\u001b[0mproximal_step\u001b[0m\u001b[0;34m(\u001b[0m\u001b[0msq\u001b[0m\u001b[0;34m(\u001b[0m\u001b[0;36m1.\u001b[0m \u001b[0;34m/\u001b[0m \u001b[0mself\u001b[0m\u001b[0;34m.\u001b[0m\u001b[0mstep\u001b[0m\u001b[0;34m,\u001b[0m \u001b[0mself\u001b[0m\u001b[0;34m.\u001b[0m\u001b[0mworking_coefs\u001b[0m\u001b[0;34m,\u001b[0m \u001b[0mworking_grad\u001b[0m\u001b[0;34m,\u001b[0m \u001b[0;36m0\u001b[0m\u001b[0;34m)\u001b[0m\u001b[0;34m)\u001b[0m\u001b[0;34m\u001b[0m\u001b[0;34m\u001b[0m\u001b[0m\n\u001b[1;32m    237\u001b[0m \u001b[0;34m\u001b[0m\u001b[0m\n\u001b[0;32m--> 238\u001b[0;31m             \u001b[0mproposed_smooth\u001b[0m \u001b[0;34m=\u001b[0m \u001b[0mself\u001b[0m\u001b[0;34m.\u001b[0m\u001b[0mcomposite\u001b[0m\u001b[0;34m.\u001b[0m\u001b[0msmooth_objective\u001b[0m\u001b[0;34m(\u001b[0m\u001b[0mproposed_coefs\u001b[0m\u001b[0;34m,\u001b[0m \u001b[0mmode\u001b[0m\u001b[0;34m=\u001b[0m\u001b[0;34m'func'\u001b[0m\u001b[0;34m)\u001b[0m\u001b[0;34m\u001b[0m\u001b[0;34m\u001b[0m\u001b[0m\n\u001b[0m\u001b[1;32m    239\u001b[0m \u001b[0;34m\u001b[0m\u001b[0m\n\u001b[1;32m    240\u001b[0m             \u001b[0;32mif\u001b[0m \u001b[0;32mnot\u001b[0m \u001b[0mnp\u001b[0m\u001b[0;34m.\u001b[0m\u001b[0misfinite\u001b[0m\u001b[0;34m(\u001b[0m\u001b[0mproposed_smooth\u001b[0m\u001b[0;34m)\u001b[0m\u001b[0;34m:\u001b[0m\u001b[0;34m\u001b[0m\u001b[0;34m\u001b[0m\u001b[0m\n",
      "\u001b[0;32m~/Stanford/projects/CloudMask/other/regreg/regreg/problems/simple.py\u001b[0m in \u001b[0;36msmooth_objective\u001b[0;34m(self, x, mode, check_feasibility)\u001b[0m\n\u001b[1;32m     27\u001b[0m         \u001b[0mthe\u001b[0m \u001b[0mproximal_atom\u001b[0m \u001b[0mhas\u001b[0m \u001b[0;36m0\u001b[0m \u001b[0;32mfor\u001b[0m \u001b[0msmooth_objective\u001b[0m\u001b[0;34m.\u001b[0m\u001b[0;34m\u001b[0m\u001b[0;34m\u001b[0m\u001b[0m\n\u001b[1;32m     28\u001b[0m         \"\"\"\n\u001b[0;32m---> 29\u001b[0;31m         \u001b[0mvs\u001b[0m \u001b[0;34m=\u001b[0m \u001b[0mself\u001b[0m\u001b[0;34m.\u001b[0m\u001b[0msmooth_atom\u001b[0m\u001b[0;34m.\u001b[0m\u001b[0msmooth_objective\u001b[0m\u001b[0;34m(\u001b[0m\u001b[0mx\u001b[0m\u001b[0;34m,\u001b[0m \u001b[0mmode\u001b[0m\u001b[0;34m,\u001b[0m \u001b[0mcheck_feasibility\u001b[0m\u001b[0;34m)\u001b[0m\u001b[0;34m\u001b[0m\u001b[0;34m\u001b[0m\u001b[0m\n\u001b[0m\u001b[1;32m     30\u001b[0m         \u001b[0;32mreturn\u001b[0m \u001b[0mvs\u001b[0m\u001b[0;34m\u001b[0m\u001b[0;34m\u001b[0m\u001b[0m\n\u001b[1;32m     31\u001b[0m \u001b[0;34m\u001b[0m\u001b[0m\n",
      "\u001b[0;32m<ipython-input-313-9db2e68803a3>\u001b[0m in \u001b[0;36msmooth_objective\u001b[0;34m(self, arg, mode, check_feasibility)\u001b[0m\n\u001b[1;32m     38\u001b[0m \u001b[0;34m\u001b[0m\u001b[0m\n\u001b[1;32m     39\u001b[0m         \u001b[0;32mif\u001b[0m \u001b[0mmode\u001b[0m \u001b[0;34m==\u001b[0m \u001b[0;34m'func'\u001b[0m\u001b[0;34m:\u001b[0m\u001b[0;34m\u001b[0m\u001b[0;34m\u001b[0m\u001b[0m\n\u001b[0;32m---> 40\u001b[0;31m             _f = [_loss.smooth_objective(np.squeeze(eta[:,_slice]), 'func') \n\u001b[0m\u001b[1;32m     41\u001b[0m                   for _, _, _slice, _loss in self.desc if _loss is not None]\n\u001b[1;32m     42\u001b[0m             \u001b[0;32mreturn\u001b[0m \u001b[0mself\u001b[0m\u001b[0;34m.\u001b[0m\u001b[0mscale\u001b[0m\u001b[0;34m(\u001b[0m\u001b[0mnp\u001b[0m\u001b[0;34m.\u001b[0m\u001b[0msum\u001b[0m\u001b[0;34m(\u001b[0m\u001b[0m_f\u001b[0m\u001b[0;34m)\u001b[0m\u001b[0;34m)\u001b[0m\u001b[0;34m\u001b[0m\u001b[0;34m\u001b[0m\u001b[0m\n",
      "\u001b[0;32m<ipython-input-313-9db2e68803a3>\u001b[0m in \u001b[0;36m<listcomp>\u001b[0;34m(.0)\u001b[0m\n\u001b[1;32m     38\u001b[0m \u001b[0;34m\u001b[0m\u001b[0m\n\u001b[1;32m     39\u001b[0m         \u001b[0;32mif\u001b[0m \u001b[0mmode\u001b[0m \u001b[0;34m==\u001b[0m \u001b[0;34m'func'\u001b[0m\u001b[0;34m:\u001b[0m\u001b[0;34m\u001b[0m\u001b[0;34m\u001b[0m\u001b[0m\n\u001b[0;32m---> 40\u001b[0;31m             _f = [_loss.smooth_objective(np.squeeze(eta[:,_slice]), 'func') \n\u001b[0m\u001b[1;32m     41\u001b[0m                   for _, _, _slice, _loss in self.desc if _loss is not None]\n\u001b[1;32m     42\u001b[0m             \u001b[0;32mreturn\u001b[0m \u001b[0mself\u001b[0m\u001b[0;34m.\u001b[0m\u001b[0mscale\u001b[0m\u001b[0;34m(\u001b[0m\u001b[0mnp\u001b[0m\u001b[0;34m.\u001b[0m\u001b[0msum\u001b[0m\u001b[0;34m(\u001b[0m\u001b[0m_f\u001b[0m\u001b[0;34m)\u001b[0m\u001b[0;34m)\u001b[0m\u001b[0;34m\u001b[0m\u001b[0;34m\u001b[0m\u001b[0m\n",
      "\u001b[0;32m~/Stanford/projects/CloudMask/other/regreg/regreg/smooth/mglm.py\u001b[0m in \u001b[0;36msmooth_objective\u001b[0;34m(self, natural_param, mode, check_feasibility, case_weights)\u001b[0m\n\u001b[1;32m    844\u001b[0m             \u001b[0;32mreturn\u001b[0m \u001b[0mg\u001b[0m\u001b[0;34m\u001b[0m\u001b[0;34m\u001b[0m\u001b[0m\n\u001b[1;32m    845\u001b[0m         \u001b[0;32melif\u001b[0m \u001b[0mmode\u001b[0m \u001b[0;34m==\u001b[0m \u001b[0;34m'func'\u001b[0m\u001b[0;34m:\u001b[0m\u001b[0;34m\u001b[0m\u001b[0;34m\u001b[0m\u001b[0m\n\u001b[0;32m--> 846\u001b[0;31m             \u001b[0mf\u001b[0m\u001b[0;34m,\u001b[0m \u001b[0mg\u001b[0m \u001b[0;34m=\u001b[0m \u001b[0;34m-\u001b[0m \u001b[0mself\u001b[0m\u001b[0;34m.\u001b[0m\u001b[0mscale\u001b[0m\u001b[0;34m(\u001b[0m\u001b[0mnp\u001b[0m\u001b[0;34m.\u001b[0m\u001b[0msum\u001b[0m\u001b[0;34m(\u001b[0m\u001b[0mcw\u001b[0m\u001b[0;34m[\u001b[0m\u001b[0;34m:\u001b[0m\u001b[0;34m,\u001b[0m\u001b[0;32mNone\u001b[0m\u001b[0;34m]\u001b[0m \u001b[0;34m*\u001b[0m \u001b[0mself\u001b[0m\u001b[0;34m.\u001b[0m\u001b[0mcounts\u001b[0m \u001b[0;34m*\u001b[0m \u001b[0meta\u001b[0m\u001b[0;34m)\u001b[0m \u001b[0;34m-\u001b[0m  \u001b[0mnp\u001b[0m\u001b[0;34m.\u001b[0m\u001b[0mdot\u001b[0m\u001b[0;34m(\u001b[0m\u001b[0mcw\u001b[0m \u001b[0;34m*\u001b[0m \u001b[0mself\u001b[0m\u001b[0;34m.\u001b[0m\u001b[0mtrials\u001b[0m\u001b[0;34m,\u001b[0m \u001b[0mnp\u001b[0m\u001b[0;34m.\u001b[0m\u001b[0mlog\u001b[0m\u001b[0;34m(\u001b[0m\u001b[0mnp\u001b[0m\u001b[0;34m.\u001b[0m\u001b[0msum\u001b[0m\u001b[0;34m(\u001b[0m\u001b[0mexp_eta\u001b[0m\u001b[0;34m,\u001b[0m \u001b[0maxis\u001b[0m\u001b[0;34m=\u001b[0m\u001b[0;36m1\u001b[0m\u001b[0;34m)\u001b[0m\u001b[0;34m)\u001b[0m\u001b[0;34m)\u001b[0m\u001b[0;34m)\u001b[0m\u001b[0;34m,\u001b[0m \u001b[0;32mNone\u001b[0m\u001b[0;34m\u001b[0m\u001b[0;34m\u001b[0m\u001b[0m\n\u001b[0m\u001b[1;32m    847\u001b[0m             \u001b[0;32mreturn\u001b[0m \u001b[0mf\u001b[0m\u001b[0;34m\u001b[0m\u001b[0;34m\u001b[0m\u001b[0m\n\u001b[1;32m    848\u001b[0m         \u001b[0;32melse\u001b[0m\u001b[0;34m:\u001b[0m\u001b[0;34m\u001b[0m\u001b[0;34m\u001b[0m\u001b[0m\n",
      "\u001b[0;31mKeyboardInterrupt\u001b[0m: "
     ]
    }
   ],
   "source": [
    "soln = problem.solve(max_its=10)"
   ]
  },
  {
   "cell_type": "code",
   "execution_count": 329,
   "metadata": {},
   "outputs": [
    {
     "name": "stdout",
     "output_type": "stream",
     "text": [
      "0    obj: 3.186801e+07    step: 1.00e-04    rel_obj_change: 3.68e-03    tol: 1.0e-05\n",
      "1    Decreasing step to 9.09090909090909e-05\n",
      "1    Decreasing step to 8.264462809917355e-05\n",
      "1    Decreasing step to 7.513148009015777e-05\n",
      "1    Decreasing step to 6.830134553650706e-05\n",
      "1    Decreasing step to 6.20921323059155e-05\n",
      "1    Decreasing step to 5.644739300537773e-05\n",
      "1    Decreasing step to 5.131581182307066e-05\n",
      "1    Decreasing step to 4.665073802097332e-05\n",
      "1    Decreasing step to 4.240976183724847e-05\n",
      "1    Decreasing step to 3.8554328942953155e-05\n",
      "1    Decreasing step to 3.504938994813923e-05\n",
      "1    Decreasing step to 3.1863081771035665e-05\n",
      "1    Decreasing step to 2.8966437973668783e-05\n",
      "1    Decreasing step to 2.633312543060798e-05\n",
      "1    Decreasing step to 2.3939204936916344e-05\n",
      "1    Decreasing step to 2.1762913579014857e-05\n",
      "1    Decreasing step to 1.9784466890013503e-05\n",
      "1    Decreasing step to 1.7985878990921365e-05\n",
      "1    obj: 3.175075e+07    step: 1.80e-05    rel_obj_change: 2.78e-04    tol: 1.0e-05\n",
      "2    Decreasing step to 1.6350799082655786e-05\n",
      "2    Decreasing step to 1.4864362802414349e-05\n",
      "2    Decreasing step to 1.3513057093103952e-05\n",
      "2    Decreasing step to 1.2284597357367228e-05\n",
      "2    Decreasing step to 1.1167815779424752e-05\n",
      "2    Decreasing step to 1.0152559799477046e-05\n",
      "2    Decreasing step to 9.229599817706404e-06\n",
      "2    Decreasing step to 8.390545288824003e-06\n",
      "2    Decreasing step to 7.627768444385457e-06\n",
      "2    Decreasing step to 6.934334949441324e-06\n",
      "2    Decreasing step to 6.303940863128476e-06\n",
      "2    Decreasing step to 5.730855330116796e-06\n",
      "2    Decreasing step to 5.20986848192436e-06\n",
      "2    Decreasing step to 4.73624407447669e-06\n",
      "2    Decreasing step to 4.305676431342445e-06\n",
      "2    Decreasing step to 3.914251301220404e-06\n",
      "2    Decreasing step to 3.558410273836731e-06\n",
      "2    Decreasing step to 3.2349184307606643e-06\n",
      "2    Decreasing step to 2.940834937055149e-06\n",
      "2    Decreasing step to 2.6734863064137713e-06\n",
      "2    Decreasing step to 2.430442096739792e-06\n",
      "2    obj: 3.174193e+07    step: 2.43e-06    rel_obj_change: 2.36e-04    tol: 1.0e-05\n",
      "3    Decreasing step to 2.2094928152179925e-06\n",
      "3    Decreasing step to 2.0086298320163566e-06\n",
      "3    Decreasing step to 1.8260271200148695e-06\n",
      "3    obj: 3.173442e+07    step: 1.83e-06    rel_obj_change: 1.27e-04    tol: 1.0e-05\n",
      "4    obj: 3.173040e+07    step: 1.83e-06    rel_obj_change: 9.57e-05    tol: 1.0e-05\n",
      "5    obj: 3.172736e+07    step: 1.83e-06    rel_obj_change: 8.88e-05    tol: 1.0e-05\n",
      "6    obj: 3.172454e+07    step: 1.83e-06    rel_obj_change: 8.86e-05    tol: 1.0e-05\n",
      "7    obj: 3.172173e+07    step: 1.83e-06    rel_obj_change: 9.11e-05    tol: 1.0e-05\n",
      "8    obj: 3.171884e+07    step: 1.83e-06    rel_obj_change: 9.51e-05    tol: 1.0e-05\n",
      "9    obj: 3.171582e+07    step: 1.83e-06    rel_obj_change: 9.98e-05    tol: 1.0e-05\n",
      "10    obj: 3.171266e+07    step: 1.83e-06    rel_obj_change: 1.05e-04    tol: 1.0e-05\n",
      "11    obj: 3.170933e+07    step: 1.83e-06    rel_obj_change: 1.10e-04    tol: 1.0e-05\n",
      "12    obj: 3.170586e+07    step: 1.83e-06    rel_obj_change: 1.14e-04    tol: 1.0e-05\n",
      "13    obj: 3.170224e+07    step: 1.83e-06    rel_obj_change: 1.18e-04    tol: 1.0e-05\n",
      "14    obj: 3.169849e+07    step: 1.83e-06    rel_obj_change: 1.22e-04    tol: 1.0e-05\n",
      "15    obj: 3.169462e+07    step: 1.83e-06    rel_obj_change: 1.26e-04    tol: 1.0e-05\n",
      "16    obj: 3.169063e+07    step: 1.83e-06    rel_obj_change: 1.29e-04    tol: 1.0e-05\n",
      "17    obj: 3.168654e+07    step: 1.83e-06    rel_obj_change: 1.32e-04    tol: 1.0e-05\n",
      "18    obj: 3.168237e+07    step: 1.83e-06    rel_obj_change: 1.34e-04    tol: 1.0e-05\n",
      "19    obj: 3.167812e+07    step: 1.83e-06    rel_obj_change: 1.36e-04    tol: 1.0e-05\n",
      "20    obj: 3.167380e+07    step: 1.83e-06    rel_obj_change: 1.38e-04    tol: 1.0e-05\n",
      "21    obj: 3.166943e+07    step: 1.83e-06    rel_obj_change: 1.39e-04    tol: 1.0e-05\n",
      "22    obj: 3.166502e+07    step: 1.83e-06    rel_obj_change: 1.39e-04    tol: 1.0e-05\n",
      "23    obj: 3.166061e+07    step: 1.83e-06    rel_obj_change: 1.38e-04    tol: 1.0e-05\n",
      "24    obj: 3.165623e+07    step: 1.83e-06    rel_obj_change: 1.38e-04    tol: 1.0e-05\n",
      "25    obj: 3.165185e+07    step: 1.83e-06    rel_obj_change: 1.37e-04    tol: 1.0e-05\n",
      "26    obj: 3.164753e+07    step: 1.83e-06    rel_obj_change: 1.36e-04    tol: 1.0e-05\n",
      "27    obj: 3.164323e+07    step: 1.83e-06    rel_obj_change: 1.35e-04    tol: 1.0e-05\n",
      "28    obj: 3.163895e+07    step: 1.83e-06    rel_obj_change: 1.35e-04    tol: 1.0e-05\n",
      "29    obj: 3.163469e+07    step: 1.83e-06    rel_obj_change: 1.34e-04    tol: 1.0e-05\n",
      "30    obj: 3.163046e+07    step: 1.83e-06    rel_obj_change: 1.33e-04    tol: 1.0e-05\n",
      "31    obj: 3.162627e+07    step: 1.83e-06    rel_obj_change: 1.31e-04    tol: 1.0e-05\n",
      "32    obj: 3.162212e+07    step: 1.83e-06    rel_obj_change: 1.30e-04    tol: 1.0e-05\n",
      "33    obj: 3.161802e+07    step: 1.83e-06    rel_obj_change: 1.28e-04    tol: 1.0e-05\n",
      "34    obj: 3.161396e+07    step: 1.83e-06    rel_obj_change: 1.27e-04    tol: 1.0e-05\n",
      "35    obj: 3.160994e+07    step: 1.83e-06    rel_obj_change: 1.26e-04    tol: 1.0e-05\n",
      "36    obj: 3.160597e+07    step: 1.83e-06    rel_obj_change: 1.25e-04    tol: 1.0e-05\n",
      "37    obj: 3.160203e+07    step: 1.83e-06    rel_obj_change: 1.23e-04    tol: 1.0e-05\n",
      "38    obj: 3.159813e+07    step: 1.83e-06    rel_obj_change: 1.22e-04    tol: 1.0e-05\n",
      "39    obj: 3.159428e+07    step: 1.83e-06    rel_obj_change: 1.21e-04    tol: 1.0e-05\n",
      "40    obj: 3.159047e+07    step: 1.83e-06    rel_obj_change: 1.19e-04    tol: 1.0e-05\n",
      "41    obj: 3.158670e+07    step: 1.83e-06    rel_obj_change: 1.18e-04    tol: 1.0e-05\n",
      "42    obj: 3.158297e+07    step: 1.83e-06    rel_obj_change: 1.17e-04    tol: 1.0e-05\n",
      "43    obj: 3.157929e+07    step: 1.83e-06    rel_obj_change: 1.15e-04    tol: 1.0e-05\n",
      "44    obj: 3.157564e+07    step: 1.83e-06    rel_obj_change: 1.14e-04    tol: 1.0e-05\n",
      "45    obj: 3.157204e+07    step: 1.83e-06    rel_obj_change: 1.13e-04    tol: 1.0e-05\n",
      "46    obj: 3.156848e+07    step: 1.83e-06    rel_obj_change: 1.11e-04    tol: 1.0e-05\n",
      "47    obj: 3.156497e+07    step: 1.83e-06    rel_obj_change: 1.10e-04    tol: 1.0e-05\n",
      "48    obj: 3.156149e+07    step: 1.83e-06    rel_obj_change: 1.09e-04    tol: 1.0e-05\n",
      "49    obj: 3.155806e+07    step: 1.83e-06    rel_obj_change: 1.08e-04    tol: 1.0e-05\n",
      "50    obj: 3.155466e+07    step: 1.83e-06    rel_obj_change: 1.06e-04    tol: 1.0e-05\n",
      "51    obj: 3.155131e+07    step: 1.83e-06    rel_obj_change: 1.05e-04    tol: 1.0e-05\n",
      "52    obj: 3.154800e+07    step: 1.83e-06    rel_obj_change: 1.04e-04    tol: 1.0e-05\n",
      "53    obj: 3.154473e+07    step: 1.83e-06    rel_obj_change: 1.02e-04    tol: 1.0e-05\n",
      "54    obj: 3.154150e+07    step: 1.83e-06    rel_obj_change: 1.01e-04    tol: 1.0e-05\n",
      "55    obj: 3.153831e+07    step: 1.83e-06    rel_obj_change: 9.98e-05    tol: 1.0e-05\n",
      "56    obj: 3.153517e+07    step: 1.83e-06    rel_obj_change: 9.86e-05    tol: 1.0e-05\n",
      "57    obj: 3.153206e+07    step: 1.83e-06    rel_obj_change: 9.73e-05    tol: 1.0e-05\n",
      "58    obj: 3.152899e+07    step: 1.83e-06    rel_obj_change: 9.60e-05    tol: 1.0e-05\n",
      "59    obj: 3.152596e+07    step: 1.83e-06    rel_obj_change: 9.48e-05    tol: 1.0e-05\n",
      "60    obj: 3.152297e+07    step: 1.83e-06    rel_obj_change: 9.35e-05    tol: 1.0e-05\n",
      "61    obj: 3.152003e+07    step: 1.83e-06    rel_obj_change: 9.22e-05    tol: 1.0e-05\n",
      "62    obj: 3.151712e+07    step: 1.83e-06    rel_obj_change: 9.09e-05    tol: 1.0e-05\n",
      "63    obj: 3.151425e+07    step: 1.83e-06    rel_obj_change: 8.96e-05    tol: 1.0e-05\n",
      "64    obj: 3.151143e+07    step: 1.83e-06    rel_obj_change: 8.83e-05    tol: 1.0e-05\n",
      "65    obj: 3.150865e+07    step: 1.83e-06    rel_obj_change: 8.70e-05    tol: 1.0e-05\n",
      "66    obj: 3.150590e+07    step: 1.83e-06    rel_obj_change: 8.57e-05    tol: 1.0e-05\n",
      "67    obj: 3.150320e+07    step: 1.83e-06    rel_obj_change: 8.44e-05    tol: 1.0e-05\n",
      "68    obj: 3.150055e+07    step: 1.83e-06    rel_obj_change: 8.31e-05    tol: 1.0e-05\n",
      "69    obj: 3.149793e+07    step: 1.83e-06    rel_obj_change: 8.17e-05    tol: 1.0e-05\n",
      "70    obj: 3.149535e+07    step: 1.83e-06    rel_obj_change: 8.04e-05    tol: 1.0e-05\n",
      "71    obj: 3.149282e+07    step: 1.83e-06    rel_obj_change: 7.91e-05    tol: 1.0e-05\n",
      "72    obj: 3.149033e+07    step: 1.83e-06    rel_obj_change: 7.77e-05    tol: 1.0e-05\n"
     ]
    },
    {
     "name": "stdout",
     "output_type": "stream",
     "text": [
      "73    obj: 3.148788e+07    step: 1.83e-06    rel_obj_change: 7.64e-05    tol: 1.0e-05\n",
      "74    obj: 3.148548e+07    step: 1.83e-06    rel_obj_change: 7.50e-05    tol: 1.0e-05\n",
      "75    obj: 3.148312e+07    step: 1.83e-06    rel_obj_change: 7.36e-05    tol: 1.0e-05\n",
      "76    obj: 3.148080e+07    step: 1.83e-06    rel_obj_change: 7.23e-05    tol: 1.0e-05\n",
      "77    obj: 3.147852e+07    step: 1.83e-06    rel_obj_change: 7.09e-05    tol: 1.0e-05\n",
      "78    obj: 3.147629e+07    step: 1.83e-06    rel_obj_change: 6.96e-05    tol: 1.0e-05\n",
      "79    obj: 3.147410e+07    step: 1.83e-06    rel_obj_change: 6.82e-05    tol: 1.0e-05\n",
      "80    obj: 3.147195e+07    step: 1.83e-06    rel_obj_change: 6.68e-05    tol: 1.0e-05\n",
      "81    obj: 3.146985e+07    step: 1.83e-06    rel_obj_change: 6.55e-05    tol: 1.0e-05\n",
      "82    obj: 3.146779e+07    step: 1.83e-06    rel_obj_change: 6.41e-05    tol: 1.0e-05\n",
      "83    obj: 3.146577e+07    step: 1.83e-06    rel_obj_change: 6.28e-05    tol: 1.0e-05\n",
      "84    obj: 3.146380e+07    step: 1.83e-06    rel_obj_change: 6.14e-05    tol: 1.0e-05\n",
      "85    obj: 3.146186e+07    step: 1.83e-06    rel_obj_change: 6.01e-05    tol: 1.0e-05\n",
      "86    obj: 3.145997e+07    step: 1.83e-06    rel_obj_change: 5.87e-05    tol: 1.0e-05\n",
      "87    obj: 3.145813e+07    step: 1.83e-06    rel_obj_change: 5.74e-05    tol: 1.0e-05\n",
      "88    obj: 3.145632e+07    step: 1.83e-06    rel_obj_change: 5.61e-05    tol: 1.0e-05\n",
      "89    obj: 3.145456e+07    step: 1.83e-06    rel_obj_change: 5.48e-05    tol: 1.0e-05\n",
      "90    obj: 3.145283e+07    step: 1.83e-06    rel_obj_change: 5.34e-05    tol: 1.0e-05\n",
      "91    obj: 3.145115e+07    step: 1.83e-06    rel_obj_change: 5.21e-05    tol: 1.0e-05\n",
      "92    obj: 3.144951e+07    step: 1.83e-06    rel_obj_change: 5.09e-05    tol: 1.0e-05\n",
      "93    obj: 3.144791e+07    step: 1.83e-06    rel_obj_change: 4.96e-05    tol: 1.0e-05\n",
      "94    obj: 3.144635e+07    step: 1.83e-06    rel_obj_change: 4.83e-05    tol: 1.0e-05\n",
      "95    obj: 3.144483e+07    step: 1.83e-06    rel_obj_change: 4.71e-05    tol: 1.0e-05\n",
      "96    obj: 3.144335e+07    step: 1.83e-06    rel_obj_change: 4.58e-05    tol: 1.0e-05\n",
      "97    obj: 3.144191e+07    step: 1.83e-06    rel_obj_change: 4.46e-05    tol: 1.0e-05\n",
      "98    obj: 3.144051e+07    step: 1.83e-06    rel_obj_change: 4.34e-05    tol: 1.0e-05\n",
      "99    obj: 3.143915e+07    step: 2.01e-06    rel_obj_change: 4.23e-05    tol: 1.0e-05\n",
      "100    obj: 3.143782e+07    step: 2.21e-06    rel_obj_change: 4.13e-05    tol: 1.0e-05\n",
      "101    obj: 3.143652e+07    step: 2.43e-06    rel_obj_change: 4.04e-05    tol: 1.0e-05\n",
      "102    obj: 3.143525e+07    step: 2.67e-06    rel_obj_change: 3.97e-05    tol: 1.0e-05\n",
      "103    obj: 3.143400e+07    step: 2.94e-06    rel_obj_change: 3.90e-05    tol: 1.0e-05\n",
      "104    obj: 3.143278e+07    step: 3.23e-06    rel_obj_change: 3.84e-05    tol: 1.0e-05\n",
      "105    obj: 3.143157e+07    step: 3.56e-06    rel_obj_change: 3.78e-05    tol: 1.0e-05\n",
      "106    obj: 3.143038e+07    step: 3.91e-06    rel_obj_change: 3.74e-05    tol: 1.0e-05\n",
      "107    obj: 3.142920e+07    step: 4.31e-06    rel_obj_change: 3.70e-05    tol: 1.0e-05\n",
      "108    obj: 3.142804e+07    step: 4.74e-06    rel_obj_change: 3.65e-05    tol: 1.0e-05\n",
      "109    Decreasing step to 4.73624407447669e-06\n",
      "109    Decreasing step to 4.305676431342445e-06\n",
      "109    Decreasing step to 3.914251301220404e-06\n",
      "109    Decreasing step to 3.558410273836731e-06\n",
      "109    Decreasing step to 3.2349184307606643e-06\n",
      "109    Decreasing step to 2.940834937055149e-06\n",
      "109    Decreasing step to 2.6734863064137713e-06\n",
      "109    Decreasing step to 2.430442096739792e-06\n",
      "109    Decreasing step to 2.2094928152179925e-06\n",
      "109    Decreasing step to 2.0086298320163566e-06\n",
      "109    Decreasing step to 1.8260271200148695e-06\n",
      "109    Decreasing step to 1.6600246545589721e-06\n",
      "109    obj: 3.142690e+07    step: 1.66e-06    rel_obj_change: 3.54e-05    tol: 1.0e-05\n",
      "110    obj: 3.142578e+07    step: 1.66e-06    rel_obj_change: 3.40e-05    tol: 1.0e-05\n",
      "111    obj: 3.142472e+07    step: 1.66e-06    rel_obj_change: 3.28e-05    tol: 1.0e-05\n",
      "112    obj: 3.142369e+07    step: 1.66e-06    rel_obj_change: 3.14e-05    tol: 1.0e-05\n",
      "113    obj: 3.142270e+07    step: 1.66e-06    rel_obj_change: 3.02e-05    tol: 1.0e-05\n",
      "114    obj: 3.142175e+07    step: 1.66e-06    rel_obj_change: 2.91e-05    tol: 1.0e-05\n",
      "115    obj: 3.142084e+07    step: 1.66e-06    rel_obj_change: 2.80e-05    tol: 1.0e-05\n",
      "116    obj: 3.141996e+07    step: 1.66e-06    rel_obj_change: 2.69e-05    tol: 1.0e-05\n",
      "117    obj: 3.141911e+07    step: 1.66e-06    rel_obj_change: 2.59e-05    tol: 1.0e-05\n",
      "118    obj: 3.141830e+07    step: 1.66e-06    rel_obj_change: 2.49e-05    tol: 1.0e-05\n",
      "119    obj: 3.141751e+07    step: 1.66e-06    rel_obj_change: 2.40e-05    tol: 1.0e-05\n",
      "120    obj: 3.141676e+07    step: 1.66e-06    rel_obj_change: 2.31e-05    tol: 1.0e-05\n",
      "121    obj: 3.141604e+07    step: 1.66e-06    rel_obj_change: 2.22e-05    tol: 1.0e-05\n",
      "122    obj: 3.141534e+07    step: 1.66e-06    rel_obj_change: 2.13e-05    tol: 1.0e-05\n",
      "123    obj: 3.141467e+07    step: 1.66e-06    rel_obj_change: 2.05e-05    tol: 1.0e-05\n",
      "124    obj: 3.141403e+07    step: 1.66e-06    rel_obj_change: 1.97e-05    tol: 1.0e-05\n",
      "125    obj: 3.141341e+07    step: 1.66e-06    rel_obj_change: 1.89e-05    tol: 1.0e-05\n",
      "126    obj: 3.141281e+07    step: 1.66e-06    rel_obj_change: 1.82e-05    tol: 1.0e-05\n",
      "127    obj: 3.141224e+07    step: 1.66e-06    rel_obj_change: 1.76e-05    tol: 1.0e-05\n",
      "128    obj: 3.141169e+07    step: 1.66e-06    rel_obj_change: 1.69e-05    tol: 1.0e-05\n",
      "129    obj: 3.141116e+07    step: 1.66e-06    rel_obj_change: 1.63e-05    tol: 1.0e-05\n",
      "130    obj: 3.141065e+07    step: 1.66e-06    rel_obj_change: 1.57e-05    tol: 1.0e-05\n",
      "131    obj: 3.141015e+07    step: 1.66e-06    rel_obj_change: 1.51e-05    tol: 1.0e-05\n",
      "132    obj: 3.140968e+07    step: 1.66e-06    rel_obj_change: 1.46e-05    tol: 1.0e-05\n",
      "133    obj: 3.140922e+07    step: 1.66e-06    rel_obj_change: 1.41e-05    tol: 1.0e-05\n",
      "134    obj: 3.140878e+07    step: 1.66e-06    rel_obj_change: 1.36e-05    tol: 1.0e-05\n",
      "135    obj: 3.140835e+07    step: 1.66e-06    rel_obj_change: 1.31e-05    tol: 1.0e-05\n",
      "136    obj: 3.140794e+07    step: 1.66e-06    rel_obj_change: 1.27e-05    tol: 1.0e-05\n",
      "137    obj: 3.140754e+07    step: 1.66e-06    rel_obj_change: 1.22e-05    tol: 1.0e-05\n",
      "138    obj: 3.140716e+07    step: 1.66e-06    rel_obj_change: 1.18e-05    tol: 1.0e-05\n",
      "139    obj: 3.140678e+07    step: 1.66e-06    rel_obj_change: 1.14e-05    tol: 1.0e-05\n",
      "140    obj: 3.140643e+07    step: 1.66e-06    rel_obj_change: 1.10e-05    tol: 1.0e-05\n",
      "141    obj: 3.140608e+07    step: 1.66e-06    rel_obj_change: 1.07e-05    tol: 1.0e-05\n",
      "142    obj: 3.140574e+07    step: 1.66e-06    rel_obj_change: 1.03e-05    tol: 1.0e-05\n",
      "143    obj: 3.140542e+07    step: 1.66e-06    rel_obj_change: 1.00e-05    tol: 1.0e-05\n",
      "144    obj: 3.140511e+07    step: 1.66e-06    rel_obj_change: 9.68e-06    tol: 1.0e-05\n",
      "Success: Optimization stopped because decrease in objective was below tolerance\n",
      "FISTA used 144 of 10000 iterations\n"
     ]
    },
    {
     "data": {
      "text/plain": [
       "array([ 0.        ,  0.        ,  0.        , ..., -0.02410169,\n",
       "        0.1041252 ,  0.        ])"
      ]
     },
     "execution_count": 329,
     "metadata": {},
     "output_type": "execute_result"
    }
   ],
   "source": [
    "soln = problem.solve(start_step=1e-4, debug=True)"
   ]
  },
  {
   "cell_type": "code",
   "execution_count": 330,
   "metadata": {},
   "outputs": [],
   "source": [
    "soln = _329"
   ]
  },
  {
   "cell_type": "code",
   "execution_count": 331,
   "metadata": {},
   "outputs": [
    {
     "data": {
      "text/plain": [
       "<matplotlib.colorbar.Colorbar at 0x142733850>"
      ]
     },
     "execution_count": 331,
     "metadata": {},
     "output_type": "execute_result"
    },
    {
     "data": {
      "image/png": "[encoded data removed]",
      "text/plain": [
       "<Figure size 432x288 with 2 Axes>"
      ]
     },
     "metadata": {
      "needs_background": "light"
     },
     "output_type": "display_data"
    }
   ],
   "source": [
    "matrix_soln = soln.reshape((X.shape[1], X.shape[1]))\n",
    "plt.imshow(matrix_soln != 0)\n",
    "plt.colorbar()"
   ]
  },
  {
   "cell_type": "code",
   "execution_count": 388,
   "metadata": {},
   "outputs": [
    {
     "data": {
      "image/png": "[encoded data removed]",
      "text/plain": [
       "<Figure size 576x576 with 1 Axes>"
      ]
     },
     "execution_count": 388,
     "metadata": {},
     "output_type": "execute_result"
    }
   ],
   "source": [
    "f = plt.figure(figsize=(8,8))\n",
    "ax = plt.gca()\n",
    "ax.imshow(matrix_soln, cmap='RdBu', interpolation='nearest', vmin=-10, vmax=10)\n",
    "ylim, xlim = ax.get_ylim(), ax.get_xlim()\n",
    "ax.xaxis.set_ticks(np.cumsum([X[:,d[2]].shape[1] for d in desc3]) - 0.5)\n",
    "ax.yaxis.set_ticks(np.cumsum([X[:,d[2]].shape[1] for d in desc3]) - 0.5)\n",
    "ax.set_xticklabels([d[0] for d in desc3], rotation=270)\n",
    "ax.set_yticklabels([d[0] for d in desc3])\n",
    "ax.grid(color='gray', linewidth=1, linestyle='--')\n",
    "f"
   ]
  },
  {
   "cell_type": "code",
   "execution_count": 373,
   "metadata": {},
   "outputs": [
    {
     "data": {
      "text/plain": [
       "[('intercept', None, slice(0, 1, None), None),\n",
       " ('s_li',\n",
       "  'continuous',\n",
       "  slice(1, 2, None),\n",
       "  <regreg.smooth.glm.gaussian_loglike at 0x139fa9880>),\n",
       " ('q_flag',\n",
       "  'binary',\n",
       "  slice(2, 4, None),\n",
       "  <regreg.smooth.mglm.multinomial_loglike at 0x135f3d190>),\n",
       " ('snr',\n",
       "  'continuous',\n",
       "  slice(4, 5, None),\n",
       "  <regreg.smooth.glm.gaussian_loglike at 0x135f4aca0>),\n",
       " ('h_rb',\n",
       "  'continuous',\n",
       "  slice(5, 6, None),\n",
       "  <regreg.smooth.glm.gaussian_loglike at 0x12f5b6400>),\n",
       " ('dh_fit_dx',\n",
       "  'continuous',\n",
       "  slice(6, 7, None),\n",
       "  <regreg.smooth.glm.gaussian_loglike at 0x13599d490>),\n",
       " ('b_snow_conf',\n",
       "  'categorical',\n",
       "  slice(7, 15, None),\n",
       "  <regreg.smooth.mglm.multinomial_loglike at 0x135f5b700>),\n",
       " ('c_flg_asr',\n",
       "  'categorical',\n",
       "  slice(15, 21, None),\n",
       "  <regreg.smooth.mglm.multinomial_loglike at 0x135f5b730>),\n",
       " ('c_flg_atm',\n",
       "  'categorical',\n",
       "  slice(21, 24, None),\n",
       "  <regreg.smooth.mglm.multinomial_loglike at 0x135f5b7c0>),\n",
       " ('msw',\n",
       "  'categorical',\n",
       "  slice(24, 28, None),\n",
       "  <regreg.smooth.mglm.multinomial_loglike at 0x135f5b0d0>),\n",
       " ('layer_flag',\n",
       "  'binary',\n",
       "  slice(28, 30, None),\n",
       "  <regreg.smooth.mglm.multinomial_loglike at 0x135f5bbe0>),\n",
       " ('bckgrd',\n",
       "  'continuous',\n",
       "  slice(30, 31, None),\n",
       "  <regreg.smooth.glm.gaussian_loglike at 0x135f5b880>),\n",
       " ('e_bckgrd',\n",
       "  'continuous',\n",
       "  slice(31, 32, None),\n",
       "  <regreg.smooth.glm.gaussian_loglike at 0x135f3c790>),\n",
       " ('n_fit_photons',\n",
       "  'continuous',\n",
       "  slice(32, 33, None),\n",
       "  <regreg.smooth.glm.gaussian_loglike at 0x135f3cca0>),\n",
       " ('w_surface_window_final',\n",
       "  'continuous',\n",
       "  slice(33, 34, None),\n",
       "  <regreg.smooth.glm.gaussian_loglike at 0x135e0cb50>)]"
      ]
     },
     "execution_count": 373,
     "metadata": {},
     "output_type": "execute_result"
    },
    {
     "data": {
      "image/png": "[encoded data removed]",
      "text/plain": [
       "<Figure size 432x288 with 2 Axes>"
      ]
     },
     "metadata": {
      "needs_background": "light"
     },
     "output_type": "display_data"
    },
    {
     "data": {
      "text/plain": [
       "<Figure size 576x576 with 0 Axes>"
      ]
     },
     "metadata": {},
     "output_type": "display_data"
    },
    {
     "data": {
      "image/png": "[encoded data removed]",
      "text/plain": [
       "<Figure size 576x576 with 1 Axes>"
      ]
     },
     "metadata": {
      "needs_background": "light"
     },
     "output_type": "display_data"
    }
   ],
   "source": [
    "desc3"
   ]
  },
  {
   "cell_type": "code",
   "execution_count": null,
   "metadata": {},
   "outputs": [],
   "source": [
    "group_keys = sorted(weights.keys())\n",
    "group_img = np.array([group_keys.index(g) for g in groups]).reshape((X.shape[1], X.shape[1]))"
   ]
  },
  {
   "cell_type": "code",
   "execution_count": null,
   "metadata": {},
   "outputs": [],
   "source": [
    "plt.imshow(group_img)\n",
    "plt.colorbar()"
   ]
  },
  {
   "cell_type": "code",
   "execution_count": null,
   "metadata": {},
   "outputs": [],
   "source": [
    "np.unique(group_img).shape"
   ]
  },
  {
   "cell_type": "code",
   "execution_count": null,
   "metadata": {},
   "outputs": [],
   "source": [
    "len(group_keys)"
   ]
  },
  {
   "cell_type": "code",
   "execution_count": null,
   "metadata": {},
   "outputs": [],
   "source": [
    "problem.solve??"
   ]
  },
  {
   "cell_type": "code",
   "execution_count": null,
   "metadata": {},
   "outputs": [],
   "source": [
    "rr.FISTA.fit??"
   ]
  },
  {
   "cell_type": "code",
   "execution_count": 343,
   "metadata": {},
   "outputs": [
    {
     "data": {
      "image/png": "[encoded data removed]",
      "text/plain": [
       "<Figure size 432x288 with 1 Axes>"
      ]
     },
     "metadata": {
      "needs_background": "light"
     },
     "output_type": "display_data"
    }
   ],
   "source": [
    "plt.imshow?"
   ]
  },
  {
   "cell_type": "code",
   "execution_count": null,
   "metadata": {},
   "outputs": [],
   "source": []
  }
 ],
 "metadata": {
  "jupytext": {
   "formats": "ipynb,Rmd"
  },
  "kernelspec": {
   "display_name": "Python 3",
   "language": "python",
   "name": "python3"
  },
  "language_info": {
   "codemirror_mode": {
    "name": "ipython",
    "version": 3
   },
   "file_extension": ".py",
   "mimetype": "text/x-python",
   "name": "python",
   "nbconvert_exporter": "python",
   "pygments_lexer": "ipython3",
   "version": "3.8.3"
  }
 },
 "nbformat": 4,
 "nbformat_minor": 4
}
