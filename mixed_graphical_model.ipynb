{
 "cells": [
  {
   "cell_type": "markdown",
   "metadata": {},
   "source": [
    "## Overview of model\n",
    "\n",
    "The model we'll start with is based on [Hastie and Lee](https://web.stanford.edu/~hastie/Papers/structmgm.pdf). It fits a certain type of \n",
    "*undirected* graphical model to a sample of random variables of mixed type (discrete or continuous).\n",
    "\n",
    "It has the advantage that it also selects which *interactions* amongst the variables seem most relevant.\n",
    "\n",
    "Our data is\n",
    "$$\n",
    "X = \\begin{pmatrix} X_1 \\\\ X_2 \\\\ \\vdots \\\\ X_n\n",
    "\\end{pmatrix}\n",
    "$$\n",
    "and each sample $X_i$ is of mixed type -- in `numpy / pandas` terms we can think of it having a `dtype` with some `np.float` fields as well as some `pandas.Categotical` fields.\n",
    "We think of having $p$ different variables so we can talk about $X_{ij}, 1 \\leq i \\leq n, 1 \\leq j \\leq p$."
   ]
  },
  {
   "cell_type": "markdown",
   "metadata": {},
   "source": [
    "### Special case: binary random variables\n",
    "\n",
    "In this case $X_i \\in \\{0,1\\}^p$. The model here is a generalization of the Ising model. That is, each row is like a realization of an Ising model so we have a sample of realizations of Ising models.\n",
    "\n",
    "The model is parameterized here by a $p \\times p$ symmetric matrix $\\Sigma$\n",
    "and\n",
    "$$\n",
    "P_{\\Theta}(X_i=x_i) \\propto \\exp\\left(\\sum_{j,k} x_{i,j} x_{i,k} \\Theta_{jk} \\right).\n",
    "$$\n",
    "\n",
    "Classical Ising models have a fixed graph, say with adjacency matrix $A$ and perhaps two parameters $(\\theta_1, \\theta_2)$: one for interaction and one affecting the overall mean (external field? not sure, not a physicist). In these models\n",
    "$$\n",
    "P_{(\\theta_1, \\theta_2)}(X_i=x) \\propto \\exp \\left(\\theta_1 \\sum_j x_j + \\theta_2 \\sum_{j, k} x_j x_k A_{jk}\\right)\n",
    "$$\n",
    "so we can think of this having a $\\Theta$ with $\\theta_1$ on the diagonal and $\\theta_2/2$ off the diagonal.\n",
    "\n",
    "This model therefore has a parameter for *each edge*. Edges are selected by putting a penalty on each edge, i.e. an $\\ell_1$ penalty perhaps leaving the mean terms unpenalized:\n",
    "$$\n",
    "{\\cal P}(\\Theta) = \\lambda \\sum_{(j,k): j \\neq k} |\\Theta_{jk}|.\n",
    "$$"
   ]
  },
  {
   "cell_type": "markdown",
   "metadata": {},
   "source": [
    "### Psuedolikelihood\n",
    "\n",
    "To fit this model is complicated -- it is expensive to normalize the $\\propto$ in the likelihood so people, dating back to Besag in the 80s have used pseudolikelihood as the objective.\n",
    "\n",
    "This objective is the sum of all the conditional likelihoods for one of the variables given all the others. E.g. in our Ising model here, if we *knew* $\\Sigma$ then for any $X_{i,j}$ we know that $X_{i,j}$ is Bernoulli and given $X_{i,k}, k \\neq j$ we can work out the probability it is 1 or 0 based on $\\Sigma$. This is effectively the likelihood for a logistic regression. There is therefore a likelihood for each column $j$\n",
    "$$\n",
    "\\ell_j(\\Theta; X[:,j] | X[:,k], k \\neq j)\n",
    "$$\n",
    "and the pseudo-likelihood (sum of conditional negative log-likelihoods) is\n",
    "$$\n",
    "\\Theta \\mapsto \\sum_{j=1}^p \\ell_j(\\Theta; X[:,j] | X[:,k], k \\neq j).\n",
    "$$\n",
    "\n",
    "The penalized *pseudolikelihood* is \n",
    "$$\n",
    "\\Theta \\mapsto \\left[\\sum_{j=1}^p \\ell_j(\\Theta; X[:,j] | X[:,k], k \\neq j)\\right] + {\\cal P}(\\Theta).\n",
    "$$\n",
    "\n",
    "This is an objective we can minimize as a function of $\\Theta$. For large enough values of $\\lambda$ the minimize, $\\Theta$ will be sparse off-diagonal. This is the *undirected* graph selection."
   ]
  },
  {
   "cell_type": "markdown",
   "metadata": {},
   "source": [
    "### Special case: all continuous\n",
    "\n",
    "When each feature is continuous, a common model for the distribution\n",
    "would be Gaussian. This can be parameterized in terms of sufficient\n",
    "statistics $X$ and $XX^T$ with natural parameters $\\alpha$ and\n",
    "$\\Theta$, say. So, the density can be written as $$\n",
    "P_{\\alpha,\\Theta}(X_i=x) \\propto \\exp \\left(\\alpha^Tx +\n",
    "\\text{Tr}(\\Theta xx^T) \\right).$$ \n",
    "This is of course the normal\n",
    "family but parametrized slightly differently.\n",
    "\n",
    "This is quite similar to the binary case (in the binary case we could\n",
    "suck the $\\alpha$ into the diagonal of $\\Theta$) but this doesn't work in the Gaussian case.\n",
    "\n",
    "In this case, for one of the columns $X[:,j]$ there is a\n",
    "pseudo-likelihood corresponding to predicting $X[:,j]$ as a function\n",
    "of $X[:,k], k \\neq j$. Each term in the this pseudo-likelihood looks\n",
    "like a linear regression loss function. Summing these terms gives a\n",
    "pseudo-likelihood that could be used to fit the *graphical LASSO*\n",
    "(e.g. `glasso` in `R`).\n",
    "\n",
    "For Gaussians we need to introduce a separate scale parameter in the optimization.\n",
    "Call these $\\alpha$. Enforcing each $\\Theta[j,j]$ block to be 0, our $j$-th pseudolikelihood\n",
    "for a Gaussian is a normalized version of the density\n",
    "$$\n",
    "x_j \\mapsto \\exp\\left(x_j \\cdot \\left(\\sum_{k:k \\neq j} \\Theta[k,j] x_k\\right) - \\alpha_j x_j^2 \\right). \n",
    "$$\n",
    "The normalizing constant is\n",
    "$$\n",
    "\\sqrt{2 \\pi /\\alpha_j} \\exp\\left( \\frac{1}{2 \\alpha_j} (\\Theta[j]^Tx)^2 \\right)\n",
    "$$\n",
    "so the likelihood for a continuous feature is\n",
    "$$\n",
    "(\\Theta[j], \\alpha_j) \\mapsto \\frac{1}{\\sqrt{2\\pi/\\alpha_j}} \\exp\\left(-\\frac{\\alpha_j}{2} (\\Theta[j]x - x_j)^2 \\right)\n",
    "$$\n",
    "where we have used the convention that $\\Theta[j,j]=0$.\n",
    "\n",
    "Taking negative logs yields\n",
    "$$\n",
    "(\\Theta[j], \\alpha_j) \\mapsto - \\frac{1}{2}\\log(\\alpha_j) + \\frac{\\alpha_j}{2}(\\Theta[j]x-x_j)^2\n",
    "$$\n",
    "\n",
    "Stacking rows and summing yields\n",
    "$$\n",
    "(\\Theta[j], \\alpha_j) \\mapsto - \\frac{n}{2}\\log(\\alpha_j) + \\frac{\\alpha_j}{2}\\|\\eta_j-X[:,j]\\|^2_2\n",
    "$$\n",
    "with $\\eta_j = X\\Theta[:,j]$.            \n"
   ]
  },
  {
   "cell_type": "markdown",
   "metadata": {},
   "source": [
    "### Putting these together\n",
    "\n",
    "It is now not hard to see how to mix continuous and binary. Each binary `field` has a reference sample space of $\\{0,1\\}$ while each continuous one has a reference sample space $\\mathbb{R}$. Stringing all fields together gives a sample space\n",
    "$$\n",
    "\\{0,1\\}^{j:j \\in {\\cal B}} \\times \\mathbb{R}^{j: j \\in {\\cal C}}\n",
    "$$\n",
    "where ${\\cal B}$ are the binary fields in our `dtype` and ${\\cal C}$ are the floating type fields in our `dtype`. If we had categorical instead of binary then that field's $\\{0,1\\}$ would be replaced by $\\{1, \\dots, N_j\\}$ where $N_j$ is the number of categories for field $j$.\n",
    "\n",
    "We now have a symmetric $p \\times p$ *matrix* $\\Theta$ (it's not really a matrix) where each entry $\\Theta_{jk}$ models the interaction between field $j$ and field $k$ of the `dtype`. When $j$ or $k$ is categorical (including binary) the entry $\\Theta_{jk}$ is really a matrix. Concretely, suppose $N_j=3$ and $N_k=5$ then, if we were to fit a \n",
    "multinomial regression (the analog of logistic for categorical) of $X[:,j]$ on to $X[:,k]$ then there would be a $3 \\times 5$ matrix of parameters in that model. (Note that much software often will set some of these to 0 automatically for identification reasons -- in this model with the penalty it is common not to do this). Anyways, we see that $\\Theta_{jk}$ is really in $\\mathbb{R}^{3 \\times 5}$ and $\\Theta_{kj} = \\Theta_{jk}^T \\in \\mathbb{R}^{5 \\times 3}$.\n",
    "\n",
    "The (or, an) analog of the $\\ell_1$ penalty for the *matrix* $\\Theta_{jk}$ is the Frobenius norm -- this is what the authors propose."
   ]
  },
  {
   "cell_type": "markdown",
   "metadata": {},
   "source": [
    "### Relation to separate regressions\n",
    "\n",
    "In order to understand the relationships between columns it is tempting to simply regress each $X[:,j]$ onto all the other columns. The total objective in this case would be a sum of negative log-likelihoods and would look a lot like our pseudo-likelihood. The difference is that the pseudo-likelihood assumes symmetry and ties the parameters together this way. The separate regression framework drops this requirement.\n",
    "\n",
    "That is, the total loss for separate regressions is the same as the pseudo-likelihood\n",
    "but the pseudo-likelihood has linear constraints enforcing symmetry of the $\\Theta$ \"matrix\".\n"
   ]
  },
  {
   "cell_type": "markdown",
   "metadata": {},
   "source": [
    "### Fitting the model\n",
    "\n",
    "The model can be fit by proximal gradient methods, so we really just have to compute the\n",
    "objective (as a function of $\\Theta$ with $X$ fixed) and its gradient.\n",
    "\n",
    "As each term in the pseudo-likelihood is like a regression (negative log-) likelihood it is enough to have appropriate regression losses for each node.\n",
    "\n",
    "The proximal step is essentially the group LASSO proximal step (though here the parameters are matrices rather than vectors). By appropriate `vec` operations we should be able to use a group LASSO map."
   ]
  },
  {
   "cell_type": "markdown",
   "metadata": {},
   "source": [
    "### TODO\n",
    "\n",
    "0. Create a *design matrix* `X` and a dict mapping fields of the dtype to columns. Should include a column of 1s. Continuous features enter as columns unchanged. Categorical features are coded using *full* representation, i.e. for a categorical with $N_j$ levels we want $N_j$ 1-hot columns in the design matrix. Our final $\\Theta$ parameter will have shape $(X.shape[1], X.shape[1])$ and will be symmetric but we will store as regular `ndarray`.\n",
    "\n",
    "1. Create a representation of the pseudo-likelihood that can compute\n",
    "the maps\n",
    "$$\n",
    "\\begin{aligned}\n",
    "\\Theta & \\mapsto \\sum_{j=1}^p \\ell_j\\left(\\Theta; X[:,j] | X[:,k], k \\neq j \\right) \\\\\n",
    "\\Theta & \\mapsto \\nabla_{\\Theta} \\sum_{j=1}^p \\ell_j\\left(\\Theta; X[:,j] | X[:,k], k \\neq j \\right)\n",
    "\\end{aligned}\n",
    "$$\n",
    "Note that $\\ell_j$ depends only on $\\Theta[j]$ and differentiating with respect to\n",
    "a term like $\\Theta[j,k]$ will involve only the losses $\\ell_k$ and $\\ell_j$.\n",
    "\n",
    "2. Make a group LASSO penalty for the $\\Theta$ matrix that sets $\\infty$ penalty on the \"diagonal\" terms $\\Theta[j,j]$.\n",
    "\n",
    "3. We should be able to just write the loss as a sum of saturated losses for each *response* composed with `X.dot(Theta[j])`, i.e.\n",
    "\n",
    "     loss(theta) = sum([s_loss(X.dot(Theta[j])) for s_loss in saturated_losses])\n",
    "\n",
    "4. For a categorical variable with $N_j$ levels `X.dot(Theta[j])` should have shape `(n, N_j)` and this product should effectively zero out any *self* terms in the sum over the\n",
    "$\\sum_j N_j$ in the matrix product. I.e. I am imaging that feature $j$ has been allocated $N_j$ columns in $X$ (the usual 1-hot encoding of multinomials).\n",
    "\n",
    "5. If we can write out the objective with a single `X` matrix, then I think the $\\Theta[j,k]$ gradient will simply look at the `k` rows of the `j` loss plus the `j` rows of the `k` loss."
   ]
  },
  {
   "cell_type": "markdown",
   "metadata": {},
   "source": [
    "### Toy example\n",
    "\n",
    "Let's make a data frame with 7 features, 2 binary, 2 categorical and 3 continuous. We'll code the binary as multinomial."
   ]
  },
  {
   "cell_type": "code",
   "execution_count": 1,
   "metadata": {},
   "outputs": [
    {
     "data": {
      "text/plain": [
       "(Index(['ground_track', 'lat', 'lon', 'h_li', 's_li', 'q_flag', 's_fg', 'snr',\n",
       "        'h_rb', 'dh_fit_dx', 'b_snow_conf', 'c_flg_asr', 'c_flg_atm', 'msw',\n",
       "        'bsnow_h', 'bsnow_od', 'layer_flag', 'bckgrd', 'e_bckgrd',\n",
       "        'n_fit_photons', 'segment_id', 'w_surface_window_final'],\n",
       "       dtype='object'),\n",
       " (252416, 22))"
      ]
     },
     "execution_count": 1,
     "metadata": {},
     "output_type": "execute_result"
    }
   ],
   "source": [
    "import numpy as np, pandas as pd\n",
    "from itertools import product\n",
    "import matplotlib.pyplot as plt\n",
    "%matplotlib inline\n",
    "\n",
    "\n",
    "D = pd.read_csv('atl06.csv') # .iloc[:5000]\n",
    "D = D.dropna()\n",
    "del(D['Unnamed: 0'])\n",
    "D.columns, D.shape"
   ]
  },
  {
   "cell_type": "code",
   "execution_count": 2,
   "metadata": {},
   "outputs": [
    {
     "data": {
      "text/plain": [
       "array([3.       , 4.4581361])"
      ]
     },
     "execution_count": 2,
     "metadata": {},
     "output_type": "execute_result"
    }
   ],
   "source": [
    "def make_onehot(categorical_col):  #TODO: would be more robust to know labels beforehand\n",
    "                                   # e.g. for cross-validation\n",
    "    labels = sorted(np.unique(categorical_col))\n",
    "    return np.equal.outer(np.asarray(categorical_col), labels)\n",
    "\n",
    "def make_design(df, desc):\n",
    "    design = [np.ones((df.shape[0], 1))] # column for intercept\n",
    "    new_desc = [('intercept', None, slice(0, 1))]\n",
    "    idx = 1\n",
    "    for col, dtype in desc:\n",
    "        if dtype in ['binary', 'categorical']:\n",
    "            design_col = make_onehot(df[col])\n",
    "            ncol = design_col.shape[1]\n",
    "            design.append(design_col)\n",
    "            new_desc.append((col, dtype, slice(idx, idx + ncol)))\n",
    "            idx += ncol\n",
    "        elif dtype == 'continuous': # a continuous one\n",
    "            new_desc.append((col, dtype, slice(idx, idx+1)))\n",
    "            design_col = np.asarray(df[col].copy())\n",
    "            # should we standardize?\n",
    "            design_col.shape = (-1,1)\n",
    "            design.append(design_col)\n",
    "            idx += 1\n",
    "    return np.hstack(design), new_desc\n",
    "\n",
    "desc = [('s_li', 'continuous'),\n",
    "        ('q_flag', 'binary'),\n",
    "        ('snr', 'continuous'),\n",
    "        ('h_rb', 'continuous'),\n",
    "        ('dh_fit_dx', 'continuous'),\n",
    "        ('b_snow_conf', 'categorical'),\n",
    "        ('c_flg_asr', 'categorical'),\n",
    "        ('c_flg_atm', 'categorical'),\n",
    "        ('msw', 'categorical' ),\n",
    "        #('bsnow_h', 'continuous'),\n",
    "        #('bsnow_od', 'continuous'),\n",
    "        ('layer_flag', 'binary'),\n",
    "        ('bckgrd', 'continuous'),\n",
    "        ('e_bckgrd', 'continuous'),\n",
    "        ('n_fit_photons', 'continuous'),\n",
    "        ('w_surface_window_final', 'continuous')]\n",
    "desc\n",
    "(np.mean(D['bsnow_od'] == D['bsnow_od'].max()), \n",
    " np.mean(D['bsnow_h'] == D['bsnow_h'].max()))\n",
    "np.percentile(D['w_surface_window_final'], [2,98])"
   ]
  },
  {
   "cell_type": "code",
   "execution_count": 3,
   "metadata": {},
   "outputs": [
    {
     "data": {
      "text/plain": [
       "(array([0.0000000e+00, 6.7144660e-09, 1.0892861e-08, ..., 9.3741010e-01,\n",
       "        9.3925035e-01, 9.4173110e-01]),\n",
       " array([3.4386003e-03, 5.2483900e-03, 5.4293690e-03, ..., 4.9964676e+00,\n",
       "        5.0000000e+00, 3.4028235e+38]))"
      ]
     },
     "execution_count": 3,
     "metadata": {},
     "output_type": "execute_result"
    }
   ],
   "source": [
    "X, desc2 = make_design(D, desc)\n",
    "desc2\n",
    "np.unique(D['snr']), np.unique(D['h_rb'])"
   ]
  },
  {
   "cell_type": "code",
   "execution_count": 4,
   "metadata": {},
   "outputs": [
    {
     "data": {
      "text/plain": [
       "[(246767, 'continuous'),\n",
       " (2, 'binary'),\n",
       " (6299, 'continuous'),\n",
       " (7268, 'continuous'),\n",
       " (175317, 'continuous'),\n",
       " (8, 'categorical'),\n",
       " (6, 'categorical'),\n",
       " (3, 'categorical'),\n",
       " (4, 'categorical'),\n",
       " (2, 'binary'),\n",
       " (243085, 'continuous'),\n",
       " (243308, 'continuous'),\n",
       " (713, 'continuous'),\n",
       " (3216, 'continuous')]"
      ]
     },
     "execution_count": 4,
     "metadata": {},
     "output_type": "execute_result"
    }
   ],
   "source": [
    "[(len(np.unique(D[c])), t) for c, t, _ in desc2[1:]]"
   ]
  },
  {
   "cell_type": "markdown",
   "metadata": {},
   "source": [
    "### Form saturated losses \n",
    "\n",
    "This will use the `regreg` package: `http://github.com/jonathan-taylor/regreg.git`\n",
    "\n",
    "For `binary` or `categorical` we will use multinomial loss, while for `continuous`\n",
    "we will use the special Gaussian loss described above."
   ]
  },
  {
   "cell_type": "code",
   "execution_count": 5,
   "metadata": {},
   "outputs": [
    {
     "name": "stderr",
     "output_type": "stream",
     "text": [
      "/Users/jonathantaylor/Stanford/projects/CloudMask/other/regreg/regreg/smooth/mglm.py:787: RuntimeWarning: divide by zero encountered in log\n",
      "  loss_terms = np.log(saturated) * self.counts\n",
      "/Users/jonathantaylor/Stanford/projects/CloudMask/other/regreg/regreg/smooth/mglm.py:787: RuntimeWarning: invalid value encountered in multiply\n",
      "  loss_terms = np.log(saturated) * self.counts\n"
     ]
    },
    {
     "data": {
      "text/plain": [
       "('w_surface_window_final',\n",
       " 'continuous',\n",
       " slice(33, 34, None),\n",
       " <regreg.smooth.glm.gaussian_loglike at 0x121e42280>)"
      ]
     },
     "execution_count": 5,
     "metadata": {},
     "output_type": "execute_result"
    }
   ],
   "source": [
    "from regreg.smooth.mglm import multinomial_loglike\n",
    "from regreg.smooth.glm import gaussian_loglike\n",
    "import regreg.api as rr        "
   ]
  },
  {
   "cell_type": "code",
   "execution_count": 6,
   "metadata": {},
   "outputs": [
    {
     "data": {
      "text/plain": [
       "(0,\n",
       " array([0.        , 1.        , 0.14823451, 0.14823451, 1.        ,\n",
       "        1.        , 1.        , 0.11704997, 0.47949194, 0.49988051,\n",
       "        0.12960994, 0.24001666, 0.21842038, 0.0924887 , 0.03794713,\n",
       "        0.03877093, 0.4648353 , 0.49921442, 0.32970091, 0.14145441,\n",
       "        0.24859032, 0.45790782, 0.45377738, 0.09530669, 0.48937322,\n",
       "        0.29596666, 0.36816567, 0.34570318, 0.27748913, 0.27748913,\n",
       "        1.        , 1.        , 1.        , 1.        ]),\n",
       " array([1., 1., 1., 1., 1., 1., 1., 1., 1., 1.]))"
      ]
     },
     "execution_count": 6,
     "metadata": {},
     "output_type": "execute_result"
    }
   ],
   "source": [
    "np.isnan(X[:,4]).sum(), X.std(0), X[:,0][:10]"
   ]
  },
  {
   "cell_type": "markdown",
   "metadata": {},
   "source": [
    "### Combine losses into a smooth objective function"
   ]
  },
  {
   "cell_type": "code",
   "execution_count": 98,
   "metadata": {},
   "outputs": [],
   "source": [
    "def _reshape(G):\n",
    "    if G.ndim == 1:\n",
    "        return G.reshape((-1, 1))\n",
    "    return G\n",
    "\n",
    "class gaussian_loss(rr.smooth_atom):\n",
    "\n",
    "    \"\"\"\n",
    "    This codes up (11) of Lee and Hastie\n",
    "    \"\"\"\n",
    "\n",
    "class full_loss(rr.smooth_atom):\n",
    "    \n",
    "    def __init__(self,\n",
    "                 X,\n",
    "                 desc,\n",
    "                 symmetrize=True,\n",
    "                 coef=1.,\n",
    "                 offset=None,\n",
    "                 quadratic=None,\n",
    "                 case_weights=None,\n",
    "                 initial=None):\n",
    "        \n",
    "        (self.X, \n",
    "         self.symmetrize) = (X, symmetrize)\n",
    "\n",
    "        # create individual losses\n",
    "        # categorical / binary\n",
    "        # are multinomial\n",
    "\n",
    "        # continuous ones get a special loss\n",
    "        # with unknown covariance\n",
    "        \n",
    "        idx_cont = 0\n",
    "        self.desc = []\n",
    "        for var, dtype, idx in desc:\n",
    "            if dtype in ['binary', 'categorical']:\n",
    "                response = X[:,idx]\n",
    "                self.desc.append((var, dtype, idx,\n",
    "                                  multinomial_loglike(response.shape,\n",
    "                                                      response), \n",
    "                                  None))\n",
    "            elif dtype == 'continuous':\n",
    "                response = np.squeeze(X[:,idx]) # it will be a 2D array\n",
    "                if var not in ['snr', 'w_surface_window_final', 'intercept']:\n",
    "                    l, u = np.percentile(response, [5, 95]) # quick and dirty cleaning..\n",
    "                    response = np.clip(response, l, u)\n",
    "                elif var == 'w_surface_window_final':\n",
    "                    l, u = np.percentile(response, [2, 98]) # quick and dirty cleaning..\n",
    "                    response = np.clip(response, l, u)\n",
    "                response /= np.std(response)\n",
    "                X[:,idx] = response[:,None]\n",
    "                self.desc.append((var, dtype, idx,\n",
    "                                  gaussian_loglike(response.shape,\n",
    "                                                   response),\n",
    "                                  idx_cont))\n",
    "                idx_cont += 1\n",
    "            else:\n",
    "                self.desc.append((var, dtype, idx, None, None))\n",
    "\n",
    "        rr.smooth_atom.__init__(self,\n",
    "                                shape=(X.shape[1]**2 + idx_cont),\n",
    "                                coef=coef,\n",
    "                                offset=offset,\n",
    "                                quadratic=quadratic,\n",
    "                                initial=initial)\n",
    "        \n",
    "        self.matrix_slice = slice(0, X.shape[1]**2, None)\n",
    "        self.scale_slice = slice(X.shape[1]**2, X.shape[1]**2 + idx_cont, None)\n",
    "        \n",
    "        self._grad_buff = np.zeros((X.shape[1], \n",
    "                                    X.shape[1]))\n",
    "        \n",
    "    def smooth_objective(self, arg, mode='both', check_feasibility=False):\n",
    "        \n",
    "        arg = self.apply_offset(arg)\n",
    "        matrix_arg = arg[self.matrix_slice].reshape((self._grad_buff.shape))\n",
    "        scale_arg = arg[self.scale_slice]\n",
    "        scale_grad = np.zeros_like(scale_arg)\n",
    "        full_grad = np.zeros(self.shape)\n",
    "        eta = natural_param = self.X.dot(matrix_arg) # same shape as X\n",
    "        nobs = eta.shape[0]\n",
    "        # because we will force\n",
    "        # diagonal blocks to have np.inf\n",
    "        # weight, these parameters will be zero\n",
    "        # so column j of eta above is really only summing over k != j\n",
    "        scale_grad_idx = 0\n",
    "        _f = []\n",
    "        _g = []\n",
    "        for _, _, _slice, _loss, _scale_idx in self.desc:\n",
    "            if _loss is not None:\n",
    "                if _scale_idx is not None:\n",
    "                    _scale = scale_arg[_scale_idx]\n",
    "                    _fval, _gval = _loss.smooth_objective(np.squeeze(eta[:,_slice]) / \n",
    "                                                          _scale, 'both')\n",
    "                    scale_grad[scale_grad_idx] = 0.5 * (- nobs / _scale) + _fval\n",
    "                    _fval *= _scale\n",
    "                    _fval += -nobs * 0.5 * np.log(_scale)\n",
    "                    scale_grad_idx += 1\n",
    "                else:\n",
    "                    _fval, _gval = _loss.smooth_objective(np.squeeze(eta[:,_slice]), \n",
    "                                                          'both')\n",
    "                _f.append(_fval)\n",
    "                _g.append(_reshape(_gval))\n",
    "        \n",
    "        if mode == 'func':\n",
    "            return self.scale(np.sum(_f))\n",
    "        elif mode == 'grad':\n",
    "            self._grad_buff[:,1:] = self.scale(self.X.T.dot(np.hstack(_g)))\n",
    "            self._grad_buff[:,0] = 0\n",
    "            if self.symmetrize:\n",
    "                self._grad_buff = 0.5 * (self._grad_buff + self._grad_buff.T)\n",
    "            full_grad[self.matrix_slice] = self._grad_buff.reshape(-1)\n",
    "            full_grad[self.scale_slice] = self.scale(scale_grad)\n",
    "            return full_grad\n",
    "        elif mode == 'both':\n",
    "            self._grad_buff[:,1:] = self.scale(self.X.T.dot(np.hstack(_g)))\n",
    "            self._grad_buff[:,0] = 0\n",
    "            if self.symmetrize:\n",
    "                self._grad_buff = 0.5 * (self._grad_buff + self._grad_buff.T)\n",
    "            full_grad[self.matrix_slice] = self._grad_buff.reshape(-1)\n",
    "            full_grad[self.scale_slice] = self.scale(scale_grad)\n",
    "            return self.scale(np.sum(_f)), full_grad"
   ]
  },
  {
   "cell_type": "code",
   "execution_count": 99,
   "metadata": {},
   "outputs": [
    {
     "name": "stderr",
     "output_type": "stream",
     "text": [
      "<ipython-input-98-15a66204a7aa>:94: RuntimeWarning: invalid value encountered in true_divide\n",
      "  _fval, _gval = _loss.smooth_objective(np.squeeze(eta[:,_slice]) /\n",
      "<ipython-input-98-15a66204a7aa>:96: RuntimeWarning: divide by zero encountered in double_scalars\n",
      "  scale_grad[scale_grad_idx] = 0.5 * (- nobs / _scale) + _fval\n",
      "<ipython-input-98-15a66204a7aa>:98: RuntimeWarning: divide by zero encountered in log\n",
      "  _fval += -nobs * 0.5 * np.log(_scale)\n"
     ]
    },
    {
     "data": {
      "text/plain": [
       "(array([0.        , 1.        , 0.14823451, 0.14823451, 1.        ,\n",
       "        1.        , 1.        , 0.11704997, 0.47949194, 0.49988051,\n",
       "        0.12960994, 0.24001666, 0.21842038, 0.0924887 , 0.03794713,\n",
       "        0.03877093, 0.4648353 , 0.49921442, 0.32970091, 0.14145441,\n",
       "        0.24859032, 0.45790782, 0.45377738, 0.09530669, 0.48937322,\n",
       "        0.29596666, 0.36816567, 0.34570318, 0.27748913, 0.27748913,\n",
       "        1.        , 1.        , 1.        , 1.        ]),\n",
       " (1164,))"
      ]
     },
     "execution_count": 99,
     "metadata": {},
     "output_type": "execute_result"
    }
   ],
   "source": [
    "loss = full_loss(X, desc2)\n",
    "F, G = loss.smooth_objective(np.zeros(loss.shape), 'both')\n",
    "G.shape\n",
    "X.std(0), loss.shape"
   ]
  },
  {
   "cell_type": "markdown",
   "metadata": {},
   "source": [
    "### Construct penalty\n",
    "\n",
    "The basic penalty is a group lasso for every \"block\" $\\Theta[k,j]$. We've flattened\n",
    "$\\Theta$ above so we can just use the usual group LASSO penalty.\n",
    "\n",
    "The penality is\n",
    "$$\n",
    "{\\cal P}(\\Theta) = \\lambda \\sum_{(j,k): j < k} w_{(j,k)} \\|\\Theta[j,k]\\|_F\n",
    "$$\n",
    "where\n",
    "$$\n",
    "\\|A\\|_F = Tr(A^TA)^{1/2} = \\left(\\sum_{i,j} A_{ij}^2 \\right)^{1/2}\n",
    "$$"
   ]
  },
  {
   "cell_type": "code",
   "execution_count": 100,
   "metadata": {},
   "outputs": [
    {
     "data": {
      "text/plain": [
       "(34, 34, 2)"
      ]
     },
     "execution_count": 100,
     "metadata": {},
     "output_type": "execute_result"
    }
   ],
   "source": [
    "R, C = np.zeros((2, X.shape[1], X.shape[1]), np.int)\n",
    "var_names = list(D.columns) + ['intercept']\n",
    "\n",
    "for l, r in product(desc3, desc3):\n",
    "    l_slice = l[2]\n",
    "    r_slice = r[2]\n",
    "    R[l_slice][:,r_slice] = R[r_slice][:,l_slice] = var_names.index(r[0])\n",
    "    C[l_slice][:,r_slice] = C[r_slice][:,l_slice] = var_names.index(l[0])  \n",
    "I = np.transpose(np.array([R, C]), [1, 2, 0])\n",
    "I.shape"
   ]
  },
  {
   "cell_type": "code",
   "execution_count": 101,
   "metadata": {},
   "outputs": [
    {
     "data": {
      "text/plain": [
       "(slice(1, 2, None), slice(2, 4, None))"
      ]
     },
     "execution_count": 101,
     "metadata": {},
     "output_type": "execute_result"
    }
   ],
   "source": [
    "B2_slice, M1_slice = desc3[1][2], desc3[2][2]\n",
    "B2_slice, M1_slice"
   ]
  },
  {
   "cell_type": "code",
   "execution_count": 102,
   "metadata": {},
   "outputs": [
    {
     "data": {
      "text/plain": [
       "(array([[4, 4]]),\n",
       " array([[4],\n",
       "        [4]]))"
      ]
     },
     "execution_count": 102,
     "metadata": {},
     "output_type": "execute_result"
    }
   ],
   "source": [
    "I[B2_slice][:,M1_slice][:,:,0], I[M1_slice][:,B2_slice][:,:,0]"
   ]
  },
  {
   "cell_type": "code",
   "execution_count": 103,
   "metadata": {},
   "outputs": [
    {
     "data": {
      "text/plain": [
       "(array([[5, 5]]),\n",
       " array([[5],\n",
       "        [5]]))"
      ]
     },
     "execution_count": 103,
     "metadata": {},
     "output_type": "execute_result"
    }
   ],
   "source": [
    "I[B2_slice][:,M1_slice][:,:,1], I[M1_slice][:,B2_slice][:,:,1]"
   ]
  },
  {
   "cell_type": "code",
   "execution_count": 104,
   "metadata": {},
   "outputs": [
    {
     "data": {
      "text/plain": [
       "(1156,\n",
       " ['intercept-intercept',\n",
       "  'intercept-s_li',\n",
       "  'intercept-q_flag',\n",
       "  'intercept-q_flag',\n",
       "  'intercept-snr',\n",
       "  'h_rb-intercept',\n",
       "  'dh_fit_dx-intercept',\n",
       "  'b_snow_conf-intercept',\n",
       "  'b_snow_conf-intercept',\n",
       "  'b_snow_conf-intercept',\n",
       "  'b_snow_conf-intercept',\n",
       "  'b_snow_conf-intercept',\n",
       "  'b_snow_conf-intercept',\n",
       "  'b_snow_conf-intercept',\n",
       "  'b_snow_conf-intercept',\n",
       "  'c_flg_asr-intercept',\n",
       "  'c_flg_asr-intercept',\n",
       "  'c_flg_asr-intercept',\n",
       "  'c_flg_asr-intercept',\n",
       "  'c_flg_asr-intercept',\n",
       "  'c_flg_asr-intercept',\n",
       "  'c_flg_atm-intercept',\n",
       "  'c_flg_atm-intercept',\n",
       "  'c_flg_atm-intercept',\n",
       "  'intercept-msw',\n",
       "  'intercept-msw',\n",
       "  'intercept-msw',\n",
       "  'intercept-msw',\n",
       "  'intercept-layer_flag',\n",
       "  'intercept-layer_flag',\n",
       "  'bckgrd-intercept',\n",
       "  'e_bckgrd-intercept',\n",
       "  'intercept-n_fit_photons',\n",
       "  'intercept-w_surface_window_final',\n",
       "  'intercept-s_li',\n",
       "  's_li-s_li',\n",
       "  'q_flag-s_li',\n",
       "  'q_flag-s_li',\n",
       "  's_li-snr',\n",
       "  'h_rb-s_li'])"
      ]
     },
     "execution_count": 104,
     "metadata": {},
     "output_type": "execute_result"
    }
   ],
   "source": [
    "groups = ['-'.join(sorted([var_names[r], var_names[c]])) for r, c in zip(R.reshape(-1), C.reshape(-1))]\n",
    "len(groups), groups[:40]"
   ]
  },
  {
   "cell_type": "code",
   "execution_count": 105,
   "metadata": {},
   "outputs": [
    {
     "data": {
      "text/plain": [
       "{'intercept-intercept': inf,\n",
       " 'intercept-s_li': 0.0,\n",
       " 'intercept-q_flag': 0.0,\n",
       " 'intercept-snr': 0.0,\n",
       " 'h_rb-intercept': 0.0,\n",
       " 'dh_fit_dx-intercept': 0.0,\n",
       " 'b_snow_conf-intercept': 0.0,\n",
       " 'c_flg_asr-intercept': 0.0,\n",
       " 'c_flg_atm-intercept': 0.0,\n",
       " 'intercept-msw': 0.0,\n",
       " 'intercept-layer_flag': 0.0,\n",
       " 'bckgrd-intercept': 0.0,\n",
       " 'e_bckgrd-intercept': 0.0,\n",
       " 'intercept-n_fit_photons': 0.0,\n",
       " 'intercept-w_surface_window_final': 0.0,\n",
       " 's_li-s_li': inf,\n",
       " 'q_flag-s_li': 0.20963525623082088,\n",
       " 's_li-snr': 1.0000000000000118,\n",
       " 'h_rb-s_li': 1.0000000000000033,\n",
       " 'dh_fit_dx-s_li': 1.0000000000000016,\n",
       " 'b_snow_conf-s_li': 0.7909501126928455,\n",
       " 'c_flg_asr-s_li': 0.8107399477885552,\n",
       " 'c_flg_atm-s_li': 0.651672345133222,\n",
       " 'msw-s_li': 0.7629803782756083,\n",
       " 'layer_flag-s_li': 0.3924288840059935,\n",
       " 'bckgrd-s_li': 1.0000000000000038,\n",
       " 'e_bckgrd-s_li': 1.0000000000000013,\n",
       " 'n_fit_photons-s_li': 1.0000000000000002,\n",
       " 's_li-w_surface_window_final': 1.0000000000000198,\n",
       " 'q_flag-q_flag': inf,\n",
       " 'q_flag-snr': 0.20963525623082271,\n",
       " 'h_rb-q_flag': 0.2096352562308209,\n",
       " 'dh_fit_dx-q_flag': 0.20963525623082055,\n",
       " 'b_snow_conf-q_flag': 0.1658110295401608,\n",
       " 'c_flg_asr-q_flag': 0.1699596766912156,\n",
       " 'c_flg_atm-q_flag': 0.1366134990505425,\n",
       " 'msw-q_flag': 0.15994758709889528,\n",
       " 'layer_flag-q_flag': 0.08226692965097128,\n",
       " 'bckgrd-q_flag': 0.209635256230821,\n",
       " 'e_bckgrd-q_flag': 0.2096352562308205,\n",
       " 'n_fit_photons-q_flag': 0.20963525623082027,\n",
       " 'q_flag-w_surface_window_final': 0.20963525623082435,\n",
       " 'snr-snr': inf,\n",
       " 'h_rb-snr': 1.000000000000012,\n",
       " 'dh_fit_dx-snr': 1.0000000000000102,\n",
       " 'b_snow_conf-snr': 0.7909501126928524,\n",
       " 'c_flg_asr-snr': 0.8107399477885623,\n",
       " 'c_flg_atm-snr': 0.6516723451332277,\n",
       " 'msw-snr': 0.7629803782756149,\n",
       " 'layer_flag-snr': 0.392428884005997,\n",
       " 'bckgrd-snr': 1.0000000000000124,\n",
       " 'e_bckgrd-snr': 1.00000000000001,\n",
       " 'n_fit_photons-snr': 1.0000000000000089,\n",
       " 'snr-w_surface_window_final': 1.0000000000000284,\n",
       " 'h_rb-h_rb': inf,\n",
       " 'dh_fit_dx-h_rb': 1.0000000000000018,\n",
       " 'b_snow_conf-h_rb': 0.7909501126928457,\n",
       " 'c_flg_asr-h_rb': 0.8107399477885554,\n",
       " 'c_flg_atm-h_rb': 0.6516723451332221,\n",
       " 'h_rb-msw': 0.7629803782756085,\n",
       " 'h_rb-layer_flag': 0.39242888400599363,\n",
       " 'bckgrd-h_rb': 1.000000000000004,\n",
       " 'e_bckgrd-h_rb': 1.0000000000000016,\n",
       " 'h_rb-n_fit_photons': 1.0000000000000004,\n",
       " 'h_rb-w_surface_window_final': 1.00000000000002,\n",
       " 'dh_fit_dx-dh_fit_dx': inf,\n",
       " 'b_snow_conf-dh_fit_dx': 0.7909501126928443,\n",
       " 'c_flg_asr-dh_fit_dx': 0.810739947788554,\n",
       " 'c_flg_atm-dh_fit_dx': 0.6516723451332209,\n",
       " 'dh_fit_dx-msw': 0.7629803782756072,\n",
       " 'dh_fit_dx-layer_flag': 0.3924288840059929,\n",
       " 'bckgrd-dh_fit_dx': 1.0000000000000022,\n",
       " 'dh_fit_dx-e_bckgrd': 0.9999999999999998,\n",
       " 'dh_fit_dx-n_fit_photons': 0.9999999999999987,\n",
       " 'dh_fit_dx-w_surface_window_final': 1.0000000000000182,\n",
       " 'b_snow_conf-b_snow_conf': inf,\n",
       " 'b_snow_conf-c_flg_asr': 0.6412548530679474,\n",
       " 'b_snow_conf-c_flg_atm': 0.5154403148219312,\n",
       " 'b_snow_conf-msw': 0.6034794161795204,\n",
       " 'b_snow_conf-layer_flag': 0.31039167002846724,\n",
       " 'b_snow_conf-bckgrd': 0.790950112692846,\n",
       " 'b_snow_conf-e_bckgrd': 0.7909501126928441,\n",
       " 'b_snow_conf-n_fit_photons': 0.7909501126928432,\n",
       " 'b_snow_conf-w_surface_window_final': 0.7909501126928586,\n",
       " 'c_flg_asr-c_flg_asr': inf,\n",
       " 'c_flg_asr-c_flg_atm': 0.528336803068552,\n",
       " 'c_flg_asr-msw': 0.6185786720468569,\n",
       " 'c_flg_asr-layer_flag': 0.3181577729297392,\n",
       " 'bckgrd-c_flg_asr': 0.8107399477885557,\n",
       " 'c_flg_asr-e_bckgrd': 0.8107399477885537,\n",
       " 'c_flg_asr-n_fit_photons': 0.8107399477885529,\n",
       " 'c_flg_asr-w_surface_window_final': 0.8107399477885687,\n",
       " 'c_flg_atm-c_flg_atm': inf,\n",
       " 'c_flg_atm-msw': 0.4972132124014969,\n",
       " 'c_flg_atm-layer_flag': 0.25573505113819817,\n",
       " 'bckgrd-c_flg_atm': 0.6516723451332224,\n",
       " 'c_flg_atm-e_bckgrd': 0.6516723451332208,\n",
       " 'c_flg_atm-n_fit_photons': 0.6516723451332201,\n",
       " 'c_flg_atm-w_surface_window_final': 0.6516723451332328,\n",
       " 'msw-msw': inf,\n",
       " 'layer_flag-msw': 0.2994155383651668,\n",
       " 'bckgrd-msw': 0.7629803782756088,\n",
       " 'e_bckgrd-msw': 0.7629803782756069,\n",
       " 'msw-n_fit_photons': 0.762980378275606,\n",
       " 'msw-w_surface_window_final': 0.762980378275621,\n",
       " 'layer_flag-layer_flag': inf,\n",
       " 'bckgrd-layer_flag': 0.3924288840059938,\n",
       " 'e_bckgrd-layer_flag': 0.39242888400599285,\n",
       " 'layer_flag-n_fit_photons': 0.3924288840059924,\n",
       " 'layer_flag-w_surface_window_final': 0.39242888400600007,\n",
       " 'bckgrd-bckgrd': inf,\n",
       " 'bckgrd-e_bckgrd': 1.000000000000002,\n",
       " 'bckgrd-n_fit_photons': 1.0000000000000009,\n",
       " 'bckgrd-w_surface_window_final': 1.0000000000000204,\n",
       " 'e_bckgrd-e_bckgrd': inf,\n",
       " 'e_bckgrd-n_fit_photons': 0.9999999999999984,\n",
       " 'e_bckgrd-w_surface_window_final': 1.000000000000018,\n",
       " 'n_fit_photons-n_fit_photons': inf,\n",
       " 'n_fit_photons-w_surface_window_final': 1.0000000000000169,\n",
       " 'w_surface_window_final-w_surface_window_final': inf,\n",
       " 's_li-scale': 0,\n",
       " 'snr-scale': 0,\n",
       " 'h_rb-scale': 0,\n",
       " 'dh_fit_dx-scale': 0,\n",
       " 'bckgrd-scale': 0,\n",
       " 'e_bckgrd-scale': 0,\n",
       " 'n_fit_photons-scale': 0,\n",
       " 'w_surface_window_final-scale': 0}"
      ]
     },
     "execution_count": 105,
     "metadata": {},
     "output_type": "execute_result"
    }
   ],
   "source": [
    "weights = {}\n",
    "covs = {}\n",
    "for d in desc3:\n",
    "    X_ = X[:,d[2]] * 1.\n",
    "    X_ = X_ - X_.mean(0)\n",
    "    C_ = X_.T.dot(X_) / X_.shape[0]\n",
    "    covs[d[0]] = np.diag(C_).sum()\n",
    "    \n",
    "for l, r in product(covs.keys(), covs.keys()):\n",
    "    weights['-'.join(sorted([l, r]))] = np.sqrt(covs[l] * covs[r])\n",
    "    if l == r:\n",
    "        weights['-'.join([l, r])] = np.inf\n",
    "for d in loss.desc:\n",
    "    if d[1] == 'continuous':\n",
    "        weights[d[0]+'-scale'] = 0\n",
    "        groups.append(d[0]+'-scale')\n",
    "weights"
   ]
  },
  {
   "cell_type": "code",
   "execution_count": 121,
   "metadata": {},
   "outputs": [
    {
     "data": {
      "text/plain": [
       "(1164,)"
      ]
     },
     "execution_count": 121,
     "metadata": {},
     "output_type": "execute_result"
    }
   ],
   "source": [
    "penalty = rr.group_lasso(list(groups), weights=weights, lagrange=10 * np.sqrt(X.shape[0]))\n",
    "penalty.shape"
   ]
  },
  {
   "cell_type": "code",
   "execution_count": 122,
   "metadata": {},
   "outputs": [],
   "source": [
    "problem = rr.simple_problem(loss, penalty)\n"
   ]
  },
  {
   "cell_type": "code",
   "execution_count": 123,
   "metadata": {},
   "outputs": [
    {
     "name": "stderr",
     "output_type": "stream",
     "text": [
      "<ipython-input-98-15a66204a7aa>:94: RuntimeWarning: invalid value encountered in true_divide\n",
      "  _fval, _gval = _loss.smooth_objective(np.squeeze(eta[:,_slice]) /\n",
      "<ipython-input-98-15a66204a7aa>:96: RuntimeWarning: divide by zero encountered in double_scalars\n",
      "  scale_grad[scale_grad_idx] = 0.5 * (- nobs / _scale) + _fval\n",
      "<ipython-input-98-15a66204a7aa>:98: RuntimeWarning: divide by zero encountered in log\n",
      "  _fval += -nobs * 0.5 * np.log(_scale)\n"
     ]
    },
    {
     "data": {
      "text/plain": [
       "array([1., 1., 1., 1., 1., 1., 1., 1., 1., 1.])"
      ]
     },
     "execution_count": 123,
     "metadata": {},
     "output_type": "execute_result"
    }
   ],
   "source": [
    "loss.smooth_objective(problem.coefs, 'grad')\n",
    "X[:,0][:10]"
   ]
  },
  {
   "cell_type": "code",
   "execution_count": 124,
   "metadata": {},
   "outputs": [],
   "source": [
    "problem.coefs[-8:] = 1."
   ]
  },
  {
   "cell_type": "code",
   "execution_count": 127,
   "metadata": {},
   "outputs": [
    {
     "name": "stdout",
     "output_type": "stream",
     "text": [
      "0    obj: 2.774152e+06    step: 1.00e-10    rel_obj_change: 5.16e-04    tol: 1.0e-05\n",
      "1    obj: 2.772720e+06    step: 1.00e-10    rel_obj_change: 5.13e-04    tol: 1.0e-05\n",
      "2    obj: 2.771298e+06    step: 1.00e-10    rel_obj_change: 6.53e-04    tol: 1.0e-05\n",
      "3    obj: 2.769489e+06    step: 1.00e-10    rel_obj_change: 7.86e-04    tol: 1.0e-05\n",
      "4    obj: 2.767313e+06    step: 1.00e-10    rel_obj_change: 9.13e-04    tol: 1.0e-05\n",
      "5    obj: 2.764786e+06    step: 1.00e-10    rel_obj_change: 1.03e-03    tol: 1.0e-05\n",
      "6    obj: 2.761925e+06    step: 1.00e-10    rel_obj_change: 1.15e-03    tol: 1.0e-05\n",
      "7    obj: 2.758745e+06    step: 1.00e-10    rel_obj_change: 1.26e-03    tol: 1.0e-05\n",
      "8    obj: 2.755264e+06    step: 1.00e-10    rel_obj_change: 1.37e-03    tol: 1.0e-05\n",
      "9    obj: 2.751498e+06    step: 1.00e-10    rel_obj_change: 1.47e-03    tol: 1.0e-05\n",
      "10    obj: 2.747466e+06    step: 1.00e-10    rel_obj_change: 1.56e-03    tol: 1.0e-05\n",
      "11    obj: 2.743186e+06    step: 1.00e-10    rel_obj_change: 1.64e-03    tol: 1.0e-05\n",
      "12    obj: 2.738676e+06    step: 1.00e-10    rel_obj_change: 1.72e-03    tol: 1.0e-05\n",
      "13    obj: 2.733955e+06    step: 1.00e-10    rel_obj_change: 1.80e-03    tol: 1.0e-05\n",
      "14    obj: 2.729043e+06    step: 1.00e-10    rel_obj_change: 1.86e-03    tol: 1.0e-05\n",
      "15    obj: 2.723960e+06    step: 1.00e-10    rel_obj_change: 1.92e-03    tol: 1.0e-05\n",
      "16    obj: 2.718724e+06    step: 1.00e-10    rel_obj_change: 1.97e-03    tol: 1.0e-05\n",
      "17    obj: 2.713355e+06    step: 1.00e-10    rel_obj_change: 2.02e-03    tol: 1.0e-05\n",
      "18    obj: 2.707873e+06    step: 1.00e-10    rel_obj_change: 2.06e-03    tol: 1.0e-05\n",
      "19    obj: 2.702296e+06    step: 1.00e-10    rel_obj_change: 2.09e-03    tol: 1.0e-05\n",
      "20    obj: 2.696644e+06    step: 1.00e-10    rel_obj_change: 2.12e-03    tol: 1.0e-05\n"
     ]
    },
    {
     "ename": "KeyboardInterrupt",
     "evalue": "",
     "output_type": "error",
     "traceback": [
      "\u001b[0;31m---------------------------------------------------------------------------\u001b[0m",
      "\u001b[0;31mKeyboardInterrupt\u001b[0m                         Traceback (most recent call last)",
      "\u001b[0;32m<ipython-input-127-84656aeaf578>\u001b[0m in \u001b[0;36m<module>\u001b[0;34m\u001b[0m\n\u001b[0;32m----> 1\u001b[0;31m \u001b[0msoln\u001b[0m \u001b[0;34m=\u001b[0m \u001b[0mproblem\u001b[0m\u001b[0;34m.\u001b[0m\u001b[0msolve\u001b[0m\u001b[0;34m(\u001b[0m\u001b[0mstart_step\u001b[0m\u001b[0;34m=\u001b[0m\u001b[0;36m1e-10\u001b[0m\u001b[0;34m,\u001b[0m \u001b[0mdebug\u001b[0m\u001b[0;34m=\u001b[0m\u001b[0;32mTrue\u001b[0m\u001b[0;34m,\u001b[0m \u001b[0mmin_its\u001b[0m\u001b[0;34m=\u001b[0m\u001b[0;36m50\u001b[0m\u001b[0;34m)\u001b[0m\u001b[0;34m\u001b[0m\u001b[0;34m\u001b[0m\u001b[0m\n\u001b[0m",
      "\u001b[0;32m~/Stanford/projects/CloudMask/other/regreg/regreg/problems/simple.py\u001b[0m in \u001b[0;36msolve\u001b[0;34m(self, quadratic, return_optimum, **fit_args)\u001b[0m\n\u001b[1;32m     83\u001b[0m         \u001b[0msolver\u001b[0m \u001b[0;34m=\u001b[0m \u001b[0mFISTA\u001b[0m\u001b[0;34m(\u001b[0m\u001b[0mself\u001b[0m\u001b[0;34m)\u001b[0m\u001b[0;34m\u001b[0m\u001b[0;34m\u001b[0m\u001b[0m\n\u001b[1;32m     84\u001b[0m         \u001b[0msolver\u001b[0m\u001b[0;34m.\u001b[0m\u001b[0mcomposite\u001b[0m\u001b[0;34m.\u001b[0m\u001b[0mcoefs\u001b[0m\u001b[0;34m[\u001b[0m\u001b[0;34m:\u001b[0m\u001b[0;34m]\u001b[0m \u001b[0;34m=\u001b[0m \u001b[0mself\u001b[0m\u001b[0;34m.\u001b[0m\u001b[0mcoefs\u001b[0m\u001b[0;34m\u001b[0m\u001b[0;34m\u001b[0m\u001b[0m\n\u001b[0;32m---> 85\u001b[0;31m         \u001b[0mself\u001b[0m\u001b[0;34m.\u001b[0m\u001b[0msolver_results\u001b[0m \u001b[0;34m=\u001b[0m \u001b[0msolver\u001b[0m\u001b[0;34m.\u001b[0m\u001b[0mfit\u001b[0m\u001b[0;34m(\u001b[0m\u001b[0;34m**\u001b[0m\u001b[0mfit_args\u001b[0m\u001b[0;34m)\u001b[0m\u001b[0;34m\u001b[0m\u001b[0;34m\u001b[0m\u001b[0m\n\u001b[0m\u001b[1;32m     86\u001b[0m         \u001b[0mself\u001b[0m\u001b[0;34m.\u001b[0m\u001b[0mfinal_step\u001b[0m \u001b[0;34m=\u001b[0m \u001b[0msolver\u001b[0m\u001b[0;34m.\u001b[0m\u001b[0mstep\u001b[0m\u001b[0;34m\u001b[0m\u001b[0;34m\u001b[0m\u001b[0m\n\u001b[1;32m     87\u001b[0m \u001b[0;34m\u001b[0m\u001b[0m\n",
      "\u001b[0;32m~/Stanford/projects/CloudMask/other/regreg/regreg/algorithms.py\u001b[0m in \u001b[0;36mfit\u001b[0;34m(self, tol, min_its, max_its, FISTA, start_step, restart, coef_stop, return_objective_hist, monotonicity_restart, debug, prox_control)\u001b[0m\n\u001b[1;32m    127\u001b[0m             \u001b[0;31m# Backtracking loop\u001b[0m\u001b[0;34m\u001b[0m\u001b[0;34m\u001b[0m\u001b[0;34m\u001b[0m\u001b[0m\n\u001b[1;32m    128\u001b[0m             \u001b[0;32mif\u001b[0m \u001b[0mself\u001b[0m\u001b[0;34m.\u001b[0m\u001b[0mperform_backtrack\u001b[0m\u001b[0;34m:\u001b[0m\u001b[0;34m\u001b[0m\u001b[0;34m\u001b[0m\u001b[0m\n\u001b[0;32m--> 129\u001b[0;31m                 \u001b[0mproposed_coefs\u001b[0m\u001b[0;34m,\u001b[0m \u001b[0mproposed_smooth\u001b[0m \u001b[0;34m=\u001b[0m \u001b[0mself\u001b[0m\u001b[0;34m.\u001b[0m\u001b[0mbacktrack\u001b[0m\u001b[0;34m(\u001b[0m\u001b[0mitercount\u001b[0m\u001b[0;34m)\u001b[0m\u001b[0;34m\u001b[0m\u001b[0;34m\u001b[0m\u001b[0m\n\u001b[0m\u001b[1;32m    130\u001b[0m \u001b[0;34m\u001b[0m\u001b[0m\n\u001b[1;32m    131\u001b[0m             \u001b[0;32melse\u001b[0m\u001b[0;34m:\u001b[0m\u001b[0;34m\u001b[0m\u001b[0;34m\u001b[0m\u001b[0m\n",
      "\u001b[0;32m~/Stanford/projects/CloudMask/other/regreg/regreg/algorithms.py\u001b[0m in \u001b[0;36mbacktrack\u001b[0;34m(self, itercount)\u001b[0m\n\u001b[1;32m    229\u001b[0m             \u001b[0mself\u001b[0m\u001b[0;34m.\u001b[0m\u001b[0mstep\u001b[0m \u001b[0;34m*=\u001b[0m \u001b[0mself\u001b[0m\u001b[0;34m.\u001b[0m\u001b[0malpha\u001b[0m\u001b[0;34m\u001b[0m\u001b[0;34m\u001b[0m\u001b[0m\n\u001b[1;32m    230\u001b[0m             \u001b[0mself\u001b[0m\u001b[0;34m.\u001b[0m\u001b[0mattempt_decrease\u001b[0m \u001b[0;34m=\u001b[0m \u001b[0;32mTrue\u001b[0m\u001b[0;34m\u001b[0m\u001b[0;34m\u001b[0m\u001b[0m\n\u001b[0;32m--> 231\u001b[0;31m         \u001b[0mworking_smooth\u001b[0m\u001b[0;34m,\u001b[0m \u001b[0mworking_grad\u001b[0m \u001b[0;34m=\u001b[0m \u001b[0mself\u001b[0m\u001b[0;34m.\u001b[0m\u001b[0mcomposite\u001b[0m\u001b[0;34m.\u001b[0m\u001b[0msmooth_objective\u001b[0m\u001b[0;34m(\u001b[0m\u001b[0mself\u001b[0m\u001b[0;34m.\u001b[0m\u001b[0mworking_coefs\u001b[0m\u001b[0;34m,\u001b[0m \u001b[0mmode\u001b[0m\u001b[0;34m=\u001b[0m\u001b[0;34m'both'\u001b[0m\u001b[0;34m)\u001b[0m\u001b[0;34m\u001b[0m\u001b[0;34m\u001b[0m\u001b[0m\n\u001b[0m\u001b[1;32m    232\u001b[0m         \u001b[0;32mwhile\u001b[0m \u001b[0;32mTrue\u001b[0m\u001b[0;34m:\u001b[0m\u001b[0;34m\u001b[0m\u001b[0;34m\u001b[0m\u001b[0m\n\u001b[1;32m    233\u001b[0m             \u001b[0;32mif\u001b[0m \u001b[0mself\u001b[0m\u001b[0;34m.\u001b[0m\u001b[0mprox_control\u001b[0m \u001b[0;34m!=\u001b[0m \u001b[0;34m{\u001b[0m\u001b[0;34m}\u001b[0m\u001b[0;34m:\u001b[0m\u001b[0;34m\u001b[0m\u001b[0;34m\u001b[0m\u001b[0m\n",
      "\u001b[0;32m~/Stanford/projects/CloudMask/other/regreg/regreg/problems/simple.py\u001b[0m in \u001b[0;36msmooth_objective\u001b[0;34m(self, x, mode, check_feasibility)\u001b[0m\n\u001b[1;32m     27\u001b[0m         \u001b[0mthe\u001b[0m \u001b[0mproximal_atom\u001b[0m \u001b[0mhas\u001b[0m \u001b[0;36m0\u001b[0m \u001b[0;32mfor\u001b[0m \u001b[0msmooth_objective\u001b[0m\u001b[0;34m.\u001b[0m\u001b[0;34m\u001b[0m\u001b[0;34m\u001b[0m\u001b[0m\n\u001b[1;32m     28\u001b[0m         \"\"\"\n\u001b[0;32m---> 29\u001b[0;31m         \u001b[0mvs\u001b[0m \u001b[0;34m=\u001b[0m \u001b[0mself\u001b[0m\u001b[0;34m.\u001b[0m\u001b[0msmooth_atom\u001b[0m\u001b[0;34m.\u001b[0m\u001b[0msmooth_objective\u001b[0m\u001b[0;34m(\u001b[0m\u001b[0mx\u001b[0m\u001b[0;34m,\u001b[0m \u001b[0mmode\u001b[0m\u001b[0;34m,\u001b[0m \u001b[0mcheck_feasibility\u001b[0m\u001b[0;34m)\u001b[0m\u001b[0;34m\u001b[0m\u001b[0;34m\u001b[0m\u001b[0m\n\u001b[0m\u001b[1;32m     30\u001b[0m         \u001b[0;32mreturn\u001b[0m \u001b[0mvs\u001b[0m\u001b[0;34m\u001b[0m\u001b[0;34m\u001b[0m\u001b[0m\n\u001b[1;32m     31\u001b[0m \u001b[0;34m\u001b[0m\u001b[0m\n",
      "\u001b[0;32m<ipython-input-98-15a66204a7aa>\u001b[0m in \u001b[0;36msmooth_objective\u001b[0;34m(self, arg, mode, check_feasibility)\u001b[0m\n\u001b[1;32m     99\u001b[0m                     \u001b[0mscale_grad_idx\u001b[0m \u001b[0;34m+=\u001b[0m \u001b[0;36m1\u001b[0m\u001b[0;34m\u001b[0m\u001b[0;34m\u001b[0m\u001b[0m\n\u001b[1;32m    100\u001b[0m                 \u001b[0;32melse\u001b[0m\u001b[0;34m:\u001b[0m\u001b[0;34m\u001b[0m\u001b[0;34m\u001b[0m\u001b[0m\n\u001b[0;32m--> 101\u001b[0;31m                     _fval, _gval = _loss.smooth_objective(np.squeeze(eta[:,_slice]), \n\u001b[0m\u001b[1;32m    102\u001b[0m                                                           'both')\n\u001b[1;32m    103\u001b[0m                 \u001b[0m_f\u001b[0m\u001b[0;34m.\u001b[0m\u001b[0mappend\u001b[0m\u001b[0;34m(\u001b[0m\u001b[0m_fval\u001b[0m\u001b[0;34m)\u001b[0m\u001b[0;34m\u001b[0m\u001b[0;34m\u001b[0m\u001b[0m\n",
      "\u001b[0;32m~/Stanford/projects/CloudMask/other/regreg/regreg/smooth/mglm.py\u001b[0m in \u001b[0;36msmooth_objective\u001b[0;34m(self, natural_param, mode, check_feasibility, case_weights)\u001b[0m\n\u001b[1;32m    836\u001b[0m         \u001b[0;32mif\u001b[0m \u001b[0mmode\u001b[0m \u001b[0;34m==\u001b[0m \u001b[0;34m'both'\u001b[0m\u001b[0;34m:\u001b[0m\u001b[0;34m\u001b[0m\u001b[0;34m\u001b[0m\u001b[0m\n\u001b[1;32m    837\u001b[0m             \u001b[0mratio\u001b[0m \u001b[0;34m=\u001b[0m \u001b[0;34m(\u001b[0m\u001b[0;34m(\u001b[0m\u001b[0mself\u001b[0m\u001b[0;34m.\u001b[0m\u001b[0mtrials\u001b[0m\u001b[0;34m/\u001b[0m\u001b[0mnp\u001b[0m\u001b[0;34m.\u001b[0m\u001b[0msum\u001b[0m\u001b[0;34m(\u001b[0m\u001b[0mexp_eta\u001b[0m\u001b[0;34m,\u001b[0m \u001b[0maxis\u001b[0m\u001b[0;34m=\u001b[0m\u001b[0;36m1\u001b[0m\u001b[0;34m)\u001b[0m\u001b[0;34m)\u001b[0m \u001b[0;34m*\u001b[0m \u001b[0mexp_eta\u001b[0m\u001b[0;34m.\u001b[0m\u001b[0mT\u001b[0m\u001b[0;34m)\u001b[0m\u001b[0;34m.\u001b[0m\u001b[0mT\u001b[0m\u001b[0;34m\u001b[0m\u001b[0;34m\u001b[0m\u001b[0m\n\u001b[0;32m--> 838\u001b[0;31m             f, g = (- self.scale(np.sum(cw[:,None] * self.counts * eta) -  np.dot(cw * self.trials, np.log(np.sum(exp_eta, axis=1)))),\n\u001b[0m\u001b[1;32m    839\u001b[0m                       - self.scale(cw[:,None] * (self.counts - ratio)))\n\u001b[1;32m    840\u001b[0m             \u001b[0;32mreturn\u001b[0m \u001b[0mf\u001b[0m\u001b[0;34m,\u001b[0m \u001b[0mg\u001b[0m\u001b[0;34m\u001b[0m\u001b[0;34m\u001b[0m\u001b[0m\n",
      "\u001b[0;31mKeyboardInterrupt\u001b[0m: "
     ]
    }
   ],
   "source": [
    "soln = problem.solve(start_step=1e-10, debug=True, min_its=50)"
   ]
  },
  {
   "cell_type": "code",
   "execution_count": 128,
   "metadata": {},
   "outputs": [
    {
     "data": {
      "text/plain": [
       "array([0.99456219, 1.00006035, 0.97286249, 0.99999769, 0.9910281 ,\n",
       "       0.99170944, 0.99510699, 0.18642563])"
      ]
     },
     "execution_count": 128,
     "metadata": {},
     "output_type": "execute_result"
    }
   ],
   "source": [
    "loss.smooth_objective(problem.coefs, 'grad')\n",
    "problem.coefs[-8:]"
   ]
  },
  {
   "cell_type": "code",
   "execution_count": 129,
   "metadata": {},
   "outputs": [
    {
     "ename": "AttributeError",
     "evalue": "'simple_problem' object has no attribute 'solver_results'",
     "output_type": "error",
     "traceback": [
      "\u001b[0;31m---------------------------------------------------------------------------\u001b[0m",
      "\u001b[0;31mAttributeError\u001b[0m                            Traceback (most recent call last)",
      "\u001b[0;32m<ipython-input-129-6d8e5b51c0ee>\u001b[0m in \u001b[0;36m<module>\u001b[0;34m\u001b[0m\n\u001b[1;32m      1\u001b[0m \u001b[0mproblem\u001b[0m\u001b[0;34m.\u001b[0m\u001b[0mcoefs\u001b[0m\u001b[0;34m[\u001b[0m\u001b[0mloss\u001b[0m\u001b[0;34m.\u001b[0m\u001b[0mmatrix_slice\u001b[0m\u001b[0;34m]\u001b[0m\u001b[0;34m.\u001b[0m\u001b[0mreshape\u001b[0m\u001b[0;34m(\u001b[0m\u001b[0;34m(\u001b[0m\u001b[0mX\u001b[0m\u001b[0;34m.\u001b[0m\u001b[0mshape\u001b[0m\u001b[0;34m[\u001b[0m\u001b[0;36m1\u001b[0m\u001b[0;34m]\u001b[0m\u001b[0;34m,\u001b[0m \u001b[0mX\u001b[0m\u001b[0;34m.\u001b[0m\u001b[0mshape\u001b[0m\u001b[0;34m[\u001b[0m\u001b[0;36m1\u001b[0m\u001b[0;34m]\u001b[0m\u001b[0;34m)\u001b[0m\u001b[0;34m)\u001b[0m\u001b[0;34m[\u001b[0m\u001b[0;36m0\u001b[0m\u001b[0;34m]\u001b[0m\u001b[0;34m\u001b[0m\u001b[0;34m\u001b[0m\u001b[0m\n\u001b[0;32m----> 2\u001b[0;31m \u001b[0mplt\u001b[0m\u001b[0;34m.\u001b[0m\u001b[0mplot\u001b[0m\u001b[0;34m(\u001b[0m\u001b[0mproblem\u001b[0m\u001b[0;34m.\u001b[0m\u001b[0msolver_results\u001b[0m\u001b[0;34m)\u001b[0m\u001b[0;34m\u001b[0m\u001b[0;34m\u001b[0m\u001b[0m\n\u001b[0m",
      "\u001b[0;31mAttributeError\u001b[0m: 'simple_problem' object has no attribute 'solver_results'"
     ]
    }
   ],
   "source": [
    "problem.coefs[loss.matrix_slice].reshape((X.shape[1], X.shape[1]))[0]\n",
    "plt.plot(problem.solver_results)"
   ]
  },
  {
   "cell_type": "code",
   "execution_count": 130,
   "metadata": {},
   "outputs": [
    {
     "data": {
      "text/plain": [
       "<matplotlib.colorbar.Colorbar at 0x13900ee50>"
      ]
     },
     "execution_count": 130,
     "metadata": {},
     "output_type": "execute_result"
    },
    {
     "data": {
      "image/png": "[encoded data removed]",
      "text/plain": [
       "<Figure size 432x288 with 2 Axes>"
      ]
     },
     "metadata": {
      "needs_background": "light"
     },
     "output_type": "display_data"
    }
   ],
   "source": [
    "matrix_soln = problem.coefs[loss.matrix_slice].reshape((X.shape[1], X.shape[1]))\n",
    "plt.imshow(matrix_soln != 0)\n",
    "plt.colorbar()"
   ]
  },
  {
   "cell_type": "code",
   "execution_count": 139,
   "metadata": {},
   "outputs": [
    {
     "data": {
      "image/png": "[encoded data removed]",
      "text/plain": [
       "<Figure size 576x576 with 1 Axes>"
      ]
     },
     "execution_count": 139,
     "metadata": {},
     "output_type": "execute_result"
    }
   ],
   "source": [
    "f = plt.figure(figsize=(8,8))\n",
    "ax = plt.gca()\n",
    "ax.imshow(matrix_soln, cmap='RdBu', interpolation='nearest', vmin=-np.fabs(matrix_soln).max(),\n",
    "         vmax=np.fabs(matrix_soln).max())\n",
    "ylim, xlim = ax.get_ylim(), ax.get_xlim()\n",
    "ax.xaxis.set_ticks(np.cumsum([X[:,d[2]].shape[1] for d in desc3]) - 0.5)\n",
    "ax.yaxis.set_ticks(np.cumsum([X[:,d[2]].shape[1] for d in desc3]) - 0.5)\n",
    "ax.set_xticklabels([d[0] for d in desc3], rotation=270)\n",
    "ax.set_yticklabels([d[0] for d in desc3])\n",
    "ax.grid(color='gray', linewidth=1, linestyle='--')\n",
    "f"
   ]
  },
  {
   "cell_type": "code",
   "execution_count": 134,
   "metadata": {},
   "outputs": [
    {
     "data": {
      "text/plain": [
       "-0.02828504094078473"
      ]
     },
     "execution_count": 134,
     "metadata": {},
     "output_type": "execute_result"
    }
   ],
   "source": [
    "matrix_soln.min()"
   ]
  },
  {
   "cell_type": "code",
   "execution_count": 23,
   "metadata": {},
   "outputs": [],
   "source": [
    "group_keys = sorted(weights.keys())\n",
    "group_img = np.array([group_keys.index(g) for g in groups]).reshape((X.shape[1], X.shape[1]))"
   ]
  },
  {
   "cell_type": "code",
   "execution_count": 24,
   "metadata": {},
   "outputs": [
    {
     "data": {
      "text/plain": [
       "<matplotlib.colorbar.Colorbar at 0x138dc1a30>"
      ]
     },
     "execution_count": 24,
     "metadata": {},
     "output_type": "execute_result"
    },
    {
     "data": {
      "image/png": "[encoded data removed]",
      "text/plain": [
       "<Figure size 432x288 with 2 Axes>"
      ]
     },
     "metadata": {
      "needs_background": "light"
     },
     "output_type": "display_data"
    }
   ],
   "source": [
    "plt.imshow(group_img)\n",
    "plt.colorbar()"
   ]
  },
  {
   "cell_type": "code",
   "execution_count": 25,
   "metadata": {},
   "outputs": [
    {
     "data": {
      "text/plain": [
       "(120,)"
      ]
     },
     "execution_count": 25,
     "metadata": {},
     "output_type": "execute_result"
    }
   ],
   "source": [
    "np.unique(group_img).shape"
   ]
  },
  {
   "cell_type": "code",
   "execution_count": 26,
   "metadata": {},
   "outputs": [
    {
     "data": {
      "text/plain": [
       "120"
      ]
     },
     "execution_count": 26,
     "metadata": {},
     "output_type": "execute_result"
    }
   ],
   "source": [
    "len(group_keys)"
   ]
  },
  {
   "cell_type": "markdown",
   "metadata": {},
   "source": [
    "## Regular markdown"
   ]
  },
  {
   "cell_type": "code",
   "execution_count": 27,
   "metadata": {},
   "outputs": [],
   "source": [
    "from regreg.sklearn.base import sklearn_regression\n",
    "\n",
    "class sklearn_mixed(sklearn_regression):\n",
    "\n",
    "    \"\"\"\n",
    "\n",
    "    A simple regression mixin for sklearn\n",
    "    that allows any atom to be used as a regularizer.\n",
    "\n",
    "    \"\"\"\n",
    "\n",
    "    def __init__(self, \n",
    "                 atom_constructor, \n",
    "                 atom_params, \n",
    "                 desc,\n",
    "                 case_weights=False,\n",
    "                 offset=False,\n",
    "                 coef=1., \n",
    "                 quadratic=None,\n",
    "                 score_method='deviance'):\n",
    "        \n",
    "        self.desc = desc\n",
    "        sklearn_regression.__init__(self,\n",
    "                                    atom_constructor,\n",
    "                                    atom_params,\n",
    "                                    case_weights=case_weights,\n",
    "                                    offset=offset,\n",
    "                                    coef=coef,\n",
    "                                    score_method=score_method)\n",
    "\n",
    "\n",
    "    def _loglike_factory(self, X, y):\n",
    "        loss = full_loss(X, self.desc)\n",
    "        return loss\n",
    "\n",
    "    def _saturated_score(self,\n",
    "                         predictions,\n",
    "                         response,\n",
    "                         case_weights=None):\n",
    "\n",
    "        # XXX fix these scores!!!\n",
    "        if self.score_method == 'deviance':\n",
    "            return np.random.standard_normal()\n",
    "        elif self.score_method == 'mean_deviance':\n",
    "            return np.random.standard_normal()\n",
    "        elif self.score_method == 'R2':\n",
    "            SSE = np.sum(loss(predictions))\n",
    "            SST = np.sum(loss(response.mean() * np.ones_like(response)))\n",
    "            return np.mean(loss(predictions))\n",
    "        else:\n",
    "            return np.nan"
   ]
  },
  {
   "cell_type": "code",
   "execution_count": 32,
   "metadata": {},
   "outputs": [],
   "source": [
    "X_sub = X[np.random.choice(np.arange(X.shape[0]), 10000, replace=False)]\n",
    "desc4 = []\n",
    "for var, dtype, idx in desc2:\n",
    "    if dtype in ['binary', 'categorical']:\n",
    "        response = X_sub[:,idx]\n",
    "        desc4.append((var, dtype, idx,\n",
    "                         multinomial_loglike(response.shape,\n",
    "                                             response)))\n",
    "    elif dtype == 'continuous':\n",
    "        response = np.squeeze(X_sub[:,idx]) # it will be a 2D array\n",
    "        if var not in ['snr', 'w_surface_window_final', 'intercept']:\n",
    "            l, u = np.percentile(response, [5, 95]) # quick and dirty cleaning..\n",
    "            response = np.clip(response, l, u)\n",
    "        elif var == 'w_surface_window_final':\n",
    "            l, u = np.percentile(response, [2, 98]) # quick and dirty cleaning..\n",
    "            response = np.clip(response, l, u)\n",
    "        response /= np.std(response)\n",
    "        X_sub[:,idx] = response[:,None]\n",
    "        \n",
    "        desc4.append((var, dtype, idx,\n",
    "                         gaussian_loglike(response.shape,\n",
    "                                          response)))\n",
    "    else:\n",
    "        desc4.append((var, dtype, idx, None))\n"
   ]
  },
  {
   "cell_type": "code",
   "execution_count": 33,
   "metadata": {},
   "outputs": [
    {
     "data": {
      "text/plain": [
       "{'fit_time': array([0.00163603, 0.00140309, 0.00285196, 0.00124907, 0.0017581 ]),\n",
       " 'score_time': array([0., 0., 0., 0., 0.]),\n",
       " 'test_score': array([nan, nan, nan, nan, nan])}"
      ]
     },
     "execution_count": 33,
     "metadata": {},
     "output_type": "execute_result"
    }
   ],
   "source": [
    "from sklearn.model_selection import cross_validate\n",
    "sklearn_loss = sklearn_mixed(rr.group_lasso,\n",
    "                             {'groups':groups,\n",
    "                              'weights':weights,\n",
    "                              'lagrange':0. * np.sqrt(X_sub.shape[0])},\n",
    "                            desc3)\n",
    "cross_validate(sklearn_loss, X_sub, None, cv=5)"
   ]
  },
  {
   "cell_type": "code",
   "execution_count": 30,
   "metadata": {},
   "outputs": [],
   "source": [
    "cross_validate?"
   ]
  },
  {
   "cell_type": "code",
   "execution_count": null,
   "metadata": {},
   "outputs": [],
   "source": []
  }
 ],
 "metadata": {
  "jupytext": {
   "formats": "ipynb,Rmd"
  },
  "kernelspec": {
   "display_name": "Python 3",
   "language": "python",
   "name": "python3"
  },
  "language_info": {
   "codemirror_mode": {
    "name": "ipython",
    "version": 3
   },
   "file_extension": ".py",
   "mimetype": "text/x-python",
   "name": "python",
   "nbconvert_exporter": "python",
   "pygments_lexer": "ipython3",
   "version": "3.8.3"
  }
 },
 "nbformat": 4,
 "nbformat_minor": 4
}
